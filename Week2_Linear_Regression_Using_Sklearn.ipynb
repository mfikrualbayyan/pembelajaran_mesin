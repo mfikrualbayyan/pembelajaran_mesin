{
  "nbformat": 4,
  "nbformat_minor": 0,
  "metadata": {
    "colab": {
      "name": "Week2_Linear Regression Using Sklearn.ipynb",
      "provenance": [],
      "authorship_tag": "ABX9TyOeVR2WEKUdWWuuBUGbqv0+",
      "include_colab_link": true
    },
    "kernelspec": {
      "name": "python3",
      "display_name": "Python 3"
    },
    "language_info": {
      "name": "python"
    }
  },
  "cells": [
    {
      "cell_type": "markdown",
      "metadata": {
        "id": "view-in-github",
        "colab_type": "text"
      },
      "source": [
        "<a href=\"https://colab.research.google.com/github/mfikrualbayyan/pembelajaran_mesin/blob/main/Week2_Linear_Regression_Using_Sklearn.ipynb\" target=\"_parent\"><img src=\"https://colab.research.google.com/assets/colab-badge.svg\" alt=\"Open In Colab\"/></a>"
      ]
    },
    {
      "cell_type": "code",
      "metadata": {
        "colab": {
          "base_uri": "https://localhost:8080/"
        },
        "id": "JLZSa4ci2U7N",
        "outputId": "eca96576-021c-484c-d129-df61f720671f"
      },
      "source": [
        "from google.colab import drive\n",
        "drive.mount('/content/drive')"
      ],
      "execution_count": 1,
      "outputs": [
        {
          "output_type": "stream",
          "name": "stdout",
          "text": [
            "Mounted at /content/drive\n"
          ]
        }
      ]
    },
    {
      "cell_type": "code",
      "metadata": {
        "id": "09Z-iI1r3RHd"
      },
      "source": [
        "import numpy as np # linear algebra\n",
        "import pandas as pd # data processing, CSV file I/O (e.g. pd.read_csv)\n",
        "import matplotlib.pyplot as plt # Plotting and Visualizing data\n"
      ],
      "execution_count": 2,
      "outputs": []
    },
    {
      "cell_type": "code",
      "metadata": {
        "colab": {
          "base_uri": "https://localhost:8080/"
        },
        "id": "H_VIQ7tl3W65",
        "outputId": "ab7928cc-9703-4cfc-edfc-2565106199ae"
      },
      "source": [
        "data = pd.read_csv('/content/drive/MyDrive/mesin 2/train.csv')\n",
        "print(data.describe())\n",
        "\n",
        "data = data[data.x <= 100]# Removing any data point above x = 100"
      ],
      "execution_count": 4,
      "outputs": [
        {
          "output_type": "stream",
          "name": "stdout",
          "text": [
            "                 x           y\n",
            "count   700.000000  699.000000\n",
            "mean     54.985939   49.939869\n",
            "std     134.681703   29.109217\n",
            "min       0.000000   -3.839981\n",
            "25%      25.000000   24.929968\n",
            "50%      49.000000   48.973020\n",
            "75%      75.000000   74.929911\n",
            "max    3530.157369  108.871618\n"
          ]
        }
      ]
    },
    {
      "cell_type": "code",
      "metadata": {
        "id": "KWHfx8LS3Y6-"
      },
      "source": [
        "x = data.iloc[:, 0:1].values\n",
        "y = data.iloc[:, 1]\n"
      ],
      "execution_count": 5,
      "outputs": []
    },
    {
      "cell_type": "code",
      "metadata": {
        "colab": {
          "base_uri": "https://localhost:8080/"
        },
        "id": "u646T4MV3nGf",
        "outputId": "55194ee2-8b59-4e33-d098-bdfd80ba0a14"
      },
      "source": [
        "# Train Test Split\n",
        "from sklearn.model_selection import train_test_split\n",
        "x_train, x_test, y_train, y_test = train_test_split(x, y, test_size = 0.33)\n",
        "print(x[:10])\n",
        "print('\\n')\n",
        "print(y[:10])\n"
      ],
      "execution_count": 6,
      "outputs": [
        {
          "output_type": "stream",
          "name": "stdout",
          "text": [
            "[[24.]\n",
            " [50.]\n",
            " [15.]\n",
            " [38.]\n",
            " [87.]\n",
            " [36.]\n",
            " [12.]\n",
            " [81.]\n",
            " [25.]\n",
            " [ 5.]]\n",
            "\n",
            "\n",
            "0    21.549452\n",
            "1    47.464463\n",
            "2    17.218656\n",
            "3    36.586398\n",
            "4    87.288984\n",
            "5    32.463875\n",
            "6    10.780897\n",
            "7    80.763399\n",
            "8    24.612151\n",
            "9     6.963319\n",
            "Name: y, dtype: float64\n"
          ]
        }
      ]
    },
    {
      "cell_type": "code",
      "metadata": {
        "id": "DTksjtcs3qbo"
      },
      "source": [
        "from sklearn.linear_model import LinearRegression\n",
        "\n",
        "regressor = LinearRegression()\n",
        "regressor.fit(x_train, y_train)\n",
        "\n",
        "pred = regressor.predict(x_test)\n"
      ],
      "execution_count": 7,
      "outputs": []
    },
    {
      "cell_type": "code",
      "metadata": {
        "colab": {
          "base_uri": "https://localhost:8080/",
          "height": 312
        },
        "id": "tf76UCsV3tK_",
        "outputId": "5dfce18a-12d1-450c-98b1-c4acf04e33b7"
      },
      "source": [
        "plt.scatter(x_train, y_train)\n",
        "plt.plot(x_train, regressor.predict(x_train), color='black')\n",
        "plt.title('Fit on training set')\n",
        "plt.xlabel('X-Train')\n",
        "plt.ylabel('Y-Train')"
      ],
      "execution_count": 8,
      "outputs": [
        {
          "output_type": "execute_result",
          "data": {
            "text/plain": [
              "Text(0, 0.5, 'Y-Train')"
            ]
          },
          "metadata": {},
          "execution_count": 8
        },
        {
          "output_type": "display_data",
          "data": {
            "image/png": "[encoded data removed]",
            "text/plain": [
              "<Figure size 432x288 with 1 Axes>"
            ]
          },
          "metadata": {
            "needs_background": "light"
          }
        }
      ]
    },
    {
      "cell_type": "code",
      "metadata": {
        "colab": {
          "base_uri": "https://localhost:8080/",
          "height": 312
        },
        "id": "A8Yq1T4d3xXk",
        "outputId": "3d49cc15-4544-4da7-d66d-0f70209e9aed"
      },
      "source": [
        "plt.scatter(x_test, y_test, color='r')\n",
        "plt.plot(x_test, pred, color='b')\n",
        "plt.title('Validation set')\n",
        "plt.xlabel('X-Test')\n",
        "plt.ylabel('Y-Test')"
      ],
      "execution_count": 9,
      "outputs": [
        {
          "output_type": "execute_result",
          "data": {
            "text/plain": [
              "Text(0, 0.5, 'Y-Test')"
            ]
          },
          "metadata": {},
          "execution_count": 9
        },
        {
          "output_type": "display_data",
          "data": {
            "image/png": "[encoded data removed]",
            "text/plain": [
              "<Figure size 432x288 with 1 Axes>"
            ]
          },
          "metadata": {
            "needs_background": "light"
          }
        }
      ]
    },
    {
      "cell_type": "code",
      "metadata": {
        "colab": {
          "base_uri": "https://localhost:8080/",
          "height": 295
        },
        "id": "cdZqxSxK30o9",
        "outputId": "62998ffe-3f08-4640-e4f7-c185628ea572"
      },
      "source": [
        "test = pd.read_csv('/content/drive/MyDrive/mesin 2/train.csv')\n",
        "test.plot.scatter('x', 'y', color='g')\n",
        "plt.plot(test['x'], regressor.predict(test.iloc[:,0:1].values), color='blue')\n",
        "plt.title('Linear Regression Ouput on Test Data Set')\n",
        "plt.xlabel('X-Values')\n",
        "plt.ylabel('Y-Values')\n",
        "plt.show()"
      ],
      "execution_count": 11,
      "outputs": [
        {
          "output_type": "display_data",
          "data": {
            "image/png": "[encoded data removed]",
            "text/plain": [
              "<Figure size 432x288 with 1 Axes>"
            ]
          },
          "metadata": {
            "needs_background": "light"
          }
        }
      ]
    }
  ]
}