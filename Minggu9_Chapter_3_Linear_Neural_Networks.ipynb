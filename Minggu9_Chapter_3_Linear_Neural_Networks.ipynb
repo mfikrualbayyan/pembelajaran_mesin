{
  "nbformat": 4,
  "nbformat_minor": 0,
  "metadata": {
    "colab": {
      "name": "Minggu9_Chapter 3: Linear Neural Networks.ipynb",
      "provenance": [],
      "authorship_tag": "ABX9TyOr0THO3z1qKQjFTYd7vHsM",
      "include_colab_link": true
    },
    "kernelspec": {
      "name": "python3",
      "display_name": "Python 3"
    },
    "language_info": {
      "name": "python"
    },
    "widgets": {
      "application/vnd.jupyter.widget-state+json": {
        "46ac747070f743e7beccf44e7a0bcb40": {
          "model_module": "@jupyter-widgets/controls",
          "model_name": "HBoxModel",
          "model_module_version": "1.5.0",
          "state": {
            "_view_name": "HBoxView",
            "_dom_classes": [],
            "_model_name": "HBoxModel",
            "_view_module": "@jupyter-widgets/controls",
            "_model_module_version": "1.5.0",
            "_view_count": null,
            "_view_module_version": "1.5.0",
            "box_style": "",
            "layout": "IPY_MODEL_bb189d0c9da649d5bf561cdb6b0ab1f6",
            "_model_module": "@jupyter-widgets/controls",
            "children": [
              "IPY_MODEL_e6896ce9b2264143b88ce87c826e7b84",
              "IPY_MODEL_1c6e9a5a566641039c48673885b8d61f",
              "IPY_MODEL_1085451df2e44feaaaa3b31e7ed7adc1"
            ]
          }
        },
        "bb189d0c9da649d5bf561cdb6b0ab1f6": {
          "model_module": "@jupyter-widgets/base",
          "model_name": "LayoutModel",
          "model_module_version": "1.2.0",
          "state": {
            "_view_name": "LayoutView",
            "grid_template_rows": null,
            "right": null,
            "justify_content": null,
            "_view_module": "@jupyter-widgets/base",
            "overflow": null,
            "_model_module_version": "1.2.0",
            "_view_count": null,
            "flex_flow": null,
            "width": null,
            "min_width": null,
            "border": null,
            "align_items": null,
            "bottom": null,
            "_model_module": "@jupyter-widgets/base",
            "top": null,
            "grid_column": null,
            "overflow_y": null,
            "overflow_x": null,
            "grid_auto_flow": null,
            "grid_area": null,
            "grid_template_columns": null,
            "flex": null,
            "_model_name": "LayoutModel",
            "justify_items": null,
            "grid_row": null,
            "max_height": null,
            "align_content": null,
            "visibility": null,
            "align_self": null,
            "height": null,
            "min_height": null,
            "padding": null,
            "grid_auto_rows": null,
            "grid_gap": null,
            "max_width": null,
            "order": null,
            "_view_module_version": "1.2.0",
            "grid_template_areas": null,
            "object_position": null,
            "object_fit": null,
            "grid_auto_columns": null,
            "margin": null,
            "display": null,
            "left": null
          }
        },
        "e6896ce9b2264143b88ce87c826e7b84": {
          "model_module": "@jupyter-widgets/controls",
          "model_name": "HTMLModel",
          "model_module_version": "1.5.0",
          "state": {
            "_view_name": "HTMLView",
            "style": "IPY_MODEL_2b25e09880804bda9b30a4849fca3af6",
            "_dom_classes": [],
            "description": "",
            "_model_name": "HTMLModel",
            "placeholder": "​",
            "_view_module": "@jupyter-widgets/controls",
            "_model_module_version": "1.5.0",
            "value": "",
            "_view_count": null,
            "_view_module_version": "1.5.0",
            "description_tooltip": null,
            "_model_module": "@jupyter-widgets/controls",
            "layout": "IPY_MODEL_21ff1e5a97eb41ae896d0e3c6deccf96"
          }
        },
        "1c6e9a5a566641039c48673885b8d61f": {
          "model_module": "@jupyter-widgets/controls",
          "model_name": "FloatProgressModel",
          "model_module_version": "1.5.0",
          "state": {
            "_view_name": "ProgressView",
            "style": "IPY_MODEL_19812c2f1738439c8159573f92595d3e",
            "_dom_classes": [],
            "description": "",
            "_model_name": "FloatProgressModel",
            "bar_style": "success",
            "max": 26421880,
            "_view_module": "@jupyter-widgets/controls",
            "_model_module_version": "1.5.0",
            "value": 26421880,
            "_view_count": null,
            "_view_module_version": "1.5.0",
            "orientation": "horizontal",
            "min": 0,
            "description_tooltip": null,
            "_model_module": "@jupyter-widgets/controls",
            "layout": "IPY_MODEL_54bb7b9408d145a0b4746caee4217f3c"
          }
        },
        "1085451df2e44feaaaa3b31e7ed7adc1": {
          "model_module": "@jupyter-widgets/controls",
          "model_name": "HTMLModel",
          "model_module_version": "1.5.0",
          "state": {
            "_view_name": "HTMLView",
            "style": "IPY_MODEL_71f08161f0b84d828c2a27cc5e799a4e",
            "_dom_classes": [],
            "description": "",
            "_model_name": "HTMLModel",
            "placeholder": "​",
            "_view_module": "@jupyter-widgets/controls",
            "_model_module_version": "1.5.0",
            "value": " 26422272/? [00:01&lt;00:00, 25854298.85it/s]",
            "_view_count": null,
            "_view_module_version": "1.5.0",
            "description_tooltip": null,
            "_model_module": "@jupyter-widgets/controls",
            "layout": "IPY_MODEL_87072e35efc548ceb2823d88f835cfe4"
          }
        },
        "2b25e09880804bda9b30a4849fca3af6": {
          "model_module": "@jupyter-widgets/controls",
          "model_name": "DescriptionStyleModel",
          "model_module_version": "1.5.0",
          "state": {
            "_view_name": "StyleView",
            "_model_name": "DescriptionStyleModel",
            "description_width": "",
            "_view_module": "@jupyter-widgets/base",
            "_model_module_version": "1.5.0",
            "_view_count": null,
            "_view_module_version": "1.2.0",
            "_model_module": "@jupyter-widgets/controls"
          }
        },
        "21ff1e5a97eb41ae896d0e3c6deccf96": {
          "model_module": "@jupyter-widgets/base",
          "model_name": "LayoutModel",
          "model_module_version": "1.2.0",
          "state": {
            "_view_name": "LayoutView",
            "grid_template_rows": null,
            "right": null,
            "justify_content": null,
            "_view_module": "@jupyter-widgets/base",
            "overflow": null,
            "_model_module_version": "1.2.0",
            "_view_count": null,
            "flex_flow": null,
            "width": null,
            "min_width": null,
            "border": null,
            "align_items": null,
            "bottom": null,
            "_model_module": "@jupyter-widgets/base",
            "top": null,
            "grid_column": null,
            "overflow_y": null,
            "overflow_x": null,
            "grid_auto_flow": null,
            "grid_area": null,
            "grid_template_columns": null,
            "flex": null,
            "_model_name": "LayoutModel",
            "justify_items": null,
            "grid_row": null,
            "max_height": null,
            "align_content": null,
            "visibility": null,
            "align_self": null,
            "height": null,
            "min_height": null,
            "padding": null,
            "grid_auto_rows": null,
            "grid_gap": null,
            "max_width": null,
            "order": null,
            "_view_module_version": "1.2.0",
            "grid_template_areas": null,
            "object_position": null,
            "object_fit": null,
            "grid_auto_columns": null,
            "margin": null,
            "display": null,
            "left": null
          }
        },
        "19812c2f1738439c8159573f92595d3e": {
          "model_module": "@jupyter-widgets/controls",
          "model_name": "ProgressStyleModel",
          "model_module_version": "1.5.0",
          "state": {
            "_view_name": "StyleView",
            "_model_name": "ProgressStyleModel",
            "description_width": "",
            "_view_module": "@jupyter-widgets/base",
            "_model_module_version": "1.5.0",
            "_view_count": null,
            "_view_module_version": "1.2.0",
            "bar_color": null,
            "_model_module": "@jupyter-widgets/controls"
          }
        },
        "54bb7b9408d145a0b4746caee4217f3c": {
          "model_module": "@jupyter-widgets/base",
          "model_name": "LayoutModel",
          "model_module_version": "1.2.0",
          "state": {
            "_view_name": "LayoutView",
            "grid_template_rows": null,
            "right": null,
            "justify_content": null,
            "_view_module": "@jupyter-widgets/base",
            "overflow": null,
            "_model_module_version": "1.2.0",
            "_view_count": null,
            "flex_flow": null,
            "width": null,
            "min_width": null,
            "border": null,
            "align_items": null,
            "bottom": null,
            "_model_module": "@jupyter-widgets/base",
            "top": null,
            "grid_column": null,
            "overflow_y": null,
            "overflow_x": null,
            "grid_auto_flow": null,
            "grid_area": null,
            "grid_template_columns": null,
            "flex": null,
            "_model_name": "LayoutModel",
            "justify_items": null,
            "grid_row": null,
            "max_height": null,
            "align_content": null,
            "visibility": null,
            "align_self": null,
            "height": null,
            "min_height": null,
            "padding": null,
            "grid_auto_rows": null,
            "grid_gap": null,
            "max_width": null,
            "order": null,
            "_view_module_version": "1.2.0",
            "grid_template_areas": null,
            "object_position": null,
            "object_fit": null,
            "grid_auto_columns": null,
            "margin": null,
            "display": null,
            "left": null
          }
        },
        "71f08161f0b84d828c2a27cc5e799a4e": {
          "model_module": "@jupyter-widgets/controls",
          "model_name": "DescriptionStyleModel",
          "model_module_version": "1.5.0",
          "state": {
            "_view_name": "StyleView",
            "_model_name": "DescriptionStyleModel",
            "description_width": "",
            "_view_module": "@jupyter-widgets/base",
            "_model_module_version": "1.5.0",
            "_view_count": null,
            "_view_module_version": "1.2.0",
            "_model_module": "@jupyter-widgets/controls"
          }
        },
        "87072e35efc548ceb2823d88f835cfe4": {
          "model_module": "@jupyter-widgets/base",
          "model_name": "LayoutModel",
          "model_module_version": "1.2.0",
          "state": {
            "_view_name": "LayoutView",
            "grid_template_rows": null,
            "right": null,
            "justify_content": null,
            "_view_module": "@jupyter-widgets/base",
            "overflow": null,
            "_model_module_version": "1.2.0",
            "_view_count": null,
            "flex_flow": null,
            "width": null,
            "min_width": null,
            "border": null,
            "align_items": null,
            "bottom": null,
            "_model_module": "@jupyter-widgets/base",
            "top": null,
            "grid_column": null,
            "overflow_y": null,
            "overflow_x": null,
            "grid_auto_flow": null,
            "grid_area": null,
            "grid_template_columns": null,
            "flex": null,
            "_model_name": "LayoutModel",
            "justify_items": null,
            "grid_row": null,
            "max_height": null,
            "align_content": null,
            "visibility": null,
            "align_self": null,
            "height": null,
            "min_height": null,
            "padding": null,
            "grid_auto_rows": null,
            "grid_gap": null,
            "max_width": null,
            "order": null,
            "_view_module_version": "1.2.0",
            "grid_template_areas": null,
            "object_position": null,
            "object_fit": null,
            "grid_auto_columns": null,
            "margin": null,
            "display": null,
            "left": null
          }
        },
        "f397e46374ec45ba95a490a0ee705bc4": {
          "model_module": "@jupyter-widgets/controls",
          "model_name": "HBoxModel",
          "model_module_version": "1.5.0",
          "state": {
            "_view_name": "HBoxView",
            "_dom_classes": [],
            "_model_name": "HBoxModel",
            "_view_module": "@jupyter-widgets/controls",
            "_model_module_version": "1.5.0",
            "_view_count": null,
            "_view_module_version": "1.5.0",
            "box_style": "",
            "layout": "IPY_MODEL_7a8898c91e7f49aebe973697c40c8a1e",
            "_model_module": "@jupyter-widgets/controls",
            "children": [
              "IPY_MODEL_66d15f9f70e5401c8d60d01840777a3f",
              "IPY_MODEL_ea8061db5cdf42d2a5af194058dbd7b4",
              "IPY_MODEL_e2c7ab066ec84db9b1fad159341bdd37"
            ]
          }
        },
        "7a8898c91e7f49aebe973697c40c8a1e": {
          "model_module": "@jupyter-widgets/base",
          "model_name": "LayoutModel",
          "model_module_version": "1.2.0",
          "state": {
            "_view_name": "LayoutView",
            "grid_template_rows": null,
            "right": null,
            "justify_content": null,
            "_view_module": "@jupyter-widgets/base",
            "overflow": null,
            "_model_module_version": "1.2.0",
            "_view_count": null,
            "flex_flow": null,
            "width": null,
            "min_width": null,
            "border": null,
            "align_items": null,
            "bottom": null,
            "_model_module": "@jupyter-widgets/base",
            "top": null,
            "grid_column": null,
            "overflow_y": null,
            "overflow_x": null,
            "grid_auto_flow": null,
            "grid_area": null,
            "grid_template_columns": null,
            "flex": null,
            "_model_name": "LayoutModel",
            "justify_items": null,
            "grid_row": null,
            "max_height": null,
            "align_content": null,
            "visibility": null,
            "align_self": null,
            "height": null,
            "min_height": null,
            "padding": null,
            "grid_auto_rows": null,
            "grid_gap": null,
            "max_width": null,
            "order": null,
            "_view_module_version": "1.2.0",
            "grid_template_areas": null,
            "object_position": null,
            "object_fit": null,
            "grid_auto_columns": null,
            "margin": null,
            "display": null,
            "left": null
          }
        },
        "66d15f9f70e5401c8d60d01840777a3f": {
          "model_module": "@jupyter-widgets/controls",
          "model_name": "HTMLModel",
          "model_module_version": "1.5.0",
          "state": {
            "_view_name": "HTMLView",
            "style": "IPY_MODEL_f194378abc7e4ac9bbc942e3cca5c72e",
            "_dom_classes": [],
            "description": "",
            "_model_name": "HTMLModel",
            "placeholder": "​",
            "_view_module": "@jupyter-widgets/controls",
            "_model_module_version": "1.5.0",
            "value": "",
            "_view_count": null,
            "_view_module_version": "1.5.0",
            "description_tooltip": null,
            "_model_module": "@jupyter-widgets/controls",
            "layout": "IPY_MODEL_f95b66f506c24279aeb4056205dba9a6"
          }
        },
        "ea8061db5cdf42d2a5af194058dbd7b4": {
          "model_module": "@jupyter-widgets/controls",
          "model_name": "FloatProgressModel",
          "model_module_version": "1.5.0",
          "state": {
            "_view_name": "ProgressView",
            "style": "IPY_MODEL_2870b226f04b478dbe123166b2d4d796",
            "_dom_classes": [],
            "description": "",
            "_model_name": "FloatProgressModel",
            "bar_style": "success",
            "max": 29515,
            "_view_module": "@jupyter-widgets/controls",
            "_model_module_version": "1.5.0",
            "value": 29515,
            "_view_count": null,
            "_view_module_version": "1.5.0",
            "orientation": "horizontal",
            "min": 0,
            "description_tooltip": null,
            "_model_module": "@jupyter-widgets/controls",
            "layout": "IPY_MODEL_2d2f39ecb473400eabaaccc322235d9c"
          }
        },
        "e2c7ab066ec84db9b1fad159341bdd37": {
          "model_module": "@jupyter-widgets/controls",
          "model_name": "HTMLModel",
          "model_module_version": "1.5.0",
          "state": {
            "_view_name": "HTMLView",
            "style": "IPY_MODEL_0dbd188bde09415980acb08d3814118c",
            "_dom_classes": [],
            "description": "",
            "_model_name": "HTMLModel",
            "placeholder": "​",
            "_view_module": "@jupyter-widgets/controls",
            "_model_module_version": "1.5.0",
            "value": " 29696/? [00:00&lt;00:00, 298026.11it/s]",
            "_view_count": null,
            "_view_module_version": "1.5.0",
            "description_tooltip": null,
            "_model_module": "@jupyter-widgets/controls",
            "layout": "IPY_MODEL_0caeb4a0794d42de9babb03ccde344e9"
          }
        },
        "f194378abc7e4ac9bbc942e3cca5c72e": {
          "model_module": "@jupyter-widgets/controls",
          "model_name": "DescriptionStyleModel",
          "model_module_version": "1.5.0",
          "state": {
            "_view_name": "StyleView",
            "_model_name": "DescriptionStyleModel",
            "description_width": "",
            "_view_module": "@jupyter-widgets/base",
            "_model_module_version": "1.5.0",
            "_view_count": null,
            "_view_module_version": "1.2.0",
            "_model_module": "@jupyter-widgets/controls"
          }
        },
        "f95b66f506c24279aeb4056205dba9a6": {
          "model_module": "@jupyter-widgets/base",
          "model_name": "LayoutModel",
          "model_module_version": "1.2.0",
          "state": {
            "_view_name": "LayoutView",
            "grid_template_rows": null,
            "right": null,
            "justify_content": null,
            "_view_module": "@jupyter-widgets/base",
            "overflow": null,
            "_model_module_version": "1.2.0",
            "_view_count": null,
            "flex_flow": null,
            "width": null,
            "min_width": null,
            "border": null,
            "align_items": null,
            "bottom": null,
            "_model_module": "@jupyter-widgets/base",
            "top": null,
            "grid_column": null,
            "overflow_y": null,
            "overflow_x": null,
            "grid_auto_flow": null,
            "grid_area": null,
            "grid_template_columns": null,
            "flex": null,
            "_model_name": "LayoutModel",
            "justify_items": null,
            "grid_row": null,
            "max_height": null,
            "align_content": null,
            "visibility": null,
            "align_self": null,
            "height": null,
            "min_height": null,
            "padding": null,
            "grid_auto_rows": null,
            "grid_gap": null,
            "max_width": null,
            "order": null,
            "_view_module_version": "1.2.0",
            "grid_template_areas": null,
            "object_position": null,
            "object_fit": null,
            "grid_auto_columns": null,
            "margin": null,
            "display": null,
            "left": null
          }
        },
        "2870b226f04b478dbe123166b2d4d796": {
          "model_module": "@jupyter-widgets/controls",
          "model_name": "ProgressStyleModel",
          "model_module_version": "1.5.0",
          "state": {
            "_view_name": "StyleView",
            "_model_name": "ProgressStyleModel",
            "description_width": "",
            "_view_module": "@jupyter-widgets/base",
            "_model_module_version": "1.5.0",
            "_view_count": null,
            "_view_module_version": "1.2.0",
            "bar_color": null,
            "_model_module": "@jupyter-widgets/controls"
          }
        },
        "2d2f39ecb473400eabaaccc322235d9c": {
          "model_module": "@jupyter-widgets/base",
          "model_name": "LayoutModel",
          "model_module_version": "1.2.0",
          "state": {
            "_view_name": "LayoutView",
            "grid_template_rows": null,
            "right": null,
            "justify_content": null,
            "_view_module": "@jupyter-widgets/base",
            "overflow": null,
            "_model_module_version": "1.2.0",
            "_view_count": null,
            "flex_flow": null,
            "width": null,
            "min_width": null,
            "border": null,
            "align_items": null,
            "bottom": null,
            "_model_module": "@jupyter-widgets/base",
            "top": null,
            "grid_column": null,
            "overflow_y": null,
            "overflow_x": null,
            "grid_auto_flow": null,
            "grid_area": null,
            "grid_template_columns": null,
            "flex": null,
            "_model_name": "LayoutModel",
            "justify_items": null,
            "grid_row": null,
            "max_height": null,
            "align_content": null,
            "visibility": null,
            "align_self": null,
            "height": null,
            "min_height": null,
            "padding": null,
            "grid_auto_rows": null,
            "grid_gap": null,
            "max_width": null,
            "order": null,
            "_view_module_version": "1.2.0",
            "grid_template_areas": null,
            "object_position": null,
            "object_fit": null,
            "grid_auto_columns": null,
            "margin": null,
            "display": null,
            "left": null
          }
        },
        "0dbd188bde09415980acb08d3814118c": {
          "model_module": "@jupyter-widgets/controls",
          "model_name": "DescriptionStyleModel",
          "model_module_version": "1.5.0",
          "state": {
            "_view_name": "StyleView",
            "_model_name": "DescriptionStyleModel",
            "description_width": "",
            "_view_module": "@jupyter-widgets/base",
            "_model_module_version": "1.5.0",
            "_view_count": null,
            "_view_module_version": "1.2.0",
            "_model_module": "@jupyter-widgets/controls"
          }
        },
        "0caeb4a0794d42de9babb03ccde344e9": {
          "model_module": "@jupyter-widgets/base",
          "model_name": "LayoutModel",
          "model_module_version": "1.2.0",
          "state": {
            "_view_name": "LayoutView",
            "grid_template_rows": null,
            "right": null,
            "justify_content": null,
            "_view_module": "@jupyter-widgets/base",
            "overflow": null,
            "_model_module_version": "1.2.0",
            "_view_count": null,
            "flex_flow": null,
            "width": null,
            "min_width": null,
            "border": null,
            "align_items": null,
            "bottom": null,
            "_model_module": "@jupyter-widgets/base",
            "top": null,
            "grid_column": null,
            "overflow_y": null,
            "overflow_x": null,
            "grid_auto_flow": null,
            "grid_area": null,
            "grid_template_columns": null,
            "flex": null,
            "_model_name": "LayoutModel",
            "justify_items": null,
            "grid_row": null,
            "max_height": null,
            "align_content": null,
            "visibility": null,
            "align_self": null,
            "height": null,
            "min_height": null,
            "padding": null,
            "grid_auto_rows": null,
            "grid_gap": null,
            "max_width": null,
            "order": null,
            "_view_module_version": "1.2.0",
            "grid_template_areas": null,
            "object_position": null,
            "object_fit": null,
            "grid_auto_columns": null,
            "margin": null,
            "display": null,
            "left": null
          }
        },
        "ccb2f00aa18d4ebaa4b0c1ef92ee8582": {
          "model_module": "@jupyter-widgets/controls",
          "model_name": "HBoxModel",
          "model_module_version": "1.5.0",
          "state": {
            "_view_name": "HBoxView",
            "_dom_classes": [],
            "_model_name": "HBoxModel",
            "_view_module": "@jupyter-widgets/controls",
            "_model_module_version": "1.5.0",
            "_view_count": null,
            "_view_module_version": "1.5.0",
            "box_style": "",
            "layout": "IPY_MODEL_3b45ce1f76554f48971e27794e206dab",
            "_model_module": "@jupyter-widgets/controls",
            "children": [
              "IPY_MODEL_1feac60b01024521b463bdbbd27e6d20",
              "IPY_MODEL_8e1044aa5b5f4b649248fb8ed7f98183",
              "IPY_MODEL_69715f08b8014bdfb4a2b532c94b4a51"
            ]
          }
        },
        "3b45ce1f76554f48971e27794e206dab": {
          "model_module": "@jupyter-widgets/base",
          "model_name": "LayoutModel",
          "model_module_version": "1.2.0",
          "state": {
            "_view_name": "LayoutView",
            "grid_template_rows": null,
            "right": null,
            "justify_content": null,
            "_view_module": "@jupyter-widgets/base",
            "overflow": null,
            "_model_module_version": "1.2.0",
            "_view_count": null,
            "flex_flow": null,
            "width": null,
            "min_width": null,
            "border": null,
            "align_items": null,
            "bottom": null,
            "_model_module": "@jupyter-widgets/base",
            "top": null,
            "grid_column": null,
            "overflow_y": null,
            "overflow_x": null,
            "grid_auto_flow": null,
            "grid_area": null,
            "grid_template_columns": null,
            "flex": null,
            "_model_name": "LayoutModel",
            "justify_items": null,
            "grid_row": null,
            "max_height": null,
            "align_content": null,
            "visibility": null,
            "align_self": null,
            "height": null,
            "min_height": null,
            "padding": null,
            "grid_auto_rows": null,
            "grid_gap": null,
            "max_width": null,
            "order": null,
            "_view_module_version": "1.2.0",
            "grid_template_areas": null,
            "object_position": null,
            "object_fit": null,
            "grid_auto_columns": null,
            "margin": null,
            "display": null,
            "left": null
          }
        },
        "1feac60b01024521b463bdbbd27e6d20": {
          "model_module": "@jupyter-widgets/controls",
          "model_name": "HTMLModel",
          "model_module_version": "1.5.0",
          "state": {
            "_view_name": "HTMLView",
            "style": "IPY_MODEL_0bef1c07b2d849c6b1aa1729bb480a49",
            "_dom_classes": [],
            "description": "",
            "_model_name": "HTMLModel",
            "placeholder": "​",
            "_view_module": "@jupyter-widgets/controls",
            "_model_module_version": "1.5.0",
            "value": "",
            "_view_count": null,
            "_view_module_version": "1.5.0",
            "description_tooltip": null,
            "_model_module": "@jupyter-widgets/controls",
            "layout": "IPY_MODEL_8f4f6535aabf43c49c0479ac30365d83"
          }
        },
        "8e1044aa5b5f4b649248fb8ed7f98183": {
          "model_module": "@jupyter-widgets/controls",
          "model_name": "FloatProgressModel",
          "model_module_version": "1.5.0",
          "state": {
            "_view_name": "ProgressView",
            "style": "IPY_MODEL_a78b82c4db364766bfb823ca8f9be82e",
            "_dom_classes": [],
            "description": "",
            "_model_name": "FloatProgressModel",
            "bar_style": "success",
            "max": 4422102,
            "_view_module": "@jupyter-widgets/controls",
            "_model_module_version": "1.5.0",
            "value": 4422102,
            "_view_count": null,
            "_view_module_version": "1.5.0",
            "orientation": "horizontal",
            "min": 0,
            "description_tooltip": null,
            "_model_module": "@jupyter-widgets/controls",
            "layout": "IPY_MODEL_75c40b56f2c2462f9b91c24243af7e6f"
          }
        },
        "69715f08b8014bdfb4a2b532c94b4a51": {
          "model_module": "@jupyter-widgets/controls",
          "model_name": "HTMLModel",
          "model_module_version": "1.5.0",
          "state": {
            "_view_name": "HTMLView",
            "style": "IPY_MODEL_7de39d377217479f89155da4975edc15",
            "_dom_classes": [],
            "description": "",
            "_model_name": "HTMLModel",
            "placeholder": "​",
            "_view_module": "@jupyter-widgets/controls",
            "_model_module_version": "1.5.0",
            "value": " 4422656/? [00:00&lt;00:00, 8274267.05it/s]",
            "_view_count": null,
            "_view_module_version": "1.5.0",
            "description_tooltip": null,
            "_model_module": "@jupyter-widgets/controls",
            "layout": "IPY_MODEL_95660b1aaab649d3aa1f792e800e3094"
          }
        },
        "0bef1c07b2d849c6b1aa1729bb480a49": {
          "model_module": "@jupyter-widgets/controls",
          "model_name": "DescriptionStyleModel",
          "model_module_version": "1.5.0",
          "state": {
            "_view_name": "StyleView",
            "_model_name": "DescriptionStyleModel",
            "description_width": "",
            "_view_module": "@jupyter-widgets/base",
            "_model_module_version": "1.5.0",
            "_view_count": null,
            "_view_module_version": "1.2.0",
            "_model_module": "@jupyter-widgets/controls"
          }
        },
        "8f4f6535aabf43c49c0479ac30365d83": {
          "model_module": "@jupyter-widgets/base",
          "model_name": "LayoutModel",
          "model_module_version": "1.2.0",
          "state": {
            "_view_name": "LayoutView",
            "grid_template_rows": null,
            "right": null,
            "justify_content": null,
            "_view_module": "@jupyter-widgets/base",
            "overflow": null,
            "_model_module_version": "1.2.0",
            "_view_count": null,
            "flex_flow": null,
            "width": null,
            "min_width": null,
            "border": null,
            "align_items": null,
            "bottom": null,
            "_model_module": "@jupyter-widgets/base",
            "top": null,
            "grid_column": null,
            "overflow_y": null,
            "overflow_x": null,
            "grid_auto_flow": null,
            "grid_area": null,
            "grid_template_columns": null,
            "flex": null,
            "_model_name": "LayoutModel",
            "justify_items": null,
            "grid_row": null,
            "max_height": null,
            "align_content": null,
            "visibility": null,
            "align_self": null,
            "height": null,
            "min_height": null,
            "padding": null,
            "grid_auto_rows": null,
            "grid_gap": null,
            "max_width": null,
            "order": null,
            "_view_module_version": "1.2.0",
            "grid_template_areas": null,
            "object_position": null,
            "object_fit": null,
            "grid_auto_columns": null,
            "margin": null,
            "display": null,
            "left": null
          }
        },
        "a78b82c4db364766bfb823ca8f9be82e": {
          "model_module": "@jupyter-widgets/controls",
          "model_name": "ProgressStyleModel",
          "model_module_version": "1.5.0",
          "state": {
            "_view_name": "StyleView",
            "_model_name": "ProgressStyleModel",
            "description_width": "",
            "_view_module": "@jupyter-widgets/base",
            "_model_module_version": "1.5.0",
            "_view_count": null,
            "_view_module_version": "1.2.0",
            "bar_color": null,
            "_model_module": "@jupyter-widgets/controls"
          }
        },
        "75c40b56f2c2462f9b91c24243af7e6f": {
          "model_module": "@jupyter-widgets/base",
          "model_name": "LayoutModel",
          "model_module_version": "1.2.0",
          "state": {
            "_view_name": "LayoutView",
            "grid_template_rows": null,
            "right": null,
            "justify_content": null,
            "_view_module": "@jupyter-widgets/base",
            "overflow": null,
            "_model_module_version": "1.2.0",
            "_view_count": null,
            "flex_flow": null,
            "width": null,
            "min_width": null,
            "border": null,
            "align_items": null,
            "bottom": null,
            "_model_module": "@jupyter-widgets/base",
            "top": null,
            "grid_column": null,
            "overflow_y": null,
            "overflow_x": null,
            "grid_auto_flow": null,
            "grid_area": null,
            "grid_template_columns": null,
            "flex": null,
            "_model_name": "LayoutModel",
            "justify_items": null,
            "grid_row": null,
            "max_height": null,
            "align_content": null,
            "visibility": null,
            "align_self": null,
            "height": null,
            "min_height": null,
            "padding": null,
            "grid_auto_rows": null,
            "grid_gap": null,
            "max_width": null,
            "order": null,
            "_view_module_version": "1.2.0",
            "grid_template_areas": null,
            "object_position": null,
            "object_fit": null,
            "grid_auto_columns": null,
            "margin": null,
            "display": null,
            "left": null
          }
        },
        "7de39d377217479f89155da4975edc15": {
          "model_module": "@jupyter-widgets/controls",
          "model_name": "DescriptionStyleModel",
          "model_module_version": "1.5.0",
          "state": {
            "_view_name": "StyleView",
            "_model_name": "DescriptionStyleModel",
            "description_width": "",
            "_view_module": "@jupyter-widgets/base",
            "_model_module_version": "1.5.0",
            "_view_count": null,
            "_view_module_version": "1.2.0",
            "_model_module": "@jupyter-widgets/controls"
          }
        },
        "95660b1aaab649d3aa1f792e800e3094": {
          "model_module": "@jupyter-widgets/base",
          "model_name": "LayoutModel",
          "model_module_version": "1.2.0",
          "state": {
            "_view_name": "LayoutView",
            "grid_template_rows": null,
            "right": null,
            "justify_content": null,
            "_view_module": "@jupyter-widgets/base",
            "overflow": null,
            "_model_module_version": "1.2.0",
            "_view_count": null,
            "flex_flow": null,
            "width": null,
            "min_width": null,
            "border": null,
            "align_items": null,
            "bottom": null,
            "_model_module": "@jupyter-widgets/base",
            "top": null,
            "grid_column": null,
            "overflow_y": null,
            "overflow_x": null,
            "grid_auto_flow": null,
            "grid_area": null,
            "grid_template_columns": null,
            "flex": null,
            "_model_name": "LayoutModel",
            "justify_items": null,
            "grid_row": null,
            "max_height": null,
            "align_content": null,
            "visibility": null,
            "align_self": null,
            "height": null,
            "min_height": null,
            "padding": null,
            "grid_auto_rows": null,
            "grid_gap": null,
            "max_width": null,
            "order": null,
            "_view_module_version": "1.2.0",
            "grid_template_areas": null,
            "object_position": null,
            "object_fit": null,
            "grid_auto_columns": null,
            "margin": null,
            "display": null,
            "left": null
          }
        },
        "8cb542c6089b4f8ba9ed7f1fbcb370c4": {
          "model_module": "@jupyter-widgets/controls",
          "model_name": "HBoxModel",
          "model_module_version": "1.5.0",
          "state": {
            "_view_name": "HBoxView",
            "_dom_classes": [],
            "_model_name": "HBoxModel",
            "_view_module": "@jupyter-widgets/controls",
            "_model_module_version": "1.5.0",
            "_view_count": null,
            "_view_module_version": "1.5.0",
            "box_style": "",
            "layout": "IPY_MODEL_a412c2dfef9449a29b2c6c54965957b7",
            "_model_module": "@jupyter-widgets/controls",
            "children": [
              "IPY_MODEL_6488d25def7a4ad698afb22d50bae1b5",
              "IPY_MODEL_f2675fe4d5d64387a43ca383fb8f0105",
              "IPY_MODEL_f4be73b9d9ad42b59489eea2919f9ea1"
            ]
          }
        },
        "a412c2dfef9449a29b2c6c54965957b7": {
          "model_module": "@jupyter-widgets/base",
          "model_name": "LayoutModel",
          "model_module_version": "1.2.0",
          "state": {
            "_view_name": "LayoutView",
            "grid_template_rows": null,
            "right": null,
            "justify_content": null,
            "_view_module": "@jupyter-widgets/base",
            "overflow": null,
            "_model_module_version": "1.2.0",
            "_view_count": null,
            "flex_flow": null,
            "width": null,
            "min_width": null,
            "border": null,
            "align_items": null,
            "bottom": null,
            "_model_module": "@jupyter-widgets/base",
            "top": null,
            "grid_column": null,
            "overflow_y": null,
            "overflow_x": null,
            "grid_auto_flow": null,
            "grid_area": null,
            "grid_template_columns": null,
            "flex": null,
            "_model_name": "LayoutModel",
            "justify_items": null,
            "grid_row": null,
            "max_height": null,
            "align_content": null,
            "visibility": null,
            "align_self": null,
            "height": null,
            "min_height": null,
            "padding": null,
            "grid_auto_rows": null,
            "grid_gap": null,
            "max_width": null,
            "order": null,
            "_view_module_version": "1.2.0",
            "grid_template_areas": null,
            "object_position": null,
            "object_fit": null,
            "grid_auto_columns": null,
            "margin": null,
            "display": null,
            "left": null
          }
        },
        "6488d25def7a4ad698afb22d50bae1b5": {
          "model_module": "@jupyter-widgets/controls",
          "model_name": "HTMLModel",
          "model_module_version": "1.5.0",
          "state": {
            "_view_name": "HTMLView",
            "style": "IPY_MODEL_2ce66416ce424273801d13d2422be6b3",
            "_dom_classes": [],
            "description": "",
            "_model_name": "HTMLModel",
            "placeholder": "​",
            "_view_module": "@jupyter-widgets/controls",
            "_model_module_version": "1.5.0",
            "value": "",
            "_view_count": null,
            "_view_module_version": "1.5.0",
            "description_tooltip": null,
            "_model_module": "@jupyter-widgets/controls",
            "layout": "IPY_MODEL_17f944c7be50488f9b5daa0e10573a3c"
          }
        },
        "f2675fe4d5d64387a43ca383fb8f0105": {
          "model_module": "@jupyter-widgets/controls",
          "model_name": "FloatProgressModel",
          "model_module_version": "1.5.0",
          "state": {
            "_view_name": "ProgressView",
            "style": "IPY_MODEL_48d4410c0958427ebd20dc077b2ea83f",
            "_dom_classes": [],
            "description": "",
            "_model_name": "FloatProgressModel",
            "bar_style": "success",
            "max": 5148,
            "_view_module": "@jupyter-widgets/controls",
            "_model_module_version": "1.5.0",
            "value": 5148,
            "_view_count": null,
            "_view_module_version": "1.5.0",
            "orientation": "horizontal",
            "min": 0,
            "description_tooltip": null,
            "_model_module": "@jupyter-widgets/controls",
            "layout": "IPY_MODEL_8df9bf2297d7476a8685fc988439c072"
          }
        },
        "f4be73b9d9ad42b59489eea2919f9ea1": {
          "model_module": "@jupyter-widgets/controls",
          "model_name": "HTMLModel",
          "model_module_version": "1.5.0",
          "state": {
            "_view_name": "HTMLView",
            "style": "IPY_MODEL_087f80b44b524213897218533eb42c5d",
            "_dom_classes": [],
            "description": "",
            "_model_name": "HTMLModel",
            "placeholder": "​",
            "_view_module": "@jupyter-widgets/controls",
            "_model_module_version": "1.5.0",
            "value": " 6144/? [00:00&lt;00:00, 100284.49it/s]",
            "_view_count": null,
            "_view_module_version": "1.5.0",
            "description_tooltip": null,
            "_model_module": "@jupyter-widgets/controls",
            "layout": "IPY_MODEL_208c3904fddc4ff09c6bbc65239d4bb9"
          }
        },
        "2ce66416ce424273801d13d2422be6b3": {
          "model_module": "@jupyter-widgets/controls",
          "model_name": "DescriptionStyleModel",
          "model_module_version": "1.5.0",
          "state": {
            "_view_name": "StyleView",
            "_model_name": "DescriptionStyleModel",
            "description_width": "",
            "_view_module": "@jupyter-widgets/base",
            "_model_module_version": "1.5.0",
            "_view_count": null,
            "_view_module_version": "1.2.0",
            "_model_module": "@jupyter-widgets/controls"
          }
        },
        "17f944c7be50488f9b5daa0e10573a3c": {
          "model_module": "@jupyter-widgets/base",
          "model_name": "LayoutModel",
          "model_module_version": "1.2.0",
          "state": {
            "_view_name": "LayoutView",
            "grid_template_rows": null,
            "right": null,
            "justify_content": null,
            "_view_module": "@jupyter-widgets/base",
            "overflow": null,
            "_model_module_version": "1.2.0",
            "_view_count": null,
            "flex_flow": null,
            "width": null,
            "min_width": null,
            "border": null,
            "align_items": null,
            "bottom": null,
            "_model_module": "@jupyter-widgets/base",
            "top": null,
            "grid_column": null,
            "overflow_y": null,
            "overflow_x": null,
            "grid_auto_flow": null,
            "grid_area": null,
            "grid_template_columns": null,
            "flex": null,
            "_model_name": "LayoutModel",
            "justify_items": null,
            "grid_row": null,
            "max_height": null,
            "align_content": null,
            "visibility": null,
            "align_self": null,
            "height": null,
            "min_height": null,
            "padding": null,
            "grid_auto_rows": null,
            "grid_gap": null,
            "max_width": null,
            "order": null,
            "_view_module_version": "1.2.0",
            "grid_template_areas": null,
            "object_position": null,
            "object_fit": null,
            "grid_auto_columns": null,
            "margin": null,
            "display": null,
            "left": null
          }
        },
        "48d4410c0958427ebd20dc077b2ea83f": {
          "model_module": "@jupyter-widgets/controls",
          "model_name": "ProgressStyleModel",
          "model_module_version": "1.5.0",
          "state": {
            "_view_name": "StyleView",
            "_model_name": "ProgressStyleModel",
            "description_width": "",
            "_view_module": "@jupyter-widgets/base",
            "_model_module_version": "1.5.0",
            "_view_count": null,
            "_view_module_version": "1.2.0",
            "bar_color": null,
            "_model_module": "@jupyter-widgets/controls"
          }
        },
        "8df9bf2297d7476a8685fc988439c072": {
          "model_module": "@jupyter-widgets/base",
          "model_name": "LayoutModel",
          "model_module_version": "1.2.0",
          "state": {
            "_view_name": "LayoutView",
            "grid_template_rows": null,
            "right": null,
            "justify_content": null,
            "_view_module": "@jupyter-widgets/base",
            "overflow": null,
            "_model_module_version": "1.2.0",
            "_view_count": null,
            "flex_flow": null,
            "width": null,
            "min_width": null,
            "border": null,
            "align_items": null,
            "bottom": null,
            "_model_module": "@jupyter-widgets/base",
            "top": null,
            "grid_column": null,
            "overflow_y": null,
            "overflow_x": null,
            "grid_auto_flow": null,
            "grid_area": null,
            "grid_template_columns": null,
            "flex": null,
            "_model_name": "LayoutModel",
            "justify_items": null,
            "grid_row": null,
            "max_height": null,
            "align_content": null,
            "visibility": null,
            "align_self": null,
            "height": null,
            "min_height": null,
            "padding": null,
            "grid_auto_rows": null,
            "grid_gap": null,
            "max_width": null,
            "order": null,
            "_view_module_version": "1.2.0",
            "grid_template_areas": null,
            "object_position": null,
            "object_fit": null,
            "grid_auto_columns": null,
            "margin": null,
            "display": null,
            "left": null
          }
        },
        "087f80b44b524213897218533eb42c5d": {
          "model_module": "@jupyter-widgets/controls",
          "model_name": "DescriptionStyleModel",
          "model_module_version": "1.5.0",
          "state": {
            "_view_name": "StyleView",
            "_model_name": "DescriptionStyleModel",
            "description_width": "",
            "_view_module": "@jupyter-widgets/base",
            "_model_module_version": "1.5.0",
            "_view_count": null,
            "_view_module_version": "1.2.0",
            "_model_module": "@jupyter-widgets/controls"
          }
        },
        "208c3904fddc4ff09c6bbc65239d4bb9": {
          "model_module": "@jupyter-widgets/base",
          "model_name": "LayoutModel",
          "model_module_version": "1.2.0",
          "state": {
            "_view_name": "LayoutView",
            "grid_template_rows": null,
            "right": null,
            "justify_content": null,
            "_view_module": "@jupyter-widgets/base",
            "overflow": null,
            "_model_module_version": "1.2.0",
            "_view_count": null,
            "flex_flow": null,
            "width": null,
            "min_width": null,
            "border": null,
            "align_items": null,
            "bottom": null,
            "_model_module": "@jupyter-widgets/base",
            "top": null,
            "grid_column": null,
            "overflow_y": null,
            "overflow_x": null,
            "grid_auto_flow": null,
            "grid_area": null,
            "grid_template_columns": null,
            "flex": null,
            "_model_name": "LayoutModel",
            "justify_items": null,
            "grid_row": null,
            "max_height": null,
            "align_content": null,
            "visibility": null,
            "align_self": null,
            "height": null,
            "min_height": null,
            "padding": null,
            "grid_auto_rows": null,
            "grid_gap": null,
            "max_width": null,
            "order": null,
            "_view_module_version": "1.2.0",
            "grid_template_areas": null,
            "object_position": null,
            "object_fit": null,
            "grid_auto_columns": null,
            "margin": null,
            "display": null,
            "left": null
          }
        }
      }
    }
  },
  "cells": [
    {
      "cell_type": "markdown",
      "metadata": {
        "id": "view-in-github",
        "colab_type": "text"
      },
      "source": [
        "<a href=\"https://colab.research.google.com/github/mfikrualbayyan/pembelajaran_mesin/blob/main/Minggu9_Chapter_3_Linear_Neural_Networks.ipynb\" target=\"_parent\"><img src=\"https://colab.research.google.com/assets/colab-badge.svg\" alt=\"Open In Colab\"/></a>"
      ]
    },
    {
      "cell_type": "code",
      "execution_count": 1,
      "metadata": {
        "colab": {
          "base_uri": "https://localhost:8080/"
        },
        "id": "Nv03s-1Y5YaB",
        "outputId": "fc506cc4-8699-4342-dd07-3f1ae782567a"
      },
      "outputs": [
        {
          "output_type": "stream",
          "name": "stdout",
          "text": [
            "Collecting d2l==0.16.0\n",
            "  Downloading d2l-0.16.0-py3-none-any.whl (76 kB)\n",
            "\u001b[K     |████████████████████████████████| 76 kB 2.8 MB/s \n",
            "\u001b[?25hRequirement already satisfied: pandas in /usr/local/lib/python3.7/dist-packages (from d2l==0.16.0) (1.1.5)\n",
            "Requirement already satisfied: jupyter in /usr/local/lib/python3.7/dist-packages (from d2l==0.16.0) (1.0.0)\n",
            "Requirement already satisfied: numpy in /usr/local/lib/python3.7/dist-packages (from d2l==0.16.0) (1.19.5)\n",
            "Requirement already satisfied: matplotlib in /usr/local/lib/python3.7/dist-packages (from d2l==0.16.0) (3.2.2)\n",
            "Requirement already satisfied: ipykernel in /usr/local/lib/python3.7/dist-packages (from jupyter->d2l==0.16.0) (4.10.1)\n",
            "Requirement already satisfied: nbconvert in /usr/local/lib/python3.7/dist-packages (from jupyter->d2l==0.16.0) (5.6.1)\n",
            "Requirement already satisfied: qtconsole in /usr/local/lib/python3.7/dist-packages (from jupyter->d2l==0.16.0) (5.2.1)\n",
            "Requirement already satisfied: ipywidgets in /usr/local/lib/python3.7/dist-packages (from jupyter->d2l==0.16.0) (7.6.5)\n",
            "Requirement already satisfied: jupyter-console in /usr/local/lib/python3.7/dist-packages (from jupyter->d2l==0.16.0) (5.2.0)\n",
            "Requirement already satisfied: notebook in /usr/local/lib/python3.7/dist-packages (from jupyter->d2l==0.16.0) (5.3.1)\n",
            "Requirement already satisfied: tornado>=4.0 in /usr/local/lib/python3.7/dist-packages (from ipykernel->jupyter->d2l==0.16.0) (5.1.1)\n",
            "Requirement already satisfied: ipython>=4.0.0 in /usr/local/lib/python3.7/dist-packages (from ipykernel->jupyter->d2l==0.16.0) (5.5.0)\n",
            "Requirement already satisfied: jupyter-client in /usr/local/lib/python3.7/dist-packages (from ipykernel->jupyter->d2l==0.16.0) (5.3.5)\n",
            "Requirement already satisfied: traitlets>=4.1.0 in /usr/local/lib/python3.7/dist-packages (from ipykernel->jupyter->d2l==0.16.0) (5.1.1)\n",
            "Requirement already satisfied: pygments in /usr/local/lib/python3.7/dist-packages (from ipython>=4.0.0->ipykernel->jupyter->d2l==0.16.0) (2.6.1)\n",
            "Requirement already satisfied: setuptools>=18.5 in /usr/local/lib/python3.7/dist-packages (from ipython>=4.0.0->ipykernel->jupyter->d2l==0.16.0) (57.4.0)\n",
            "Requirement already satisfied: pickleshare in /usr/local/lib/python3.7/dist-packages (from ipython>=4.0.0->ipykernel->jupyter->d2l==0.16.0) (0.7.5)\n",
            "Requirement already satisfied: prompt-toolkit<2.0.0,>=1.0.4 in /usr/local/lib/python3.7/dist-packages (from ipython>=4.0.0->ipykernel->jupyter->d2l==0.16.0) (1.0.18)\n",
            "Requirement already satisfied: simplegeneric>0.8 in /usr/local/lib/python3.7/dist-packages (from ipython>=4.0.0->ipykernel->jupyter->d2l==0.16.0) (0.8.1)\n",
            "Requirement already satisfied: pexpect in /usr/local/lib/python3.7/dist-packages (from ipython>=4.0.0->ipykernel->jupyter->d2l==0.16.0) (4.8.0)\n",
            "Requirement already satisfied: decorator in /usr/local/lib/python3.7/dist-packages (from ipython>=4.0.0->ipykernel->jupyter->d2l==0.16.0) (4.4.2)\n",
            "Requirement already satisfied: wcwidth in /usr/local/lib/python3.7/dist-packages (from prompt-toolkit<2.0.0,>=1.0.4->ipython>=4.0.0->ipykernel->jupyter->d2l==0.16.0) (0.2.5)\n",
            "Requirement already satisfied: six>=1.9.0 in /usr/local/lib/python3.7/dist-packages (from prompt-toolkit<2.0.0,>=1.0.4->ipython>=4.0.0->ipykernel->jupyter->d2l==0.16.0) (1.15.0)\n",
            "Requirement already satisfied: widgetsnbextension~=3.5.0 in /usr/local/lib/python3.7/dist-packages (from ipywidgets->jupyter->d2l==0.16.0) (3.5.2)\n",
            "Requirement already satisfied: nbformat>=4.2.0 in /usr/local/lib/python3.7/dist-packages (from ipywidgets->jupyter->d2l==0.16.0) (5.1.3)\n",
            "Requirement already satisfied: jupyterlab-widgets>=1.0.0 in /usr/local/lib/python3.7/dist-packages (from ipywidgets->jupyter->d2l==0.16.0) (1.0.2)\n",
            "Requirement already satisfied: ipython-genutils~=0.2.0 in /usr/local/lib/python3.7/dist-packages (from ipywidgets->jupyter->d2l==0.16.0) (0.2.0)\n",
            "Requirement already satisfied: jsonschema!=2.5.0,>=2.4 in /usr/local/lib/python3.7/dist-packages (from nbformat>=4.2.0->ipywidgets->jupyter->d2l==0.16.0) (2.6.0)\n",
            "Requirement already satisfied: jupyter-core in /usr/local/lib/python3.7/dist-packages (from nbformat>=4.2.0->ipywidgets->jupyter->d2l==0.16.0) (4.9.1)\n",
            "Requirement already satisfied: terminado>=0.8.1 in /usr/local/lib/python3.7/dist-packages (from notebook->jupyter->d2l==0.16.0) (0.12.1)\n",
            "Requirement already satisfied: Send2Trash in /usr/local/lib/python3.7/dist-packages (from notebook->jupyter->d2l==0.16.0) (1.8.0)\n",
            "Requirement already satisfied: jinja2 in /usr/local/lib/python3.7/dist-packages (from notebook->jupyter->d2l==0.16.0) (2.11.3)\n",
            "Requirement already satisfied: python-dateutil>=2.1 in /usr/local/lib/python3.7/dist-packages (from jupyter-client->ipykernel->jupyter->d2l==0.16.0) (2.8.2)\n",
            "Requirement already satisfied: pyzmq>=13 in /usr/local/lib/python3.7/dist-packages (from jupyter-client->ipykernel->jupyter->d2l==0.16.0) (22.3.0)\n",
            "Requirement already satisfied: ptyprocess in /usr/local/lib/python3.7/dist-packages (from terminado>=0.8.1->notebook->jupyter->d2l==0.16.0) (0.7.0)\n",
            "Requirement already satisfied: MarkupSafe>=0.23 in /usr/local/lib/python3.7/dist-packages (from jinja2->notebook->jupyter->d2l==0.16.0) (2.0.1)\n",
            "Requirement already satisfied: pyparsing!=2.0.4,!=2.1.2,!=2.1.6,>=2.0.1 in /usr/local/lib/python3.7/dist-packages (from matplotlib->d2l==0.16.0) (3.0.6)\n",
            "Requirement already satisfied: kiwisolver>=1.0.1 in /usr/local/lib/python3.7/dist-packages (from matplotlib->d2l==0.16.0) (1.3.2)\n",
            "Requirement already satisfied: cycler>=0.10 in /usr/local/lib/python3.7/dist-packages (from matplotlib->d2l==0.16.0) (0.11.0)\n",
            "Requirement already satisfied: pandocfilters>=1.4.1 in /usr/local/lib/python3.7/dist-packages (from nbconvert->jupyter->d2l==0.16.0) (1.5.0)\n",
            "Requirement already satisfied: defusedxml in /usr/local/lib/python3.7/dist-packages (from nbconvert->jupyter->d2l==0.16.0) (0.7.1)\n",
            "Requirement already satisfied: mistune<2,>=0.8.1 in /usr/local/lib/python3.7/dist-packages (from nbconvert->jupyter->d2l==0.16.0) (0.8.4)\n",
            "Requirement already satisfied: testpath in /usr/local/lib/python3.7/dist-packages (from nbconvert->jupyter->d2l==0.16.0) (0.5.0)\n",
            "Requirement already satisfied: entrypoints>=0.2.2 in /usr/local/lib/python3.7/dist-packages (from nbconvert->jupyter->d2l==0.16.0) (0.3)\n",
            "Requirement already satisfied: bleach in /usr/local/lib/python3.7/dist-packages (from nbconvert->jupyter->d2l==0.16.0) (4.1.0)\n",
            "Requirement already satisfied: webencodings in /usr/local/lib/python3.7/dist-packages (from bleach->nbconvert->jupyter->d2l==0.16.0) (0.5.1)\n",
            "Requirement already satisfied: packaging in /usr/local/lib/python3.7/dist-packages (from bleach->nbconvert->jupyter->d2l==0.16.0) (21.3)\n",
            "Requirement already satisfied: pytz>=2017.2 in /usr/local/lib/python3.7/dist-packages (from pandas->d2l==0.16.0) (2018.9)\n",
            "Requirement already satisfied: qtpy in /usr/local/lib/python3.7/dist-packages (from qtconsole->jupyter->d2l==0.16.0) (1.11.2)\n",
            "Installing collected packages: d2l\n",
            "Successfully installed d2l-0.16.0\n"
          ]
        }
      ],
      "source": [
        "pip install -U d2l==0.16.0"
      ]
    },
    {
      "cell_type": "code",
      "source": [
        "%matplotlib inline\n",
        "import math\n",
        "import time\n",
        "import numpy as np\n",
        "import torch\n",
        "from d2l import torch as d2l"
      ],
      "metadata": {
        "id": "8iu5JVgt5eyw"
      },
      "execution_count": 2,
      "outputs": []
    },
    {
      "cell_type": "code",
      "source": [
        "n = 10000\n",
        "a = torch.ones(n)\n",
        "b = torch.ones(n)"
      ],
      "metadata": {
        "id": "3csbXIV_5j2g"
      },
      "execution_count": 3,
      "outputs": []
    },
    {
      "cell_type": "code",
      "source": [
        "class Timer: \n",
        "    \"\"\"Record multiple running times.\"\"\"\n",
        "    def __init__(self):\n",
        "        self.times = []\n",
        "        self.start()\n",
        "\n",
        "    def start(self):\n",
        "        \"\"\"Start the timer.\"\"\"\n",
        "        self.tik = time.time()\n",
        "\n",
        "    def stop(self):\n",
        "        \"\"\"Stop the timer and record the time in a list.\"\"\"\n",
        "        self.times.append(time.time() - self.tik)\n",
        "        return self.times[-1]\n",
        "\n",
        "    def avg(self):\n",
        "        \"\"\"Return the average time.\"\"\"\n",
        "        return sum(self.times) / len(self.times)\n",
        "\n",
        "    def sum(self):\n",
        "        \"\"\"Return the sum of time.\"\"\"\n",
        "        return sum(self.times)\n",
        "\n",
        "    def cumsum(self):\n",
        "        \"\"\"Return the accumulated time.\"\"\"\n",
        "        return np.array(self.times).cumsum().tolist()\n"
      ],
      "metadata": {
        "id": "Ud6l4B6J5mZO"
      },
      "execution_count": 4,
      "outputs": []
    },
    {
      "cell_type": "code",
      "source": [
        "c = torch.zeros(n)\n",
        "timer = Timer()\n",
        "for i in range(n):\n",
        "    c[i] = a[i] + b[i]\n",
        "f'{timer.stop():.5f} sec'\n"
      ],
      "metadata": {
        "colab": {
          "base_uri": "https://localhost:8080/",
          "height": 37
        },
        "id": "UtHDDIgi5osB",
        "outputId": "f864b859-5e94-4a64-b9bf-90350068a3b6"
      },
      "execution_count": 6,
      "outputs": [
        {
          "output_type": "execute_result",
          "data": {
            "application/vnd.google.colaboratory.intrinsic+json": {
              "type": "string"
            },
            "text/plain": [
              "'0.10530 sec'"
            ]
          },
          "metadata": {},
          "execution_count": 6
        }
      ]
    },
    {
      "cell_type": "code",
      "source": [
        "timer.start()\n",
        "d = a + b\n",
        "f'{timer.stop():.5f} sec'"
      ],
      "metadata": {
        "colab": {
          "base_uri": "https://localhost:8080/",
          "height": 37
        },
        "id": "oByUptQ85q-j",
        "outputId": "faed6ffe-dc1b-4442-d121-73b5bf3a12c9"
      },
      "execution_count": 7,
      "outputs": [
        {
          "output_type": "execute_result",
          "data": {
            "application/vnd.google.colaboratory.intrinsic+json": {
              "type": "string"
            },
            "text/plain": [
              "'0.00019 sec'"
            ]
          },
          "metadata": {},
          "execution_count": 7
        }
      ]
    },
    {
      "cell_type": "code",
      "source": [
        "def normal(x, mu, sigma):\n",
        "    p = 1 / math.sqrt(2 * math.pi * sigma**2)\n",
        "    return p * np.exp(-0.5 / sigma**2 * (x - mu)**2)"
      ],
      "metadata": {
        "id": "ExUJ5kqI5wbk"
      },
      "execution_count": 8,
      "outputs": []
    },
    {
      "cell_type": "code",
      "source": [
        "# Use numpy again for visualization\n",
        "x = np.arange(-7, 7, 0.01)\n",
        "\n",
        "# Mean and standard deviation pairs\n",
        "params = [(0, 1), (0, 2), (3, 1)]\n",
        "d2l.plot(x, [normal(x, mu, sigma) for mu, sigma in params], xlabel='x',\n",
        "         ylabel='p(x)', figsize=(4.5, 2.5),\n",
        "         legend=[f'mean {mu}, std {sigma}' for mu, sigma in params])"
      ],
      "metadata": {
        "colab": {
          "base_uri": "https://localhost:8080/",
          "height": 262
        },
        "id": "H7j5D4cI50V7",
        "outputId": "524eeae2-4720-45db-addb-4ae8a238f6f4"
      },
      "execution_count": 9,
      "outputs": [
        {
          "output_type": "display_data",
          "data": {
            "text/plain": [
              "<Figure size 324x180 with 1 Axes>"
            ],
            "image/svg+xml": "<?xml version=\"1.0\" encoding=\"utf-8\" standalone=\"no\"?>\n<!DOCTYPE svg PUBLIC \"-//W3C//DTD SVG 1.1//EN\"\n  \"http://www.w3.org/Graphics/SVG/1.1/DTD/svg11.dtd\">\n<!-- Created with matplotlib (https://matplotlib.org/) -->\n<svg height=\"180.65625pt\" version=\"1.1\" viewBox=\"0 0 302.08125 180.65625\" width=\"302.08125pt\" xmlns=\"http://www.w3.org/2000/svg\" xmlns:xlink=\"http://www.w3.org/1999/xlink\">\n <defs>\n  <style type=\"text/css\">\n*{stroke-linecap:butt;stroke-linejoin:round;}\n  </style>\n </defs>\n <g id=\"figure_1\">\n  <g id=\"patch_1\">\n   <path d=\"M 0 180.65625 \nL 302.08125 180.65625 \nL 302.08125 0 \nL 0 0 \nz\n\" style=\"fill:none;\"/>\n  </g>\n  <g id=\"axes_1\">\n   <g id=\"patch_2\">\n    <path d=\"M 43.78125 143.1 \nL 294.88125 143.1 \nL 294.88125 7.2 \nL 43.78125 7.2 \nz\n\" style=\"fill:#ffffff;\"/>\n   </g>\n   <g id=\"matplotlib.axis_1\">\n    <g id=\"xtick_1\">\n     <g id=\"line2d_1\">\n      <path clip-path=\"url(#p85dc23e584)\" d=\"M 71.511736 143.1 \nL 71.511736 7.2 \n\" style=\"fill:none;stroke:#b0b0b0;stroke-linecap:square;stroke-width:0.8;\"/>\n     </g>\n     <g id=\"line2d_2\">\n      <defs>\n       <path d=\"M 0 0 \nL 0 3.5 \n\" id=\"m17a3088518\" style=\"stroke:#000000;stroke-width:0.8;\"/>\n      </defs>\n      <g>\n       <use style=\"stroke:#000000;stroke-width:0.8;\" x=\"71.511736\" xlink:href=\"#m17a3088518\" y=\"143.1\"/>\n      </g>\n     </g>\n     <g id=\"text_1\">\n      <!-- −6 -->\n      <defs>\n       <path d=\"M 10.59375 35.5 \nL 73.1875 35.5 \nL 73.1875 27.203125 \nL 10.59375 27.203125 \nz\n\" id=\"DejaVuSans-8722\"/>\n       <path d=\"M 33.015625 40.375 \nQ 26.375 40.375 22.484375 35.828125 \nQ 18.609375 31.296875 18.609375 23.390625 \nQ 18.609375 15.53125 22.484375 10.953125 \nQ 26.375 6.390625 33.015625 6.390625 \nQ 39.65625 6.390625 43.53125 10.953125 \nQ 47.40625 15.53125 47.40625 23.390625 \nQ 47.40625 31.296875 43.53125 35.828125 \nQ 39.65625 40.375 33.015625 40.375 \nz\nM 52.59375 71.296875 \nL 52.59375 62.3125 \nQ 48.875 64.0625 45.09375 64.984375 \nQ 41.3125 65.921875 37.59375 65.921875 \nQ 27.828125 65.921875 22.671875 59.328125 \nQ 17.53125 52.734375 16.796875 39.40625 \nQ 19.671875 43.65625 24.015625 45.921875 \nQ 28.375 48.1875 33.59375 48.1875 \nQ 44.578125 48.1875 50.953125 41.515625 \nQ 57.328125 34.859375 57.328125 23.390625 \nQ 57.328125 12.15625 50.6875 5.359375 \nQ 44.046875 -1.421875 33.015625 -1.421875 \nQ 20.359375 -1.421875 13.671875 8.265625 \nQ 6.984375 17.96875 6.984375 36.375 \nQ 6.984375 53.65625 15.1875 63.9375 \nQ 23.390625 74.21875 37.203125 74.21875 \nQ 40.921875 74.21875 44.703125 73.484375 \nQ 48.484375 72.75 52.59375 71.296875 \nz\n\" id=\"DejaVuSans-54\"/>\n      </defs>\n      <g transform=\"translate(64.140642 157.698438)scale(0.1 -0.1)\">\n       <use xlink:href=\"#DejaVuSans-8722\"/>\n       <use x=\"83.789062\" xlink:href=\"#DejaVuSans-54\"/>\n      </g>\n     </g>\n    </g>\n    <g id=\"xtick_2\">\n     <g id=\"line2d_3\">\n      <path clip-path=\"url(#p85dc23e584)\" d=\"M 104.145435 143.1 \nL 104.145435 7.2 \n\" style=\"fill:none;stroke:#b0b0b0;stroke-linecap:square;stroke-width:0.8;\"/>\n     </g>\n     <g id=\"line2d_4\">\n      <g>\n       <use style=\"stroke:#000000;stroke-width:0.8;\" x=\"104.145435\" xlink:href=\"#m17a3088518\" y=\"143.1\"/>\n      </g>\n     </g>\n     <g id=\"text_2\">\n      <!-- −4 -->\n      <defs>\n       <path d=\"M 37.796875 64.3125 \nL 12.890625 25.390625 \nL 37.796875 25.390625 \nz\nM 35.203125 72.90625 \nL 47.609375 72.90625 \nL 47.609375 25.390625 \nL 58.015625 25.390625 \nL 58.015625 17.1875 \nL 47.609375 17.1875 \nL 47.609375 0 \nL 37.796875 0 \nL 37.796875 17.1875 \nL 4.890625 17.1875 \nL 4.890625 26.703125 \nz\n\" id=\"DejaVuSans-52\"/>\n      </defs>\n      <g transform=\"translate(96.774342 157.698438)scale(0.1 -0.1)\">\n       <use xlink:href=\"#DejaVuSans-8722\"/>\n       <use x=\"83.789062\" xlink:href=\"#DejaVuSans-52\"/>\n      </g>\n     </g>\n    </g>\n    <g id=\"xtick_3\">\n     <g id=\"line2d_5\">\n      <path clip-path=\"url(#p85dc23e584)\" d=\"M 136.779135 143.1 \nL 136.779135 7.2 \n\" style=\"fill:none;stroke:#b0b0b0;stroke-linecap:square;stroke-width:0.8;\"/>\n     </g>\n     <g id=\"line2d_6\">\n      <g>\n       <use style=\"stroke:#000000;stroke-width:0.8;\" x=\"136.779135\" xlink:href=\"#m17a3088518\" y=\"143.1\"/>\n      </g>\n     </g>\n     <g id=\"text_3\">\n      <!-- −2 -->\n      <defs>\n       <path d=\"M 19.1875 8.296875 \nL 53.609375 8.296875 \nL 53.609375 0 \nL 7.328125 0 \nL 7.328125 8.296875 \nQ 12.9375 14.109375 22.625 23.890625 \nQ 32.328125 33.6875 34.8125 36.53125 \nQ 39.546875 41.84375 41.421875 45.53125 \nQ 43.3125 49.21875 43.3125 52.78125 \nQ 43.3125 58.59375 39.234375 62.25 \nQ 35.15625 65.921875 28.609375 65.921875 \nQ 23.96875 65.921875 18.8125 64.3125 \nQ 13.671875 62.703125 7.8125 59.421875 \nL 7.8125 69.390625 \nQ 13.765625 71.78125 18.9375 73 \nQ 24.125 74.21875 28.421875 74.21875 \nQ 39.75 74.21875 46.484375 68.546875 \nQ 53.21875 62.890625 53.21875 53.421875 \nQ 53.21875 48.921875 51.53125 44.890625 \nQ 49.859375 40.875 45.40625 35.40625 \nQ 44.1875 33.984375 37.640625 27.21875 \nQ 31.109375 20.453125 19.1875 8.296875 \nz\n\" id=\"DejaVuSans-50\"/>\n      </defs>\n      <g transform=\"translate(129.408041 157.698438)scale(0.1 -0.1)\">\n       <use xlink:href=\"#DejaVuSans-8722\"/>\n       <use x=\"83.789062\" xlink:href=\"#DejaVuSans-50\"/>\n      </g>\n     </g>\n    </g>\n    <g id=\"xtick_4\">\n     <g id=\"line2d_7\">\n      <path clip-path=\"url(#p85dc23e584)\" d=\"M 169.412834 143.1 \nL 169.412834 7.2 \n\" style=\"fill:none;stroke:#b0b0b0;stroke-linecap:square;stroke-width:0.8;\"/>\n     </g>\n     <g id=\"line2d_8\">\n      <g>\n       <use style=\"stroke:#000000;stroke-width:0.8;\" x=\"169.412834\" xlink:href=\"#m17a3088518\" y=\"143.1\"/>\n      </g>\n     </g>\n     <g id=\"text_4\">\n      <!-- 0 -->\n      <defs>\n       <path d=\"M 31.78125 66.40625 \nQ 24.171875 66.40625 20.328125 58.90625 \nQ 16.5 51.421875 16.5 36.375 \nQ 16.5 21.390625 20.328125 13.890625 \nQ 24.171875 6.390625 31.78125 6.390625 \nQ 39.453125 6.390625 43.28125 13.890625 \nQ 47.125 21.390625 47.125 36.375 \nQ 47.125 51.421875 43.28125 58.90625 \nQ 39.453125 66.40625 31.78125 66.40625 \nz\nM 31.78125 74.21875 \nQ 44.046875 74.21875 50.515625 64.515625 \nQ 56.984375 54.828125 56.984375 36.375 \nQ 56.984375 17.96875 50.515625 8.265625 \nQ 44.046875 -1.421875 31.78125 -1.421875 \nQ 19.53125 -1.421875 13.0625 8.265625 \nQ 6.59375 17.96875 6.59375 36.375 \nQ 6.59375 54.828125 13.0625 64.515625 \nQ 19.53125 74.21875 31.78125 74.21875 \nz\n\" id=\"DejaVuSans-48\"/>\n      </defs>\n      <g transform=\"translate(166.231584 157.698438)scale(0.1 -0.1)\">\n       <use xlink:href=\"#DejaVuSans-48\"/>\n      </g>\n     </g>\n    </g>\n    <g id=\"xtick_5\">\n     <g id=\"line2d_9\">\n      <path clip-path=\"url(#p85dc23e584)\" d=\"M 202.046534 143.1 \nL 202.046534 7.2 \n\" style=\"fill:none;stroke:#b0b0b0;stroke-linecap:square;stroke-width:0.8;\"/>\n     </g>\n     <g id=\"line2d_10\">\n      <g>\n       <use style=\"stroke:#000000;stroke-width:0.8;\" x=\"202.046534\" xlink:href=\"#m17a3088518\" y=\"143.1\"/>\n      </g>\n     </g>\n     <g id=\"text_5\">\n      <!-- 2 -->\n      <g transform=\"translate(198.865284 157.698438)scale(0.1 -0.1)\">\n       <use xlink:href=\"#DejaVuSans-50\"/>\n      </g>\n     </g>\n    </g>\n    <g id=\"xtick_6\">\n     <g id=\"line2d_11\">\n      <path clip-path=\"url(#p85dc23e584)\" d=\"M 234.680233 143.1 \nL 234.680233 7.2 \n\" style=\"fill:none;stroke:#b0b0b0;stroke-linecap:square;stroke-width:0.8;\"/>\n     </g>\n     <g id=\"line2d_12\">\n      <g>\n       <use style=\"stroke:#000000;stroke-width:0.8;\" x=\"234.680233\" xlink:href=\"#m17a3088518\" y=\"143.1\"/>\n      </g>\n     </g>\n     <g id=\"text_6\">\n      <!-- 4 -->\n      <g transform=\"translate(231.498983 157.698438)scale(0.1 -0.1)\">\n       <use xlink:href=\"#DejaVuSans-52\"/>\n      </g>\n     </g>\n    </g>\n    <g id=\"xtick_7\">\n     <g id=\"line2d_13\">\n      <path clip-path=\"url(#p85dc23e584)\" d=\"M 267.313932 143.1 \nL 267.313932 7.2 \n\" style=\"fill:none;stroke:#b0b0b0;stroke-linecap:square;stroke-width:0.8;\"/>\n     </g>\n     <g id=\"line2d_14\">\n      <g>\n       <use style=\"stroke:#000000;stroke-width:0.8;\" x=\"267.313932\" xlink:href=\"#m17a3088518\" y=\"143.1\"/>\n      </g>\n     </g>\n     <g id=\"text_7\">\n      <!-- 6 -->\n      <g transform=\"translate(264.132682 157.698438)scale(0.1 -0.1)\">\n       <use xlink:href=\"#DejaVuSans-54\"/>\n      </g>\n     </g>\n    </g>\n    <g id=\"text_8\">\n     <!-- x -->\n     <defs>\n      <path d=\"M 54.890625 54.6875 \nL 35.109375 28.078125 \nL 55.90625 0 \nL 45.3125 0 \nL 29.390625 21.484375 \nL 13.484375 0 \nL 2.875 0 \nL 24.125 28.609375 \nL 4.6875 54.6875 \nL 15.28125 54.6875 \nL 29.78125 35.203125 \nL 44.28125 54.6875 \nz\n\" id=\"DejaVuSans-120\"/>\n     </defs>\n     <g transform=\"translate(166.371875 171.376563)scale(0.1 -0.1)\">\n      <use xlink:href=\"#DejaVuSans-120\"/>\n     </g>\n    </g>\n   </g>\n   <g id=\"matplotlib.axis_2\">\n    <g id=\"ytick_1\">\n     <g id=\"line2d_15\">\n      <path clip-path=\"url(#p85dc23e584)\" d=\"M 43.78125 136.922727 \nL 294.88125 136.922727 \n\" style=\"fill:none;stroke:#b0b0b0;stroke-linecap:square;stroke-width:0.8;\"/>\n     </g>\n     <g id=\"line2d_16\">\n      <defs>\n       <path d=\"M 0 0 \nL -3.5 0 \n\" id=\"mc18149c7bc\" style=\"stroke:#000000;stroke-width:0.8;\"/>\n      </defs>\n      <g>\n       <use style=\"stroke:#000000;stroke-width:0.8;\" x=\"43.78125\" xlink:href=\"#mc18149c7bc\" y=\"136.922727\"/>\n      </g>\n     </g>\n     <g id=\"text_9\">\n      <!-- 0.0 -->\n      <defs>\n       <path d=\"M 10.6875 12.40625 \nL 21 12.40625 \nL 21 0 \nL 10.6875 0 \nz\n\" id=\"DejaVuSans-46\"/>\n      </defs>\n      <g transform=\"translate(20.878125 140.721946)scale(0.1 -0.1)\">\n       <use xlink:href=\"#DejaVuSans-48\"/>\n       <use x=\"63.623047\" xlink:href=\"#DejaVuSans-46\"/>\n       <use x=\"95.410156\" xlink:href=\"#DejaVuSans-48\"/>\n      </g>\n     </g>\n    </g>\n    <g id=\"ytick_2\">\n     <g id=\"line2d_17\">\n      <path clip-path=\"url(#p85dc23e584)\" d=\"M 43.78125 105.954474 \nL 294.88125 105.954474 \n\" style=\"fill:none;stroke:#b0b0b0;stroke-linecap:square;stroke-width:0.8;\"/>\n     </g>\n     <g id=\"line2d_18\">\n      <g>\n       <use style=\"stroke:#000000;stroke-width:0.8;\" x=\"43.78125\" xlink:href=\"#mc18149c7bc\" y=\"105.954474\"/>\n      </g>\n     </g>\n     <g id=\"text_10\">\n      <!-- 0.1 -->\n      <defs>\n       <path d=\"M 12.40625 8.296875 \nL 28.515625 8.296875 \nL 28.515625 63.921875 \nL 10.984375 60.40625 \nL 10.984375 69.390625 \nL 28.421875 72.90625 \nL 38.28125 72.90625 \nL 38.28125 8.296875 \nL 54.390625 8.296875 \nL 54.390625 0 \nL 12.40625 0 \nz\n\" id=\"DejaVuSans-49\"/>\n      </defs>\n      <g transform=\"translate(20.878125 109.753693)scale(0.1 -0.1)\">\n       <use xlink:href=\"#DejaVuSans-48\"/>\n       <use x=\"63.623047\" xlink:href=\"#DejaVuSans-46\"/>\n       <use x=\"95.410156\" xlink:href=\"#DejaVuSans-49\"/>\n      </g>\n     </g>\n    </g>\n    <g id=\"ytick_3\">\n     <g id=\"line2d_19\">\n      <path clip-path=\"url(#p85dc23e584)\" d=\"M 43.78125 74.986221 \nL 294.88125 74.986221 \n\" style=\"fill:none;stroke:#b0b0b0;stroke-linecap:square;stroke-width:0.8;\"/>\n     </g>\n     <g id=\"line2d_20\">\n      <g>\n       <use style=\"stroke:#000000;stroke-width:0.8;\" x=\"43.78125\" xlink:href=\"#mc18149c7bc\" y=\"74.986221\"/>\n      </g>\n     </g>\n     <g id=\"text_11\">\n      <!-- 0.2 -->\n      <g transform=\"translate(20.878125 78.78544)scale(0.1 -0.1)\">\n       <use xlink:href=\"#DejaVuSans-48\"/>\n       <use x=\"63.623047\" xlink:href=\"#DejaVuSans-46\"/>\n       <use x=\"95.410156\" xlink:href=\"#DejaVuSans-50\"/>\n      </g>\n     </g>\n    </g>\n    <g id=\"ytick_4\">\n     <g id=\"line2d_21\">\n      <path clip-path=\"url(#p85dc23e584)\" d=\"M 43.78125 44.017968 \nL 294.88125 44.017968 \n\" style=\"fill:none;stroke:#b0b0b0;stroke-linecap:square;stroke-width:0.8;\"/>\n     </g>\n     <g id=\"line2d_22\">\n      <g>\n       <use style=\"stroke:#000000;stroke-width:0.8;\" x=\"43.78125\" xlink:href=\"#mc18149c7bc\" y=\"44.017968\"/>\n      </g>\n     </g>\n     <g id=\"text_12\">\n      <!-- 0.3 -->\n      <defs>\n       <path d=\"M 40.578125 39.3125 \nQ 47.65625 37.796875 51.625 33 \nQ 55.609375 28.21875 55.609375 21.1875 \nQ 55.609375 10.40625 48.1875 4.484375 \nQ 40.765625 -1.421875 27.09375 -1.421875 \nQ 22.515625 -1.421875 17.65625 -0.515625 \nQ 12.796875 0.390625 7.625 2.203125 \nL 7.625 11.71875 \nQ 11.71875 9.328125 16.59375 8.109375 \nQ 21.484375 6.890625 26.8125 6.890625 \nQ 36.078125 6.890625 40.9375 10.546875 \nQ 45.796875 14.203125 45.796875 21.1875 \nQ 45.796875 27.640625 41.28125 31.265625 \nQ 36.765625 34.90625 28.71875 34.90625 \nL 20.21875 34.90625 \nL 20.21875 43.015625 \nL 29.109375 43.015625 \nQ 36.375 43.015625 40.234375 45.921875 \nQ 44.09375 48.828125 44.09375 54.296875 \nQ 44.09375 59.90625 40.109375 62.90625 \nQ 36.140625 65.921875 28.71875 65.921875 \nQ 24.65625 65.921875 20.015625 65.03125 \nQ 15.375 64.15625 9.8125 62.3125 \nL 9.8125 71.09375 \nQ 15.4375 72.65625 20.34375 73.4375 \nQ 25.25 74.21875 29.59375 74.21875 \nQ 40.828125 74.21875 47.359375 69.109375 \nQ 53.90625 64.015625 53.90625 55.328125 \nQ 53.90625 49.265625 50.4375 45.09375 \nQ 46.96875 40.921875 40.578125 39.3125 \nz\n\" id=\"DejaVuSans-51\"/>\n      </defs>\n      <g transform=\"translate(20.878125 47.817187)scale(0.1 -0.1)\">\n       <use xlink:href=\"#DejaVuSans-48\"/>\n       <use x=\"63.623047\" xlink:href=\"#DejaVuSans-46\"/>\n       <use x=\"95.410156\" xlink:href=\"#DejaVuSans-51\"/>\n      </g>\n     </g>\n    </g>\n    <g id=\"ytick_5\">\n     <g id=\"line2d_23\">\n      <path clip-path=\"url(#p85dc23e584)\" d=\"M 43.78125 13.049715 \nL 294.88125 13.049715 \n\" style=\"fill:none;stroke:#b0b0b0;stroke-linecap:square;stroke-width:0.8;\"/>\n     </g>\n     <g id=\"line2d_24\">\n      <g>\n       <use style=\"stroke:#000000;stroke-width:0.8;\" x=\"43.78125\" xlink:href=\"#mc18149c7bc\" y=\"13.049715\"/>\n      </g>\n     </g>\n     <g id=\"text_13\">\n      <!-- 0.4 -->\n      <g transform=\"translate(20.878125 16.848934)scale(0.1 -0.1)\">\n       <use xlink:href=\"#DejaVuSans-48\"/>\n       <use x=\"63.623047\" xlink:href=\"#DejaVuSans-46\"/>\n       <use x=\"95.410156\" xlink:href=\"#DejaVuSans-52\"/>\n      </g>\n     </g>\n    </g>\n    <g id=\"text_14\">\n     <!-- p(x) -->\n     <defs>\n      <path d=\"M 18.109375 8.203125 \nL 18.109375 -20.796875 \nL 9.078125 -20.796875 \nL 9.078125 54.6875 \nL 18.109375 54.6875 \nL 18.109375 46.390625 \nQ 20.953125 51.265625 25.265625 53.625 \nQ 29.59375 56 35.59375 56 \nQ 45.5625 56 51.78125 48.09375 \nQ 58.015625 40.1875 58.015625 27.296875 \nQ 58.015625 14.40625 51.78125 6.484375 \nQ 45.5625 -1.421875 35.59375 -1.421875 \nQ 29.59375 -1.421875 25.265625 0.953125 \nQ 20.953125 3.328125 18.109375 8.203125 \nz\nM 48.6875 27.296875 \nQ 48.6875 37.203125 44.609375 42.84375 \nQ 40.53125 48.484375 33.40625 48.484375 \nQ 26.265625 48.484375 22.1875 42.84375 \nQ 18.109375 37.203125 18.109375 27.296875 \nQ 18.109375 17.390625 22.1875 11.75 \nQ 26.265625 6.109375 33.40625 6.109375 \nQ 40.53125 6.109375 44.609375 11.75 \nQ 48.6875 17.390625 48.6875 27.296875 \nz\n\" id=\"DejaVuSans-112\"/>\n      <path d=\"M 31 75.875 \nQ 24.46875 64.65625 21.28125 53.65625 \nQ 18.109375 42.671875 18.109375 31.390625 \nQ 18.109375 20.125 21.3125 9.0625 \nQ 24.515625 -2 31 -13.1875 \nL 23.1875 -13.1875 \nQ 15.875 -1.703125 12.234375 9.375 \nQ 8.59375 20.453125 8.59375 31.390625 \nQ 8.59375 42.28125 12.203125 53.3125 \nQ 15.828125 64.359375 23.1875 75.875 \nz\n\" id=\"DejaVuSans-40\"/>\n      <path d=\"M 8.015625 75.875 \nL 15.828125 75.875 \nQ 23.140625 64.359375 26.78125 53.3125 \nQ 30.421875 42.28125 30.421875 31.390625 \nQ 30.421875 20.453125 26.78125 9.375 \nQ 23.140625 -1.703125 15.828125 -13.1875 \nL 8.015625 -13.1875 \nQ 14.5 -2 17.703125 9.0625 \nQ 20.90625 20.125 20.90625 31.390625 \nQ 20.90625 42.671875 17.703125 53.65625 \nQ 14.5 64.65625 8.015625 75.875 \nz\n\" id=\"DejaVuSans-41\"/>\n     </defs>\n     <g transform=\"translate(14.798438 85.185156)rotate(-90)scale(0.1 -0.1)\">\n      <use xlink:href=\"#DejaVuSans-112\"/>\n      <use x=\"63.476562\" xlink:href=\"#DejaVuSans-40\"/>\n      <use x=\"102.490234\" xlink:href=\"#DejaVuSans-120\"/>\n      <use x=\"161.669922\" xlink:href=\"#DejaVuSans-41\"/>\n     </g>\n    </g>\n   </g>\n   <g id=\"line2d_25\">\n    <path clip-path=\"url(#p85dc23e584)\" d=\"M 55.194886 136.922727 \nL 108.224648 136.813535 \nL 113.609208 136.566288 \nL 117.198915 136.184417 \nL 119.97278 135.668952 \nL 122.257139 135.025186 \nL 124.215161 134.257847 \nL 126.010014 133.330368 \nL 127.804868 132.138334 \nL 129.436552 130.779445 \nL 131.068237 129.113085 \nL 132.699922 127.093512 \nL 134.331607 124.67477 \nL 135.963292 121.812692 \nL 137.594977 118.467288 \nL 139.226662 114.605495 \nL 141.021516 109.733818 \nL 142.816369 104.197078 \nL 144.774391 97.412516 \nL 146.895582 89.247632 \nL 149.506278 78.224523 \nL 153.259153 61.239305 \nL 157.501534 42.275258 \nL 159.785893 33.113056 \nL 161.580746 26.820515 \nL 163.049263 22.424523 \nL 164.354611 19.173268 \nL 165.49679 16.884633 \nL 166.475801 15.362585 \nL 167.454812 14.263605 \nL 168.270655 13.679589 \nL 169.086497 13.401979 \nL 169.739171 13.401979 \nL 170.391845 13.599455 \nL 171.207688 14.122466 \nL 172.02353 14.948577 \nL 173.002541 16.331186 \nL 173.981552 18.12656 \nL 175.123732 20.717347 \nL 176.42908 24.286979 \nL 177.897596 29.000684 \nL 179.69245 35.615359 \nL 181.81364 44.367165 \nL 184.913841 58.245076 \nL 190.46157 83.161144 \nL 192.909098 93.115047 \nL 195.030288 100.899673 \nL 196.98831 107.299489 \nL 198.783164 112.473243 \nL 200.578017 116.986089 \nL 202.209702 120.534567 \nL 203.841387 123.5855 \nL 205.473072 126.176453 \nL 207.104757 128.35023 \nL 208.736442 130.152334 \nL 210.368127 131.628806 \nL 211.999812 132.824481 \nL 213.794665 133.865803 \nL 215.752687 134.73293 \nL 217.873878 135.421686 \nL 220.321405 135.97206 \nL 223.258438 136.389278 \nL 227.011314 136.67952 \nL 232.395874 136.850878 \nL 243.001826 136.917995 \nL 283.467614 136.922727 \nL 283.467614 136.922727 \n\" style=\"fill:none;stroke:#1f77b4;stroke-linecap:square;stroke-width:1.5;\"/>\n   </g>\n   <g id=\"line2d_26\">\n    <path clip-path=\"url(#p85dc23e584)\" d=\"M 55.194886 136.7876 \nL 65.800839 136.522951 \nL 73.143421 136.126434 \nL 79.017487 135.590287 \nL 83.912542 134.926494 \nL 88.318091 134.105229 \nL 92.234135 133.153577 \nL 95.823842 132.06316 \nL 99.250381 130.798749 \nL 102.51375 129.367709 \nL 105.77712 127.695008 \nL 109.04049 125.764111 \nL 112.30386 123.563438 \nL 115.56723 121.087897 \nL 118.993769 118.196043 \nL 122.583476 114.860886 \nL 126.49952 110.903144 \nL 131.068237 105.948686 \nL 138.247651 97.770807 \nL 144.611223 90.644946 \nL 148.527267 86.589675 \nL 151.790637 83.530672 \nL 154.564501 81.224436 \nL 157.175197 79.344214 \nL 159.459556 77.957408 \nL 161.743915 76.832365 \nL 163.865105 76.036198 \nL 165.823127 75.522597 \nL 167.781149 75.227168 \nL 169.739171 75.153089 \nL 171.697193 75.301158 \nL 173.655215 75.66978 \nL 175.613237 76.254995 \nL 177.734428 77.126088 \nL 179.855618 78.233161 \nL 182.139977 79.673625 \nL 184.587504 81.48006 \nL 187.361369 83.820867 \nL 190.46157 86.751111 \nL 194.051277 90.469337 \nL 198.783164 95.721751 \nL 211.673475 110.215093 \nL 215.752687 114.383393 \nL 219.505563 117.90542 \nL 222.932101 120.82526 \nL 226.195471 123.328273 \nL 229.458841 125.556324 \nL 232.722211 127.513772 \nL 235.985581 129.211619 \nL 239.248951 130.665971 \nL 242.675489 131.95258 \nL 246.265196 133.063568 \nL 250.18124 134.034481 \nL 254.423621 134.846714 \nL 259.155508 135.514669 \nL 264.540068 136.040363 \nL 270.903639 136.432354 \nL 279.225233 136.707949 \nL 283.467614 136.785216 \nL 283.467614 136.785216 \n\" style=\"fill:none;stroke:#bf00bf;stroke-dasharray:5.55,2.4;stroke-dashoffset:0;stroke-width:1.5;\"/>\n   </g>\n   <g id=\"line2d_27\">\n    <path clip-path=\"url(#p85dc23e584)\" d=\"M 55.194886 136.922727 \nL 157.175197 136.813535 \nL 162.559757 136.566288 \nL 166.149464 136.184417 \nL 168.923329 135.668952 \nL 171.207688 135.025186 \nL 173.16571 134.257847 \nL 174.960563 133.330368 \nL 176.755417 132.138334 \nL 178.387102 130.779445 \nL 180.018787 129.113085 \nL 181.650472 127.093512 \nL 183.282156 124.67477 \nL 184.913841 121.812692 \nL 186.545526 118.467288 \nL 188.177211 114.605495 \nL 189.972065 109.733818 \nL 191.766918 104.197078 \nL 193.72494 97.412516 \nL 195.846131 89.247632 \nL 198.456827 78.224523 \nL 202.209702 61.239305 \nL 206.452083 42.275258 \nL 208.736442 33.113056 \nL 210.531295 26.820515 \nL 211.999812 22.424523 \nL 213.30516 19.173268 \nL 214.447339 16.884633 \nL 215.42635 15.362585 \nL 216.405361 14.263605 \nL 217.221204 13.679589 \nL 218.037046 13.401979 \nL 218.68972 13.401979 \nL 219.342394 13.599455 \nL 220.158237 14.122466 \nL 220.974079 14.948577 \nL 221.95309 16.331186 \nL 222.932101 18.12656 \nL 224.074281 20.717347 \nL 225.379629 24.286979 \nL 226.848145 29.000684 \nL 228.642999 35.615359 \nL 230.764189 44.367165 \nL 233.864391 58.245076 \nL 239.412119 83.161144 \nL 241.859647 93.115047 \nL 243.980837 100.899673 \nL 245.938859 107.299489 \nL 247.733713 112.473243 \nL 249.528566 116.986089 \nL 251.160251 120.534567 \nL 252.791936 123.5855 \nL 254.423621 126.176453 \nL 256.055306 128.35023 \nL 257.686991 130.152334 \nL 259.318676 131.628806 \nL 260.950361 132.824481 \nL 262.745215 133.865803 \nL 264.703236 134.73293 \nL 266.824427 135.421686 \nL 269.271954 135.97206 \nL 272.208987 136.389278 \nL 275.961863 136.67952 \nL 281.346423 136.850878 \nL 283.467614 136.879593 \nL 283.467614 136.879593 \n\" style=\"fill:none;stroke:#008000;stroke-dasharray:9.6,2.4,1.5,2.4;stroke-dashoffset:0;stroke-width:1.5;\"/>\n   </g>\n   <g id=\"patch_3\">\n    <path d=\"M 43.78125 143.1 \nL 43.78125 7.2 \n\" style=\"fill:none;stroke:#000000;stroke-linecap:square;stroke-linejoin:miter;stroke-width:0.8;\"/>\n   </g>\n   <g id=\"patch_4\">\n    <path d=\"M 294.88125 143.1 \nL 294.88125 7.2 \n\" style=\"fill:none;stroke:#000000;stroke-linecap:square;stroke-linejoin:miter;stroke-width:0.8;\"/>\n   </g>\n   <g id=\"patch_5\">\n    <path d=\"M 43.78125 143.1 \nL 294.88125 143.1 \n\" style=\"fill:none;stroke:#000000;stroke-linecap:square;stroke-linejoin:miter;stroke-width:0.8;\"/>\n   </g>\n   <g id=\"patch_6\">\n    <path d=\"M 43.78125 7.2 \nL 294.88125 7.2 \n\" style=\"fill:none;stroke:#000000;stroke-linecap:square;stroke-linejoin:miter;stroke-width:0.8;\"/>\n   </g>\n   <g id=\"legend_1\">\n    <g id=\"patch_7\">\n     <path d=\"M 50.78125 59.234375 \nL 152.05625 59.234375 \nQ 154.05625 59.234375 154.05625 57.234375 \nL 154.05625 14.2 \nQ 154.05625 12.2 152.05625 12.2 \nL 50.78125 12.2 \nQ 48.78125 12.2 48.78125 14.2 \nL 48.78125 57.234375 \nQ 48.78125 59.234375 50.78125 59.234375 \nz\n\" style=\"fill:#ffffff;opacity:0.8;stroke:#cccccc;stroke-linejoin:miter;\"/>\n    </g>\n    <g id=\"line2d_28\">\n     <path d=\"M 52.78125 20.298438 \nL 72.78125 20.298438 \n\" style=\"fill:none;stroke:#1f77b4;stroke-linecap:square;stroke-width:1.5;\"/>\n    </g>\n    <g id=\"line2d_29\"/>\n    <g id=\"text_15\">\n     <!-- mean 0, std 1 -->\n     <defs>\n      <path d=\"M 52 44.1875 \nQ 55.375 50.25 60.0625 53.125 \nQ 64.75 56 71.09375 56 \nQ 79.640625 56 84.28125 50.015625 \nQ 88.921875 44.046875 88.921875 33.015625 \nL 88.921875 0 \nL 79.890625 0 \nL 79.890625 32.71875 \nQ 79.890625 40.578125 77.09375 44.375 \nQ 74.3125 48.1875 68.609375 48.1875 \nQ 61.625 48.1875 57.5625 43.546875 \nQ 53.515625 38.921875 53.515625 30.90625 \nL 53.515625 0 \nL 44.484375 0 \nL 44.484375 32.71875 \nQ 44.484375 40.625 41.703125 44.40625 \nQ 38.921875 48.1875 33.109375 48.1875 \nQ 26.21875 48.1875 22.15625 43.53125 \nQ 18.109375 38.875 18.109375 30.90625 \nL 18.109375 0 \nL 9.078125 0 \nL 9.078125 54.6875 \nL 18.109375 54.6875 \nL 18.109375 46.1875 \nQ 21.1875 51.21875 25.484375 53.609375 \nQ 29.78125 56 35.6875 56 \nQ 41.65625 56 45.828125 52.96875 \nQ 50 49.953125 52 44.1875 \nz\n\" id=\"DejaVuSans-109\"/>\n      <path d=\"M 56.203125 29.59375 \nL 56.203125 25.203125 \nL 14.890625 25.203125 \nQ 15.484375 15.921875 20.484375 11.0625 \nQ 25.484375 6.203125 34.421875 6.203125 \nQ 39.59375 6.203125 44.453125 7.46875 \nQ 49.3125 8.734375 54.109375 11.28125 \nL 54.109375 2.78125 \nQ 49.265625 0.734375 44.1875 -0.34375 \nQ 39.109375 -1.421875 33.890625 -1.421875 \nQ 20.796875 -1.421875 13.15625 6.1875 \nQ 5.515625 13.8125 5.515625 26.8125 \nQ 5.515625 40.234375 12.765625 48.109375 \nQ 20.015625 56 32.328125 56 \nQ 43.359375 56 49.78125 48.890625 \nQ 56.203125 41.796875 56.203125 29.59375 \nz\nM 47.21875 32.234375 \nQ 47.125 39.59375 43.09375 43.984375 \nQ 39.0625 48.390625 32.421875 48.390625 \nQ 24.90625 48.390625 20.390625 44.140625 \nQ 15.875 39.890625 15.1875 32.171875 \nz\n\" id=\"DejaVuSans-101\"/>\n      <path d=\"M 34.28125 27.484375 \nQ 23.390625 27.484375 19.1875 25 \nQ 14.984375 22.515625 14.984375 16.5 \nQ 14.984375 11.71875 18.140625 8.90625 \nQ 21.296875 6.109375 26.703125 6.109375 \nQ 34.1875 6.109375 38.703125 11.40625 \nQ 43.21875 16.703125 43.21875 25.484375 \nL 43.21875 27.484375 \nz\nM 52.203125 31.203125 \nL 52.203125 0 \nL 43.21875 0 \nL 43.21875 8.296875 \nQ 40.140625 3.328125 35.546875 0.953125 \nQ 30.953125 -1.421875 24.3125 -1.421875 \nQ 15.921875 -1.421875 10.953125 3.296875 \nQ 6 8.015625 6 15.921875 \nQ 6 25.140625 12.171875 29.828125 \nQ 18.359375 34.515625 30.609375 34.515625 \nL 43.21875 34.515625 \nL 43.21875 35.40625 \nQ 43.21875 41.609375 39.140625 45 \nQ 35.0625 48.390625 27.6875 48.390625 \nQ 23 48.390625 18.546875 47.265625 \nQ 14.109375 46.140625 10.015625 43.890625 \nL 10.015625 52.203125 \nQ 14.9375 54.109375 19.578125 55.046875 \nQ 24.21875 56 28.609375 56 \nQ 40.484375 56 46.34375 49.84375 \nQ 52.203125 43.703125 52.203125 31.203125 \nz\n\" id=\"DejaVuSans-97\"/>\n      <path d=\"M 54.890625 33.015625 \nL 54.890625 0 \nL 45.90625 0 \nL 45.90625 32.71875 \nQ 45.90625 40.484375 42.875 44.328125 \nQ 39.84375 48.1875 33.796875 48.1875 \nQ 26.515625 48.1875 22.3125 43.546875 \nQ 18.109375 38.921875 18.109375 30.90625 \nL 18.109375 0 \nL 9.078125 0 \nL 9.078125 54.6875 \nL 18.109375 54.6875 \nL 18.109375 46.1875 \nQ 21.34375 51.125 25.703125 53.5625 \nQ 30.078125 56 35.796875 56 \nQ 45.21875 56 50.046875 50.171875 \nQ 54.890625 44.34375 54.890625 33.015625 \nz\n\" id=\"DejaVuSans-110\"/>\n      <path id=\"DejaVuSans-32\"/>\n      <path d=\"M 11.71875 12.40625 \nL 22.015625 12.40625 \nL 22.015625 4 \nL 14.015625 -11.625 \nL 7.71875 -11.625 \nL 11.71875 4 \nz\n\" id=\"DejaVuSans-44\"/>\n      <path d=\"M 44.28125 53.078125 \nL 44.28125 44.578125 \nQ 40.484375 46.53125 36.375 47.5 \nQ 32.28125 48.484375 27.875 48.484375 \nQ 21.1875 48.484375 17.84375 46.4375 \nQ 14.5 44.390625 14.5 40.28125 \nQ 14.5 37.15625 16.890625 35.375 \nQ 19.28125 33.59375 26.515625 31.984375 \nL 29.59375 31.296875 \nQ 39.15625 29.25 43.1875 25.515625 \nQ 47.21875 21.78125 47.21875 15.09375 \nQ 47.21875 7.46875 41.1875 3.015625 \nQ 35.15625 -1.421875 24.609375 -1.421875 \nQ 20.21875 -1.421875 15.453125 -0.5625 \nQ 10.6875 0.296875 5.421875 2 \nL 5.421875 11.28125 \nQ 10.40625 8.6875 15.234375 7.390625 \nQ 20.0625 6.109375 24.8125 6.109375 \nQ 31.15625 6.109375 34.5625 8.28125 \nQ 37.984375 10.453125 37.984375 14.40625 \nQ 37.984375 18.0625 35.515625 20.015625 \nQ 33.0625 21.96875 24.703125 23.78125 \nL 21.578125 24.515625 \nQ 13.234375 26.265625 9.515625 29.90625 \nQ 5.8125 33.546875 5.8125 39.890625 \nQ 5.8125 47.609375 11.28125 51.796875 \nQ 16.75 56 26.8125 56 \nQ 31.78125 56 36.171875 55.265625 \nQ 40.578125 54.546875 44.28125 53.078125 \nz\n\" id=\"DejaVuSans-115\"/>\n      <path d=\"M 18.3125 70.21875 \nL 18.3125 54.6875 \nL 36.8125 54.6875 \nL 36.8125 47.703125 \nL 18.3125 47.703125 \nL 18.3125 18.015625 \nQ 18.3125 11.328125 20.140625 9.421875 \nQ 21.96875 7.515625 27.59375 7.515625 \nL 36.8125 7.515625 \nL 36.8125 0 \nL 27.59375 0 \nQ 17.1875 0 13.234375 3.875 \nQ 9.28125 7.765625 9.28125 18.015625 \nL 9.28125 47.703125 \nL 2.6875 47.703125 \nL 2.6875 54.6875 \nL 9.28125 54.6875 \nL 9.28125 70.21875 \nz\n\" id=\"DejaVuSans-116\"/>\n      <path d=\"M 45.40625 46.390625 \nL 45.40625 75.984375 \nL 54.390625 75.984375 \nL 54.390625 0 \nL 45.40625 0 \nL 45.40625 8.203125 \nQ 42.578125 3.328125 38.25 0.953125 \nQ 33.9375 -1.421875 27.875 -1.421875 \nQ 17.96875 -1.421875 11.734375 6.484375 \nQ 5.515625 14.40625 5.515625 27.296875 \nQ 5.515625 40.1875 11.734375 48.09375 \nQ 17.96875 56 27.875 56 \nQ 33.9375 56 38.25 53.625 \nQ 42.578125 51.265625 45.40625 46.390625 \nz\nM 14.796875 27.296875 \nQ 14.796875 17.390625 18.875 11.75 \nQ 22.953125 6.109375 30.078125 6.109375 \nQ 37.203125 6.109375 41.296875 11.75 \nQ 45.40625 17.390625 45.40625 27.296875 \nQ 45.40625 37.203125 41.296875 42.84375 \nQ 37.203125 48.484375 30.078125 48.484375 \nQ 22.953125 48.484375 18.875 42.84375 \nQ 14.796875 37.203125 14.796875 27.296875 \nz\n\" id=\"DejaVuSans-100\"/>\n     </defs>\n     <g transform=\"translate(80.78125 23.798438)scale(0.1 -0.1)\">\n      <use xlink:href=\"#DejaVuSans-109\"/>\n      <use x=\"97.412109\" xlink:href=\"#DejaVuSans-101\"/>\n      <use x=\"158.935547\" xlink:href=\"#DejaVuSans-97\"/>\n      <use x=\"220.214844\" xlink:href=\"#DejaVuSans-110\"/>\n      <use x=\"283.59375\" xlink:href=\"#DejaVuSans-32\"/>\n      <use x=\"315.380859\" xlink:href=\"#DejaVuSans-48\"/>\n      <use x=\"379.003906\" xlink:href=\"#DejaVuSans-44\"/>\n      <use x=\"410.791016\" xlink:href=\"#DejaVuSans-32\"/>\n      <use x=\"442.578125\" xlink:href=\"#DejaVuSans-115\"/>\n      <use x=\"494.677734\" xlink:href=\"#DejaVuSans-116\"/>\n      <use x=\"533.886719\" xlink:href=\"#DejaVuSans-100\"/>\n      <use x=\"597.363281\" xlink:href=\"#DejaVuSans-32\"/>\n      <use x=\"629.150391\" xlink:href=\"#DejaVuSans-49\"/>\n     </g>\n    </g>\n    <g id=\"line2d_30\">\n     <path d=\"M 52.78125 34.976562 \nL 72.78125 34.976562 \n\" style=\"fill:none;stroke:#bf00bf;stroke-dasharray:5.55,2.4;stroke-dashoffset:0;stroke-width:1.5;\"/>\n    </g>\n    <g id=\"line2d_31\"/>\n    <g id=\"text_16\">\n     <!-- mean 0, std 2 -->\n     <g transform=\"translate(80.78125 38.476562)scale(0.1 -0.1)\">\n      <use xlink:href=\"#DejaVuSans-109\"/>\n      <use x=\"97.412109\" xlink:href=\"#DejaVuSans-101\"/>\n      <use x=\"158.935547\" xlink:href=\"#DejaVuSans-97\"/>\n      <use x=\"220.214844\" xlink:href=\"#DejaVuSans-110\"/>\n      <use x=\"283.59375\" xlink:href=\"#DejaVuSans-32\"/>\n      <use x=\"315.380859\" xlink:href=\"#DejaVuSans-48\"/>\n      <use x=\"379.003906\" xlink:href=\"#DejaVuSans-44\"/>\n      <use x=\"410.791016\" xlink:href=\"#DejaVuSans-32\"/>\n      <use x=\"442.578125\" xlink:href=\"#DejaVuSans-115\"/>\n      <use x=\"494.677734\" xlink:href=\"#DejaVuSans-116\"/>\n      <use x=\"533.886719\" xlink:href=\"#DejaVuSans-100\"/>\n      <use x=\"597.363281\" xlink:href=\"#DejaVuSans-32\"/>\n      <use x=\"629.150391\" xlink:href=\"#DejaVuSans-50\"/>\n     </g>\n    </g>\n    <g id=\"line2d_32\">\n     <path d=\"M 52.78125 49.654688 \nL 72.78125 49.654688 \n\" style=\"fill:none;stroke:#008000;stroke-dasharray:9.6,2.4,1.5,2.4;stroke-dashoffset:0;stroke-width:1.5;\"/>\n    </g>\n    <g id=\"line2d_33\"/>\n    <g id=\"text_17\">\n     <!-- mean 3, std 1 -->\n     <g transform=\"translate(80.78125 53.154688)scale(0.1 -0.1)\">\n      <use xlink:href=\"#DejaVuSans-109\"/>\n      <use x=\"97.412109\" xlink:href=\"#DejaVuSans-101\"/>\n      <use x=\"158.935547\" xlink:href=\"#DejaVuSans-97\"/>\n      <use x=\"220.214844\" xlink:href=\"#DejaVuSans-110\"/>\n      <use x=\"283.59375\" xlink:href=\"#DejaVuSans-32\"/>\n      <use x=\"315.380859\" xlink:href=\"#DejaVuSans-51\"/>\n      <use x=\"379.003906\" xlink:href=\"#DejaVuSans-44\"/>\n      <use x=\"410.791016\" xlink:href=\"#DejaVuSans-32\"/>\n      <use x=\"442.578125\" xlink:href=\"#DejaVuSans-115\"/>\n      <use x=\"494.677734\" xlink:href=\"#DejaVuSans-116\"/>\n      <use x=\"533.886719\" xlink:href=\"#DejaVuSans-100\"/>\n      <use x=\"597.363281\" xlink:href=\"#DejaVuSans-32\"/>\n      <use x=\"629.150391\" xlink:href=\"#DejaVuSans-49\"/>\n     </g>\n    </g>\n   </g>\n  </g>\n </g>\n <defs>\n  <clipPath id=\"p85dc23e584\">\n   <rect height=\"135.9\" width=\"251.1\" x=\"43.78125\" y=\"7.2\"/>\n  </clipPath>\n </defs>\n</svg>\n"
          },
          "metadata": {
            "needs_background": "light"
          }
        }
      ]
    },
    {
      "cell_type": "code",
      "source": [
        "%matplotlib inline\n",
        "import random\n",
        "import torch\n",
        "from d2l import torch as d2l"
      ],
      "metadata": {
        "id": "Nl-6CARz5-lV"
      },
      "execution_count": 10,
      "outputs": []
    },
    {
      "cell_type": "code",
      "source": [
        "def synthetic_data(w, b, num_examples): \n",
        "    \"\"\"Generate y = Xw + b + noise.\"\"\"\n",
        "    X = torch.normal(0, 1, (num_examples, len(w)))\n",
        "    y = torch.matmul(X, w) + b\n",
        "    y += torch.normal(0, 0.01, y.shape)\n",
        "    return X, y.reshape((-1, 1))\n",
        "\n",
        "true_w = torch.tensor([2, -3.4])\n",
        "true_b = 4.2\n",
        "features, labels = synthetic_data(true_w, true_b, 1000)"
      ],
      "metadata": {
        "id": "xIgzw_TS6C0Q"
      },
      "execution_count": 11,
      "outputs": []
    },
    {
      "cell_type": "code",
      "source": [
        "print('features:', features[0],'\\nlabel:', labels[0])"
      ],
      "metadata": {
        "colab": {
          "base_uri": "https://localhost:8080/"
        },
        "id": "mTmRcF196FdZ",
        "outputId": "d14d6b4d-2278-43d9-b655-a6d8b94b71d7"
      },
      "execution_count": 12,
      "outputs": [
        {
          "output_type": "stream",
          "name": "stdout",
          "text": [
            "features: tensor([ 2.4567, -0.5942]) \n",
            "label: tensor([11.1357])\n"
          ]
        }
      ]
    },
    {
      "cell_type": "code",
      "source": [
        "d2l.set_figsize()\n",
        "# The semicolon is for displaying the plot only\n",
        "d2l.plt.scatter(features[:, (1)].detach().numpy(), labels.detach().numpy(), 1);"
      ],
      "metadata": {
        "colab": {
          "base_uri": "https://localhost:8080/",
          "height": 244
        },
        "id": "vJQc_hBO6H6q",
        "outputId": "1765f1bb-2834-4f36-d909-e2697788273c"
      },
      "execution_count": 13,
      "outputs": [
        {
          "output_type": "display_data",
          "data": {
            "text/plain": [
              "<Figure size 252x180 with 1 Axes>"
            ],
            "image/svg+xml": "<?xml version=\"1.0\" encoding=\"utf-8\" standalone=\"no\"?>\n<!DOCTYPE svg PUBLIC \"-//W3C//DTD SVG 1.1//EN\"\n  \"http://www.w3.org/Graphics/SVG/1.1/DTD/svg11.dtd\">\n<!-- Created with matplotlib (https://matplotlib.org/) -->\n<svg height=\"166.978125pt\" version=\"1.1\" viewBox=\"0 0 237.804688 166.978125\" width=\"237.804688pt\" xmlns=\"http://www.w3.org/2000/svg\" xmlns:xlink=\"http://www.w3.org/1999/xlink\">\n <defs>\n  <style type=\"text/css\">\n*{stroke-linecap:butt;stroke-linejoin:round;}\n  </style>\n </defs>\n <g id=\"figure_1\">\n  <g id=\"patch_1\">\n   <path d=\"M 0 166.978125 \nL 237.804688 166.978125 \nL 237.804688 0 \nL 0 0 \nz\n\" style=\"fill:none;\"/>\n  </g>\n  <g id=\"axes_1\">\n   <g id=\"patch_2\">\n    <path d=\"M 35.304688 143.1 \nL 230.604688 143.1 \nL 230.604688 7.2 \nL 35.304688 7.2 \nz\n\" style=\"fill:#ffffff;\"/>\n   </g>\n   <g id=\"PathCollection_1\">\n    <defs>\n     <path d=\"M 0 0.5 \nC 0.132602 0.5 0.25979 0.447317 0.353553 0.353553 \nC 0.447317 0.25979 0.5 0.132602 0.5 0 \nC 0.5 -0.132602 0.447317 -0.25979 0.353553 -0.353553 \nC 0.25979 -0.447317 0.132602 -0.5 0 -0.5 \nC -0.132602 -0.5 -0.25979 -0.447317 -0.353553 -0.353553 \nC -0.447317 -0.25979 -0.5 -0.132602 -0.5 0 \nC -0.5 0.132602 -0.447317 0.25979 -0.353553 0.353553 \nC -0.25979 0.447317 -0.132602 0.5 0 0.5 \nz\n\" id=\"m1493b95335\" style=\"stroke:#1f77b4;\"/>\n    </defs>\n    <g clip-path=\"url(#p0333ba0eae)\">\n     <use style=\"fill:#1f77b4;stroke:#1f77b4;\" x=\"119.882971\" xlink:href=\"#m1493b95335\" y=\"38.385518\"/>\n     <use style=\"fill:#1f77b4;stroke:#1f77b4;\" x=\"116.328704\" xlink:href=\"#m1493b95335\" y=\"59.105678\"/>\n     <use style=\"fill:#1f77b4;stroke:#1f77b4;\" x=\"97.915304\" xlink:href=\"#m1493b95335\" y=\"38.976748\"/>\n     <use style=\"fill:#1f77b4;stroke:#1f77b4;\" x=\"76.842764\" xlink:href=\"#m1493b95335\" y=\"41.903749\"/>\n     <use style=\"fill:#1f77b4;stroke:#1f77b4;\" x=\"138.860332\" xlink:href=\"#m1493b95335\" y=\"92.412307\"/>\n     <use style=\"fill:#1f77b4;stroke:#1f77b4;\" x=\"122.587482\" xlink:href=\"#m1493b95335\" y=\"68.848195\"/>\n     <use style=\"fill:#1f77b4;stroke:#1f77b4;\" x=\"167.021238\" xlink:href=\"#m1493b95335\" y=\"93.93663\"/>\n     <use style=\"fill:#1f77b4;stroke:#1f77b4;\" x=\"132.299771\" xlink:href=\"#m1493b95335\" y=\"74.212118\"/>\n     <use style=\"fill:#1f77b4;stroke:#1f77b4;\" x=\"157.234861\" xlink:href=\"#m1493b95335\" y=\"92.784923\"/>\n     <use style=\"fill:#1f77b4;stroke:#1f77b4;\" x=\"150.094306\" xlink:href=\"#m1493b95335\" y=\"72.489946\"/>\n     <use style=\"fill:#1f77b4;stroke:#1f77b4;\" x=\"133.807964\" xlink:href=\"#m1493b95335\" y=\"56.900328\"/>\n     <use style=\"fill:#1f77b4;stroke:#1f77b4;\" x=\"130.450551\" xlink:href=\"#m1493b95335\" y=\"49.744121\"/>\n     <use style=\"fill:#1f77b4;stroke:#1f77b4;\" x=\"105.314379\" xlink:href=\"#m1493b95335\" y=\"59.639231\"/>\n     <use style=\"fill:#1f77b4;stroke:#1f77b4;\" x=\"90.462013\" xlink:href=\"#m1493b95335\" y=\"51.367735\"/>\n     <use style=\"fill:#1f77b4;stroke:#1f77b4;\" x=\"137.986898\" xlink:href=\"#m1493b95335\" y=\"75.726834\"/>\n     <use style=\"fill:#1f77b4;stroke:#1f77b4;\" x=\"137.26088\" xlink:href=\"#m1493b95335\" y=\"69.154348\"/>\n     <use style=\"fill:#1f77b4;stroke:#1f77b4;\" x=\"121.409159\" xlink:href=\"#m1493b95335\" y=\"64.023058\"/>\n     <use style=\"fill:#1f77b4;stroke:#1f77b4;\" x=\"150.333388\" xlink:href=\"#m1493b95335\" y=\"83.400609\"/>\n     <use style=\"fill:#1f77b4;stroke:#1f77b4;\" x=\"130.031048\" xlink:href=\"#m1493b95335\" y=\"71.133473\"/>\n     <use style=\"fill:#1f77b4;stroke:#1f77b4;\" x=\"124.021495\" xlink:href=\"#m1493b95335\" y=\"71.952193\"/>\n     <use style=\"fill:#1f77b4;stroke:#1f77b4;\" x=\"105.3306\" xlink:href=\"#m1493b95335\" y=\"49.13804\"/>\n     <use style=\"fill:#1f77b4;stroke:#1f77b4;\" x=\"189.278303\" xlink:href=\"#m1493b95335\" y=\"96.128365\"/>\n     <use style=\"fill:#1f77b4;stroke:#1f77b4;\" x=\"146.053784\" xlink:href=\"#m1493b95335\" y=\"62.781742\"/>\n     <use style=\"fill:#1f77b4;stroke:#1f77b4;\" x=\"110.455065\" xlink:href=\"#m1493b95335\" y=\"49.53367\"/>\n     <use style=\"fill:#1f77b4;stroke:#1f77b4;\" x=\"63.687927\" xlink:href=\"#m1493b95335\" y=\"32.432423\"/>\n     <use style=\"fill:#1f77b4;stroke:#1f77b4;\" x=\"81.579915\" xlink:href=\"#m1493b95335\" y=\"38.134788\"/>\n     <use style=\"fill:#1f77b4;stroke:#1f77b4;\" x=\"101.827183\" xlink:href=\"#m1493b95335\" y=\"62.254738\"/>\n     <use style=\"fill:#1f77b4;stroke:#1f77b4;\" x=\"133.58974\" xlink:href=\"#m1493b95335\" y=\"63.319542\"/>\n     <use style=\"fill:#1f77b4;stroke:#1f77b4;\" x=\"176.467634\" xlink:href=\"#m1493b95335\" y=\"85.077848\"/>\n     <use style=\"fill:#1f77b4;stroke:#1f77b4;\" x=\"126.197731\" xlink:href=\"#m1493b95335\" y=\"56.824827\"/>\n     <use style=\"fill:#1f77b4;stroke:#1f77b4;\" x=\"132.09774\" xlink:href=\"#m1493b95335\" y=\"86.65502\"/>\n     <use style=\"fill:#1f77b4;stroke:#1f77b4;\" x=\"135.592693\" xlink:href=\"#m1493b95335\" y=\"67.943138\"/>\n     <use style=\"fill:#1f77b4;stroke:#1f77b4;\" x=\"133.311903\" xlink:href=\"#m1493b95335\" y=\"44.205215\"/>\n     <use style=\"fill:#1f77b4;stroke:#1f77b4;\" x=\"104.916541\" xlink:href=\"#m1493b95335\" y=\"67.664498\"/>\n     <use style=\"fill:#1f77b4;stroke:#1f77b4;\" x=\"115.701555\" xlink:href=\"#m1493b95335\" y=\"66.133041\"/>\n     <use style=\"fill:#1f77b4;stroke:#1f77b4;\" x=\"108.907656\" xlink:href=\"#m1493b95335\" y=\"38.821123\"/>\n     <use style=\"fill:#1f77b4;stroke:#1f77b4;\" x=\"153.60134\" xlink:href=\"#m1493b95335\" y=\"76.54614\"/>\n     <use style=\"fill:#1f77b4;stroke:#1f77b4;\" x=\"84.97026\" xlink:href=\"#m1493b95335\" y=\"55.824061\"/>\n     <use style=\"fill:#1f77b4;stroke:#1f77b4;\" x=\"184.822393\" xlink:href=\"#m1493b95335\" y=\"95.232559\"/>\n     <use style=\"fill:#1f77b4;stroke:#1f77b4;\" x=\"146.088222\" xlink:href=\"#m1493b95335\" y=\"75.442221\"/>\n     <use style=\"fill:#1f77b4;stroke:#1f77b4;\" x=\"151.946439\" xlink:href=\"#m1493b95335\" y=\"72.574122\"/>\n     <use style=\"fill:#1f77b4;stroke:#1f77b4;\" x=\"150.510801\" xlink:href=\"#m1493b95335\" y=\"77.306155\"/>\n     <use style=\"fill:#1f77b4;stroke:#1f77b4;\" x=\"127.045634\" xlink:href=\"#m1493b95335\" y=\"63.904549\"/>\n     <use style=\"fill:#1f77b4;stroke:#1f77b4;\" x=\"103.682731\" xlink:href=\"#m1493b95335\" y=\"36.827126\"/>\n     <use style=\"fill:#1f77b4;stroke:#1f77b4;\" x=\"162.822908\" xlink:href=\"#m1493b95335\" y=\"84.664069\"/>\n     <use style=\"fill:#1f77b4;stroke:#1f77b4;\" x=\"172.023273\" xlink:href=\"#m1493b95335\" y=\"98.658059\"/>\n     <use style=\"fill:#1f77b4;stroke:#1f77b4;\" x=\"88.751852\" xlink:href=\"#m1493b95335\" y=\"44.069469\"/>\n     <use style=\"fill:#1f77b4;stroke:#1f77b4;\" x=\"169.365149\" xlink:href=\"#m1493b95335\" y=\"81.136261\"/>\n     <use style=\"fill:#1f77b4;stroke:#1f77b4;\" x=\"74.60325\" xlink:href=\"#m1493b95335\" y=\"21.10894\"/>\n     <use style=\"fill:#1f77b4;stroke:#1f77b4;\" x=\"174.14349\" xlink:href=\"#m1493b95335\" y=\"111.812341\"/>\n     <use style=\"fill:#1f77b4;stroke:#1f77b4;\" x=\"147.763261\" xlink:href=\"#m1493b95335\" y=\"67.079392\"/>\n     <use style=\"fill:#1f77b4;stroke:#1f77b4;\" x=\"71.861729\" xlink:href=\"#m1493b95335\" y=\"16.377337\"/>\n     <use style=\"fill:#1f77b4;stroke:#1f77b4;\" x=\"113.226948\" xlink:href=\"#m1493b95335\" y=\"46.210178\"/>\n     <use style=\"fill:#1f77b4;stroke:#1f77b4;\" x=\"136.269033\" xlink:href=\"#m1493b95335\" y=\"60.263588\"/>\n     <use style=\"fill:#1f77b4;stroke:#1f77b4;\" x=\"142.884346\" xlink:href=\"#m1493b95335\" y=\"66.688949\"/>\n     <use style=\"fill:#1f77b4;stroke:#1f77b4;\" x=\"114.99889\" xlink:href=\"#m1493b95335\" y=\"51.272471\"/>\n     <use style=\"fill:#1f77b4;stroke:#1f77b4;\" x=\"151.582893\" xlink:href=\"#m1493b95335\" y=\"57.643518\"/>\n     <use style=\"fill:#1f77b4;stroke:#1f77b4;\" x=\"74.495414\" xlink:href=\"#m1493b95335\" y=\"16.950583\"/>\n     <use style=\"fill:#1f77b4;stroke:#1f77b4;\" x=\"122.816153\" xlink:href=\"#m1493b95335\" y=\"65.118917\"/>\n     <use style=\"fill:#1f77b4;stroke:#1f77b4;\" x=\"120.369486\" xlink:href=\"#m1493b95335\" y=\"61.522958\"/>\n     <use style=\"fill:#1f77b4;stroke:#1f77b4;\" x=\"128.706385\" xlink:href=\"#m1493b95335\" y=\"76.510716\"/>\n     <use style=\"fill:#1f77b4;stroke:#1f77b4;\" x=\"137.785694\" xlink:href=\"#m1493b95335\" y=\"71.848844\"/>\n     <use style=\"fill:#1f77b4;stroke:#1f77b4;\" x=\"145.01632\" xlink:href=\"#m1493b95335\" y=\"59.034725\"/>\n     <use style=\"fill:#1f77b4;stroke:#1f77b4;\" x=\"132.907806\" xlink:href=\"#m1493b95335\" y=\"60.064445\"/>\n     <use style=\"fill:#1f77b4;stroke:#1f77b4;\" x=\"129.31302\" xlink:href=\"#m1493b95335\" y=\"88.541948\"/>\n     <use style=\"fill:#1f77b4;stroke:#1f77b4;\" x=\"165.124202\" xlink:href=\"#m1493b95335\" y=\"85.847983\"/>\n     <use style=\"fill:#1f77b4;stroke:#1f77b4;\" x=\"124.42102\" xlink:href=\"#m1493b95335\" y=\"55.835787\"/>\n     <use style=\"fill:#1f77b4;stroke:#1f77b4;\" x=\"118.235294\" xlink:href=\"#m1493b95335\" y=\"63.289009\"/>\n     <use style=\"fill:#1f77b4;stroke:#1f77b4;\" x=\"162.319459\" xlink:href=\"#m1493b95335\" y=\"78.694466\"/>\n     <use style=\"fill:#1f77b4;stroke:#1f77b4;\" x=\"168.471313\" xlink:href=\"#m1493b95335\" y=\"82.151654\"/>\n     <use style=\"fill:#1f77b4;stroke:#1f77b4;\" x=\"99.307083\" xlink:href=\"#m1493b95335\" y=\"53.754727\"/>\n     <use style=\"fill:#1f77b4;stroke:#1f77b4;\" x=\"113.369075\" xlink:href=\"#m1493b95335\" y=\"69.137434\"/>\n     <use style=\"fill:#1f77b4;stroke:#1f77b4;\" x=\"121.376656\" xlink:href=\"#m1493b95335\" y=\"68.065658\"/>\n     <use style=\"fill:#1f77b4;stroke:#1f77b4;\" x=\"127.229682\" xlink:href=\"#m1493b95335\" y=\"65.106802\"/>\n     <use style=\"fill:#1f77b4;stroke:#1f77b4;\" x=\"159.703489\" xlink:href=\"#m1493b95335\" y=\"77.745411\"/>\n     <use style=\"fill:#1f77b4;stroke:#1f77b4;\" x=\"166.986182\" xlink:href=\"#m1493b95335\" y=\"86.354023\"/>\n     <use style=\"fill:#1f77b4;stroke:#1f77b4;\" x=\"153.471461\" xlink:href=\"#m1493b95335\" y=\"84.870624\"/>\n     <use style=\"fill:#1f77b4;stroke:#1f77b4;\" x=\"128.697334\" xlink:href=\"#m1493b95335\" y=\"75.947946\"/>\n     <use style=\"fill:#1f77b4;stroke:#1f77b4;\" x=\"156.890654\" xlink:href=\"#m1493b95335\" y=\"77.429552\"/>\n     <use style=\"fill:#1f77b4;stroke:#1f77b4;\" x=\"137.199981\" xlink:href=\"#m1493b95335\" y=\"75.522057\"/>\n     <use style=\"fill:#1f77b4;stroke:#1f77b4;\" x=\"175.125793\" xlink:href=\"#m1493b95335\" y=\"100.795164\"/>\n     <use style=\"fill:#1f77b4;stroke:#1f77b4;\" x=\"148.205494\" xlink:href=\"#m1493b95335\" y=\"86.879067\"/>\n     <use style=\"fill:#1f77b4;stroke:#1f77b4;\" x=\"163.795603\" xlink:href=\"#m1493b95335\" y=\"78.232398\"/>\n     <use style=\"fill:#1f77b4;stroke:#1f77b4;\" x=\"150.1219\" xlink:href=\"#m1493b95335\" y=\"57.008521\"/>\n     <use style=\"fill:#1f77b4;stroke:#1f77b4;\" x=\"180.491816\" xlink:href=\"#m1493b95335\" y=\"95.050471\"/>\n     <use style=\"fill:#1f77b4;stroke:#1f77b4;\" x=\"116.945642\" xlink:href=\"#m1493b95335\" y=\"53.379591\"/>\n     <use style=\"fill:#1f77b4;stroke:#1f77b4;\" x=\"134.756058\" xlink:href=\"#m1493b95335\" y=\"70.981919\"/>\n     <use style=\"fill:#1f77b4;stroke:#1f77b4;\" x=\"132.91838\" xlink:href=\"#m1493b95335\" y=\"68.899889\"/>\n     <use style=\"fill:#1f77b4;stroke:#1f77b4;\" x=\"133.872958\" xlink:href=\"#m1493b95335\" y=\"71.156133\"/>\n     <use style=\"fill:#1f77b4;stroke:#1f77b4;\" x=\"92.464853\" xlink:href=\"#m1493b95335\" y=\"49.747258\"/>\n     <use style=\"fill:#1f77b4;stroke:#1f77b4;\" x=\"73.483774\" xlink:href=\"#m1493b95335\" y=\"40.433802\"/>\n     <use style=\"fill:#1f77b4;stroke:#1f77b4;\" x=\"200.410414\" xlink:href=\"#m1493b95335\" y=\"97.352593\"/>\n     <use style=\"fill:#1f77b4;stroke:#1f77b4;\" x=\"157.857015\" xlink:href=\"#m1493b95335\" y=\"69.066116\"/>\n     <use style=\"fill:#1f77b4;stroke:#1f77b4;\" x=\"151.945107\" xlink:href=\"#m1493b95335\" y=\"71.589106\"/>\n     <use style=\"fill:#1f77b4;stroke:#1f77b4;\" x=\"147.089095\" xlink:href=\"#m1493b95335\" y=\"67.662369\"/>\n     <use style=\"fill:#1f77b4;stroke:#1f77b4;\" x=\"134.311239\" xlink:href=\"#m1493b95335\" y=\"58.033701\"/>\n     <use style=\"fill:#1f77b4;stroke:#1f77b4;\" x=\"142.044792\" xlink:href=\"#m1493b95335\" y=\"71.842432\"/>\n     <use style=\"fill:#1f77b4;stroke:#1f77b4;\" x=\"136.488858\" xlink:href=\"#m1493b95335\" y=\"70.404618\"/>\n     <use style=\"fill:#1f77b4;stroke:#1f77b4;\" x=\"102.047507\" xlink:href=\"#m1493b95335\" y=\"52.012068\"/>\n     <use style=\"fill:#1f77b4;stroke:#1f77b4;\" x=\"105.792234\" xlink:href=\"#m1493b95335\" y=\"58.899055\"/>\n     <use style=\"fill:#1f77b4;stroke:#1f77b4;\" x=\"130.460164\" xlink:href=\"#m1493b95335\" y=\"63.199365\"/>\n     <use style=\"fill:#1f77b4;stroke:#1f77b4;\" x=\"136.945357\" xlink:href=\"#m1493b95335\" y=\"77.551744\"/>\n     <use style=\"fill:#1f77b4;stroke:#1f77b4;\" x=\"142.937331\" xlink:href=\"#m1493b95335\" y=\"75.301413\"/>\n     <use style=\"fill:#1f77b4;stroke:#1f77b4;\" x=\"117.068435\" xlink:href=\"#m1493b95335\" y=\"49.625402\"/>\n     <use style=\"fill:#1f77b4;stroke:#1f77b4;\" x=\"123.008456\" xlink:href=\"#m1493b95335\" y=\"55.158829\"/>\n     <use style=\"fill:#1f77b4;stroke:#1f77b4;\" x=\"154.511781\" xlink:href=\"#m1493b95335\" y=\"88.79508\"/>\n     <use style=\"fill:#1f77b4;stroke:#1f77b4;\" x=\"144.907195\" xlink:href=\"#m1493b95335\" y=\"80.874604\"/>\n     <use style=\"fill:#1f77b4;stroke:#1f77b4;\" x=\"151.077101\" xlink:href=\"#m1493b95335\" y=\"79.538315\"/>\n     <use style=\"fill:#1f77b4;stroke:#1f77b4;\" x=\"143.466222\" xlink:href=\"#m1493b95335\" y=\"77.946947\"/>\n     <use style=\"fill:#1f77b4;stroke:#1f77b4;\" x=\"162.558915\" xlink:href=\"#m1493b95335\" y=\"80.755692\"/>\n     <use style=\"fill:#1f77b4;stroke:#1f77b4;\" x=\"148.821019\" xlink:href=\"#m1493b95335\" y=\"72.287792\"/>\n     <use style=\"fill:#1f77b4;stroke:#1f77b4;\" x=\"143.763558\" xlink:href=\"#m1493b95335\" y=\"77.901814\"/>\n     <use style=\"fill:#1f77b4;stroke:#1f77b4;\" x=\"114.607776\" xlink:href=\"#m1493b95335\" y=\"62.718807\"/>\n     <use style=\"fill:#1f77b4;stroke:#1f77b4;\" x=\"169.603769\" xlink:href=\"#m1493b95335\" y=\"87.732089\"/>\n     <use style=\"fill:#1f77b4;stroke:#1f77b4;\" x=\"124.631628\" xlink:href=\"#m1493b95335\" y=\"76.078085\"/>\n     <use style=\"fill:#1f77b4;stroke:#1f77b4;\" x=\"89.976307\" xlink:href=\"#m1493b95335\" y=\"55.088807\"/>\n     <use style=\"fill:#1f77b4;stroke:#1f77b4;\" x=\"171.825558\" xlink:href=\"#m1493b95335\" y=\"92.880422\"/>\n     <use style=\"fill:#1f77b4;stroke:#1f77b4;\" x=\"138.987456\" xlink:href=\"#m1493b95335\" y=\"79.046009\"/>\n     <use style=\"fill:#1f77b4;stroke:#1f77b4;\" x=\"167.571701\" xlink:href=\"#m1493b95335\" y=\"86.728485\"/>\n     <use style=\"fill:#1f77b4;stroke:#1f77b4;\" x=\"82.735593\" xlink:href=\"#m1493b95335\" y=\"49.733373\"/>\n     <use style=\"fill:#1f77b4;stroke:#1f77b4;\" x=\"153.147239\" xlink:href=\"#m1493b95335\" y=\"89.623075\"/>\n     <use style=\"fill:#1f77b4;stroke:#1f77b4;\" x=\"199.425111\" xlink:href=\"#m1493b95335\" y=\"102.877005\"/>\n     <use style=\"fill:#1f77b4;stroke:#1f77b4;\" x=\"107.879983\" xlink:href=\"#m1493b95335\" y=\"50.326584\"/>\n     <use style=\"fill:#1f77b4;stroke:#1f77b4;\" x=\"166.509175\" xlink:href=\"#m1493b95335\" y=\"92.003064\"/>\n     <use style=\"fill:#1f77b4;stroke:#1f77b4;\" x=\"121.42677\" xlink:href=\"#m1493b95335\" y=\"63.266252\"/>\n     <use style=\"fill:#1f77b4;stroke:#1f77b4;\" x=\"158.56062\" xlink:href=\"#m1493b95335\" y=\"62.747717\"/>\n     <use style=\"fill:#1f77b4;stroke:#1f77b4;\" x=\"120.251355\" xlink:href=\"#m1493b95335\" y=\"60.037784\"/>\n     <use style=\"fill:#1f77b4;stroke:#1f77b4;\" x=\"105.919396\" xlink:href=\"#m1493b95335\" y=\"54.168597\"/>\n     <use style=\"fill:#1f77b4;stroke:#1f77b4;\" x=\"74.308784\" xlink:href=\"#m1493b95335\" y=\"35.551678\"/>\n     <use style=\"fill:#1f77b4;stroke:#1f77b4;\" x=\"122.179142\" xlink:href=\"#m1493b95335\" y=\"54.432136\"/>\n     <use style=\"fill:#1f77b4;stroke:#1f77b4;\" x=\"127.619047\" xlink:href=\"#m1493b95335\" y=\"62.73965\"/>\n     <use style=\"fill:#1f77b4;stroke:#1f77b4;\" x=\"155.749662\" xlink:href=\"#m1493b95335\" y=\"80.249787\"/>\n     <use style=\"fill:#1f77b4;stroke:#1f77b4;\" x=\"154.774107\" xlink:href=\"#m1493b95335\" y=\"88.411986\"/>\n     <use style=\"fill:#1f77b4;stroke:#1f77b4;\" x=\"100.245115\" xlink:href=\"#m1493b95335\" y=\"56.421842\"/>\n     <use style=\"fill:#1f77b4;stroke:#1f77b4;\" x=\"122.709523\" xlink:href=\"#m1493b95335\" y=\"75.872524\"/>\n     <use style=\"fill:#1f77b4;stroke:#1f77b4;\" x=\"104.389069\" xlink:href=\"#m1493b95335\" y=\"49.987884\"/>\n     <use style=\"fill:#1f77b4;stroke:#1f77b4;\" x=\"142.12776\" xlink:href=\"#m1493b95335\" y=\"65.980849\"/>\n     <use style=\"fill:#1f77b4;stroke:#1f77b4;\" x=\"140.525822\" xlink:href=\"#m1493b95335\" y=\"67.434603\"/>\n     <use style=\"fill:#1f77b4;stroke:#1f77b4;\" x=\"65.485448\" xlink:href=\"#m1493b95335\" y=\"36.661623\"/>\n     <use style=\"fill:#1f77b4;stroke:#1f77b4;\" x=\"139.682409\" xlink:href=\"#m1493b95335\" y=\"65.144649\"/>\n     <use style=\"fill:#1f77b4;stroke:#1f77b4;\" x=\"122.078744\" xlink:href=\"#m1493b95335\" y=\"60.613372\"/>\n     <use style=\"fill:#1f77b4;stroke:#1f77b4;\" x=\"143.335039\" xlink:href=\"#m1493b95335\" y=\"78.597346\"/>\n     <use style=\"fill:#1f77b4;stroke:#1f77b4;\" x=\"105.934367\" xlink:href=\"#m1493b95335\" y=\"62.993689\"/>\n     <use style=\"fill:#1f77b4;stroke:#1f77b4;\" x=\"142.4556\" xlink:href=\"#m1493b95335\" y=\"84.160815\"/>\n     <use style=\"fill:#1f77b4;stroke:#1f77b4;\" x=\"117.8833\" xlink:href=\"#m1493b95335\" y=\"61.055024\"/>\n     <use style=\"fill:#1f77b4;stroke:#1f77b4;\" x=\"131.654562\" xlink:href=\"#m1493b95335\" y=\"56.355025\"/>\n     <use style=\"fill:#1f77b4;stroke:#1f77b4;\" x=\"102.112251\" xlink:href=\"#m1493b95335\" y=\"50.171647\"/>\n     <use style=\"fill:#1f77b4;stroke:#1f77b4;\" x=\"110.96003\" xlink:href=\"#m1493b95335\" y=\"52.275002\"/>\n     <use style=\"fill:#1f77b4;stroke:#1f77b4;\" x=\"176.123906\" xlink:href=\"#m1493b95335\" y=\"101.0807\"/>\n     <use style=\"fill:#1f77b4;stroke:#1f77b4;\" x=\"104.947481\" xlink:href=\"#m1493b95335\" y=\"51.455278\"/>\n     <use style=\"fill:#1f77b4;stroke:#1f77b4;\" x=\"145.489001\" xlink:href=\"#m1493b95335\" y=\"71.067259\"/>\n     <use style=\"fill:#1f77b4;stroke:#1f77b4;\" x=\"90.244611\" xlink:href=\"#m1493b95335\" y=\"37.390104\"/>\n     <use style=\"fill:#1f77b4;stroke:#1f77b4;\" x=\"139.615268\" xlink:href=\"#m1493b95335\" y=\"79.769527\"/>\n     <use style=\"fill:#1f77b4;stroke:#1f77b4;\" x=\"151.542217\" xlink:href=\"#m1493b95335\" y=\"87.257221\"/>\n     <use style=\"fill:#1f77b4;stroke:#1f77b4;\" x=\"106.744555\" xlink:href=\"#m1493b95335\" y=\"46.409722\"/>\n     <use style=\"fill:#1f77b4;stroke:#1f77b4;\" x=\"86.538095\" xlink:href=\"#m1493b95335\" y=\"47.776821\"/>\n     <use style=\"fill:#1f77b4;stroke:#1f77b4;\" x=\"121.643038\" xlink:href=\"#m1493b95335\" y=\"64.977935\"/>\n     <use style=\"fill:#1f77b4;stroke:#1f77b4;\" x=\"100.935964\" xlink:href=\"#m1493b95335\" y=\"51.630718\"/>\n     <use style=\"fill:#1f77b4;stroke:#1f77b4;\" x=\"142.568362\" xlink:href=\"#m1493b95335\" y=\"90.269933\"/>\n     <use style=\"fill:#1f77b4;stroke:#1f77b4;\" x=\"153.088041\" xlink:href=\"#m1493b95335\" y=\"78.385319\"/>\n     <use style=\"fill:#1f77b4;stroke:#1f77b4;\" x=\"116.122078\" xlink:href=\"#m1493b95335\" y=\"64.765681\"/>\n     <use style=\"fill:#1f77b4;stroke:#1f77b4;\" x=\"155.888488\" xlink:href=\"#m1493b95335\" y=\"68.777908\"/>\n     <use style=\"fill:#1f77b4;stroke:#1f77b4;\" x=\"169.228189\" xlink:href=\"#m1493b95335\" y=\"77.492985\"/>\n     <use style=\"fill:#1f77b4;stroke:#1f77b4;\" x=\"67.575712\" xlink:href=\"#m1493b95335\" y=\"37.513697\"/>\n     <use style=\"fill:#1f77b4;stroke:#1f77b4;\" x=\"182.374997\" xlink:href=\"#m1493b95335\" y=\"84.919031\"/>\n     <use style=\"fill:#1f77b4;stroke:#1f77b4;\" x=\"141.87339\" xlink:href=\"#m1493b95335\" y=\"78.274606\"/>\n     <use style=\"fill:#1f77b4;stroke:#1f77b4;\" x=\"164.97971\" xlink:href=\"#m1493b95335\" y=\"77.691122\"/>\n     <use style=\"fill:#1f77b4;stroke:#1f77b4;\" x=\"142.856903\" xlink:href=\"#m1493b95335\" y=\"64.169016\"/>\n     <use style=\"fill:#1f77b4;stroke:#1f77b4;\" x=\"100.448552\" xlink:href=\"#m1493b95335\" y=\"65.387924\"/>\n     <use style=\"fill:#1f77b4;stroke:#1f77b4;\" x=\"113.783861\" xlink:href=\"#m1493b95335\" y=\"52.268356\"/>\n     <use style=\"fill:#1f77b4;stroke:#1f77b4;\" x=\"182.354624\" xlink:href=\"#m1493b95335\" y=\"118.183175\"/>\n     <use style=\"fill:#1f77b4;stroke:#1f77b4;\" x=\"139.523571\" xlink:href=\"#m1493b95335\" y=\"71.670222\"/>\n     <use style=\"fill:#1f77b4;stroke:#1f77b4;\" x=\"170.696254\" xlink:href=\"#m1493b95335\" y=\"98.773559\"/>\n     <use style=\"fill:#1f77b4;stroke:#1f77b4;\" x=\"178.861109\" xlink:href=\"#m1493b95335\" y=\"93.781015\"/>\n     <use style=\"fill:#1f77b4;stroke:#1f77b4;\" x=\"152.051892\" xlink:href=\"#m1493b95335\" y=\"71.899808\"/>\n     <use style=\"fill:#1f77b4;stroke:#1f77b4;\" x=\"68.018143\" xlink:href=\"#m1493b95335\" y=\"15.492269\"/>\n     <use style=\"fill:#1f77b4;stroke:#1f77b4;\" x=\"157.608043\" xlink:href=\"#m1493b95335\" y=\"90.736119\"/>\n     <use style=\"fill:#1f77b4;stroke:#1f77b4;\" x=\"159.707282\" xlink:href=\"#m1493b95335\" y=\"103.654328\"/>\n     <use style=\"fill:#1f77b4;stroke:#1f77b4;\" x=\"137.542247\" xlink:href=\"#m1493b95335\" y=\"80.903555\"/>\n     <use style=\"fill:#1f77b4;stroke:#1f77b4;\" x=\"159.712384\" xlink:href=\"#m1493b95335\" y=\"82.977908\"/>\n     <use style=\"fill:#1f77b4;stroke:#1f77b4;\" x=\"151.256945\" xlink:href=\"#m1493b95335\" y=\"83.287418\"/>\n     <use style=\"fill:#1f77b4;stroke:#1f77b4;\" x=\"133.808481\" xlink:href=\"#m1493b95335\" y=\"62.146305\"/>\n     <use style=\"fill:#1f77b4;stroke:#1f77b4;\" x=\"106.978999\" xlink:href=\"#m1493b95335\" y=\"61.384678\"/>\n     <use style=\"fill:#1f77b4;stroke:#1f77b4;\" x=\"188.329352\" xlink:href=\"#m1493b95335\" y=\"106.775259\"/>\n     <use style=\"fill:#1f77b4;stroke:#1f77b4;\" x=\"131.271498\" xlink:href=\"#m1493b95335\" y=\"55.242458\"/>\n     <use style=\"fill:#1f77b4;stroke:#1f77b4;\" x=\"129.695734\" xlink:href=\"#m1493b95335\" y=\"67.967636\"/>\n     <use style=\"fill:#1f77b4;stroke:#1f77b4;\" x=\"126.861278\" xlink:href=\"#m1493b95335\" y=\"75.374135\"/>\n     <use style=\"fill:#1f77b4;stroke:#1f77b4;\" x=\"177.096722\" xlink:href=\"#m1493b95335\" y=\"84.418188\"/>\n     <use style=\"fill:#1f77b4;stroke:#1f77b4;\" x=\"88.358716\" xlink:href=\"#m1493b95335\" y=\"60.882485\"/>\n     <use style=\"fill:#1f77b4;stroke:#1f77b4;\" x=\"103.789062\" xlink:href=\"#m1493b95335\" y=\"57.439238\"/>\n     <use style=\"fill:#1f77b4;stroke:#1f77b4;\" x=\"107.072016\" xlink:href=\"#m1493b95335\" y=\"56.153114\"/>\n     <use style=\"fill:#1f77b4;stroke:#1f77b4;\" x=\"86.023153\" xlink:href=\"#m1493b95335\" y=\"69.557698\"/>\n     <use style=\"fill:#1f77b4;stroke:#1f77b4;\" x=\"161.796996\" xlink:href=\"#m1493b95335\" y=\"87.559309\"/>\n     <use style=\"fill:#1f77b4;stroke:#1f77b4;\" x=\"147.386987\" xlink:href=\"#m1493b95335\" y=\"74.582801\"/>\n     <use style=\"fill:#1f77b4;stroke:#1f77b4;\" x=\"119.980313\" xlink:href=\"#m1493b95335\" y=\"54.911229\"/>\n     <use style=\"fill:#1f77b4;stroke:#1f77b4;\" x=\"119.552754\" xlink:href=\"#m1493b95335\" y=\"72.11249\"/>\n     <use style=\"fill:#1f77b4;stroke:#1f77b4;\" x=\"157.080518\" xlink:href=\"#m1493b95335\" y=\"73.415155\"/>\n     <use style=\"fill:#1f77b4;stroke:#1f77b4;\" x=\"123.242936\" xlink:href=\"#m1493b95335\" y=\"66.474159\"/>\n     <use style=\"fill:#1f77b4;stroke:#1f77b4;\" x=\"135.851887\" xlink:href=\"#m1493b95335\" y=\"55.754692\"/>\n     <use style=\"fill:#1f77b4;stroke:#1f77b4;\" x=\"164.302579\" xlink:href=\"#m1493b95335\" y=\"101.503321\"/>\n     <use style=\"fill:#1f77b4;stroke:#1f77b4;\" x=\"122.640521\" xlink:href=\"#m1493b95335\" y=\"50.045747\"/>\n     <use style=\"fill:#1f77b4;stroke:#1f77b4;\" x=\"103.172494\" xlink:href=\"#m1493b95335\" y=\"44.002828\"/>\n     <use style=\"fill:#1f77b4;stroke:#1f77b4;\" x=\"165.050488\" xlink:href=\"#m1493b95335\" y=\"89.081058\"/>\n     <use style=\"fill:#1f77b4;stroke:#1f77b4;\" x=\"59.901788\" xlink:href=\"#m1493b95335\" y=\"27.746543\"/>\n     <use style=\"fill:#1f77b4;stroke:#1f77b4;\" x=\"160.350598\" xlink:href=\"#m1493b95335\" y=\"94.842532\"/>\n     <use style=\"fill:#1f77b4;stroke:#1f77b4;\" x=\"179.562725\" xlink:href=\"#m1493b95335\" y=\"93.849135\"/>\n     <use style=\"fill:#1f77b4;stroke:#1f77b4;\" x=\"139.118427\" xlink:href=\"#m1493b95335\" y=\"82.79079\"/>\n     <use style=\"fill:#1f77b4;stroke:#1f77b4;\" x=\"121.024971\" xlink:href=\"#m1493b95335\" y=\"54.185499\"/>\n     <use style=\"fill:#1f77b4;stroke:#1f77b4;\" x=\"144.688542\" xlink:href=\"#m1493b95335\" y=\"93.61763\"/>\n     <use style=\"fill:#1f77b4;stroke:#1f77b4;\" x=\"140.051473\" xlink:href=\"#m1493b95335\" y=\"68.951889\"/>\n     <use style=\"fill:#1f77b4;stroke:#1f77b4;\" x=\"159.649351\" xlink:href=\"#m1493b95335\" y=\"88.400493\"/>\n     <use style=\"fill:#1f77b4;stroke:#1f77b4;\" x=\"137.575288\" xlink:href=\"#m1493b95335\" y=\"44.393172\"/>\n     <use style=\"fill:#1f77b4;stroke:#1f77b4;\" x=\"163.572853\" xlink:href=\"#m1493b95335\" y=\"89.545298\"/>\n     <use style=\"fill:#1f77b4;stroke:#1f77b4;\" x=\"127.493855\" xlink:href=\"#m1493b95335\" y=\"68.637322\"/>\n     <use style=\"fill:#1f77b4;stroke:#1f77b4;\" x=\"122.46882\" xlink:href=\"#m1493b95335\" y=\"77.496348\"/>\n     <use style=\"fill:#1f77b4;stroke:#1f77b4;\" x=\"104.847476\" xlink:href=\"#m1493b95335\" y=\"46.967836\"/>\n     <use style=\"fill:#1f77b4;stroke:#1f77b4;\" x=\"138.56084\" xlink:href=\"#m1493b95335\" y=\"79.232218\"/>\n     <use style=\"fill:#1f77b4;stroke:#1f77b4;\" x=\"137.40938\" xlink:href=\"#m1493b95335\" y=\"70.911085\"/>\n     <use style=\"fill:#1f77b4;stroke:#1f77b4;\" x=\"154.220056\" xlink:href=\"#m1493b95335\" y=\"76.453992\"/>\n     <use style=\"fill:#1f77b4;stroke:#1f77b4;\" x=\"154.829163\" xlink:href=\"#m1493b95335\" y=\"74.397355\"/>\n     <use style=\"fill:#1f77b4;stroke:#1f77b4;\" x=\"118.310312\" xlink:href=\"#m1493b95335\" y=\"69.609016\"/>\n     <use style=\"fill:#1f77b4;stroke:#1f77b4;\" x=\"127.206701\" xlink:href=\"#m1493b95335\" y=\"50.891466\"/>\n     <use style=\"fill:#1f77b4;stroke:#1f77b4;\" x=\"147.029574\" xlink:href=\"#m1493b95335\" y=\"72.253214\"/>\n     <use style=\"fill:#1f77b4;stroke:#1f77b4;\" x=\"131.708085\" xlink:href=\"#m1493b95335\" y=\"56.577946\"/>\n     <use style=\"fill:#1f77b4;stroke:#1f77b4;\" x=\"108.099498\" xlink:href=\"#m1493b95335\" y=\"42.099127\"/>\n     <use style=\"fill:#1f77b4;stroke:#1f77b4;\" x=\"155.593714\" xlink:href=\"#m1493b95335\" y=\"82.336693\"/>\n     <use style=\"fill:#1f77b4;stroke:#1f77b4;\" x=\"154.838836\" xlink:href=\"#m1493b95335\" y=\"94.465473\"/>\n     <use style=\"fill:#1f77b4;stroke:#1f77b4;\" x=\"157.851368\" xlink:href=\"#m1493b95335\" y=\"84.306939\"/>\n     <use style=\"fill:#1f77b4;stroke:#1f77b4;\" x=\"154.683203\" xlink:href=\"#m1493b95335\" y=\"83.118593\"/>\n     <use style=\"fill:#1f77b4;stroke:#1f77b4;\" x=\"142.041372\" xlink:href=\"#m1493b95335\" y=\"93.722522\"/>\n     <use style=\"fill:#1f77b4;stroke:#1f77b4;\" x=\"140.881075\" xlink:href=\"#m1493b95335\" y=\"62.998914\"/>\n     <use style=\"fill:#1f77b4;stroke:#1f77b4;\" x=\"89.126034\" xlink:href=\"#m1493b95335\" y=\"49.657892\"/>\n     <use style=\"fill:#1f77b4;stroke:#1f77b4;\" x=\"114.891949\" xlink:href=\"#m1493b95335\" y=\"59.653953\"/>\n     <use style=\"fill:#1f77b4;stroke:#1f77b4;\" x=\"140.930142\" xlink:href=\"#m1493b95335\" y=\"80.298103\"/>\n     <use style=\"fill:#1f77b4;stroke:#1f77b4;\" x=\"151.189474\" xlink:href=\"#m1493b95335\" y=\"95.085353\"/>\n     <use style=\"fill:#1f77b4;stroke:#1f77b4;\" x=\"161.234199\" xlink:href=\"#m1493b95335\" y=\"94.158695\"/>\n     <use style=\"fill:#1f77b4;stroke:#1f77b4;\" x=\"171.114707\" xlink:href=\"#m1493b95335\" y=\"90.931118\"/>\n     <use style=\"fill:#1f77b4;stroke:#1f77b4;\" x=\"143.113292\" xlink:href=\"#m1493b95335\" y=\"61.542953\"/>\n     <use style=\"fill:#1f77b4;stroke:#1f77b4;\" x=\"107.800161\" xlink:href=\"#m1493b95335\" y=\"49.287649\"/>\n     <use style=\"fill:#1f77b4;stroke:#1f77b4;\" x=\"140.685029\" xlink:href=\"#m1493b95335\" y=\"76.167852\"/>\n     <use style=\"fill:#1f77b4;stroke:#1f77b4;\" x=\"153.297244\" xlink:href=\"#m1493b95335\" y=\"80.581331\"/>\n     <use style=\"fill:#1f77b4;stroke:#1f77b4;\" x=\"133.43214\" xlink:href=\"#m1493b95335\" y=\"77.479706\"/>\n     <use style=\"fill:#1f77b4;stroke:#1f77b4;\" x=\"64.49208\" xlink:href=\"#m1493b95335\" y=\"16.264316\"/>\n     <use style=\"fill:#1f77b4;stroke:#1f77b4;\" x=\"179.529992\" xlink:href=\"#m1493b95335\" y=\"92.130597\"/>\n     <use style=\"fill:#1f77b4;stroke:#1f77b4;\" x=\"132.082951\" xlink:href=\"#m1493b95335\" y=\"79.899866\"/>\n     <use style=\"fill:#1f77b4;stroke:#1f77b4;\" x=\"138.254606\" xlink:href=\"#m1493b95335\" y=\"70.410647\"/>\n     <use style=\"fill:#1f77b4;stroke:#1f77b4;\" x=\"116.736916\" xlink:href=\"#m1493b95335\" y=\"65.128249\"/>\n     <use style=\"fill:#1f77b4;stroke:#1f77b4;\" x=\"73.890357\" xlink:href=\"#m1493b95335\" y=\"49.981551\"/>\n     <use style=\"fill:#1f77b4;stroke:#1f77b4;\" x=\"100.870955\" xlink:href=\"#m1493b95335\" y=\"63.789316\"/>\n     <use style=\"fill:#1f77b4;stroke:#1f77b4;\" x=\"164.267387\" xlink:href=\"#m1493b95335\" y=\"93.487168\"/>\n     <use style=\"fill:#1f77b4;stroke:#1f77b4;\" x=\"136.30018\" xlink:href=\"#m1493b95335\" y=\"64.946351\"/>\n     <use style=\"fill:#1f77b4;stroke:#1f77b4;\" x=\"151.000148\" xlink:href=\"#m1493b95335\" y=\"74.359007\"/>\n     <use style=\"fill:#1f77b4;stroke:#1f77b4;\" x=\"157.452274\" xlink:href=\"#m1493b95335\" y=\"83.737089\"/>\n     <use style=\"fill:#1f77b4;stroke:#1f77b4;\" x=\"159.218251\" xlink:href=\"#m1493b95335\" y=\"70.243346\"/>\n     <use style=\"fill:#1f77b4;stroke:#1f77b4;\" x=\"125.88217\" xlink:href=\"#m1493b95335\" y=\"75.956113\"/>\n     <use style=\"fill:#1f77b4;stroke:#1f77b4;\" x=\"158.677205\" xlink:href=\"#m1493b95335\" y=\"75.259619\"/>\n     <use style=\"fill:#1f77b4;stroke:#1f77b4;\" x=\"131.130046\" xlink:href=\"#m1493b95335\" y=\"75.75662\"/>\n     <use style=\"fill:#1f77b4;stroke:#1f77b4;\" x=\"156.420057\" xlink:href=\"#m1493b95335\" y=\"87.564648\"/>\n     <use style=\"fill:#1f77b4;stroke:#1f77b4;\" x=\"152.790743\" xlink:href=\"#m1493b95335\" y=\"84.622959\"/>\n     <use style=\"fill:#1f77b4;stroke:#1f77b4;\" x=\"151.459705\" xlink:href=\"#m1493b95335\" y=\"56.025396\"/>\n     <use style=\"fill:#1f77b4;stroke:#1f77b4;\" x=\"143.63973\" xlink:href=\"#m1493b95335\" y=\"73.952977\"/>\n     <use style=\"fill:#1f77b4;stroke:#1f77b4;\" x=\"118.173988\" xlink:href=\"#m1493b95335\" y=\"61.95752\"/>\n     <use style=\"fill:#1f77b4;stroke:#1f77b4;\" x=\"161.393193\" xlink:href=\"#m1493b95335\" y=\"94.370206\"/>\n     <use style=\"fill:#1f77b4;stroke:#1f77b4;\" x=\"100.390221\" xlink:href=\"#m1493b95335\" y=\"51.571332\"/>\n     <use style=\"fill:#1f77b4;stroke:#1f77b4;\" x=\"137.866031\" xlink:href=\"#m1493b95335\" y=\"68.430803\"/>\n     <use style=\"fill:#1f77b4;stroke:#1f77b4;\" x=\"142.257373\" xlink:href=\"#m1493b95335\" y=\"70.364339\"/>\n     <use style=\"fill:#1f77b4;stroke:#1f77b4;\" x=\"137.425114\" xlink:href=\"#m1493b95335\" y=\"66.12136\"/>\n     <use style=\"fill:#1f77b4;stroke:#1f77b4;\" x=\"143.014074\" xlink:href=\"#m1493b95335\" y=\"62.792032\"/>\n     <use style=\"fill:#1f77b4;stroke:#1f77b4;\" x=\"172.850967\" xlink:href=\"#m1493b95335\" y=\"86.1499\"/>\n     <use style=\"fill:#1f77b4;stroke:#1f77b4;\" x=\"141.836086\" xlink:href=\"#m1493b95335\" y=\"74.602388\"/>\n     <use style=\"fill:#1f77b4;stroke:#1f77b4;\" x=\"136.286945\" xlink:href=\"#m1493b95335\" y=\"85.146809\"/>\n     <use style=\"fill:#1f77b4;stroke:#1f77b4;\" x=\"124.061173\" xlink:href=\"#m1493b95335\" y=\"67.662721\"/>\n     <use style=\"fill:#1f77b4;stroke:#1f77b4;\" x=\"147.035561\" xlink:href=\"#m1493b95335\" y=\"80.433284\"/>\n     <use style=\"fill:#1f77b4;stroke:#1f77b4;\" x=\"108.830151\" xlink:href=\"#m1493b95335\" y=\"45.15666\"/>\n     <use style=\"fill:#1f77b4;stroke:#1f77b4;\" x=\"109.125078\" xlink:href=\"#m1493b95335\" y=\"53.193173\"/>\n     <use style=\"fill:#1f77b4;stroke:#1f77b4;\" x=\"96.299264\" xlink:href=\"#m1493b95335\" y=\"48.556625\"/>\n     <use style=\"fill:#1f77b4;stroke:#1f77b4;\" x=\"127.423586\" xlink:href=\"#m1493b95335\" y=\"63.79679\"/>\n     <use style=\"fill:#1f77b4;stroke:#1f77b4;\" x=\"150.30089\" xlink:href=\"#m1493b95335\" y=\"87.129554\"/>\n     <use style=\"fill:#1f77b4;stroke:#1f77b4;\" x=\"156.499261\" xlink:href=\"#m1493b95335\" y=\"78.58599\"/>\n     <use style=\"fill:#1f77b4;stroke:#1f77b4;\" x=\"192.571446\" xlink:href=\"#m1493b95335\" y=\"107.618576\"/>\n     <use style=\"fill:#1f77b4;stroke:#1f77b4;\" x=\"179.877249\" xlink:href=\"#m1493b95335\" y=\"87.977327\"/>\n     <use style=\"fill:#1f77b4;stroke:#1f77b4;\" x=\"148.613765\" xlink:href=\"#m1493b95335\" y=\"68.205886\"/>\n     <use style=\"fill:#1f77b4;stroke:#1f77b4;\" x=\"143.544939\" xlink:href=\"#m1493b95335\" y=\"73.642897\"/>\n     <use style=\"fill:#1f77b4;stroke:#1f77b4;\" x=\"150.764388\" xlink:href=\"#m1493b95335\" y=\"88.508111\"/>\n     <use style=\"fill:#1f77b4;stroke:#1f77b4;\" x=\"182.567125\" xlink:href=\"#m1493b95335\" y=\"94.39995\"/>\n     <use style=\"fill:#1f77b4;stroke:#1f77b4;\" x=\"143.820849\" xlink:href=\"#m1493b95335\" y=\"88.066144\"/>\n     <use style=\"fill:#1f77b4;stroke:#1f77b4;\" x=\"141.121187\" xlink:href=\"#m1493b95335\" y=\"67.049184\"/>\n     <use style=\"fill:#1f77b4;stroke:#1f77b4;\" x=\"139.269239\" xlink:href=\"#m1493b95335\" y=\"70.937887\"/>\n     <use style=\"fill:#1f77b4;stroke:#1f77b4;\" x=\"143.715346\" xlink:href=\"#m1493b95335\" y=\"76.572276\"/>\n     <use style=\"fill:#1f77b4;stroke:#1f77b4;\" x=\"142.935363\" xlink:href=\"#m1493b95335\" y=\"90.795926\"/>\n     <use style=\"fill:#1f77b4;stroke:#1f77b4;\" x=\"105.912162\" xlink:href=\"#m1493b95335\" y=\"54.819939\"/>\n     <use style=\"fill:#1f77b4;stroke:#1f77b4;\" x=\"114.429846\" xlink:href=\"#m1493b95335\" y=\"61.301314\"/>\n     <use style=\"fill:#1f77b4;stroke:#1f77b4;\" x=\"134.499771\" xlink:href=\"#m1493b95335\" y=\"65.936896\"/>\n     <use style=\"fill:#1f77b4;stroke:#1f77b4;\" x=\"113.186487\" xlink:href=\"#m1493b95335\" y=\"45.96749\"/>\n     <use style=\"fill:#1f77b4;stroke:#1f77b4;\" x=\"170.299698\" xlink:href=\"#m1493b95335\" y=\"95.847528\"/>\n     <use style=\"fill:#1f77b4;stroke:#1f77b4;\" x=\"135.750224\" xlink:href=\"#m1493b95335\" y=\"71.621307\"/>\n     <use style=\"fill:#1f77b4;stroke:#1f77b4;\" x=\"109.76547\" xlink:href=\"#m1493b95335\" y=\"59.666961\"/>\n     <use style=\"fill:#1f77b4;stroke:#1f77b4;\" x=\"96.655557\" xlink:href=\"#m1493b95335\" y=\"70.449453\"/>\n     <use style=\"fill:#1f77b4;stroke:#1f77b4;\" x=\"192.342618\" xlink:href=\"#m1493b95335\" y=\"114.512114\"/>\n     <use style=\"fill:#1f77b4;stroke:#1f77b4;\" x=\"178.613927\" xlink:href=\"#m1493b95335\" y=\"98.522989\"/>\n     <use style=\"fill:#1f77b4;stroke:#1f77b4;\" x=\"127.538287\" xlink:href=\"#m1493b95335\" y=\"67.478098\"/>\n     <use style=\"fill:#1f77b4;stroke:#1f77b4;\" x=\"137.724899\" xlink:href=\"#m1493b95335\" y=\"73.266984\"/>\n     <use style=\"fill:#1f77b4;stroke:#1f77b4;\" x=\"169.906705\" xlink:href=\"#m1493b95335\" y=\"98.195346\"/>\n     <use style=\"fill:#1f77b4;stroke:#1f77b4;\" x=\"119.180195\" xlink:href=\"#m1493b95335\" y=\"50.876945\"/>\n     <use style=\"fill:#1f77b4;stroke:#1f77b4;\" x=\"111.81184\" xlink:href=\"#m1493b95335\" y=\"73.28319\"/>\n     <use style=\"fill:#1f77b4;stroke:#1f77b4;\" x=\"143.369072\" xlink:href=\"#m1493b95335\" y=\"71.981783\"/>\n     <use style=\"fill:#1f77b4;stroke:#1f77b4;\" x=\"116.413379\" xlink:href=\"#m1493b95335\" y=\"62.004805\"/>\n     <use style=\"fill:#1f77b4;stroke:#1f77b4;\" x=\"113.00696\" xlink:href=\"#m1493b95335\" y=\"64.392576\"/>\n     <use style=\"fill:#1f77b4;stroke:#1f77b4;\" x=\"64.991886\" xlink:href=\"#m1493b95335\" y=\"32.147783\"/>\n     <use style=\"fill:#1f77b4;stroke:#1f77b4;\" x=\"142.312081\" xlink:href=\"#m1493b95335\" y=\"80.080027\"/>\n     <use style=\"fill:#1f77b4;stroke:#1f77b4;\" x=\"164.545162\" xlink:href=\"#m1493b95335\" y=\"90.606729\"/>\n     <use style=\"fill:#1f77b4;stroke:#1f77b4;\" x=\"138.474776\" xlink:href=\"#m1493b95335\" y=\"72.502511\"/>\n     <use style=\"fill:#1f77b4;stroke:#1f77b4;\" x=\"123.62047\" xlink:href=\"#m1493b95335\" y=\"63.625647\"/>\n     <use style=\"fill:#1f77b4;stroke:#1f77b4;\" x=\"179.043398\" xlink:href=\"#m1493b95335\" y=\"87.660329\"/>\n     <use style=\"fill:#1f77b4;stroke:#1f77b4;\" x=\"162.547039\" xlink:href=\"#m1493b95335\" y=\"94.857381\"/>\n     <use style=\"fill:#1f77b4;stroke:#1f77b4;\" x=\"98.841986\" xlink:href=\"#m1493b95335\" y=\"54.352664\"/>\n     <use style=\"fill:#1f77b4;stroke:#1f77b4;\" x=\"120.082596\" xlink:href=\"#m1493b95335\" y=\"64.087642\"/>\n     <use style=\"fill:#1f77b4;stroke:#1f77b4;\" x=\"123.970077\" xlink:href=\"#m1493b95335\" y=\"61.554551\"/>\n     <use style=\"fill:#1f77b4;stroke:#1f77b4;\" x=\"162.174063\" xlink:href=\"#m1493b95335\" y=\"88.756347\"/>\n     <use style=\"fill:#1f77b4;stroke:#1f77b4;\" x=\"109.368989\" xlink:href=\"#m1493b95335\" y=\"67.322761\"/>\n     <use style=\"fill:#1f77b4;stroke:#1f77b4;\" x=\"187.855132\" xlink:href=\"#m1493b95335\" y=\"106.312886\"/>\n     <use style=\"fill:#1f77b4;stroke:#1f77b4;\" x=\"132.676176\" xlink:href=\"#m1493b95335\" y=\"67.920373\"/>\n     <use style=\"fill:#1f77b4;stroke:#1f77b4;\" x=\"138.665347\" xlink:href=\"#m1493b95335\" y=\"77.243131\"/>\n     <use style=\"fill:#1f77b4;stroke:#1f77b4;\" x=\"143.166156\" xlink:href=\"#m1493b95335\" y=\"77.210389\"/>\n     <use style=\"fill:#1f77b4;stroke:#1f77b4;\" x=\"111.356744\" xlink:href=\"#m1493b95335\" y=\"70.749744\"/>\n     <use style=\"fill:#1f77b4;stroke:#1f77b4;\" x=\"155.495973\" xlink:href=\"#m1493b95335\" y=\"90.008475\"/>\n     <use style=\"fill:#1f77b4;stroke:#1f77b4;\" x=\"134.881312\" xlink:href=\"#m1493b95335\" y=\"86.364225\"/>\n     <use style=\"fill:#1f77b4;stroke:#1f77b4;\" x=\"111.206192\" xlink:href=\"#m1493b95335\" y=\"59.99035\"/>\n     <use style=\"fill:#1f77b4;stroke:#1f77b4;\" x=\"89.903866\" xlink:href=\"#m1493b95335\" y=\"44.865638\"/>\n     <use style=\"fill:#1f77b4;stroke:#1f77b4;\" x=\"138.292417\" xlink:href=\"#m1493b95335\" y=\"80.131437\"/>\n     <use style=\"fill:#1f77b4;stroke:#1f77b4;\" x=\"121.685891\" xlink:href=\"#m1493b95335\" y=\"48.07823\"/>\n     <use style=\"fill:#1f77b4;stroke:#1f77b4;\" x=\"171.128711\" xlink:href=\"#m1493b95335\" y=\"90.822459\"/>\n     <use style=\"fill:#1f77b4;stroke:#1f77b4;\" x=\"187.605869\" xlink:href=\"#m1493b95335\" y=\"96.499359\"/>\n     <use style=\"fill:#1f77b4;stroke:#1f77b4;\" x=\"139.027118\" xlink:href=\"#m1493b95335\" y=\"58.088484\"/>\n     <use style=\"fill:#1f77b4;stroke:#1f77b4;\" x=\"99.41203\" xlink:href=\"#m1493b95335\" y=\"37.216205\"/>\n     <use style=\"fill:#1f77b4;stroke:#1f77b4;\" x=\"114.197536\" xlink:href=\"#m1493b95335\" y=\"71.105466\"/>\n     <use style=\"fill:#1f77b4;stroke:#1f77b4;\" x=\"168.857636\" xlink:href=\"#m1493b95335\" y=\"75.212034\"/>\n     <use style=\"fill:#1f77b4;stroke:#1f77b4;\" x=\"139.907911\" xlink:href=\"#m1493b95335\" y=\"82.751582\"/>\n     <use style=\"fill:#1f77b4;stroke:#1f77b4;\" x=\"125.713954\" xlink:href=\"#m1493b95335\" y=\"69.041214\"/>\n     <use style=\"fill:#1f77b4;stroke:#1f77b4;\" x=\"182.549313\" xlink:href=\"#m1493b95335\" y=\"75.508107\"/>\n     <use style=\"fill:#1f77b4;stroke:#1f77b4;\" x=\"111.577701\" xlink:href=\"#m1493b95335\" y=\"47.535896\"/>\n     <use style=\"fill:#1f77b4;stroke:#1f77b4;\" x=\"97.441694\" xlink:href=\"#m1493b95335\" y=\"37.493805\"/>\n     <use style=\"fill:#1f77b4;stroke:#1f77b4;\" x=\"93.63274\" xlink:href=\"#m1493b95335\" y=\"52.3899\"/>\n     <use style=\"fill:#1f77b4;stroke:#1f77b4;\" x=\"97.490452\" xlink:href=\"#m1493b95335\" y=\"52.131961\"/>\n     <use style=\"fill:#1f77b4;stroke:#1f77b4;\" x=\"135.718331\" xlink:href=\"#m1493b95335\" y=\"88.832206\"/>\n     <use style=\"fill:#1f77b4;stroke:#1f77b4;\" x=\"128.498591\" xlink:href=\"#m1493b95335\" y=\"70.275397\"/>\n     <use style=\"fill:#1f77b4;stroke:#1f77b4;\" x=\"153.467097\" xlink:href=\"#m1493b95335\" y=\"80.480496\"/>\n     <use style=\"fill:#1f77b4;stroke:#1f77b4;\" x=\"130.138499\" xlink:href=\"#m1493b95335\" y=\"66.100425\"/>\n     <use style=\"fill:#1f77b4;stroke:#1f77b4;\" x=\"110.788118\" xlink:href=\"#m1493b95335\" y=\"58.470976\"/>\n     <use style=\"fill:#1f77b4;stroke:#1f77b4;\" x=\"117.580814\" xlink:href=\"#m1493b95335\" y=\"59.237451\"/>\n     <use style=\"fill:#1f77b4;stroke:#1f77b4;\" x=\"146.44172\" xlink:href=\"#m1493b95335\" y=\"82.862492\"/>\n     <use style=\"fill:#1f77b4;stroke:#1f77b4;\" x=\"157.568545\" xlink:href=\"#m1493b95335\" y=\"75.961534\"/>\n     <use style=\"fill:#1f77b4;stroke:#1f77b4;\" x=\"142.900574\" xlink:href=\"#m1493b95335\" y=\"65.170711\"/>\n     <use style=\"fill:#1f77b4;stroke:#1f77b4;\" x=\"130.627537\" xlink:href=\"#m1493b95335\" y=\"62.997996\"/>\n     <use style=\"fill:#1f77b4;stroke:#1f77b4;\" x=\"144.077476\" xlink:href=\"#m1493b95335\" y=\"80.064199\"/>\n     <use style=\"fill:#1f77b4;stroke:#1f77b4;\" x=\"201.578031\" xlink:href=\"#m1493b95335\" y=\"110.912497\"/>\n     <use style=\"fill:#1f77b4;stroke:#1f77b4;\" x=\"190.19001\" xlink:href=\"#m1493b95335\" y=\"88.789569\"/>\n     <use style=\"fill:#1f77b4;stroke:#1f77b4;\" x=\"153.421138\" xlink:href=\"#m1493b95335\" y=\"84.887377\"/>\n     <use style=\"fill:#1f77b4;stroke:#1f77b4;\" x=\"169.343196\" xlink:href=\"#m1493b95335\" y=\"70.452669\"/>\n     <use style=\"fill:#1f77b4;stroke:#1f77b4;\" x=\"89.990427\" xlink:href=\"#m1493b95335\" y=\"36.230234\"/>\n     <use style=\"fill:#1f77b4;stroke:#1f77b4;\" x=\"151.119663\" xlink:href=\"#m1493b95335\" y=\"82.157031\"/>\n     <use style=\"fill:#1f77b4;stroke:#1f77b4;\" x=\"154.19839\" xlink:href=\"#m1493b95335\" y=\"91.663023\"/>\n     <use style=\"fill:#1f77b4;stroke:#1f77b4;\" x=\"100.57137\" xlink:href=\"#m1493b95335\" y=\"44.54591\"/>\n     <use style=\"fill:#1f77b4;stroke:#1f77b4;\" x=\"158.546269\" xlink:href=\"#m1493b95335\" y=\"96.7358\"/>\n     <use style=\"fill:#1f77b4;stroke:#1f77b4;\" x=\"141.266917\" xlink:href=\"#m1493b95335\" y=\"85.724886\"/>\n     <use style=\"fill:#1f77b4;stroke:#1f77b4;\" x=\"143.452516\" xlink:href=\"#m1493b95335\" y=\"86.573525\"/>\n     <use style=\"fill:#1f77b4;stroke:#1f77b4;\" x=\"164.959476\" xlink:href=\"#m1493b95335\" y=\"85.809293\"/>\n     <use style=\"fill:#1f77b4;stroke:#1f77b4;\" x=\"152.193999\" xlink:href=\"#m1493b95335\" y=\"90.212551\"/>\n     <use style=\"fill:#1f77b4;stroke:#1f77b4;\" x=\"98.114848\" xlink:href=\"#m1493b95335\" y=\"35.637377\"/>\n     <use style=\"fill:#1f77b4;stroke:#1f77b4;\" x=\"102.019814\" xlink:href=\"#m1493b95335\" y=\"56.616853\"/>\n     <use style=\"fill:#1f77b4;stroke:#1f77b4;\" x=\"102.695285\" xlink:href=\"#m1493b95335\" y=\"60.927027\"/>\n     <use style=\"fill:#1f77b4;stroke:#1f77b4;\" x=\"172.375604\" xlink:href=\"#m1493b95335\" y=\"100.557255\"/>\n     <use style=\"fill:#1f77b4;stroke:#1f77b4;\" x=\"117.937932\" xlink:href=\"#m1493b95335\" y=\"44.863439\"/>\n     <use style=\"fill:#1f77b4;stroke:#1f77b4;\" x=\"157.936997\" xlink:href=\"#m1493b95335\" y=\"73.58788\"/>\n     <use style=\"fill:#1f77b4;stroke:#1f77b4;\" x=\"131.158056\" xlink:href=\"#m1493b95335\" y=\"56.323296\"/>\n     <use style=\"fill:#1f77b4;stroke:#1f77b4;\" x=\"129.791853\" xlink:href=\"#m1493b95335\" y=\"76.624316\"/>\n     <use style=\"fill:#1f77b4;stroke:#1f77b4;\" x=\"110.61019\" xlink:href=\"#m1493b95335\" y=\"74.316473\"/>\n     <use style=\"fill:#1f77b4;stroke:#1f77b4;\" x=\"114.512529\" xlink:href=\"#m1493b95335\" y=\"72.93289\"/>\n     <use style=\"fill:#1f77b4;stroke:#1f77b4;\" x=\"146.639148\" xlink:href=\"#m1493b95335\" y=\"69.242295\"/>\n     <use style=\"fill:#1f77b4;stroke:#1f77b4;\" x=\"113.275195\" xlink:href=\"#m1493b95335\" y=\"53.605362\"/>\n     <use style=\"fill:#1f77b4;stroke:#1f77b4;\" x=\"150.880235\" xlink:href=\"#m1493b95335\" y=\"70.810776\"/>\n     <use style=\"fill:#1f77b4;stroke:#1f77b4;\" x=\"152.94771\" xlink:href=\"#m1493b95335\" y=\"73.74298\"/>\n     <use style=\"fill:#1f77b4;stroke:#1f77b4;\" x=\"145.531125\" xlink:href=\"#m1493b95335\" y=\"72.194222\"/>\n     <use style=\"fill:#1f77b4;stroke:#1f77b4;\" x=\"155.349666\" xlink:href=\"#m1493b95335\" y=\"84.913449\"/>\n     <use style=\"fill:#1f77b4;stroke:#1f77b4;\" x=\"171.032715\" xlink:href=\"#m1493b95335\" y=\"83.967563\"/>\n     <use style=\"fill:#1f77b4;stroke:#1f77b4;\" x=\"93.06485\" xlink:href=\"#m1493b95335\" y=\"55.481792\"/>\n     <use style=\"fill:#1f77b4;stroke:#1f77b4;\" x=\"127.799908\" xlink:href=\"#m1493b95335\" y=\"49.177453\"/>\n     <use style=\"fill:#1f77b4;stroke:#1f77b4;\" x=\"119.238436\" xlink:href=\"#m1493b95335\" y=\"76.218507\"/>\n     <use style=\"fill:#1f77b4;stroke:#1f77b4;\" x=\"148.183966\" xlink:href=\"#m1493b95335\" y=\"81.476794\"/>\n     <use style=\"fill:#1f77b4;stroke:#1f77b4;\" x=\"158.803652\" xlink:href=\"#m1493b95335\" y=\"82.548621\"/>\n     <use style=\"fill:#1f77b4;stroke:#1f77b4;\" x=\"150.018937\" xlink:href=\"#m1493b95335\" y=\"94.176993\"/>\n     <use style=\"fill:#1f77b4;stroke:#1f77b4;\" x=\"158.723338\" xlink:href=\"#m1493b95335\" y=\"88.710967\"/>\n     <use style=\"fill:#1f77b4;stroke:#1f77b4;\" x=\"209.869511\" xlink:href=\"#m1493b95335\" y=\"94.24722\"/>\n     <use style=\"fill:#1f77b4;stroke:#1f77b4;\" x=\"99.500348\" xlink:href=\"#m1493b95335\" y=\"53.413622\"/>\n     <use style=\"fill:#1f77b4;stroke:#1f77b4;\" x=\"106.407073\" xlink:href=\"#m1493b95335\" y=\"50.895224\"/>\n     <use style=\"fill:#1f77b4;stroke:#1f77b4;\" x=\"184.214467\" xlink:href=\"#m1493b95335\" y=\"91.873638\"/>\n     <use style=\"fill:#1f77b4;stroke:#1f77b4;\" x=\"118.736528\" xlink:href=\"#m1493b95335\" y=\"75.642664\"/>\n     <use style=\"fill:#1f77b4;stroke:#1f77b4;\" x=\"138.547418\" xlink:href=\"#m1493b95335\" y=\"55.822067\"/>\n     <use style=\"fill:#1f77b4;stroke:#1f77b4;\" x=\"129.387216\" xlink:href=\"#m1493b95335\" y=\"67.28573\"/>\n     <use style=\"fill:#1f77b4;stroke:#1f77b4;\" x=\"165.345438\" xlink:href=\"#m1493b95335\" y=\"118.929729\"/>\n     <use style=\"fill:#1f77b4;stroke:#1f77b4;\" x=\"139.749119\" xlink:href=\"#m1493b95335\" y=\"63.338155\"/>\n     <use style=\"fill:#1f77b4;stroke:#1f77b4;\" x=\"128.605149\" xlink:href=\"#m1493b95335\" y=\"75.340195\"/>\n     <use style=\"fill:#1f77b4;stroke:#1f77b4;\" x=\"101.776068\" xlink:href=\"#m1493b95335\" y=\"58.973821\"/>\n     <use style=\"fill:#1f77b4;stroke:#1f77b4;\" x=\"127.380195\" xlink:href=\"#m1493b95335\" y=\"50.190225\"/>\n     <use style=\"fill:#1f77b4;stroke:#1f77b4;\" x=\"134.517938\" xlink:href=\"#m1493b95335\" y=\"65.859875\"/>\n     <use style=\"fill:#1f77b4;stroke:#1f77b4;\" x=\"143.713305\" xlink:href=\"#m1493b95335\" y=\"86.321725\"/>\n     <use style=\"fill:#1f77b4;stroke:#1f77b4;\" x=\"169.670435\" xlink:href=\"#m1493b95335\" y=\"84.916437\"/>\n     <use style=\"fill:#1f77b4;stroke:#1f77b4;\" x=\"152.340554\" xlink:href=\"#m1493b95335\" y=\"68.091784\"/>\n     <use style=\"fill:#1f77b4;stroke:#1f77b4;\" x=\"126.336475\" xlink:href=\"#m1493b95335\" y=\"75.542139\"/>\n     <use style=\"fill:#1f77b4;stroke:#1f77b4;\" x=\"102.128412\" xlink:href=\"#m1493b95335\" y=\"62.469068\"/>\n     <use style=\"fill:#1f77b4;stroke:#1f77b4;\" x=\"99.176436\" xlink:href=\"#m1493b95335\" y=\"49.448656\"/>\n     <use style=\"fill:#1f77b4;stroke:#1f77b4;\" x=\"179.935998\" xlink:href=\"#m1493b95335\" y=\"103.161431\"/>\n     <use style=\"fill:#1f77b4;stroke:#1f77b4;\" x=\"131.108123\" xlink:href=\"#m1493b95335\" y=\"80.774171\"/>\n     <use style=\"fill:#1f77b4;stroke:#1f77b4;\" x=\"192.783499\" xlink:href=\"#m1493b95335\" y=\"103.345624\"/>\n     <use style=\"fill:#1f77b4;stroke:#1f77b4;\" x=\"143.989577\" xlink:href=\"#m1493b95335\" y=\"84.732512\"/>\n     <use style=\"fill:#1f77b4;stroke:#1f77b4;\" x=\"168.345116\" xlink:href=\"#m1493b95335\" y=\"99.403358\"/>\n     <use style=\"fill:#1f77b4;stroke:#1f77b4;\" x=\"102.522436\" xlink:href=\"#m1493b95335\" y=\"52.209405\"/>\n     <use style=\"fill:#1f77b4;stroke:#1f77b4;\" x=\"131.731663\" xlink:href=\"#m1493b95335\" y=\"68.758233\"/>\n     <use style=\"fill:#1f77b4;stroke:#1f77b4;\" x=\"126.624871\" xlink:href=\"#m1493b95335\" y=\"64.780929\"/>\n     <use style=\"fill:#1f77b4;stroke:#1f77b4;\" x=\"175.369118\" xlink:href=\"#m1493b95335\" y=\"106.407606\"/>\n     <use style=\"fill:#1f77b4;stroke:#1f77b4;\" x=\"138.710525\" xlink:href=\"#m1493b95335\" y=\"51.070338\"/>\n     <use style=\"fill:#1f77b4;stroke:#1f77b4;\" x=\"107.32725\" xlink:href=\"#m1493b95335\" y=\"66.735685\"/>\n     <use style=\"fill:#1f77b4;stroke:#1f77b4;\" x=\"153.018719\" xlink:href=\"#m1493b95335\" y=\"76.856891\"/>\n     <use style=\"fill:#1f77b4;stroke:#1f77b4;\" x=\"105.786674\" xlink:href=\"#m1493b95335\" y=\"63.221973\"/>\n     <use style=\"fill:#1f77b4;stroke:#1f77b4;\" x=\"111.815212\" xlink:href=\"#m1493b95335\" y=\"53.342694\"/>\n     <use style=\"fill:#1f77b4;stroke:#1f77b4;\" x=\"92.811875\" xlink:href=\"#m1493b95335\" y=\"57.307984\"/>\n     <use style=\"fill:#1f77b4;stroke:#1f77b4;\" x=\"152.644055\" xlink:href=\"#m1493b95335\" y=\"79.42823\"/>\n     <use style=\"fill:#1f77b4;stroke:#1f77b4;\" x=\"140.212838\" xlink:href=\"#m1493b95335\" y=\"91.159796\"/>\n     <use style=\"fill:#1f77b4;stroke:#1f77b4;\" x=\"94.314244\" xlink:href=\"#m1493b95335\" y=\"55.717614\"/>\n     <use style=\"fill:#1f77b4;stroke:#1f77b4;\" x=\"133.311172\" xlink:href=\"#m1493b95335\" y=\"64.411654\"/>\n     <use style=\"fill:#1f77b4;stroke:#1f77b4;\" x=\"199.410226\" xlink:href=\"#m1493b95335\" y=\"103.090084\"/>\n     <use style=\"fill:#1f77b4;stroke:#1f77b4;\" x=\"130.092306\" xlink:href=\"#m1493b95335\" y=\"79.509231\"/>\n     <use style=\"fill:#1f77b4;stroke:#1f77b4;\" x=\"48.727225\" xlink:href=\"#m1493b95335\" y=\"18.875723\"/>\n     <use style=\"fill:#1f77b4;stroke:#1f77b4;\" x=\"119.539228\" xlink:href=\"#m1493b95335\" y=\"75.759724\"/>\n     <use style=\"fill:#1f77b4;stroke:#1f77b4;\" x=\"109.278776\" xlink:href=\"#m1493b95335\" y=\"65.954477\"/>\n     <use style=\"fill:#1f77b4;stroke:#1f77b4;\" x=\"193.922393\" xlink:href=\"#m1493b95335\" y=\"90.908486\"/>\n     <use style=\"fill:#1f77b4;stroke:#1f77b4;\" x=\"176.094033\" xlink:href=\"#m1493b95335\" y=\"89.319949\"/>\n     <use style=\"fill:#1f77b4;stroke:#1f77b4;\" x=\"113.022006\" xlink:href=\"#m1493b95335\" y=\"51.969822\"/>\n     <use style=\"fill:#1f77b4;stroke:#1f77b4;\" x=\"64.993204\" xlink:href=\"#m1493b95335\" y=\"48.564612\"/>\n     <use style=\"fill:#1f77b4;stroke:#1f77b4;\" x=\"114.014272\" xlink:href=\"#m1493b95335\" y=\"57.646956\"/>\n     <use style=\"fill:#1f77b4;stroke:#1f77b4;\" x=\"162.954929\" xlink:href=\"#m1493b95335\" y=\"92.62195\"/>\n     <use style=\"fill:#1f77b4;stroke:#1f77b4;\" x=\"144.10629\" xlink:href=\"#m1493b95335\" y=\"83.952903\"/>\n     <use style=\"fill:#1f77b4;stroke:#1f77b4;\" x=\"105.937048\" xlink:href=\"#m1493b95335\" y=\"61.501114\"/>\n     <use style=\"fill:#1f77b4;stroke:#1f77b4;\" x=\"110.701031\" xlink:href=\"#m1493b95335\" y=\"51.444117\"/>\n     <use style=\"fill:#1f77b4;stroke:#1f77b4;\" x=\"122.928497\" xlink:href=\"#m1493b95335\" y=\"74.367446\"/>\n     <use style=\"fill:#1f77b4;stroke:#1f77b4;\" x=\"132.938342\" xlink:href=\"#m1493b95335\" y=\"58.887375\"/>\n     <use style=\"fill:#1f77b4;stroke:#1f77b4;\" x=\"134.558595\" xlink:href=\"#m1493b95335\" y=\"77.047567\"/>\n     <use style=\"fill:#1f77b4;stroke:#1f77b4;\" x=\"118.186025\" xlink:href=\"#m1493b95335\" y=\"66.710414\"/>\n     <use style=\"fill:#1f77b4;stroke:#1f77b4;\" x=\"163.848233\" xlink:href=\"#m1493b95335\" y=\"96.087532\"/>\n     <use style=\"fill:#1f77b4;stroke:#1f77b4;\" x=\"115.521907\" xlink:href=\"#m1493b95335\" y=\"61.371384\"/>\n     <use style=\"fill:#1f77b4;stroke:#1f77b4;\" x=\"82.104093\" xlink:href=\"#m1493b95335\" y=\"29.082212\"/>\n     <use style=\"fill:#1f77b4;stroke:#1f77b4;\" x=\"115.617225\" xlink:href=\"#m1493b95335\" y=\"88.319122\"/>\n     <use style=\"fill:#1f77b4;stroke:#1f77b4;\" x=\"205.472907\" xlink:href=\"#m1493b95335\" y=\"103.814406\"/>\n     <use style=\"fill:#1f77b4;stroke:#1f77b4;\" x=\"199.049909\" xlink:href=\"#m1493b95335\" y=\"109.040636\"/>\n     <use style=\"fill:#1f77b4;stroke:#1f77b4;\" x=\"152.463802\" xlink:href=\"#m1493b95335\" y=\"86.859651\"/>\n     <use style=\"fill:#1f77b4;stroke:#1f77b4;\" x=\"108.443024\" xlink:href=\"#m1493b95335\" y=\"44.20643\"/>\n     <use style=\"fill:#1f77b4;stroke:#1f77b4;\" x=\"153.509912\" xlink:href=\"#m1493b95335\" y=\"83.7765\"/>\n     <use style=\"fill:#1f77b4;stroke:#1f77b4;\" x=\"117.780905\" xlink:href=\"#m1493b95335\" y=\"81.237981\"/>\n     <use style=\"fill:#1f77b4;stroke:#1f77b4;\" x=\"156.116006\" xlink:href=\"#m1493b95335\" y=\"70.13499\"/>\n     <use style=\"fill:#1f77b4;stroke:#1f77b4;\" x=\"140.546552\" xlink:href=\"#m1493b95335\" y=\"94.321332\"/>\n     <use style=\"fill:#1f77b4;stroke:#1f77b4;\" x=\"118.107584\" xlink:href=\"#m1493b95335\" y=\"72.381389\"/>\n     <use style=\"fill:#1f77b4;stroke:#1f77b4;\" x=\"142.357081\" xlink:href=\"#m1493b95335\" y=\"85.560591\"/>\n     <use style=\"fill:#1f77b4;stroke:#1f77b4;\" x=\"171.657161\" xlink:href=\"#m1493b95335\" y=\"82.285592\"/>\n     <use style=\"fill:#1f77b4;stroke:#1f77b4;\" x=\"126.855167\" xlink:href=\"#m1493b95335\" y=\"63.244435\"/>\n     <use style=\"fill:#1f77b4;stroke:#1f77b4;\" x=\"167.775404\" xlink:href=\"#m1493b95335\" y=\"63.456\"/>\n     <use style=\"fill:#1f77b4;stroke:#1f77b4;\" x=\"125.587011\" xlink:href=\"#m1493b95335\" y=\"76.174444\"/>\n     <use style=\"fill:#1f77b4;stroke:#1f77b4;\" x=\"128.384651\" xlink:href=\"#m1493b95335\" y=\"54.921892\"/>\n     <use style=\"fill:#1f77b4;stroke:#1f77b4;\" x=\"78.520102\" xlink:href=\"#m1493b95335\" y=\"41.967995\"/>\n     <use style=\"fill:#1f77b4;stroke:#1f77b4;\" x=\"151.32151\" xlink:href=\"#m1493b95335\" y=\"64.645149\"/>\n     <use style=\"fill:#1f77b4;stroke:#1f77b4;\" x=\"140.223556\" xlink:href=\"#m1493b95335\" y=\"75.556726\"/>\n     <use style=\"fill:#1f77b4;stroke:#1f77b4;\" x=\"179.702687\" xlink:href=\"#m1493b95335\" y=\"95.329752\"/>\n     <use style=\"fill:#1f77b4;stroke:#1f77b4;\" x=\"133.267143\" xlink:href=\"#m1493b95335\" y=\"57.867612\"/>\n     <use style=\"fill:#1f77b4;stroke:#1f77b4;\" x=\"102.857993\" xlink:href=\"#m1493b95335\" y=\"56.416481\"/>\n     <use style=\"fill:#1f77b4;stroke:#1f77b4;\" x=\"137.455837\" xlink:href=\"#m1493b95335\" y=\"71.236863\"/>\n     <use style=\"fill:#1f77b4;stroke:#1f77b4;\" x=\"128.698017\" xlink:href=\"#m1493b95335\" y=\"62.001027\"/>\n     <use style=\"fill:#1f77b4;stroke:#1f77b4;\" x=\"141.12812\" xlink:href=\"#m1493b95335\" y=\"83.898409\"/>\n     <use style=\"fill:#1f77b4;stroke:#1f77b4;\" x=\"123.101243\" xlink:href=\"#m1493b95335\" y=\"63.803998\"/>\n     <use style=\"fill:#1f77b4;stroke:#1f77b4;\" x=\"147.45123\" xlink:href=\"#m1493b95335\" y=\"91.394269\"/>\n     <use style=\"fill:#1f77b4;stroke:#1f77b4;\" x=\"143.656116\" xlink:href=\"#m1493b95335\" y=\"68.557465\"/>\n     <use style=\"fill:#1f77b4;stroke:#1f77b4;\" x=\"145.519382\" xlink:href=\"#m1493b95335\" y=\"69.177615\"/>\n     <use style=\"fill:#1f77b4;stroke:#1f77b4;\" x=\"156.597886\" xlink:href=\"#m1493b95335\" y=\"85.08571\"/>\n     <use style=\"fill:#1f77b4;stroke:#1f77b4;\" x=\"97.74746\" xlink:href=\"#m1493b95335\" y=\"60.196134\"/>\n     <use style=\"fill:#1f77b4;stroke:#1f77b4;\" x=\"140.187859\" xlink:href=\"#m1493b95335\" y=\"78.013509\"/>\n     <use style=\"fill:#1f77b4;stroke:#1f77b4;\" x=\"175.515267\" xlink:href=\"#m1493b95335\" y=\"92.479381\"/>\n     <use style=\"fill:#1f77b4;stroke:#1f77b4;\" x=\"66.298422\" xlink:href=\"#m1493b95335\" y=\"30.478206\"/>\n     <use style=\"fill:#1f77b4;stroke:#1f77b4;\" x=\"108.478571\" xlink:href=\"#m1493b95335\" y=\"58.570143\"/>\n     <use style=\"fill:#1f77b4;stroke:#1f77b4;\" x=\"140.871239\" xlink:href=\"#m1493b95335\" y=\"71.822268\"/>\n     <use style=\"fill:#1f77b4;stroke:#1f77b4;\" x=\"146.402963\" xlink:href=\"#m1493b95335\" y=\"75.011394\"/>\n     <use style=\"fill:#1f77b4;stroke:#1f77b4;\" x=\"155.864541\" xlink:href=\"#m1493b95335\" y=\"72.951146\"/>\n     <use style=\"fill:#1f77b4;stroke:#1f77b4;\" x=\"147.618769\" xlink:href=\"#m1493b95335\" y=\"81.642428\"/>\n     <use style=\"fill:#1f77b4;stroke:#1f77b4;\" x=\"177.824543\" xlink:href=\"#m1493b95335\" y=\"82.148583\"/>\n     <use style=\"fill:#1f77b4;stroke:#1f77b4;\" x=\"131.969746\" xlink:href=\"#m1493b95335\" y=\"52.218916\"/>\n     <use style=\"fill:#1f77b4;stroke:#1f77b4;\" x=\"155.028941\" xlink:href=\"#m1493b95335\" y=\"90.34992\"/>\n     <use style=\"fill:#1f77b4;stroke:#1f77b4;\" x=\"135.634742\" xlink:href=\"#m1493b95335\" y=\"76.042025\"/>\n     <use style=\"fill:#1f77b4;stroke:#1f77b4;\" x=\"132.265057\" xlink:href=\"#m1493b95335\" y=\"57.263743\"/>\n     <use style=\"fill:#1f77b4;stroke:#1f77b4;\" x=\"117.375125\" xlink:href=\"#m1493b95335\" y=\"59.878471\"/>\n     <use style=\"fill:#1f77b4;stroke:#1f77b4;\" x=\"117.117528\" xlink:href=\"#m1493b95335\" y=\"49.538661\"/>\n     <use style=\"fill:#1f77b4;stroke:#1f77b4;\" x=\"120.004423\" xlink:href=\"#m1493b95335\" y=\"66.47731\"/>\n     <use style=\"fill:#1f77b4;stroke:#1f77b4;\" x=\"150.459761\" xlink:href=\"#m1493b95335\" y=\"77.860521\"/>\n     <use style=\"fill:#1f77b4;stroke:#1f77b4;\" x=\"153.46547\" xlink:href=\"#m1493b95335\" y=\"78.559056\"/>\n     <use style=\"fill:#1f77b4;stroke:#1f77b4;\" x=\"96.238261\" xlink:href=\"#m1493b95335\" y=\"27.83979\"/>\n     <use style=\"fill:#1f77b4;stroke:#1f77b4;\" x=\"104.319089\" xlink:href=\"#m1493b95335\" y=\"33.533541\"/>\n     <use style=\"fill:#1f77b4;stroke:#1f77b4;\" x=\"172.472292\" xlink:href=\"#m1493b95335\" y=\"115.733112\"/>\n     <use style=\"fill:#1f77b4;stroke:#1f77b4;\" x=\"152.141413\" xlink:href=\"#m1493b95335\" y=\"74.226247\"/>\n     <use style=\"fill:#1f77b4;stroke:#1f77b4;\" x=\"218.066595\" xlink:href=\"#m1493b95335\" y=\"112.979326\"/>\n     <use style=\"fill:#1f77b4;stroke:#1f77b4;\" x=\"144.15917\" xlink:href=\"#m1493b95335\" y=\"76.360655\"/>\n     <use style=\"fill:#1f77b4;stroke:#1f77b4;\" x=\"148.28229\" xlink:href=\"#m1493b95335\" y=\"70.998726\"/>\n     <use style=\"fill:#1f77b4;stroke:#1f77b4;\" x=\"157.024991\" xlink:href=\"#m1493b95335\" y=\"94.925228\"/>\n     <use style=\"fill:#1f77b4;stroke:#1f77b4;\" x=\"110.858799\" xlink:href=\"#m1493b95335\" y=\"52.772433\"/>\n     <use style=\"fill:#1f77b4;stroke:#1f77b4;\" x=\"88.527346\" xlink:href=\"#m1493b95335\" y=\"42.164176\"/>\n     <use style=\"fill:#1f77b4;stroke:#1f77b4;\" x=\"127.019465\" xlink:href=\"#m1493b95335\" y=\"71.553461\"/>\n     <use style=\"fill:#1f77b4;stroke:#1f77b4;\" x=\"177.943351\" xlink:href=\"#m1493b95335\" y=\"88.86679\"/>\n     <use style=\"fill:#1f77b4;stroke:#1f77b4;\" x=\"149.073184\" xlink:href=\"#m1493b95335\" y=\"62.060192\"/>\n     <use style=\"fill:#1f77b4;stroke:#1f77b4;\" x=\"141.915785\" xlink:href=\"#m1493b95335\" y=\"55.78437\"/>\n     <use style=\"fill:#1f77b4;stroke:#1f77b4;\" x=\"163.814713\" xlink:href=\"#m1493b95335\" y=\"85.04707\"/>\n     <use style=\"fill:#1f77b4;stroke:#1f77b4;\" x=\"150.24991\" xlink:href=\"#m1493b95335\" y=\"96.790084\"/>\n     <use style=\"fill:#1f77b4;stroke:#1f77b4;\" x=\"205.031338\" xlink:href=\"#m1493b95335\" y=\"112.336178\"/>\n     <use style=\"fill:#1f77b4;stroke:#1f77b4;\" x=\"75.938834\" xlink:href=\"#m1493b95335\" y=\"26.94299\"/>\n     <use style=\"fill:#1f77b4;stroke:#1f77b4;\" x=\"89.848115\" xlink:href=\"#m1493b95335\" y=\"42.878132\"/>\n     <use style=\"fill:#1f77b4;stroke:#1f77b4;\" x=\"148.935564\" xlink:href=\"#m1493b95335\" y=\"85.256583\"/>\n     <use style=\"fill:#1f77b4;stroke:#1f77b4;\" x=\"140.208696\" xlink:href=\"#m1493b95335\" y=\"82.991297\"/>\n     <use style=\"fill:#1f77b4;stroke:#1f77b4;\" x=\"129.255814\" xlink:href=\"#m1493b95335\" y=\"63.831971\"/>\n     <use style=\"fill:#1f77b4;stroke:#1f77b4;\" x=\"125.448933\" xlink:href=\"#m1493b95335\" y=\"62.824065\"/>\n     <use style=\"fill:#1f77b4;stroke:#1f77b4;\" x=\"120.819279\" xlink:href=\"#m1493b95335\" y=\"59.816138\"/>\n     <use style=\"fill:#1f77b4;stroke:#1f77b4;\" x=\"125.957256\" xlink:href=\"#m1493b95335\" y=\"70.246241\"/>\n     <use style=\"fill:#1f77b4;stroke:#1f77b4;\" x=\"142.986844\" xlink:href=\"#m1493b95335\" y=\"64.630316\"/>\n     <use style=\"fill:#1f77b4;stroke:#1f77b4;\" x=\"161.244894\" xlink:href=\"#m1493b95335\" y=\"94.339601\"/>\n     <use style=\"fill:#1f77b4;stroke:#1f77b4;\" x=\"133.455018\" xlink:href=\"#m1493b95335\" y=\"67.852736\"/>\n     <use style=\"fill:#1f77b4;stroke:#1f77b4;\" x=\"100.318296\" xlink:href=\"#m1493b95335\" y=\"38.997339\"/>\n     <use style=\"fill:#1f77b4;stroke:#1f77b4;\" x=\"168.459188\" xlink:href=\"#m1493b95335\" y=\"78.315682\"/>\n     <use style=\"fill:#1f77b4;stroke:#1f77b4;\" x=\"129.468328\" xlink:href=\"#m1493b95335\" y=\"71.876815\"/>\n     <use style=\"fill:#1f77b4;stroke:#1f77b4;\" x=\"101.540196\" xlink:href=\"#m1493b95335\" y=\"46.697694\"/>\n     <use style=\"fill:#1f77b4;stroke:#1f77b4;\" x=\"156.326689\" xlink:href=\"#m1493b95335\" y=\"86.903786\"/>\n     <use style=\"fill:#1f77b4;stroke:#1f77b4;\" x=\"141.939153\" xlink:href=\"#m1493b95335\" y=\"61.886272\"/>\n     <use style=\"fill:#1f77b4;stroke:#1f77b4;\" x=\"152.827183\" xlink:href=\"#m1493b95335\" y=\"86.040231\"/>\n     <use style=\"fill:#1f77b4;stroke:#1f77b4;\" x=\"117.587662\" xlink:href=\"#m1493b95335\" y=\"66.054115\"/>\n     <use style=\"fill:#1f77b4;stroke:#1f77b4;\" x=\"102.310983\" xlink:href=\"#m1493b95335\" y=\"57.257243\"/>\n     <use style=\"fill:#1f77b4;stroke:#1f77b4;\" x=\"73.653776\" xlink:href=\"#m1493b95335\" y=\"23.23546\"/>\n     <use style=\"fill:#1f77b4;stroke:#1f77b4;\" x=\"112.771182\" xlink:href=\"#m1493b95335\" y=\"54.882243\"/>\n     <use style=\"fill:#1f77b4;stroke:#1f77b4;\" x=\"103.072803\" xlink:href=\"#m1493b95335\" y=\"53.989906\"/>\n     <use style=\"fill:#1f77b4;stroke:#1f77b4;\" x=\"130.461593\" xlink:href=\"#m1493b95335\" y=\"65.443682\"/>\n     <use style=\"fill:#1f77b4;stroke:#1f77b4;\" x=\"88.275223\" xlink:href=\"#m1493b95335\" y=\"66.315288\"/>\n     <use style=\"fill:#1f77b4;stroke:#1f77b4;\" x=\"150.884833\" xlink:href=\"#m1493b95335\" y=\"95.8264\"/>\n     <use style=\"fill:#1f77b4;stroke:#1f77b4;\" x=\"80.67853\" xlink:href=\"#m1493b95335\" y=\"41.756084\"/>\n     <use style=\"fill:#1f77b4;stroke:#1f77b4;\" x=\"141.720299\" xlink:href=\"#m1493b95335\" y=\"62.179174\"/>\n     <use style=\"fill:#1f77b4;stroke:#1f77b4;\" x=\"139.24127\" xlink:href=\"#m1493b95335\" y=\"73.152659\"/>\n     <use style=\"fill:#1f77b4;stroke:#1f77b4;\" x=\"153.333071\" xlink:href=\"#m1493b95335\" y=\"92.128907\"/>\n     <use style=\"fill:#1f77b4;stroke:#1f77b4;\" x=\"193.74469\" xlink:href=\"#m1493b95335\" y=\"104.255436\"/>\n     <use style=\"fill:#1f77b4;stroke:#1f77b4;\" x=\"132.858885\" xlink:href=\"#m1493b95335\" y=\"63.919557\"/>\n     <use style=\"fill:#1f77b4;stroke:#1f77b4;\" x=\"138.600292\" xlink:href=\"#m1493b95335\" y=\"65.887762\"/>\n     <use style=\"fill:#1f77b4;stroke:#1f77b4;\" x=\"139.381964\" xlink:href=\"#m1493b95335\" y=\"59.757363\"/>\n     <use style=\"fill:#1f77b4;stroke:#1f77b4;\" x=\"166.768715\" xlink:href=\"#m1493b95335\" y=\"82.742718\"/>\n     <use style=\"fill:#1f77b4;stroke:#1f77b4;\" x=\"171.345662\" xlink:href=\"#m1493b95335\" y=\"87.307293\"/>\n     <use style=\"fill:#1f77b4;stroke:#1f77b4;\" x=\"137.514713\" xlink:href=\"#m1493b95335\" y=\"73.235189\"/>\n     <use style=\"fill:#1f77b4;stroke:#1f77b4;\" x=\"146.17989\" xlink:href=\"#m1493b95335\" y=\"72.445063\"/>\n     <use style=\"fill:#1f77b4;stroke:#1f77b4;\" x=\"185.045203\" xlink:href=\"#m1493b95335\" y=\"97.090537\"/>\n     <use style=\"fill:#1f77b4;stroke:#1f77b4;\" x=\"126.983195\" xlink:href=\"#m1493b95335\" y=\"72.049307\"/>\n     <use style=\"fill:#1f77b4;stroke:#1f77b4;\" x=\"149.145728\" xlink:href=\"#m1493b95335\" y=\"96.007664\"/>\n     <use style=\"fill:#1f77b4;stroke:#1f77b4;\" x=\"114.732851\" xlink:href=\"#m1493b95335\" y=\"58.903731\"/>\n     <use style=\"fill:#1f77b4;stroke:#1f77b4;\" x=\"154.15947\" xlink:href=\"#m1493b95335\" y=\"89.492683\"/>\n     <use style=\"fill:#1f77b4;stroke:#1f77b4;\" x=\"62.961249\" xlink:href=\"#m1493b95335\" y=\"26.098504\"/>\n     <use style=\"fill:#1f77b4;stroke:#1f77b4;\" x=\"143.187274\" xlink:href=\"#m1493b95335\" y=\"72.843968\"/>\n     <use style=\"fill:#1f77b4;stroke:#1f77b4;\" x=\"149.084712\" xlink:href=\"#m1493b95335\" y=\"75.800039\"/>\n     <use style=\"fill:#1f77b4;stroke:#1f77b4;\" x=\"166.454045\" xlink:href=\"#m1493b95335\" y=\"88.185176\"/>\n     <use style=\"fill:#1f77b4;stroke:#1f77b4;\" x=\"126.263196\" xlink:href=\"#m1493b95335\" y=\"67.812382\"/>\n     <use style=\"fill:#1f77b4;stroke:#1f77b4;\" x=\"133.027017\" xlink:href=\"#m1493b95335\" y=\"85.533306\"/>\n     <use style=\"fill:#1f77b4;stroke:#1f77b4;\" x=\"143.916741\" xlink:href=\"#m1493b95335\" y=\"97.388949\"/>\n     <use style=\"fill:#1f77b4;stroke:#1f77b4;\" x=\"136.418157\" xlink:href=\"#m1493b95335\" y=\"78.410882\"/>\n     <use style=\"fill:#1f77b4;stroke:#1f77b4;\" x=\"134.210864\" xlink:href=\"#m1493b95335\" y=\"87.663773\"/>\n     <use style=\"fill:#1f77b4;stroke:#1f77b4;\" x=\"155.671395\" xlink:href=\"#m1493b95335\" y=\"87.167408\"/>\n     <use style=\"fill:#1f77b4;stroke:#1f77b4;\" x=\"108.96029\" xlink:href=\"#m1493b95335\" y=\"42.876324\"/>\n     <use style=\"fill:#1f77b4;stroke:#1f77b4;\" x=\"148.818118\" xlink:href=\"#m1493b95335\" y=\"73.819134\"/>\n     <use style=\"fill:#1f77b4;stroke:#1f77b4;\" x=\"112.227813\" xlink:href=\"#m1493b95335\" y=\"50.848403\"/>\n     <use style=\"fill:#1f77b4;stroke:#1f77b4;\" x=\"119.745591\" xlink:href=\"#m1493b95335\" y=\"52.386273\"/>\n     <use style=\"fill:#1f77b4;stroke:#1f77b4;\" x=\"160.463706\" xlink:href=\"#m1493b95335\" y=\"73.036056\"/>\n     <use style=\"fill:#1f77b4;stroke:#1f77b4;\" x=\"119.837856\" xlink:href=\"#m1493b95335\" y=\"62.984904\"/>\n     <use style=\"fill:#1f77b4;stroke:#1f77b4;\" x=\"148.67484\" xlink:href=\"#m1493b95335\" y=\"71.793066\"/>\n     <use style=\"fill:#1f77b4;stroke:#1f77b4;\" x=\"114.823015\" xlink:href=\"#m1493b95335\" y=\"59.804181\"/>\n     <use style=\"fill:#1f77b4;stroke:#1f77b4;\" x=\"184.096385\" xlink:href=\"#m1493b95335\" y=\"97.013562\"/>\n     <use style=\"fill:#1f77b4;stroke:#1f77b4;\" x=\"104.9606\" xlink:href=\"#m1493b95335\" y=\"38.906314\"/>\n     <use style=\"fill:#1f77b4;stroke:#1f77b4;\" x=\"161.31306\" xlink:href=\"#m1493b95335\" y=\"87.374316\"/>\n     <use style=\"fill:#1f77b4;stroke:#1f77b4;\" x=\"117.126606\" xlink:href=\"#m1493b95335\" y=\"66.774078\"/>\n     <use style=\"fill:#1f77b4;stroke:#1f77b4;\" x=\"175.405258\" xlink:href=\"#m1493b95335\" y=\"114.81761\"/>\n     <use style=\"fill:#1f77b4;stroke:#1f77b4;\" x=\"133.50398\" xlink:href=\"#m1493b95335\" y=\"68.358673\"/>\n     <use style=\"fill:#1f77b4;stroke:#1f77b4;\" x=\"154.492475\" xlink:href=\"#m1493b95335\" y=\"65.724178\"/>\n     <use style=\"fill:#1f77b4;stroke:#1f77b4;\" x=\"173.656876\" xlink:href=\"#m1493b95335\" y=\"72.959326\"/>\n     <use style=\"fill:#1f77b4;stroke:#1f77b4;\" x=\"178.509938\" xlink:href=\"#m1493b95335\" y=\"86.474938\"/>\n     <use style=\"fill:#1f77b4;stroke:#1f77b4;\" x=\"104.073766\" xlink:href=\"#m1493b95335\" y=\"55.519291\"/>\n     <use style=\"fill:#1f77b4;stroke:#1f77b4;\" x=\"164.613882\" xlink:href=\"#m1493b95335\" y=\"96.681004\"/>\n     <use style=\"fill:#1f77b4;stroke:#1f77b4;\" x=\"132.993884\" xlink:href=\"#m1493b95335\" y=\"58.126825\"/>\n     <use style=\"fill:#1f77b4;stroke:#1f77b4;\" x=\"147.576636\" xlink:href=\"#m1493b95335\" y=\"59.202372\"/>\n     <use style=\"fill:#1f77b4;stroke:#1f77b4;\" x=\"142.73515\" xlink:href=\"#m1493b95335\" y=\"86.889806\"/>\n     <use style=\"fill:#1f77b4;stroke:#1f77b4;\" x=\"82.94703\" xlink:href=\"#m1493b95335\" y=\"43.66853\"/>\n     <use style=\"fill:#1f77b4;stroke:#1f77b4;\" x=\"145.800802\" xlink:href=\"#m1493b95335\" y=\"77.007761\"/>\n     <use style=\"fill:#1f77b4;stroke:#1f77b4;\" x=\"119.510622\" xlink:href=\"#m1493b95335\" y=\"62.00772\"/>\n     <use style=\"fill:#1f77b4;stroke:#1f77b4;\" x=\"109.870435\" xlink:href=\"#m1493b95335\" y=\"36.282739\"/>\n     <use style=\"fill:#1f77b4;stroke:#1f77b4;\" x=\"135.530334\" xlink:href=\"#m1493b95335\" y=\"78.291011\"/>\n     <use style=\"fill:#1f77b4;stroke:#1f77b4;\" x=\"183.887244\" xlink:href=\"#m1493b95335\" y=\"93.259038\"/>\n     <use style=\"fill:#1f77b4;stroke:#1f77b4;\" x=\"135.674472\" xlink:href=\"#m1493b95335\" y=\"85.241828\"/>\n     <use style=\"fill:#1f77b4;stroke:#1f77b4;\" x=\"141.238787\" xlink:href=\"#m1493b95335\" y=\"92.16348\"/>\n     <use style=\"fill:#1f77b4;stroke:#1f77b4;\" x=\"149.684232\" xlink:href=\"#m1493b95335\" y=\"80.150055\"/>\n     <use style=\"fill:#1f77b4;stroke:#1f77b4;\" x=\"78.987506\" xlink:href=\"#m1493b95335\" y=\"36.804292\"/>\n     <use style=\"fill:#1f77b4;stroke:#1f77b4;\" x=\"129.209347\" xlink:href=\"#m1493b95335\" y=\"69.071794\"/>\n     <use style=\"fill:#1f77b4;stroke:#1f77b4;\" x=\"137.179584\" xlink:href=\"#m1493b95335\" y=\"82.292879\"/>\n     <use style=\"fill:#1f77b4;stroke:#1f77b4;\" x=\"84.639638\" xlink:href=\"#m1493b95335\" y=\"41.316966\"/>\n     <use style=\"fill:#1f77b4;stroke:#1f77b4;\" x=\"99.079446\" xlink:href=\"#m1493b95335\" y=\"59.777357\"/>\n     <use style=\"fill:#1f77b4;stroke:#1f77b4;\" x=\"165.820874\" xlink:href=\"#m1493b95335\" y=\"104.335648\"/>\n     <use style=\"fill:#1f77b4;stroke:#1f77b4;\" x=\"133.375257\" xlink:href=\"#m1493b95335\" y=\"74.52189\"/>\n     <use style=\"fill:#1f77b4;stroke:#1f77b4;\" x=\"126.219724\" xlink:href=\"#m1493b95335\" y=\"65.851864\"/>\n     <use style=\"fill:#1f77b4;stroke:#1f77b4;\" x=\"77.326412\" xlink:href=\"#m1493b95335\" y=\"38.50339\"/>\n     <use style=\"fill:#1f77b4;stroke:#1f77b4;\" x=\"114.851339\" xlink:href=\"#m1493b95335\" y=\"63.331836\"/>\n     <use style=\"fill:#1f77b4;stroke:#1f77b4;\" x=\"144.080747\" xlink:href=\"#m1493b95335\" y=\"94.829211\"/>\n     <use style=\"fill:#1f77b4;stroke:#1f77b4;\" x=\"174.161072\" xlink:href=\"#m1493b95335\" y=\"106.305954\"/>\n     <use style=\"fill:#1f77b4;stroke:#1f77b4;\" x=\"139.205242\" xlink:href=\"#m1493b95335\" y=\"51.283546\"/>\n     <use style=\"fill:#1f77b4;stroke:#1f77b4;\" x=\"144.348115\" xlink:href=\"#m1493b95335\" y=\"84.200342\"/>\n     <use style=\"fill:#1f77b4;stroke:#1f77b4;\" x=\"172.159697\" xlink:href=\"#m1493b95335\" y=\"81.410541\"/>\n     <use style=\"fill:#1f77b4;stroke:#1f77b4;\" x=\"144.719912\" xlink:href=\"#m1493b95335\" y=\"87.710418\"/>\n     <use style=\"fill:#1f77b4;stroke:#1f77b4;\" x=\"192.031418\" xlink:href=\"#m1493b95335\" y=\"92.509416\"/>\n     <use style=\"fill:#1f77b4;stroke:#1f77b4;\" x=\"111.798903\" xlink:href=\"#m1493b95335\" y=\"51.319522\"/>\n     <use style=\"fill:#1f77b4;stroke:#1f77b4;\" x=\"139.08412\" xlink:href=\"#m1493b95335\" y=\"88.703969\"/>\n     <use style=\"fill:#1f77b4;stroke:#1f77b4;\" x=\"137.633566\" xlink:href=\"#m1493b95335\" y=\"77.726975\"/>\n     <use style=\"fill:#1f77b4;stroke:#1f77b4;\" x=\"148.657256\" xlink:href=\"#m1493b95335\" y=\"74.447542\"/>\n     <use style=\"fill:#1f77b4;stroke:#1f77b4;\" x=\"118.00959\" xlink:href=\"#m1493b95335\" y=\"57.087469\"/>\n     <use style=\"fill:#1f77b4;stroke:#1f77b4;\" x=\"103.186782\" xlink:href=\"#m1493b95335\" y=\"44.874582\"/>\n     <use style=\"fill:#1f77b4;stroke:#1f77b4;\" x=\"178.280962\" xlink:href=\"#m1493b95335\" y=\"102.388882\"/>\n     <use style=\"fill:#1f77b4;stroke:#1f77b4;\" x=\"186.214232\" xlink:href=\"#m1493b95335\" y=\"109.362891\"/>\n     <use style=\"fill:#1f77b4;stroke:#1f77b4;\" x=\"129.378146\" xlink:href=\"#m1493b95335\" y=\"62.029752\"/>\n     <use style=\"fill:#1f77b4;stroke:#1f77b4;\" x=\"117.668753\" xlink:href=\"#m1493b95335\" y=\"57.688502\"/>\n     <use style=\"fill:#1f77b4;stroke:#1f77b4;\" x=\"148.812815\" xlink:href=\"#m1493b95335\" y=\"67.42424\"/>\n     <use style=\"fill:#1f77b4;stroke:#1f77b4;\" x=\"131.770989\" xlink:href=\"#m1493b95335\" y=\"65.747454\"/>\n     <use style=\"fill:#1f77b4;stroke:#1f77b4;\" x=\"151.912463\" xlink:href=\"#m1493b95335\" y=\"65.145172\"/>\n     <use style=\"fill:#1f77b4;stroke:#1f77b4;\" x=\"139.273154\" xlink:href=\"#m1493b95335\" y=\"72.711992\"/>\n     <use style=\"fill:#1f77b4;stroke:#1f77b4;\" x=\"121.699451\" xlink:href=\"#m1493b95335\" y=\"60.967215\"/>\n     <use style=\"fill:#1f77b4;stroke:#1f77b4;\" x=\"141.442453\" xlink:href=\"#m1493b95335\" y=\"81.911062\"/>\n     <use style=\"fill:#1f77b4;stroke:#1f77b4;\" x=\"113.881381\" xlink:href=\"#m1493b95335\" y=\"67.677221\"/>\n     <use style=\"fill:#1f77b4;stroke:#1f77b4;\" x=\"118.496477\" xlink:href=\"#m1493b95335\" y=\"65.20411\"/>\n     <use style=\"fill:#1f77b4;stroke:#1f77b4;\" x=\"152.759987\" xlink:href=\"#m1493b95335\" y=\"76.134954\"/>\n     <use style=\"fill:#1f77b4;stroke:#1f77b4;\" x=\"123.077834\" xlink:href=\"#m1493b95335\" y=\"52.031176\"/>\n     <use style=\"fill:#1f77b4;stroke:#1f77b4;\" x=\"177.18386\" xlink:href=\"#m1493b95335\" y=\"103.337624\"/>\n     <use style=\"fill:#1f77b4;stroke:#1f77b4;\" x=\"141.530686\" xlink:href=\"#m1493b95335\" y=\"82.525994\"/>\n     <use style=\"fill:#1f77b4;stroke:#1f77b4;\" x=\"146.558951\" xlink:href=\"#m1493b95335\" y=\"60.466058\"/>\n     <use style=\"fill:#1f77b4;stroke:#1f77b4;\" x=\"129.205978\" xlink:href=\"#m1493b95335\" y=\"67.739491\"/>\n     <use style=\"fill:#1f77b4;stroke:#1f77b4;\" x=\"136.749495\" xlink:href=\"#m1493b95335\" y=\"71.975366\"/>\n     <use style=\"fill:#1f77b4;stroke:#1f77b4;\" x=\"132.777559\" xlink:href=\"#m1493b95335\" y=\"73.24039\"/>\n     <use style=\"fill:#1f77b4;stroke:#1f77b4;\" x=\"177.777594\" xlink:href=\"#m1493b95335\" y=\"82.208857\"/>\n     <use style=\"fill:#1f77b4;stroke:#1f77b4;\" x=\"146.213236\" xlink:href=\"#m1493b95335\" y=\"73.609308\"/>\n     <use style=\"fill:#1f77b4;stroke:#1f77b4;\" x=\"101.982962\" xlink:href=\"#m1493b95335\" y=\"40.15632\"/>\n     <use style=\"fill:#1f77b4;stroke:#1f77b4;\" x=\"181.101561\" xlink:href=\"#m1493b95335\" y=\"86.194815\"/>\n     <use style=\"fill:#1f77b4;stroke:#1f77b4;\" x=\"114.073673\" xlink:href=\"#m1493b95335\" y=\"72.468374\"/>\n     <use style=\"fill:#1f77b4;stroke:#1f77b4;\" x=\"84.431452\" xlink:href=\"#m1493b95335\" y=\"42.566596\"/>\n     <use style=\"fill:#1f77b4;stroke:#1f77b4;\" x=\"101.208391\" xlink:href=\"#m1493b95335\" y=\"63.010345\"/>\n     <use style=\"fill:#1f77b4;stroke:#1f77b4;\" x=\"168.618702\" xlink:href=\"#m1493b95335\" y=\"79.993299\"/>\n     <use style=\"fill:#1f77b4;stroke:#1f77b4;\" x=\"83.889565\" xlink:href=\"#m1493b95335\" y=\"39.557066\"/>\n     <use style=\"fill:#1f77b4;stroke:#1f77b4;\" x=\"145.669756\" xlink:href=\"#m1493b95335\" y=\"74.458584\"/>\n     <use style=\"fill:#1f77b4;stroke:#1f77b4;\" x=\"191.812293\" xlink:href=\"#m1493b95335\" y=\"104.603728\"/>\n     <use style=\"fill:#1f77b4;stroke:#1f77b4;\" x=\"68.883859\" xlink:href=\"#m1493b95335\" y=\"43.614352\"/>\n     <use style=\"fill:#1f77b4;stroke:#1f77b4;\" x=\"127.874864\" xlink:href=\"#m1493b95335\" y=\"64.451339\"/>\n     <use style=\"fill:#1f77b4;stroke:#1f77b4;\" x=\"202.260736\" xlink:href=\"#m1493b95335\" y=\"107.709179\"/>\n     <use style=\"fill:#1f77b4;stroke:#1f77b4;\" x=\"154.265759\" xlink:href=\"#m1493b95335\" y=\"79.381917\"/>\n     <use style=\"fill:#1f77b4;stroke:#1f77b4;\" x=\"107.683113\" xlink:href=\"#m1493b95335\" y=\"57.492347\"/>\n     <use style=\"fill:#1f77b4;stroke:#1f77b4;\" x=\"139.637387\" xlink:href=\"#m1493b95335\" y=\"64.158573\"/>\n     <use style=\"fill:#1f77b4;stroke:#1f77b4;\" x=\"99.47967\" xlink:href=\"#m1493b95335\" y=\"50.956451\"/>\n     <use style=\"fill:#1f77b4;stroke:#1f77b4;\" x=\"121.228691\" xlink:href=\"#m1493b95335\" y=\"64.729093\"/>\n     <use style=\"fill:#1f77b4;stroke:#1f77b4;\" x=\"139.151156\" xlink:href=\"#m1493b95335\" y=\"87.312857\"/>\n     <use style=\"fill:#1f77b4;stroke:#1f77b4;\" x=\"138.164871\" xlink:href=\"#m1493b95335\" y=\"61.975574\"/>\n     <use style=\"fill:#1f77b4;stroke:#1f77b4;\" x=\"150.663397\" xlink:href=\"#m1493b95335\" y=\"77.423652\"/>\n     <use style=\"fill:#1f77b4;stroke:#1f77b4;\" x=\"155.921269\" xlink:href=\"#m1493b95335\" y=\"84.833504\"/>\n     <use style=\"fill:#1f77b4;stroke:#1f77b4;\" x=\"129.904505\" xlink:href=\"#m1493b95335\" y=\"77.581995\"/>\n     <use style=\"fill:#1f77b4;stroke:#1f77b4;\" x=\"122.784939\" xlink:href=\"#m1493b95335\" y=\"68.35344\"/>\n     <use style=\"fill:#1f77b4;stroke:#1f77b4;\" x=\"128.015669\" xlink:href=\"#m1493b95335\" y=\"63.928882\"/>\n     <use style=\"fill:#1f77b4;stroke:#1f77b4;\" x=\"142.961168\" xlink:href=\"#m1493b95335\" y=\"73.895862\"/>\n     <use style=\"fill:#1f77b4;stroke:#1f77b4;\" x=\"156.6071\" xlink:href=\"#m1493b95335\" y=\"79.034371\"/>\n     <use style=\"fill:#1f77b4;stroke:#1f77b4;\" x=\"177.238809\" xlink:href=\"#m1493b95335\" y=\"93.835868\"/>\n     <use style=\"fill:#1f77b4;stroke:#1f77b4;\" x=\"96.686425\" xlink:href=\"#m1493b95335\" y=\"48.060726\"/>\n     <use style=\"fill:#1f77b4;stroke:#1f77b4;\" x=\"111.781645\" xlink:href=\"#m1493b95335\" y=\"62.371177\"/>\n     <use style=\"fill:#1f77b4;stroke:#1f77b4;\" x=\"166.925027\" xlink:href=\"#m1493b95335\" y=\"95.774383\"/>\n     <use style=\"fill:#1f77b4;stroke:#1f77b4;\" x=\"176.833008\" xlink:href=\"#m1493b95335\" y=\"82.064042\"/>\n     <use style=\"fill:#1f77b4;stroke:#1f77b4;\" x=\"130.943451\" xlink:href=\"#m1493b95335\" y=\"50.364183\"/>\n     <use style=\"fill:#1f77b4;stroke:#1f77b4;\" x=\"162.992234\" xlink:href=\"#m1493b95335\" y=\"92.961731\"/>\n     <use style=\"fill:#1f77b4;stroke:#1f77b4;\" x=\"141.429763\" xlink:href=\"#m1493b95335\" y=\"78.685407\"/>\n     <use style=\"fill:#1f77b4;stroke:#1f77b4;\" x=\"166.838475\" xlink:href=\"#m1493b95335\" y=\"93.043725\"/>\n     <use style=\"fill:#1f77b4;stroke:#1f77b4;\" x=\"123.080159\" xlink:href=\"#m1493b95335\" y=\"54.681817\"/>\n     <use style=\"fill:#1f77b4;stroke:#1f77b4;\" x=\"151.919531\" xlink:href=\"#m1493b95335\" y=\"78.582434\"/>\n     <use style=\"fill:#1f77b4;stroke:#1f77b4;\" x=\"174.49356\" xlink:href=\"#m1493b95335\" y=\"96.909746\"/>\n     <use style=\"fill:#1f77b4;stroke:#1f77b4;\" x=\"165.455892\" xlink:href=\"#m1493b95335\" y=\"81.521252\"/>\n     <use style=\"fill:#1f77b4;stroke:#1f77b4;\" x=\"155.940313\" xlink:href=\"#m1493b95335\" y=\"82.062335\"/>\n     <use style=\"fill:#1f77b4;stroke:#1f77b4;\" x=\"150.238083\" xlink:href=\"#m1493b95335\" y=\"90.751657\"/>\n     <use style=\"fill:#1f77b4;stroke:#1f77b4;\" x=\"134.814153\" xlink:href=\"#m1493b95335\" y=\"55.57065\"/>\n     <use style=\"fill:#1f77b4;stroke:#1f77b4;\" x=\"140.026204\" xlink:href=\"#m1493b95335\" y=\"68.29728\"/>\n     <use style=\"fill:#1f77b4;stroke:#1f77b4;\" x=\"153.012716\" xlink:href=\"#m1493b95335\" y=\"80.559699\"/>\n     <use style=\"fill:#1f77b4;stroke:#1f77b4;\" x=\"167.186909\" xlink:href=\"#m1493b95335\" y=\"86.322473\"/>\n     <use style=\"fill:#1f77b4;stroke:#1f77b4;\" x=\"156.048726\" xlink:href=\"#m1493b95335\" y=\"80.853857\"/>\n     <use style=\"fill:#1f77b4;stroke:#1f77b4;\" x=\"136.648114\" xlink:href=\"#m1493b95335\" y=\"63.818087\"/>\n     <use style=\"fill:#1f77b4;stroke:#1f77b4;\" x=\"185.107133\" xlink:href=\"#m1493b95335\" y=\"101.631491\"/>\n     <use style=\"fill:#1f77b4;stroke:#1f77b4;\" x=\"148.892849\" xlink:href=\"#m1493b95335\" y=\"76.645934\"/>\n     <use style=\"fill:#1f77b4;stroke:#1f77b4;\" x=\"139.299154\" xlink:href=\"#m1493b95335\" y=\"79.54768\"/>\n     <use style=\"fill:#1f77b4;stroke:#1f77b4;\" x=\"163.270444\" xlink:href=\"#m1493b95335\" y=\"107.813085\"/>\n     <use style=\"fill:#1f77b4;stroke:#1f77b4;\" x=\"110.104635\" xlink:href=\"#m1493b95335\" y=\"63.743997\"/>\n     <use style=\"fill:#1f77b4;stroke:#1f77b4;\" x=\"131.213127\" xlink:href=\"#m1493b95335\" y=\"83.609728\"/>\n     <use style=\"fill:#1f77b4;stroke:#1f77b4;\" x=\"103.200508\" xlink:href=\"#m1493b95335\" y=\"56.820276\"/>\n     <use style=\"fill:#1f77b4;stroke:#1f77b4;\" x=\"117.242383\" xlink:href=\"#m1493b95335\" y=\"32.168206\"/>\n     <use style=\"fill:#1f77b4;stroke:#1f77b4;\" x=\"161.564136\" xlink:href=\"#m1493b95335\" y=\"100.788304\"/>\n     <use style=\"fill:#1f77b4;stroke:#1f77b4;\" x=\"154.511707\" xlink:href=\"#m1493b95335\" y=\"89.202205\"/>\n     <use style=\"fill:#1f77b4;stroke:#1f77b4;\" x=\"112.144248\" xlink:href=\"#m1493b95335\" y=\"63.148718\"/>\n     <use style=\"fill:#1f77b4;stroke:#1f77b4;\" x=\"160.509492\" xlink:href=\"#m1493b95335\" y=\"79.011593\"/>\n     <use style=\"fill:#1f77b4;stroke:#1f77b4;\" x=\"140.350226\" xlink:href=\"#m1493b95335\" y=\"88.826454\"/>\n     <use style=\"fill:#1f77b4;stroke:#1f77b4;\" x=\"119.095182\" xlink:href=\"#m1493b95335\" y=\"61.118169\"/>\n     <use style=\"fill:#1f77b4;stroke:#1f77b4;\" x=\"151.226291\" xlink:href=\"#m1493b95335\" y=\"74.290092\"/>\n     <use style=\"fill:#1f77b4;stroke:#1f77b4;\" x=\"109.772066\" xlink:href=\"#m1493b95335\" y=\"56.595272\"/>\n     <use style=\"fill:#1f77b4;stroke:#1f77b4;\" x=\"156.163938\" xlink:href=\"#m1493b95335\" y=\"99.134187\"/>\n     <use style=\"fill:#1f77b4;stroke:#1f77b4;\" x=\"130.704841\" xlink:href=\"#m1493b95335\" y=\"72.530381\"/>\n     <use style=\"fill:#1f77b4;stroke:#1f77b4;\" x=\"75.596883\" xlink:href=\"#m1493b95335\" y=\"47.264757\"/>\n     <use style=\"fill:#1f77b4;stroke:#1f77b4;\" x=\"143.973642\" xlink:href=\"#m1493b95335\" y=\"75.425977\"/>\n     <use style=\"fill:#1f77b4;stroke:#1f77b4;\" x=\"135.928319\" xlink:href=\"#m1493b95335\" y=\"82.35471\"/>\n     <use style=\"fill:#1f77b4;stroke:#1f77b4;\" x=\"180.819645\" xlink:href=\"#m1493b95335\" y=\"96.595063\"/>\n     <use style=\"fill:#1f77b4;stroke:#1f77b4;\" x=\"101.177782\" xlink:href=\"#m1493b95335\" y=\"57.210007\"/>\n     <use style=\"fill:#1f77b4;stroke:#1f77b4;\" x=\"178.488515\" xlink:href=\"#m1493b95335\" y=\"93.488808\"/>\n     <use style=\"fill:#1f77b4;stroke:#1f77b4;\" x=\"97.892926\" xlink:href=\"#m1493b95335\" y=\"50.527619\"/>\n     <use style=\"fill:#1f77b4;stroke:#1f77b4;\" x=\"193.448866\" xlink:href=\"#m1493b95335\" y=\"102.351983\"/>\n     <use style=\"fill:#1f77b4;stroke:#1f77b4;\" x=\"111.535524\" xlink:href=\"#m1493b95335\" y=\"39.651065\"/>\n     <use style=\"fill:#1f77b4;stroke:#1f77b4;\" x=\"154.622896\" xlink:href=\"#m1493b95335\" y=\"79.580957\"/>\n     <use style=\"fill:#1f77b4;stroke:#1f77b4;\" x=\"154.091693\" xlink:href=\"#m1493b95335\" y=\"78.490295\"/>\n     <use style=\"fill:#1f77b4;stroke:#1f77b4;\" x=\"106.704349\" xlink:href=\"#m1493b95335\" y=\"60.01521\"/>\n     <use style=\"fill:#1f77b4;stroke:#1f77b4;\" x=\"148.835311\" xlink:href=\"#m1493b95335\" y=\"72.985884\"/>\n     <use style=\"fill:#1f77b4;stroke:#1f77b4;\" x=\"156.738609\" xlink:href=\"#m1493b95335\" y=\"83.7265\"/>\n     <use style=\"fill:#1f77b4;stroke:#1f77b4;\" x=\"172.658017\" xlink:href=\"#m1493b95335\" y=\"89.476427\"/>\n     <use style=\"fill:#1f77b4;stroke:#1f77b4;\" x=\"152.249784\" xlink:href=\"#m1493b95335\" y=\"79.421941\"/>\n     <use style=\"fill:#1f77b4;stroke:#1f77b4;\" x=\"143.997043\" xlink:href=\"#m1493b95335\" y=\"84.940891\"/>\n     <use style=\"fill:#1f77b4;stroke:#1f77b4;\" x=\"151.677674\" xlink:href=\"#m1493b95335\" y=\"76.623335\"/>\n     <use style=\"fill:#1f77b4;stroke:#1f77b4;\" x=\"131.766602\" xlink:href=\"#m1493b95335\" y=\"63.501342\"/>\n     <use style=\"fill:#1f77b4;stroke:#1f77b4;\" x=\"165.999429\" xlink:href=\"#m1493b95335\" y=\"94.604118\"/>\n     <use style=\"fill:#1f77b4;stroke:#1f77b4;\" x=\"110.80073\" xlink:href=\"#m1493b95335\" y=\"61.522396\"/>\n     <use style=\"fill:#1f77b4;stroke:#1f77b4;\" x=\"131.155629\" xlink:href=\"#m1493b95335\" y=\"64.680364\"/>\n     <use style=\"fill:#1f77b4;stroke:#1f77b4;\" x=\"186.075108\" xlink:href=\"#m1493b95335\" y=\"96.755693\"/>\n     <use style=\"fill:#1f77b4;stroke:#1f77b4;\" x=\"77.654181\" xlink:href=\"#m1493b95335\" y=\"42.243546\"/>\n     <use style=\"fill:#1f77b4;stroke:#1f77b4;\" x=\"190.898333\" xlink:href=\"#m1493b95335\" y=\"101.083881\"/>\n     <use style=\"fill:#1f77b4;stroke:#1f77b4;\" x=\"148.16142\" xlink:href=\"#m1493b95335\" y=\"79.317343\"/>\n     <use style=\"fill:#1f77b4;stroke:#1f77b4;\" x=\"149.8531\" xlink:href=\"#m1493b95335\" y=\"83.294996\"/>\n     <use style=\"fill:#1f77b4;stroke:#1f77b4;\" x=\"126.30737\" xlink:href=\"#m1493b95335\" y=\"68.871043\"/>\n     <use style=\"fill:#1f77b4;stroke:#1f77b4;\" x=\"106.991949\" xlink:href=\"#m1493b95335\" y=\"50.159085\"/>\n     <use style=\"fill:#1f77b4;stroke:#1f77b4;\" x=\"134.10875\" xlink:href=\"#m1493b95335\" y=\"61.198978\"/>\n     <use style=\"fill:#1f77b4;stroke:#1f77b4;\" x=\"159.141429\" xlink:href=\"#m1493b95335\" y=\"113.862932\"/>\n     <use style=\"fill:#1f77b4;stroke:#1f77b4;\" x=\"151.641553\" xlink:href=\"#m1493b95335\" y=\"94.982803\"/>\n     <use style=\"fill:#1f77b4;stroke:#1f77b4;\" x=\"135.870825\" xlink:href=\"#m1493b95335\" y=\"71.841831\"/>\n     <use style=\"fill:#1f77b4;stroke:#1f77b4;\" x=\"157.081139\" xlink:href=\"#m1493b95335\" y=\"80.646977\"/>\n     <use style=\"fill:#1f77b4;stroke:#1f77b4;\" x=\"116.503846\" xlink:href=\"#m1493b95335\" y=\"65.064918\"/>\n     <use style=\"fill:#1f77b4;stroke:#1f77b4;\" x=\"134.822982\" xlink:href=\"#m1493b95335\" y=\"83.316131\"/>\n     <use style=\"fill:#1f77b4;stroke:#1f77b4;\" x=\"148.19646\" xlink:href=\"#m1493b95335\" y=\"69.523673\"/>\n     <use style=\"fill:#1f77b4;stroke:#1f77b4;\" x=\"172.576178\" xlink:href=\"#m1493b95335\" y=\"108.046717\"/>\n     <use style=\"fill:#1f77b4;stroke:#1f77b4;\" x=\"124.88718\" xlink:href=\"#m1493b95335\" y=\"67.329572\"/>\n     <use style=\"fill:#1f77b4;stroke:#1f77b4;\" x=\"124.882372\" xlink:href=\"#m1493b95335\" y=\"64.994169\"/>\n     <use style=\"fill:#1f77b4;stroke:#1f77b4;\" x=\"148.855545\" xlink:href=\"#m1493b95335\" y=\"81.174995\"/>\n     <use style=\"fill:#1f77b4;stroke:#1f77b4;\" x=\"140.318074\" xlink:href=\"#m1493b95335\" y=\"75.151514\"/>\n     <use style=\"fill:#1f77b4;stroke:#1f77b4;\" x=\"134.231947\" xlink:href=\"#m1493b95335\" y=\"66.883844\"/>\n     <use style=\"fill:#1f77b4;stroke:#1f77b4;\" x=\"175.03388\" xlink:href=\"#m1493b95335\" y=\"111.902817\"/>\n     <use style=\"fill:#1f77b4;stroke:#1f77b4;\" x=\"170.027497\" xlink:href=\"#m1493b95335\" y=\"86.039438\"/>\n     <use style=\"fill:#1f77b4;stroke:#1f77b4;\" x=\"138.113287\" xlink:href=\"#m1493b95335\" y=\"70.662862\"/>\n     <use style=\"fill:#1f77b4;stroke:#1f77b4;\" x=\"115.988159\" xlink:href=\"#m1493b95335\" y=\"74.872022\"/>\n     <use style=\"fill:#1f77b4;stroke:#1f77b4;\" x=\"138.088013\" xlink:href=\"#m1493b95335\" y=\"62.986941\"/>\n     <use style=\"fill:#1f77b4;stroke:#1f77b4;\" x=\"131.007447\" xlink:href=\"#m1493b95335\" y=\"76.743854\"/>\n     <use style=\"fill:#1f77b4;stroke:#1f77b4;\" x=\"132.406632\" xlink:href=\"#m1493b95335\" y=\"77.285457\"/>\n     <use style=\"fill:#1f77b4;stroke:#1f77b4;\" x=\"125.441753\" xlink:href=\"#m1493b95335\" y=\"60.470413\"/>\n     <use style=\"fill:#1f77b4;stroke:#1f77b4;\" x=\"126.823404\" xlink:href=\"#m1493b95335\" y=\"77.355213\"/>\n     <use style=\"fill:#1f77b4;stroke:#1f77b4;\" x=\"153.699219\" xlink:href=\"#m1493b95335\" y=\"83.784538\"/>\n     <use style=\"fill:#1f77b4;stroke:#1f77b4;\" x=\"102.311341\" xlink:href=\"#m1493b95335\" y=\"48.533101\"/>\n     <use style=\"fill:#1f77b4;stroke:#1f77b4;\" x=\"199.24662\" xlink:href=\"#m1493b95335\" y=\"113.609733\"/>\n     <use style=\"fill:#1f77b4;stroke:#1f77b4;\" x=\"146.709366\" xlink:href=\"#m1493b95335\" y=\"76.800077\"/>\n     <use style=\"fill:#1f77b4;stroke:#1f77b4;\" x=\"122.288239\" xlink:href=\"#m1493b95335\" y=\"69.833085\"/>\n     <use style=\"fill:#1f77b4;stroke:#1f77b4;\" x=\"161.633595\" xlink:href=\"#m1493b95335\" y=\"98.001187\"/>\n     <use style=\"fill:#1f77b4;stroke:#1f77b4;\" x=\"169.033811\" xlink:href=\"#m1493b95335\" y=\"104.119482\"/>\n     <use style=\"fill:#1f77b4;stroke:#1f77b4;\" x=\"106.730226\" xlink:href=\"#m1493b95335\" y=\"43.746953\"/>\n     <use style=\"fill:#1f77b4;stroke:#1f77b4;\" x=\"129.916718\" xlink:href=\"#m1493b95335\" y=\"67.099047\"/>\n     <use style=\"fill:#1f77b4;stroke:#1f77b4;\" x=\"116.603802\" xlink:href=\"#m1493b95335\" y=\"60.401823\"/>\n     <use style=\"fill:#1f77b4;stroke:#1f77b4;\" x=\"133.672251\" xlink:href=\"#m1493b95335\" y=\"60.446051\"/>\n     <use style=\"fill:#1f77b4;stroke:#1f77b4;\" x=\"162.418649\" xlink:href=\"#m1493b95335\" y=\"87.494385\"/>\n     <use style=\"fill:#1f77b4;stroke:#1f77b4;\" x=\"101.40813\" xlink:href=\"#m1493b95335\" y=\"65.898594\"/>\n     <use style=\"fill:#1f77b4;stroke:#1f77b4;\" x=\"163.129171\" xlink:href=\"#m1493b95335\" y=\"98.505967\"/>\n     <use style=\"fill:#1f77b4;stroke:#1f77b4;\" x=\"147.578171\" xlink:href=\"#m1493b95335\" y=\"96.878836\"/>\n     <use style=\"fill:#1f77b4;stroke:#1f77b4;\" x=\"124.390626\" xlink:href=\"#m1493b95335\" y=\"82.202281\"/>\n     <use style=\"fill:#1f77b4;stroke:#1f77b4;\" x=\"101.64106\" xlink:href=\"#m1493b95335\" y=\"50.050326\"/>\n     <use style=\"fill:#1f77b4;stroke:#1f77b4;\" x=\"133.851347\" xlink:href=\"#m1493b95335\" y=\"64.442925\"/>\n     <use style=\"fill:#1f77b4;stroke:#1f77b4;\" x=\"139.49313\" xlink:href=\"#m1493b95335\" y=\"73.461488\"/>\n     <use style=\"fill:#1f77b4;stroke:#1f77b4;\" x=\"151.053963\" xlink:href=\"#m1493b95335\" y=\"87.12347\"/>\n     <use style=\"fill:#1f77b4;stroke:#1f77b4;\" x=\"199.261359\" xlink:href=\"#m1493b95335\" y=\"121.040518\"/>\n     <use style=\"fill:#1f77b4;stroke:#1f77b4;\" x=\"85.871545\" xlink:href=\"#m1493b95335\" y=\"54.53332\"/>\n     <use style=\"fill:#1f77b4;stroke:#1f77b4;\" x=\"106.596941\" xlink:href=\"#m1493b95335\" y=\"39.891129\"/>\n     <use style=\"fill:#1f77b4;stroke:#1f77b4;\" x=\"157.447345\" xlink:href=\"#m1493b95335\" y=\"73.74606\"/>\n     <use style=\"fill:#1f77b4;stroke:#1f77b4;\" x=\"93.690505\" xlink:href=\"#m1493b95335\" y=\"35.161439\"/>\n     <use style=\"fill:#1f77b4;stroke:#1f77b4;\" x=\"109.545035\" xlink:href=\"#m1493b95335\" y=\"64.564432\"/>\n     <use style=\"fill:#1f77b4;stroke:#1f77b4;\" x=\"127.313589\" xlink:href=\"#m1493b95335\" y=\"64.522538\"/>\n     <use style=\"fill:#1f77b4;stroke:#1f77b4;\" x=\"121.18681\" xlink:href=\"#m1493b95335\" y=\"76.658387\"/>\n     <use style=\"fill:#1f77b4;stroke:#1f77b4;\" x=\"150.075555\" xlink:href=\"#m1493b95335\" y=\"83.103522\"/>\n     <use style=\"fill:#1f77b4;stroke:#1f77b4;\" x=\"128.44341\" xlink:href=\"#m1493b95335\" y=\"63.924798\"/>\n     <use style=\"fill:#1f77b4;stroke:#1f77b4;\" x=\"130.507994\" xlink:href=\"#m1493b95335\" y=\"53.720455\"/>\n     <use style=\"fill:#1f77b4;stroke:#1f77b4;\" x=\"138.86053\" xlink:href=\"#m1493b95335\" y=\"61.812075\"/>\n     <use style=\"fill:#1f77b4;stroke:#1f77b4;\" x=\"108.750152\" xlink:href=\"#m1493b95335\" y=\"58.064679\"/>\n     <use style=\"fill:#1f77b4;stroke:#1f77b4;\" x=\"152.284282\" xlink:href=\"#m1493b95335\" y=\"92.211088\"/>\n     <use style=\"fill:#1f77b4;stroke:#1f77b4;\" x=\"90.136666\" xlink:href=\"#m1493b95335\" y=\"32.821316\"/>\n     <use style=\"fill:#1f77b4;stroke:#1f77b4;\" x=\"161.445122\" xlink:href=\"#m1493b95335\" y=\"84.577027\"/>\n     <use style=\"fill:#1f77b4;stroke:#1f77b4;\" x=\"66.699597\" xlink:href=\"#m1493b95335\" y=\"39.381916\"/>\n     <use style=\"fill:#1f77b4;stroke:#1f77b4;\" x=\"155.160667\" xlink:href=\"#m1493b95335\" y=\"92.113564\"/>\n     <use style=\"fill:#1f77b4;stroke:#1f77b4;\" x=\"141.694186\" xlink:href=\"#m1493b95335\" y=\"79.558677\"/>\n     <use style=\"fill:#1f77b4;stroke:#1f77b4;\" x=\"134.127333\" xlink:href=\"#m1493b95335\" y=\"52.748229\"/>\n     <use style=\"fill:#1f77b4;stroke:#1f77b4;\" x=\"112.865561\" xlink:href=\"#m1493b95335\" y=\"54.350561\"/>\n     <use style=\"fill:#1f77b4;stroke:#1f77b4;\" x=\"144.69973\" xlink:href=\"#m1493b95335\" y=\"71.983272\"/>\n     <use style=\"fill:#1f77b4;stroke:#1f77b4;\" x=\"158.728228\" xlink:href=\"#m1493b95335\" y=\"85.185532\"/>\n     <use style=\"fill:#1f77b4;stroke:#1f77b4;\" x=\"164.053485\" xlink:href=\"#m1493b95335\" y=\"91.920144\"/>\n     <use style=\"fill:#1f77b4;stroke:#1f77b4;\" x=\"140.955625\" xlink:href=\"#m1493b95335\" y=\"63.53277\"/>\n     <use style=\"fill:#1f77b4;stroke:#1f77b4;\" x=\"113.18834\" xlink:href=\"#m1493b95335\" y=\"59.462663\"/>\n     <use style=\"fill:#1f77b4;stroke:#1f77b4;\" x=\"90.018641\" xlink:href=\"#m1493b95335\" y=\"43.077255\"/>\n     <use style=\"fill:#1f77b4;stroke:#1f77b4;\" x=\"114.75507\" xlink:href=\"#m1493b95335\" y=\"56.625741\"/>\n     <use style=\"fill:#1f77b4;stroke:#1f77b4;\" x=\"120.266366\" xlink:href=\"#m1493b95335\" y=\"85.924968\"/>\n     <use style=\"fill:#1f77b4;stroke:#1f77b4;\" x=\"148.202627\" xlink:href=\"#m1493b95335\" y=\"92.602918\"/>\n     <use style=\"fill:#1f77b4;stroke:#1f77b4;\" x=\"182.376836\" xlink:href=\"#m1493b95335\" y=\"115.744214\"/>\n     <use style=\"fill:#1f77b4;stroke:#1f77b4;\" x=\"109.547976\" xlink:href=\"#m1493b95335\" y=\"54.413608\"/>\n     <use style=\"fill:#1f77b4;stroke:#1f77b4;\" x=\"128.968366\" xlink:href=\"#m1493b95335\" y=\"59.076309\"/>\n     <use style=\"fill:#1f77b4;stroke:#1f77b4;\" x=\"106.651481\" xlink:href=\"#m1493b95335\" y=\"62.730447\"/>\n     <use style=\"fill:#1f77b4;stroke:#1f77b4;\" x=\"166.50113\" xlink:href=\"#m1493b95335\" y=\"83.680698\"/>\n     <use style=\"fill:#1f77b4;stroke:#1f77b4;\" x=\"151.384821\" xlink:href=\"#m1493b95335\" y=\"89.286818\"/>\n     <use style=\"fill:#1f77b4;stroke:#1f77b4;\" x=\"156.081245\" xlink:href=\"#m1493b95335\" y=\"90.503534\"/>\n     <use style=\"fill:#1f77b4;stroke:#1f77b4;\" x=\"134.978534\" xlink:href=\"#m1493b95335\" y=\"81.046066\"/>\n     <use style=\"fill:#1f77b4;stroke:#1f77b4;\" x=\"137.099699\" xlink:href=\"#m1493b95335\" y=\"68.602991\"/>\n     <use style=\"fill:#1f77b4;stroke:#1f77b4;\" x=\"103.197569\" xlink:href=\"#m1493b95335\" y=\"58.982417\"/>\n     <use style=\"fill:#1f77b4;stroke:#1f77b4;\" x=\"149.783476\" xlink:href=\"#m1493b95335\" y=\"80.895427\"/>\n     <use style=\"fill:#1f77b4;stroke:#1f77b4;\" x=\"196.056644\" xlink:href=\"#m1493b95335\" y=\"104.538067\"/>\n     <use style=\"fill:#1f77b4;stroke:#1f77b4;\" x=\"149.5504\" xlink:href=\"#m1493b95335\" y=\"70.822969\"/>\n     <use style=\"fill:#1f77b4;stroke:#1f77b4;\" x=\"164.978268\" xlink:href=\"#m1493b95335\" y=\"75.496741\"/>\n     <use style=\"fill:#1f77b4;stroke:#1f77b4;\" x=\"170.067935\" xlink:href=\"#m1493b95335\" y=\"116.158857\"/>\n     <use style=\"fill:#1f77b4;stroke:#1f77b4;\" x=\"103.604417\" xlink:href=\"#m1493b95335\" y=\"37.707883\"/>\n     <use style=\"fill:#1f77b4;stroke:#1f77b4;\" x=\"161.989657\" xlink:href=\"#m1493b95335\" y=\"95.295714\"/>\n     <use style=\"fill:#1f77b4;stroke:#1f77b4;\" x=\"88.955038\" xlink:href=\"#m1493b95335\" y=\"55.421319\"/>\n     <use style=\"fill:#1f77b4;stroke:#1f77b4;\" x=\"136.854889\" xlink:href=\"#m1493b95335\" y=\"69.085391\"/>\n     <use style=\"fill:#1f77b4;stroke:#1f77b4;\" x=\"153.207934\" xlink:href=\"#m1493b95335\" y=\"90.913883\"/>\n     <use style=\"fill:#1f77b4;stroke:#1f77b4;\" x=\"86.74473\" xlink:href=\"#m1493b95335\" y=\"58.53775\"/>\n     <use style=\"fill:#1f77b4;stroke:#1f77b4;\" x=\"103.515857\" xlink:href=\"#m1493b95335\" y=\"62.98324\"/>\n     <use style=\"fill:#1f77b4;stroke:#1f77b4;\" x=\"182.926517\" xlink:href=\"#m1493b95335\" y=\"101.761791\"/>\n     <use style=\"fill:#1f77b4;stroke:#1f77b4;\" x=\"124.667989\" xlink:href=\"#m1493b95335\" y=\"65.853442\"/>\n     <use style=\"fill:#1f77b4;stroke:#1f77b4;\" x=\"123.703299\" xlink:href=\"#m1493b95335\" y=\"67.716933\"/>\n     <use style=\"fill:#1f77b4;stroke:#1f77b4;\" x=\"181.510766\" xlink:href=\"#m1493b95335\" y=\"91.299979\"/>\n     <use style=\"fill:#1f77b4;stroke:#1f77b4;\" x=\"140.123116\" xlink:href=\"#m1493b95335\" y=\"74.375317\"/>\n     <use style=\"fill:#1f77b4;stroke:#1f77b4;\" x=\"107.506169\" xlink:href=\"#m1493b95335\" y=\"52.822422\"/>\n     <use style=\"fill:#1f77b4;stroke:#1f77b4;\" x=\"115.477294\" xlink:href=\"#m1493b95335\" y=\"48.27922\"/>\n     <use style=\"fill:#1f77b4;stroke:#1f77b4;\" x=\"98.344281\" xlink:href=\"#m1493b95335\" y=\"51.52821\"/>\n     <use style=\"fill:#1f77b4;stroke:#1f77b4;\" x=\"157.1633\" xlink:href=\"#m1493b95335\" y=\"85.423117\"/>\n     <use style=\"fill:#1f77b4;stroke:#1f77b4;\" x=\"125.945555\" xlink:href=\"#m1493b95335\" y=\"46.648217\"/>\n     <use style=\"fill:#1f77b4;stroke:#1f77b4;\" x=\"136.525654\" xlink:href=\"#m1493b95335\" y=\"69.337509\"/>\n     <use style=\"fill:#1f77b4;stroke:#1f77b4;\" x=\"131.00543\" xlink:href=\"#m1493b95335\" y=\"72.488999\"/>\n     <use style=\"fill:#1f77b4;stroke:#1f77b4;\" x=\"136.693834\" xlink:href=\"#m1493b95335\" y=\"83.36849\"/>\n     <use style=\"fill:#1f77b4;stroke:#1f77b4;\" x=\"125.364552\" xlink:href=\"#m1493b95335\" y=\"68.699459\"/>\n     <use style=\"fill:#1f77b4;stroke:#1f77b4;\" x=\"120.361727\" xlink:href=\"#m1493b95335\" y=\"65.3144\"/>\n     <use style=\"fill:#1f77b4;stroke:#1f77b4;\" x=\"139.032102\" xlink:href=\"#m1493b95335\" y=\"70.339551\"/>\n     <use style=\"fill:#1f77b4;stroke:#1f77b4;\" x=\"179.921713\" xlink:href=\"#m1493b95335\" y=\"96.145149\"/>\n     <use style=\"fill:#1f77b4;stroke:#1f77b4;\" x=\"116.842199\" xlink:href=\"#m1493b95335\" y=\"71.971249\"/>\n     <use style=\"fill:#1f77b4;stroke:#1f77b4;\" x=\"115.9792\" xlink:href=\"#m1493b95335\" y=\"44.356321\"/>\n     <use style=\"fill:#1f77b4;stroke:#1f77b4;\" x=\"78.32876\" xlink:href=\"#m1493b95335\" y=\"52.367351\"/>\n     <use style=\"fill:#1f77b4;stroke:#1f77b4;\" x=\"171.519534\" xlink:href=\"#m1493b95335\" y=\"107.379958\"/>\n     <use style=\"fill:#1f77b4;stroke:#1f77b4;\" x=\"99.056554\" xlink:href=\"#m1493b95335\" y=\"65.583649\"/>\n     <use style=\"fill:#1f77b4;stroke:#1f77b4;\" x=\"151.799474\" xlink:href=\"#m1493b95335\" y=\"81.996777\"/>\n     <use style=\"fill:#1f77b4;stroke:#1f77b4;\" x=\"104.297444\" xlink:href=\"#m1493b95335\" y=\"46.247039\"/>\n     <use style=\"fill:#1f77b4;stroke:#1f77b4;\" x=\"125.087393\" xlink:href=\"#m1493b95335\" y=\"70.756505\"/>\n     <use style=\"fill:#1f77b4;stroke:#1f77b4;\" x=\"94.277571\" xlink:href=\"#m1493b95335\" y=\"45.390109\"/>\n     <use style=\"fill:#1f77b4;stroke:#1f77b4;\" x=\"167.753066\" xlink:href=\"#m1493b95335\" y=\"102.275248\"/>\n     <use style=\"fill:#1f77b4;stroke:#1f77b4;\" x=\"128.803404\" xlink:href=\"#m1493b95335\" y=\"59.077592\"/>\n     <use style=\"fill:#1f77b4;stroke:#1f77b4;\" x=\"140.636979\" xlink:href=\"#m1493b95335\" y=\"78.975423\"/>\n     <use style=\"fill:#1f77b4;stroke:#1f77b4;\" x=\"148.496013\" xlink:href=\"#m1493b95335\" y=\"83.563846\"/>\n     <use style=\"fill:#1f77b4;stroke:#1f77b4;\" x=\"88.158868\" xlink:href=\"#m1493b95335\" y=\"40.421109\"/>\n     <use style=\"fill:#1f77b4;stroke:#1f77b4;\" x=\"129.982891\" xlink:href=\"#m1493b95335\" y=\"68.216215\"/>\n     <use style=\"fill:#1f77b4;stroke:#1f77b4;\" x=\"120.827593\" xlink:href=\"#m1493b95335\" y=\"60.177511\"/>\n     <use style=\"fill:#1f77b4;stroke:#1f77b4;\" x=\"154.134988\" xlink:href=\"#m1493b95335\" y=\"72.912653\"/>\n     <use style=\"fill:#1f77b4;stroke:#1f77b4;\" x=\"107.474337\" xlink:href=\"#m1493b95335\" y=\"30.723637\"/>\n     <use style=\"fill:#1f77b4;stroke:#1f77b4;\" x=\"69.886247\" xlink:href=\"#m1493b95335\" y=\"18.81785\"/>\n     <use style=\"fill:#1f77b4;stroke:#1f77b4;\" x=\"119.093077\" xlink:href=\"#m1493b95335\" y=\"56.475052\"/>\n     <use style=\"fill:#1f77b4;stroke:#1f77b4;\" x=\"131.547323\" xlink:href=\"#m1493b95335\" y=\"62.219779\"/>\n     <use style=\"fill:#1f77b4;stroke:#1f77b4;\" x=\"143.881939\" xlink:href=\"#m1493b95335\" y=\"75.199382\"/>\n     <use style=\"fill:#1f77b4;stroke:#1f77b4;\" x=\"93.901368\" xlink:href=\"#m1493b95335\" y=\"39.127011\"/>\n     <use style=\"fill:#1f77b4;stroke:#1f77b4;\" x=\"171.904131\" xlink:href=\"#m1493b95335\" y=\"82.258829\"/>\n     <use style=\"fill:#1f77b4;stroke:#1f77b4;\" x=\"128.541477\" xlink:href=\"#m1493b95335\" y=\"71.303517\"/>\n     <use style=\"fill:#1f77b4;stroke:#1f77b4;\" x=\"107.134258\" xlink:href=\"#m1493b95335\" y=\"52.93926\"/>\n     <use style=\"fill:#1f77b4;stroke:#1f77b4;\" x=\"141.387968\" xlink:href=\"#m1493b95335\" y=\"59.691863\"/>\n     <use style=\"fill:#1f77b4;stroke:#1f77b4;\" x=\"142.13853\" xlink:href=\"#m1493b95335\" y=\"69.130849\"/>\n     <use style=\"fill:#1f77b4;stroke:#1f77b4;\" x=\"114.2129\" xlink:href=\"#m1493b95335\" y=\"55.740777\"/>\n     <use style=\"fill:#1f77b4;stroke:#1f77b4;\" x=\"45.712035\" xlink:href=\"#m1493b95335\" y=\"32.695992\"/>\n     <use style=\"fill:#1f77b4;stroke:#1f77b4;\" x=\"144.413877\" xlink:href=\"#m1493b95335\" y=\"73.215574\"/>\n     <use style=\"fill:#1f77b4;stroke:#1f77b4;\" x=\"200.586367\" xlink:href=\"#m1493b95335\" y=\"110.245415\"/>\n     <use style=\"fill:#1f77b4;stroke:#1f77b4;\" x=\"129.490689\" xlink:href=\"#m1493b95335\" y=\"53.142685\"/>\n     <use style=\"fill:#1f77b4;stroke:#1f77b4;\" x=\"169.563046\" xlink:href=\"#m1493b95335\" y=\"99.191155\"/>\n     <use style=\"fill:#1f77b4;stroke:#1f77b4;\" x=\"192.193586\" xlink:href=\"#m1493b95335\" y=\"114.211612\"/>\n     <use style=\"fill:#1f77b4;stroke:#1f77b4;\" x=\"152.612924\" xlink:href=\"#m1493b95335\" y=\"77.208646\"/>\n     <use style=\"fill:#1f77b4;stroke:#1f77b4;\" x=\"164.679813\" xlink:href=\"#m1493b95335\" y=\"100.451027\"/>\n     <use style=\"fill:#1f77b4;stroke:#1f77b4;\" x=\"136.556209\" xlink:href=\"#m1493b95335\" y=\"73.556888\"/>\n     <use style=\"fill:#1f77b4;stroke:#1f77b4;\" x=\"210.612042\" xlink:href=\"#m1493b95335\" y=\"120.930652\"/>\n     <use style=\"fill:#1f77b4;stroke:#1f77b4;\" x=\"110.759812\" xlink:href=\"#m1493b95335\" y=\"64.667342\"/>\n     <use style=\"fill:#1f77b4;stroke:#1f77b4;\" x=\"169.295405\" xlink:href=\"#m1493b95335\" y=\"93.631131\"/>\n     <use style=\"fill:#1f77b4;stroke:#1f77b4;\" x=\"114.926187\" xlink:href=\"#m1493b95335\" y=\"58.752102\"/>\n     <use style=\"fill:#1f77b4;stroke:#1f77b4;\" x=\"104.94208\" xlink:href=\"#m1493b95335\" y=\"39.889229\"/>\n     <use style=\"fill:#1f77b4;stroke:#1f77b4;\" x=\"140.820163\" xlink:href=\"#m1493b95335\" y=\"67.741256\"/>\n     <use style=\"fill:#1f77b4;stroke:#1f77b4;\" x=\"129.394785\" xlink:href=\"#m1493b95335\" y=\"38.137245\"/>\n     <use style=\"fill:#1f77b4;stroke:#1f77b4;\" x=\"137.580088\" xlink:href=\"#m1493b95335\" y=\"68.588416\"/>\n     <use style=\"fill:#1f77b4;stroke:#1f77b4;\" x=\"149.296759\" xlink:href=\"#m1493b95335\" y=\"71.31803\"/>\n     <use style=\"fill:#1f77b4;stroke:#1f77b4;\" x=\"134.973238\" xlink:href=\"#m1493b95335\" y=\"77.029402\"/>\n     <use style=\"fill:#1f77b4;stroke:#1f77b4;\" x=\"136.353779\" xlink:href=\"#m1493b95335\" y=\"67.80711\"/>\n     <use style=\"fill:#1f77b4;stroke:#1f77b4;\" x=\"154.071704\" xlink:href=\"#m1493b95335\" y=\"76.897223\"/>\n     <use style=\"fill:#1f77b4;stroke:#1f77b4;\" x=\"129.809633\" xlink:href=\"#m1493b95335\" y=\"66.236165\"/>\n     <use style=\"fill:#1f77b4;stroke:#1f77b4;\" x=\"125.925546\" xlink:href=\"#m1493b95335\" y=\"71.180421\"/>\n     <use style=\"fill:#1f77b4;stroke:#1f77b4;\" x=\"188.83771\" xlink:href=\"#m1493b95335\" y=\"94.359237\"/>\n     <use style=\"fill:#1f77b4;stroke:#1f77b4;\" x=\"113.930203\" xlink:href=\"#m1493b95335\" y=\"44.434303\"/>\n     <use style=\"fill:#1f77b4;stroke:#1f77b4;\" x=\"69.963497\" xlink:href=\"#m1493b95335\" y=\"14.667517\"/>\n     <use style=\"fill:#1f77b4;stroke:#1f77b4;\" x=\"117.10845\" xlink:href=\"#m1493b95335\" y=\"67.483756\"/>\n     <use style=\"fill:#1f77b4;stroke:#1f77b4;\" x=\"166.257105\" xlink:href=\"#m1493b95335\" y=\"98.104829\"/>\n     <use style=\"fill:#1f77b4;stroke:#1f77b4;\" x=\"148.388209\" xlink:href=\"#m1493b95335\" y=\"85.582971\"/>\n     <use style=\"fill:#1f77b4;stroke:#1f77b4;\" x=\"141.57126\" xlink:href=\"#m1493b95335\" y=\"93.76458\"/>\n     <use style=\"fill:#1f77b4;stroke:#1f77b4;\" x=\"129.907367\" xlink:href=\"#m1493b95335\" y=\"49.174565\"/>\n     <use style=\"fill:#1f77b4;stroke:#1f77b4;\" x=\"136.561103\" xlink:href=\"#m1493b95335\" y=\"71.300035\"/>\n     <use style=\"fill:#1f77b4;stroke:#1f77b4;\" x=\"157.373229\" xlink:href=\"#m1493b95335\" y=\"87.130437\"/>\n     <use style=\"fill:#1f77b4;stroke:#1f77b4;\" x=\"167.027548\" xlink:href=\"#m1493b95335\" y=\"101.709915\"/>\n     <use style=\"fill:#1f77b4;stroke:#1f77b4;\" x=\"141.804582\" xlink:href=\"#m1493b95335\" y=\"59.518406\"/>\n     <use style=\"fill:#1f77b4;stroke:#1f77b4;\" x=\"124.883389\" xlink:href=\"#m1493b95335\" y=\"70.366696\"/>\n     <use style=\"fill:#1f77b4;stroke:#1f77b4;\" x=\"171.36975\" xlink:href=\"#m1493b95335\" y=\"95.038528\"/>\n     <use style=\"fill:#1f77b4;stroke:#1f77b4;\" x=\"155.236582\" xlink:href=\"#m1493b95335\" y=\"73.153341\"/>\n     <use style=\"fill:#1f77b4;stroke:#1f77b4;\" x=\"112.647651\" xlink:href=\"#m1493b95335\" y=\"60.018064\"/>\n     <use style=\"fill:#1f77b4;stroke:#1f77b4;\" x=\"170.624591\" xlink:href=\"#m1493b95335\" y=\"97.524409\"/>\n     <use style=\"fill:#1f77b4;stroke:#1f77b4;\" x=\"144.422926\" xlink:href=\"#m1493b95335\" y=\"75.103418\"/>\n     <use style=\"fill:#1f77b4;stroke:#1f77b4;\" x=\"126.7918\" xlink:href=\"#m1493b95335\" y=\"58.398973\"/>\n     <use style=\"fill:#1f77b4;stroke:#1f77b4;\" x=\"125.723788\" xlink:href=\"#m1493b95335\" y=\"69.535086\"/>\n     <use style=\"fill:#1f77b4;stroke:#1f77b4;\" x=\"130.743394\" xlink:href=\"#m1493b95335\" y=\"66.603604\"/>\n     <use style=\"fill:#1f77b4;stroke:#1f77b4;\" x=\"44.18196\" xlink:href=\"#m1493b95335\" y=\"19.790897\"/>\n     <use style=\"fill:#1f77b4;stroke:#1f77b4;\" x=\"169.324556\" xlink:href=\"#m1493b95335\" y=\"87.64246\"/>\n     <use style=\"fill:#1f77b4;stroke:#1f77b4;\" x=\"181.616362\" xlink:href=\"#m1493b95335\" y=\"95.910316\"/>\n     <use style=\"fill:#1f77b4;stroke:#1f77b4;\" x=\"131.645761\" xlink:href=\"#m1493b95335\" y=\"71.101672\"/>\n     <use style=\"fill:#1f77b4;stroke:#1f77b4;\" x=\"180.64782\" xlink:href=\"#m1493b95335\" y=\"98.754726\"/>\n     <use style=\"fill:#1f77b4;stroke:#1f77b4;\" x=\"137.005939\" xlink:href=\"#m1493b95335\" y=\"62.718309\"/>\n     <use style=\"fill:#1f77b4;stroke:#1f77b4;\" x=\"139.848327\" xlink:href=\"#m1493b95335\" y=\"79.880735\"/>\n     <use style=\"fill:#1f77b4;stroke:#1f77b4;\" x=\"147.592624\" xlink:href=\"#m1493b95335\" y=\"75.451559\"/>\n     <use style=\"fill:#1f77b4;stroke:#1f77b4;\" x=\"112.416768\" xlink:href=\"#m1493b95335\" y=\"56.387155\"/>\n     <use style=\"fill:#1f77b4;stroke:#1f77b4;\" x=\"154.072919\" xlink:href=\"#m1493b95335\" y=\"101.287372\"/>\n     <use style=\"fill:#1f77b4;stroke:#1f77b4;\" x=\"135.356323\" xlink:href=\"#m1493b95335\" y=\"81.271661\"/>\n     <use style=\"fill:#1f77b4;stroke:#1f77b4;\" x=\"136.470563\" xlink:href=\"#m1493b95335\" y=\"75.056128\"/>\n     <use style=\"fill:#1f77b4;stroke:#1f77b4;\" x=\"146.983329\" xlink:href=\"#m1493b95335\" y=\"85.437837\"/>\n     <use style=\"fill:#1f77b4;stroke:#1f77b4;\" x=\"205.724991\" xlink:href=\"#m1493b95335\" y=\"107.6475\"/>\n     <use style=\"fill:#1f77b4;stroke:#1f77b4;\" x=\"97.688723\" xlink:href=\"#m1493b95335\" y=\"46.420394\"/>\n     <use style=\"fill:#1f77b4;stroke:#1f77b4;\" x=\"152.449335\" xlink:href=\"#m1493b95335\" y=\"87.904634\"/>\n     <use style=\"fill:#1f77b4;stroke:#1f77b4;\" x=\"147.004831\" xlink:href=\"#m1493b95335\" y=\"87.974737\"/>\n     <use style=\"fill:#1f77b4;stroke:#1f77b4;\" x=\"88.942876\" xlink:href=\"#m1493b95335\" y=\"51.541017\"/>\n     <use style=\"fill:#1f77b4;stroke:#1f77b4;\" x=\"120.948116\" xlink:href=\"#m1493b95335\" y=\"66.969493\"/>\n     <use style=\"fill:#1f77b4;stroke:#1f77b4;\" x=\"102.16201\" xlink:href=\"#m1493b95335\" y=\"69.473269\"/>\n     <use style=\"fill:#1f77b4;stroke:#1f77b4;\" x=\"133.482051\" xlink:href=\"#m1493b95335\" y=\"70.536008\"/>\n     <use style=\"fill:#1f77b4;stroke:#1f77b4;\" x=\"221.727415\" xlink:href=\"#m1493b95335\" y=\"119.07245\"/>\n     <use style=\"fill:#1f77b4;stroke:#1f77b4;\" x=\"146.779753\" xlink:href=\"#m1493b95335\" y=\"73.151827\"/>\n     <use style=\"fill:#1f77b4;stroke:#1f77b4;\" x=\"129.443296\" xlink:href=\"#m1493b95335\" y=\"57.842226\"/>\n     <use style=\"fill:#1f77b4;stroke:#1f77b4;\" x=\"100.820593\" xlink:href=\"#m1493b95335\" y=\"49.861276\"/>\n     <use style=\"fill:#1f77b4;stroke:#1f77b4;\" x=\"155.33349\" xlink:href=\"#m1493b95335\" y=\"93.062361\"/>\n     <use style=\"fill:#1f77b4;stroke:#1f77b4;\" x=\"137.211406\" xlink:href=\"#m1493b95335\" y=\"61.768373\"/>\n     <use style=\"fill:#1f77b4;stroke:#1f77b4;\" x=\"102.477634\" xlink:href=\"#m1493b95335\" y=\"37.242449\"/>\n     <use style=\"fill:#1f77b4;stroke:#1f77b4;\" x=\"118.730273\" xlink:href=\"#m1493b95335\" y=\"54.447885\"/>\n     <use style=\"fill:#1f77b4;stroke:#1f77b4;\" x=\"161.862169\" xlink:href=\"#m1493b95335\" y=\"83.215882\"/>\n     <use style=\"fill:#1f77b4;stroke:#1f77b4;\" x=\"175.800249\" xlink:href=\"#m1493b95335\" y=\"96.765723\"/>\n     <use style=\"fill:#1f77b4;stroke:#1f77b4;\" x=\"135.434539\" xlink:href=\"#m1493b95335\" y=\"71.042881\"/>\n     <use style=\"fill:#1f77b4;stroke:#1f77b4;\" x=\"136.821724\" xlink:href=\"#m1493b95335\" y=\"72.212183\"/>\n     <use style=\"fill:#1f77b4;stroke:#1f77b4;\" x=\"172.567019\" xlink:href=\"#m1493b95335\" y=\"92.372237\"/>\n     <use style=\"fill:#1f77b4;stroke:#1f77b4;\" x=\"142.487127\" xlink:href=\"#m1493b95335\" y=\"84.702239\"/>\n     <use style=\"fill:#1f77b4;stroke:#1f77b4;\" x=\"125.851424\" xlink:href=\"#m1493b95335\" y=\"67.428465\"/>\n     <use style=\"fill:#1f77b4;stroke:#1f77b4;\" x=\"173.505484\" xlink:href=\"#m1493b95335\" y=\"83.669133\"/>\n     <use style=\"fill:#1f77b4;stroke:#1f77b4;\" x=\"139.367954\" xlink:href=\"#m1493b95335\" y=\"71.733929\"/>\n     <use style=\"fill:#1f77b4;stroke:#1f77b4;\" x=\"149.457156\" xlink:href=\"#m1493b95335\" y=\"67.162359\"/>\n     <use style=\"fill:#1f77b4;stroke:#1f77b4;\" x=\"132.885691\" xlink:href=\"#m1493b95335\" y=\"49.324084\"/>\n     <use style=\"fill:#1f77b4;stroke:#1f77b4;\" x=\"126.703496\" xlink:href=\"#m1493b95335\" y=\"43.137997\"/>\n     <use style=\"fill:#1f77b4;stroke:#1f77b4;\" x=\"82.138198\" xlink:href=\"#m1493b95335\" y=\"13.377273\"/>\n     <use style=\"fill:#1f77b4;stroke:#1f77b4;\" x=\"209.795694\" xlink:href=\"#m1493b95335\" y=\"123.554692\"/>\n     <use style=\"fill:#1f77b4;stroke:#1f77b4;\" x=\"175.988516\" xlink:href=\"#m1493b95335\" y=\"96.985483\"/>\n     <use style=\"fill:#1f77b4;stroke:#1f77b4;\" x=\"145.054919\" xlink:href=\"#m1493b95335\" y=\"87.741496\"/>\n     <use style=\"fill:#1f77b4;stroke:#1f77b4;\" x=\"127.983052\" xlink:href=\"#m1493b95335\" y=\"73.751234\"/>\n     <use style=\"fill:#1f77b4;stroke:#1f77b4;\" x=\"74.281551\" xlink:href=\"#m1493b95335\" y=\"39.570054\"/>\n     <use style=\"fill:#1f77b4;stroke:#1f77b4;\" x=\"116.55834\" xlink:href=\"#m1493b95335\" y=\"52.767106\"/>\n     <use style=\"fill:#1f77b4;stroke:#1f77b4;\" x=\"166.198621\" xlink:href=\"#m1493b95335\" y=\"96.359241\"/>\n     <use style=\"fill:#1f77b4;stroke:#1f77b4;\" x=\"118.544108\" xlink:href=\"#m1493b95335\" y=\"76.223728\"/>\n     <use style=\"fill:#1f77b4;stroke:#1f77b4;\" x=\"110.288542\" xlink:href=\"#m1493b95335\" y=\"52.744997\"/>\n     <use style=\"fill:#1f77b4;stroke:#1f77b4;\" x=\"154.531887\" xlink:href=\"#m1493b95335\" y=\"89.550206\"/>\n     <use style=\"fill:#1f77b4;stroke:#1f77b4;\" x=\"207.142511\" xlink:href=\"#m1493b95335\" y=\"136.922727\"/>\n     <use style=\"fill:#1f77b4;stroke:#1f77b4;\" x=\"144.015314\" xlink:href=\"#m1493b95335\" y=\"84.193533\"/>\n     <use style=\"fill:#1f77b4;stroke:#1f77b4;\" x=\"143.163196\" xlink:href=\"#m1493b95335\" y=\"76.876229\"/>\n     <use style=\"fill:#1f77b4;stroke:#1f77b4;\" x=\"153.870977\" xlink:href=\"#m1493b95335\" y=\"72.013194\"/>\n     <use style=\"fill:#1f77b4;stroke:#1f77b4;\" x=\"126.484054\" xlink:href=\"#m1493b95335\" y=\"68.517345\"/>\n     <use style=\"fill:#1f77b4;stroke:#1f77b4;\" x=\"101.323964\" xlink:href=\"#m1493b95335\" y=\"51.703166\"/>\n     <use style=\"fill:#1f77b4;stroke:#1f77b4;\" x=\"113.905005\" xlink:href=\"#m1493b95335\" y=\"61.466074\"/>\n     <use style=\"fill:#1f77b4;stroke:#1f77b4;\" x=\"136.660326\" xlink:href=\"#m1493b95335\" y=\"91.786767\"/>\n     <use style=\"fill:#1f77b4;stroke:#1f77b4;\" x=\"118.213413\" xlink:href=\"#m1493b95335\" y=\"54.304908\"/>\n     <use style=\"fill:#1f77b4;stroke:#1f77b4;\" x=\"183.504059\" xlink:href=\"#m1493b95335\" y=\"91.921869\"/>\n     <use style=\"fill:#1f77b4;stroke:#1f77b4;\" x=\"144.870373\" xlink:href=\"#m1493b95335\" y=\"67.77755\"/>\n     <use style=\"fill:#1f77b4;stroke:#1f77b4;\" x=\"120.180343\" xlink:href=\"#m1493b95335\" y=\"69.951505\"/>\n     <use style=\"fill:#1f77b4;stroke:#1f77b4;\" x=\"146.747539\" xlink:href=\"#m1493b95335\" y=\"85.779127\"/>\n     <use style=\"fill:#1f77b4;stroke:#1f77b4;\" x=\"98.208176\" xlink:href=\"#m1493b95335\" y=\"44.087752\"/>\n     <use style=\"fill:#1f77b4;stroke:#1f77b4;\" x=\"107.952922\" xlink:href=\"#m1493b95335\" y=\"66.659822\"/>\n     <use style=\"fill:#1f77b4;stroke:#1f77b4;\" x=\"201.183457\" xlink:href=\"#m1493b95335\" y=\"116.14586\"/>\n     <use style=\"fill:#1f77b4;stroke:#1f77b4;\" x=\"145.033724\" xlink:href=\"#m1493b95335\" y=\"60.181743\"/>\n     <use style=\"fill:#1f77b4;stroke:#1f77b4;\" x=\"94.791629\" xlink:href=\"#m1493b95335\" y=\"42.721088\"/>\n     <use style=\"fill:#1f77b4;stroke:#1f77b4;\" x=\"163.461367\" xlink:href=\"#m1493b95335\" y=\"87.307197\"/>\n     <use style=\"fill:#1f77b4;stroke:#1f77b4;\" x=\"150.321528\" xlink:href=\"#m1493b95335\" y=\"81.418772\"/>\n     <use style=\"fill:#1f77b4;stroke:#1f77b4;\" x=\"98.171834\" xlink:href=\"#m1493b95335\" y=\"29.792538\"/>\n     <use style=\"fill:#1f77b4;stroke:#1f77b4;\" x=\"160.124222\" xlink:href=\"#m1493b95335\" y=\"78.406844\"/>\n     <use style=\"fill:#1f77b4;stroke:#1f77b4;\" x=\"210.263575\" xlink:href=\"#m1493b95335\" y=\"108.319986\"/>\n    </g>\n   </g>\n   <g id=\"matplotlib.axis_1\">\n    <g id=\"xtick_1\">\n     <g id=\"line2d_1\">\n      <defs>\n       <path d=\"M 0 0 \nL 0 3.5 \n\" id=\"m187c68318a\" style=\"stroke:#000000;stroke-width:0.8;\"/>\n      </defs>\n      <g>\n       <use style=\"stroke:#000000;stroke-width:0.8;\" x=\"80.806056\" xlink:href=\"#m187c68318a\" y=\"143.1\"/>\n      </g>\n     </g>\n     <g id=\"text_1\">\n      <!-- −2 -->\n      <defs>\n       <path d=\"M 10.59375 35.5 \nL 73.1875 35.5 \nL 73.1875 27.203125 \nL 10.59375 27.203125 \nz\n\" id=\"DejaVuSans-8722\"/>\n       <path d=\"M 19.1875 8.296875 \nL 53.609375 8.296875 \nL 53.609375 0 \nL 7.328125 0 \nL 7.328125 8.296875 \nQ 12.9375 14.109375 22.625 23.890625 \nQ 32.328125 33.6875 34.8125 36.53125 \nQ 39.546875 41.84375 41.421875 45.53125 \nQ 43.3125 49.21875 43.3125 52.78125 \nQ 43.3125 58.59375 39.234375 62.25 \nQ 35.15625 65.921875 28.609375 65.921875 \nQ 23.96875 65.921875 18.8125 64.3125 \nQ 13.671875 62.703125 7.8125 59.421875 \nL 7.8125 69.390625 \nQ 13.765625 71.78125 18.9375 73 \nQ 24.125 74.21875 28.421875 74.21875 \nQ 39.75 74.21875 46.484375 68.546875 \nQ 53.21875 62.890625 53.21875 53.421875 \nQ 53.21875 48.921875 51.53125 44.890625 \nQ 49.859375 40.875 45.40625 35.40625 \nQ 44.1875 33.984375 37.640625 27.21875 \nQ 31.109375 20.453125 19.1875 8.296875 \nz\n\" id=\"DejaVuSans-50\"/>\n      </defs>\n      <g transform=\"translate(73.434962 157.698438)scale(0.1 -0.1)\">\n       <use xlink:href=\"#DejaVuSans-8722\"/>\n       <use x=\"83.789062\" xlink:href=\"#DejaVuSans-50\"/>\n      </g>\n     </g>\n    </g>\n    <g id=\"xtick_2\">\n     <g id=\"line2d_2\">\n      <g>\n       <use style=\"stroke:#000000;stroke-width:0.8;\" x=\"136.401466\" xlink:href=\"#m187c68318a\" y=\"143.1\"/>\n      </g>\n     </g>\n     <g id=\"text_2\">\n      <!-- 0 -->\n      <defs>\n       <path d=\"M 31.78125 66.40625 \nQ 24.171875 66.40625 20.328125 58.90625 \nQ 16.5 51.421875 16.5 36.375 \nQ 16.5 21.390625 20.328125 13.890625 \nQ 24.171875 6.390625 31.78125 6.390625 \nQ 39.453125 6.390625 43.28125 13.890625 \nQ 47.125 21.390625 47.125 36.375 \nQ 47.125 51.421875 43.28125 58.90625 \nQ 39.453125 66.40625 31.78125 66.40625 \nz\nM 31.78125 74.21875 \nQ 44.046875 74.21875 50.515625 64.515625 \nQ 56.984375 54.828125 56.984375 36.375 \nQ 56.984375 17.96875 50.515625 8.265625 \nQ 44.046875 -1.421875 31.78125 -1.421875 \nQ 19.53125 -1.421875 13.0625 8.265625 \nQ 6.59375 17.96875 6.59375 36.375 \nQ 6.59375 54.828125 13.0625 64.515625 \nQ 19.53125 74.21875 31.78125 74.21875 \nz\n\" id=\"DejaVuSans-48\"/>\n      </defs>\n      <g transform=\"translate(133.220216 157.698438)scale(0.1 -0.1)\">\n       <use xlink:href=\"#DejaVuSans-48\"/>\n      </g>\n     </g>\n    </g>\n    <g id=\"xtick_3\">\n     <g id=\"line2d_3\">\n      <g>\n       <use style=\"stroke:#000000;stroke-width:0.8;\" x=\"191.996876\" xlink:href=\"#m187c68318a\" y=\"143.1\"/>\n      </g>\n     </g>\n     <g id=\"text_3\">\n      <!-- 2 -->\n      <g transform=\"translate(188.815626 157.698438)scale(0.1 -0.1)\">\n       <use xlink:href=\"#DejaVuSans-50\"/>\n      </g>\n     </g>\n    </g>\n   </g>\n   <g id=\"matplotlib.axis_2\">\n    <g id=\"ytick_1\">\n     <g id=\"line2d_4\">\n      <defs>\n       <path d=\"M 0 0 \nL -3.5 0 \n\" id=\"me63605363a\" style=\"stroke:#000000;stroke-width:0.8;\"/>\n      </defs>\n      <g>\n       <use style=\"stroke:#000000;stroke-width:0.8;\" x=\"35.304688\" xlink:href=\"#me63605363a\" y=\"138.855229\"/>\n      </g>\n     </g>\n     <g id=\"text_4\">\n      <!-- −10 -->\n      <defs>\n       <path d=\"M 12.40625 8.296875 \nL 28.515625 8.296875 \nL 28.515625 63.921875 \nL 10.984375 60.40625 \nL 10.984375 69.390625 \nL 28.421875 72.90625 \nL 38.28125 72.90625 \nL 38.28125 8.296875 \nL 54.390625 8.296875 \nL 54.390625 0 \nL 12.40625 0 \nz\n\" id=\"DejaVuSans-49\"/>\n      </defs>\n      <g transform=\"translate(7.2 142.654448)scale(0.1 -0.1)\">\n       <use xlink:href=\"#DejaVuSans-8722\"/>\n       <use x=\"83.789062\" xlink:href=\"#DejaVuSans-49\"/>\n       <use x=\"147.412109\" xlink:href=\"#DejaVuSans-48\"/>\n      </g>\n     </g>\n    </g>\n    <g id=\"ytick_2\">\n     <g id=\"line2d_5\">\n      <g>\n       <use style=\"stroke:#000000;stroke-width:0.8;\" x=\"35.304688\" xlink:href=\"#me63605363a\" y=\"115.087439\"/>\n      </g>\n     </g>\n     <g id=\"text_5\">\n      <!-- −5 -->\n      <defs>\n       <path d=\"M 10.796875 72.90625 \nL 49.515625 72.90625 \nL 49.515625 64.59375 \nL 19.828125 64.59375 \nL 19.828125 46.734375 \nQ 21.96875 47.46875 24.109375 47.828125 \nQ 26.265625 48.1875 28.421875 48.1875 \nQ 40.625 48.1875 47.75 41.5 \nQ 54.890625 34.8125 54.890625 23.390625 \nQ 54.890625 11.625 47.5625 5.09375 \nQ 40.234375 -1.421875 26.90625 -1.421875 \nQ 22.3125 -1.421875 17.546875 -0.640625 \nQ 12.796875 0.140625 7.71875 1.703125 \nL 7.71875 11.625 \nQ 12.109375 9.234375 16.796875 8.0625 \nQ 21.484375 6.890625 26.703125 6.890625 \nQ 35.15625 6.890625 40.078125 11.328125 \nQ 45.015625 15.765625 45.015625 23.390625 \nQ 45.015625 31 40.078125 35.4375 \nQ 35.15625 39.890625 26.703125 39.890625 \nQ 22.75 39.890625 18.8125 39.015625 \nQ 14.890625 38.140625 10.796875 36.28125 \nz\n\" id=\"DejaVuSans-53\"/>\n      </defs>\n      <g transform=\"translate(13.5625 118.886658)scale(0.1 -0.1)\">\n       <use xlink:href=\"#DejaVuSans-8722\"/>\n       <use x=\"83.789062\" xlink:href=\"#DejaVuSans-53\"/>\n      </g>\n     </g>\n    </g>\n    <g id=\"ytick_3\">\n     <g id=\"line2d_6\">\n      <g>\n       <use style=\"stroke:#000000;stroke-width:0.8;\" x=\"35.304688\" xlink:href=\"#me63605363a\" y=\"91.319648\"/>\n      </g>\n     </g>\n     <g id=\"text_6\">\n      <!-- 0 -->\n      <g transform=\"translate(21.942187 95.118867)scale(0.1 -0.1)\">\n       <use xlink:href=\"#DejaVuSans-48\"/>\n      </g>\n     </g>\n    </g>\n    <g id=\"ytick_4\">\n     <g id=\"line2d_7\">\n      <g>\n       <use style=\"stroke:#000000;stroke-width:0.8;\" x=\"35.304688\" xlink:href=\"#me63605363a\" y=\"67.551858\"/>\n      </g>\n     </g>\n     <g id=\"text_7\">\n      <!-- 5 -->\n      <g transform=\"translate(21.942187 71.351077)scale(0.1 -0.1)\">\n       <use xlink:href=\"#DejaVuSans-53\"/>\n      </g>\n     </g>\n    </g>\n    <g id=\"ytick_5\">\n     <g id=\"line2d_8\">\n      <g>\n       <use style=\"stroke:#000000;stroke-width:0.8;\" x=\"35.304688\" xlink:href=\"#me63605363a\" y=\"43.784067\"/>\n      </g>\n     </g>\n     <g id=\"text_8\">\n      <!-- 10 -->\n      <g transform=\"translate(15.579687 47.583286)scale(0.1 -0.1)\">\n       <use xlink:href=\"#DejaVuSans-49\"/>\n       <use x=\"63.623047\" xlink:href=\"#DejaVuSans-48\"/>\n      </g>\n     </g>\n    </g>\n    <g id=\"ytick_6\">\n     <g id=\"line2d_9\">\n      <g>\n       <use style=\"stroke:#000000;stroke-width:0.8;\" x=\"35.304688\" xlink:href=\"#me63605363a\" y=\"20.016277\"/>\n      </g>\n     </g>\n     <g id=\"text_9\">\n      <!-- 15 -->\n      <g transform=\"translate(15.579687 23.815495)scale(0.1 -0.1)\">\n       <use xlink:href=\"#DejaVuSans-49\"/>\n       <use x=\"63.623047\" xlink:href=\"#DejaVuSans-53\"/>\n      </g>\n     </g>\n    </g>\n   </g>\n   <g id=\"patch_3\">\n    <path d=\"M 35.304688 143.1 \nL 35.304688 7.2 \n\" style=\"fill:none;stroke:#000000;stroke-linecap:square;stroke-linejoin:miter;stroke-width:0.8;\"/>\n   </g>\n   <g id=\"patch_4\">\n    <path d=\"M 230.604688 143.1 \nL 230.604688 7.2 \n\" style=\"fill:none;stroke:#000000;stroke-linecap:square;stroke-linejoin:miter;stroke-width:0.8;\"/>\n   </g>\n   <g id=\"patch_5\">\n    <path d=\"M 35.304688 143.1 \nL 230.604688 143.1 \n\" style=\"fill:none;stroke:#000000;stroke-linecap:square;stroke-linejoin:miter;stroke-width:0.8;\"/>\n   </g>\n   <g id=\"patch_6\">\n    <path d=\"M 35.304688 7.2 \nL 230.604688 7.2 \n\" style=\"fill:none;stroke:#000000;stroke-linecap:square;stroke-linejoin:miter;stroke-width:0.8;\"/>\n   </g>\n  </g>\n </g>\n <defs>\n  <clipPath id=\"p0333ba0eae\">\n   <rect height=\"135.9\" width=\"195.3\" x=\"35.304688\" y=\"7.2\"/>\n  </clipPath>\n </defs>\n</svg>\n"
          },
          "metadata": {
            "needs_background": "light"
          }
        }
      ]
    },
    {
      "cell_type": "code",
      "source": [
        "def data_iter(batch_size, features, labels):\n",
        "    num_examples = len(features)\n",
        "    indices = list(range(num_examples))\n",
        "    # The examples are read at random, in no particular order\n",
        "    random.shuffle(indices)\n",
        "    for i in range(0, num_examples, batch_size):\n",
        "        batch_indices = torch.tensor(\n",
        "            indices[i: min(i + batch_size, num_examples)])\n",
        "        yield features[batch_indices], labels[batch_indices]"
      ],
      "metadata": {
        "id": "4Sb_WW2i6Ll9"
      },
      "execution_count": 14,
      "outputs": []
    },
    {
      "cell_type": "code",
      "source": [
        "batch_size = 10\n",
        "\n",
        "for X, y in data_iter(batch_size, features, labels):\n",
        "    print(X, '\\n', y)\n",
        "    break"
      ],
      "metadata": {
        "colab": {
          "base_uri": "https://localhost:8080/"
        },
        "id": "ZYcBtAD56OHx",
        "outputId": "47a39a2f-be25-4518-9c0b-d7a206150fe6"
      },
      "execution_count": 15,
      "outputs": [
        {
          "output_type": "stream",
          "name": "stdout",
          "text": [
            "tensor([[ 0.4456, -0.8319],\n",
            "        [ 2.0252, -1.3753],\n",
            "        [ 1.1826,  2.3027],\n",
            "        [-0.2274, -0.3795],\n",
            "        [-0.7853, -0.0313],\n",
            "        [ 1.1245,  1.2864],\n",
            "        [ 1.4054, -1.3773],\n",
            "        [-1.3380, -0.7988],\n",
            "        [ 1.1515,  0.1612],\n",
            "        [ 0.2200,  0.1608]]) \n",
            " tensor([[ 7.9339],\n",
            "        [12.9434],\n",
            "        [-1.2691],\n",
            "        [ 5.0260],\n",
            "        [ 2.7408],\n",
            "        [ 2.0846],\n",
            "        [11.7138],\n",
            "        [ 4.2524],\n",
            "        [ 5.9578],\n",
            "        [ 4.1016]])\n"
          ]
        }
      ]
    },
    {
      "cell_type": "code",
      "source": [
        "w = torch.normal(0, 0.01, size=(2,1), requires_grad=True)\n",
        "b = torch.zeros(1, requires_grad=True)"
      ],
      "metadata": {
        "id": "NYzSFoDD6Qax"
      },
      "execution_count": 16,
      "outputs": []
    },
    {
      "cell_type": "code",
      "source": [
        "def linreg(X, w, b):\n",
        "    \"\"\"The linear regression model.\"\"\"\n",
        "    return torch.matmul(X, w) + b"
      ],
      "metadata": {
        "id": "xfAws4Ap6Sb-"
      },
      "execution_count": 17,
      "outputs": []
    },
    {
      "cell_type": "code",
      "source": [
        "def squared_loss(y_hat, y):\n",
        "    \"\"\"Squared loss.\"\"\"\n",
        "    return (y_hat - y.reshape(y_hat.shape)) ** 2 / 2"
      ],
      "metadata": {
        "id": "pVZkb-oQ6Ugp"
      },
      "execution_count": 18,
      "outputs": []
    },
    {
      "cell_type": "code",
      "source": [
        "def sgd(params, lr, batch_size):\n",
        "    \"\"\"Minibatch stochastic gradient descent.\"\"\"\n",
        "    with torch.no_grad():\n",
        "        for param in params:\n",
        "            param -= lr * param.grad / batch_size\n",
        "            param.grad.zero_()"
      ],
      "metadata": {
        "id": "3K_0jBwg6WdZ"
      },
      "execution_count": 19,
      "outputs": []
    },
    {
      "cell_type": "code",
      "source": [
        "lr = 0.03\n",
        "num_epochs = 3\n",
        "net = linreg\n",
        "loss = squared_loss\n",
        "\n",
        "for epoch in range(num_epochs):\n",
        "    for X, y in data_iter(batch_size, features, labels):\n",
        "        l = loss(net(X, w, b), y)  # Minibatch loss in `X` and `y`\n",
        "        # Compute gradient on `l` with respect to [`w`, `b`]\n",
        "        l.sum().backward()\n",
        "        sgd([w, b], lr, batch_size)  # Update parameters using their gradient\n",
        "    with torch.no_grad():\n",
        "        train_l = loss(net(features, w, b), labels)\n",
        "        print(f'epoch {epoch + 1}, loss {float(train_l.mean()):f}')"
      ],
      "metadata": {
        "colab": {
          "base_uri": "https://localhost:8080/"
        },
        "id": "-jufL6bw6Yh3",
        "outputId": "0b6deada-5ff5-4e04-db99-46c5984123d7"
      },
      "execution_count": 20,
      "outputs": [
        {
          "output_type": "stream",
          "name": "stdout",
          "text": [
            "epoch 1, loss 0.038338\n",
            "epoch 2, loss 0.000138\n",
            "epoch 3, loss 0.000050\n"
          ]
        }
      ]
    },
    {
      "cell_type": "code",
      "source": [
        "print(f'error in estimating w: {true_w - w.reshape(true_w.shape)}')\n",
        "print(f'error in estimating b: {true_b - b}')"
      ],
      "metadata": {
        "colab": {
          "base_uri": "https://localhost:8080/"
        },
        "id": "u3ELdcwB6ajc",
        "outputId": "0e3da07a-6ae8-4fd7-db5f-9fea12c09ce0"
      },
      "execution_count": 21,
      "outputs": [
        {
          "output_type": "stream",
          "name": "stdout",
          "text": [
            "error in estimating w: tensor([0.0002, 0.0002], grad_fn=<SubBackward0>)\n",
            "error in estimating b: tensor([0.0007], grad_fn=<RsubBackward1>)\n"
          ]
        }
      ]
    },
    {
      "cell_type": "code",
      "source": [
        "import numpy as np\n",
        "import torch\n",
        "from torch.utils import data\n",
        "from d2l import torch as d2l\n",
        "\n",
        "true_w = torch.tensor([2, -3.4])\n",
        "true_b = 4.2\n",
        "features, labels = d2l.synthetic_data(true_w, true_b, 1000)"
      ],
      "metadata": {
        "id": "2SFCdAIi6cr6"
      },
      "execution_count": 22,
      "outputs": []
    },
    {
      "cell_type": "code",
      "source": [
        "def load_array(data_arrays, batch_size, is_train=True):\n",
        "    \"\"\"Construct a PyTorch data iterator.\"\"\"\n",
        "    dataset = data.TensorDataset(*data_arrays)\n",
        "    return data.DataLoader(dataset, batch_size, shuffle=is_train)\n",
        "\n",
        "batch_size = 10\n",
        "data_iter = load_array((features, labels), batch_size)"
      ],
      "metadata": {
        "id": "Pim6xNDk6fWt"
      },
      "execution_count": 23,
      "outputs": []
    },
    {
      "cell_type": "code",
      "source": [
        "next(iter(data_iter))"
      ],
      "metadata": {
        "colab": {
          "base_uri": "https://localhost:8080/"
        },
        "id": "Vnq1q1-B6hmY",
        "outputId": "e79e1754-c6d9-4dc2-afbd-0794d13f7fe2"
      },
      "execution_count": 25,
      "outputs": [
        {
          "output_type": "execute_result",
          "data": {
            "text/plain": [
              "[tensor([[-2.0198, -0.5051],\n",
              "         [-0.8587, -0.1096],\n",
              "         [-0.8740,  0.1141],\n",
              "         [-0.2159, -2.8177],\n",
              "         [ 0.1983, -0.6339],\n",
              "         [-1.2576,  0.6402],\n",
              "         [-0.3193,  0.0288],\n",
              "         [ 0.9999, -0.5532],\n",
              "         [-0.6457, -0.2785],\n",
              "         [-0.6952, -0.0528]]), tensor([[ 1.8842],\n",
              "         [ 2.8489],\n",
              "         [ 2.0697],\n",
              "         [13.3457],\n",
              "         [ 6.7433],\n",
              "         [-0.4956],\n",
              "         [ 3.4847],\n",
              "         [ 8.0747],\n",
              "         [ 3.8550],\n",
              "         [ 2.9979]])]"
            ]
          },
          "metadata": {},
          "execution_count": 25
        }
      ]
    },
    {
      "cell_type": "code",
      "source": [
        "# `nn` is an abbreviation for neural networks\n",
        "from torch import nn\n",
        "\n",
        "net = nn.Sequential(nn.Linear(2, 1))"
      ],
      "metadata": {
        "id": "qN02iPbP6j16"
      },
      "execution_count": 26,
      "outputs": []
    },
    {
      "cell_type": "code",
      "source": [
        "net[0].weight.data.normal_(0, 0.01)\n",
        "net[0].bias.data.fill_(0)"
      ],
      "metadata": {
        "colab": {
          "base_uri": "https://localhost:8080/"
        },
        "id": "M2jjCyG96uFQ",
        "outputId": "181f214a-ce29-48ff-b7a0-32d7e7c0f200"
      },
      "execution_count": 27,
      "outputs": [
        {
          "output_type": "execute_result",
          "data": {
            "text/plain": [
              "tensor([0.])"
            ]
          },
          "metadata": {},
          "execution_count": 27
        }
      ]
    },
    {
      "cell_type": "code",
      "source": [
        "loss = nn.MSELoss()"
      ],
      "metadata": {
        "id": "mWvzHLty6waQ"
      },
      "execution_count": 28,
      "outputs": []
    },
    {
      "cell_type": "code",
      "source": [
        "trainer = torch.optim.SGD(net.parameters(), lr=0.03)"
      ],
      "metadata": {
        "id": "WiQOPoYo6yio"
      },
      "execution_count": 29,
      "outputs": []
    },
    {
      "cell_type": "code",
      "source": [
        "num_epochs = 3\n",
        "for epoch in range(num_epochs):\n",
        "    for X, y in data_iter:\n",
        "        l = loss(net(X) ,y)\n",
        "        trainer.zero_grad()\n",
        "        l.backward()\n",
        "        trainer.step()\n",
        "    l = loss(net(features), labels)\n",
        "    print(f'epoch {epoch + 1}, loss {l:f}')"
      ],
      "metadata": {
        "colab": {
          "base_uri": "https://localhost:8080/"
        },
        "id": "Tdrjbewq60nq",
        "outputId": "a2a33919-7847-4372-9618-7644465a15cc"
      },
      "execution_count": 30,
      "outputs": [
        {
          "output_type": "stream",
          "name": "stdout",
          "text": [
            "epoch 1, loss 0.000237\n",
            "epoch 2, loss 0.000107\n",
            "epoch 3, loss 0.000107\n"
          ]
        }
      ]
    },
    {
      "cell_type": "code",
      "source": [
        "w = net[0].weight.data\n",
        "print('error in estimating w:', true_w - w.reshape(true_w.shape))\n",
        "b = net[0].bias.data\n",
        "print('error in estimating b:', true_b - b)"
      ],
      "metadata": {
        "colab": {
          "base_uri": "https://localhost:8080/"
        },
        "id": "SJXbGKsN6232",
        "outputId": "a91ad246-37b0-4de8-91c7-43b02284acc1"
      },
      "execution_count": 31,
      "outputs": [
        {
          "output_type": "stream",
          "name": "stdout",
          "text": [
            "error in estimating w: tensor([-0.0002,  0.0006])\n",
            "error in estimating b: tensor([-3.3379e-05])\n"
          ]
        }
      ]
    },
    {
      "cell_type": "code",
      "source": [
        "%matplotlib inline\n",
        "import torch\n",
        "import torchvision\n",
        "from torch.utils import data\n",
        "from torchvision import transforms\n",
        "from d2l import torch as d2l\n",
        "\n",
        "d2l.use_svg_display()"
      ],
      "metadata": {
        "id": "V54Wy8x8645_"
      },
      "execution_count": 32,
      "outputs": []
    },
    {
      "cell_type": "code",
      "source": [
        "# `ToTensor` converts the image data from PIL type to 32-bit floating point\n",
        "# tensors. It divides all numbers by 255 so that all pixel values are between\n",
        "# 0 and 1\n",
        "trans = transforms.ToTensor()\n",
        "mnist_train = torchvision.datasets.FashionMNIST(\n",
        "    root=\"../data\", train=True, transform=trans, download=True)\n",
        "mnist_test = torchvision.datasets.FashionMNIST(\n",
        "    root=\"../data\", train=False, transform=trans, download=True)"
      ],
      "metadata": {
        "colab": {
          "base_uri": "https://localhost:8080/",
          "height": 417,
          "referenced_widgets": [
            "46ac747070f743e7beccf44e7a0bcb40",
            "bb189d0c9da649d5bf561cdb6b0ab1f6",
            "e6896ce9b2264143b88ce87c826e7b84",
            "1c6e9a5a566641039c48673885b8d61f",
            "1085451df2e44feaaaa3b31e7ed7adc1",
            "2b25e09880804bda9b30a4849fca3af6",
            "21ff1e5a97eb41ae896d0e3c6deccf96",
            "19812c2f1738439c8159573f92595d3e",
            "54bb7b9408d145a0b4746caee4217f3c",
            "71f08161f0b84d828c2a27cc5e799a4e",
            "87072e35efc548ceb2823d88f835cfe4",
            "f397e46374ec45ba95a490a0ee705bc4",
            "7a8898c91e7f49aebe973697c40c8a1e",
            "66d15f9f70e5401c8d60d01840777a3f",
            "ea8061db5cdf42d2a5af194058dbd7b4",
            "e2c7ab066ec84db9b1fad159341bdd37",
            "f194378abc7e4ac9bbc942e3cca5c72e",
            "f95b66f506c24279aeb4056205dba9a6",
            "2870b226f04b478dbe123166b2d4d796",
            "2d2f39ecb473400eabaaccc322235d9c",
            "0dbd188bde09415980acb08d3814118c",
            "0caeb4a0794d42de9babb03ccde344e9",
            "ccb2f00aa18d4ebaa4b0c1ef92ee8582",
            "3b45ce1f76554f48971e27794e206dab",
            "1feac60b01024521b463bdbbd27e6d20",
            "8e1044aa5b5f4b649248fb8ed7f98183",
            "69715f08b8014bdfb4a2b532c94b4a51",
            "0bef1c07b2d849c6b1aa1729bb480a49",
            "8f4f6535aabf43c49c0479ac30365d83",
            "a78b82c4db364766bfb823ca8f9be82e",
            "75c40b56f2c2462f9b91c24243af7e6f",
            "7de39d377217479f89155da4975edc15",
            "95660b1aaab649d3aa1f792e800e3094",
            "8cb542c6089b4f8ba9ed7f1fbcb370c4",
            "a412c2dfef9449a29b2c6c54965957b7",
            "6488d25def7a4ad698afb22d50bae1b5",
            "f2675fe4d5d64387a43ca383fb8f0105",
            "f4be73b9d9ad42b59489eea2919f9ea1",
            "2ce66416ce424273801d13d2422be6b3",
            "17f944c7be50488f9b5daa0e10573a3c",
            "48d4410c0958427ebd20dc077b2ea83f",
            "8df9bf2297d7476a8685fc988439c072",
            "087f80b44b524213897218533eb42c5d",
            "208c3904fddc4ff09c6bbc65239d4bb9"
          ]
        },
        "id": "FkLxCg2T66_c",
        "outputId": "1e191a22-4d35-45af-c44e-0bd79a68d361"
      },
      "execution_count": 33,
      "outputs": [
        {
          "output_type": "stream",
          "name": "stdout",
          "text": [
            "Downloading http://fashion-mnist.s3-website.eu-central-1.amazonaws.com/train-images-idx3-ubyte.gz\n",
            "Downloading http://fashion-mnist.s3-website.eu-central-1.amazonaws.com/train-images-idx3-ubyte.gz to ../data/FashionMNIST/raw/train-images-idx3-ubyte.gz\n"
          ]
        },
        {
          "output_type": "display_data",
          "data": {
            "application/vnd.jupyter.widget-view+json": {
              "model_id": "46ac747070f743e7beccf44e7a0bcb40",
              "version_minor": 0,
              "version_major": 2
            },
            "text/plain": [
              "  0%|          | 0/26421880 [00:00<?, ?it/s]"
            ]
          },
          "metadata": {}
        },
        {
          "output_type": "stream",
          "name": "stdout",
          "text": [
            "Extracting ../data/FashionMNIST/raw/train-images-idx3-ubyte.gz to ../data/FashionMNIST/raw\n",
            "\n",
            "Downloading http://fashion-mnist.s3-website.eu-central-1.amazonaws.com/train-labels-idx1-ubyte.gz\n",
            "Downloading http://fashion-mnist.s3-website.eu-central-1.amazonaws.com/train-labels-idx1-ubyte.gz to ../data/FashionMNIST/raw/train-labels-idx1-ubyte.gz\n"
          ]
        },
        {
          "output_type": "display_data",
          "data": {
            "application/vnd.jupyter.widget-view+json": {
              "model_id": "f397e46374ec45ba95a490a0ee705bc4",
              "version_minor": 0,
              "version_major": 2
            },
            "text/plain": [
              "  0%|          | 0/29515 [00:00<?, ?it/s]"
            ]
          },
          "metadata": {}
        },
        {
          "output_type": "stream",
          "name": "stdout",
          "text": [
            "Extracting ../data/FashionMNIST/raw/train-labels-idx1-ubyte.gz to ../data/FashionMNIST/raw\n",
            "\n",
            "Downloading http://fashion-mnist.s3-website.eu-central-1.amazonaws.com/t10k-images-idx3-ubyte.gz\n",
            "Downloading http://fashion-mnist.s3-website.eu-central-1.amazonaws.com/t10k-images-idx3-ubyte.gz to ../data/FashionMNIST/raw/t10k-images-idx3-ubyte.gz\n"
          ]
        },
        {
          "output_type": "display_data",
          "data": {
            "application/vnd.jupyter.widget-view+json": {
              "model_id": "ccb2f00aa18d4ebaa4b0c1ef92ee8582",
              "version_minor": 0,
              "version_major": 2
            },
            "text/plain": [
              "  0%|          | 0/4422102 [00:00<?, ?it/s]"
            ]
          },
          "metadata": {}
        },
        {
          "output_type": "stream",
          "name": "stdout",
          "text": [
            "Extracting ../data/FashionMNIST/raw/t10k-images-idx3-ubyte.gz to ../data/FashionMNIST/raw\n",
            "\n",
            "Downloading http://fashion-mnist.s3-website.eu-central-1.amazonaws.com/t10k-labels-idx1-ubyte.gz\n",
            "Downloading http://fashion-mnist.s3-website.eu-central-1.amazonaws.com/t10k-labels-idx1-ubyte.gz to ../data/FashionMNIST/raw/t10k-labels-idx1-ubyte.gz\n"
          ]
        },
        {
          "output_type": "display_data",
          "data": {
            "application/vnd.jupyter.widget-view+json": {
              "model_id": "8cb542c6089b4f8ba9ed7f1fbcb370c4",
              "version_minor": 0,
              "version_major": 2
            },
            "text/plain": [
              "  0%|          | 0/5148 [00:00<?, ?it/s]"
            ]
          },
          "metadata": {}
        },
        {
          "output_type": "stream",
          "name": "stdout",
          "text": [
            "Extracting ../data/FashionMNIST/raw/t10k-labels-idx1-ubyte.gz to ../data/FashionMNIST/raw\n",
            "\n"
          ]
        }
      ]
    },
    {
      "cell_type": "code",
      "source": [
        "len(mnist_train), len(mnist_test)"
      ],
      "metadata": {
        "colab": {
          "base_uri": "https://localhost:8080/"
        },
        "id": "qBVTY_G469JJ",
        "outputId": "3a222468-3016-4214-8b99-edb9db1aff68"
      },
      "execution_count": 34,
      "outputs": [
        {
          "output_type": "execute_result",
          "data": {
            "text/plain": [
              "(60000, 10000)"
            ]
          },
          "metadata": {},
          "execution_count": 34
        }
      ]
    },
    {
      "cell_type": "code",
      "source": [
        "mnist_train[0][0].shape"
      ],
      "metadata": {
        "colab": {
          "base_uri": "https://localhost:8080/"
        },
        "id": "VFmy4Evt6_py",
        "outputId": "1073396d-6284-4fdd-f37d-ff51c1d42162"
      },
      "execution_count": 35,
      "outputs": [
        {
          "output_type": "execute_result",
          "data": {
            "text/plain": [
              "torch.Size([1, 28, 28])"
            ]
          },
          "metadata": {},
          "execution_count": 35
        }
      ]
    },
    {
      "cell_type": "code",
      "source": [
        "def get_fashion_mnist_labels(labels):\n",
        "    \"\"\"Return text labels for the Fashion-MNIST dataset.\"\"\"\n",
        "    text_labels = ['t-shirt', 'trouser', 'pullover', 'dress', 'coat',\n",
        "                   'sandal', 'shirt', 'sneaker', 'bag', 'ankle boot']\n",
        "    return [text_labels[int(i)] for i in labels]"
      ],
      "metadata": {
        "id": "ck7iDq9H7Bf-"
      },
      "execution_count": 36,
      "outputs": []
    },
    {
      "cell_type": "code",
      "source": [
        "def show_images(imgs, num_rows, num_cols, titles=None, scale=1.5):\n",
        "    \"\"\"Plot a list of images.\"\"\"\n",
        "    figsize = (num_cols * scale, num_rows * scale)\n",
        "    _, axes = d2l.plt.subplots(num_rows, num_cols, figsize=figsize)\n",
        "    axes = axes.flatten()\n",
        "    for i, (ax, img) in enumerate(zip(axes, imgs)):\n",
        "        if torch.is_tensor(img):\n",
        "            # Tensor Image\n",
        "            ax.imshow(img.numpy())\n",
        "        else:\n",
        "            # PIL Image\n",
        "            ax.imshow(img)\n",
        "        ax.axes.get_xaxis().set_visible(False)\n",
        "        ax.axes.get_yaxis().set_visible(False)\n",
        "        if titles:\n",
        "            ax.set_title(titles[i])\n",
        "    return axes"
      ],
      "metadata": {
        "id": "dKXTGkEW7DZm"
      },
      "execution_count": 37,
      "outputs": []
    },
    {
      "cell_type": "code",
      "source": [
        "X, y = next(iter(data.DataLoader(mnist_train, batch_size=18)))\n",
        "show_images(X.reshape(18, 28, 28), 2, 9, titles=get_fashion_mnist_labels(y));"
      ],
      "metadata": {
        "colab": {
          "base_uri": "https://localhost:8080/",
          "height": 278
        },
        "id": "gUcJPbr67Fm7",
        "outputId": "5ed8150d-d109-435f-f43c-0cf757509e3f"
      },
      "execution_count": 38,
      "outputs": [
        {
          "output_type": "display_data",
          "data": {
            "text/plain": [
              "<Figure size 972x216 with 18 Axes>"
            ],
            "image/svg+xml": "<?xml version=\"1.0\" encoding=\"utf-8\" standalone=\"no\"?>\n<!DOCTYPE svg PUBLIC \"-//W3C//DTD SVG 1.1//EN\"\n  \"http://www.w3.org/Graphics/SVG/1.1/DTD/svg11.dtd\">\n<!-- Created with matplotlib (https://matplotlib.org/) -->\n<svg height=\"193.03689pt\" version=\"1.1\" viewBox=\"0 0 771.2 193.03689\" width=\"771.2pt\" xmlns=\"http://www.w3.org/2000/svg\" xmlns:xlink=\"http://www.w3.org/1999/xlink\">\n <defs>\n  <style type=\"text/css\">\n*{stroke-linecap:butt;stroke-linejoin:round;}\n  </style>\n </defs>\n <g id=\"figure_1\">\n  <g id=\"patch_1\">\n   <path d=\"M 0 193.03689 \nL 771.2 193.03689 \nL 771.2 -0 \nL 0 -0 \nz\n\" style=\"fill:none;\"/>\n  </g>\n  <g id=\"axes_1\">\n   <g id=\"patch_2\">\n    <path d=\"M 10.7 93.384163 \nL 81.766038 93.384163 \nL 81.766038 22.318125 \nL 10.7 22.318125 \nz\n\" style=\"fill:#ffffff;\"/>\n   </g>\n   <g clip-path=\"url(#pfafe30c235)\">\n    <image height=\"72\" id=\"imagea00b7fc314\" transform=\"scale(1 -1)translate(0 -72)\" width=\"72\" x=\"10.7\" xlink:href=\"data:image/png;base64,\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\" y=\"-21.384163\"/>\n   </g>\n   <g id=\"patch_3\">\n    <path d=\"M 10.7 93.384163 \nL 10.7 22.318125 \n\" style=\"fill:none;stroke:#000000;stroke-linecap:square;stroke-linejoin:miter;stroke-width:0.8;\"/>\n   </g>\n   <g id=\"patch_4\">\n    <path d=\"M 81.766038 93.384163 \nL 81.766038 22.318125 \n\" style=\"fill:none;stroke:#000000;stroke-linecap:square;stroke-linejoin:miter;stroke-width:0.8;\"/>\n   </g>\n   <g id=\"patch_5\">\n    <path d=\"M 10.7 93.384163 \nL 81.766038 93.384163 \n\" style=\"fill:none;stroke:#000000;stroke-linecap:square;stroke-linejoin:miter;stroke-width:0.8;\"/>\n   </g>\n   <g id=\"patch_6\">\n    <path d=\"M 10.7 22.318125 \nL 81.766038 22.318125 \n\" style=\"fill:none;stroke:#000000;stroke-linecap:square;stroke-linejoin:miter;stroke-width:0.8;\"/>\n   </g>\n   <g id=\"text_1\">\n    <!-- ankle boot -->\n    <defs>\n     <path d=\"M 34.28125 27.484375 \nQ 23.390625 27.484375 19.1875 25 \nQ 14.984375 22.515625 14.984375 16.5 \nQ 14.984375 11.71875 18.140625 8.90625 \nQ 21.296875 6.109375 26.703125 6.109375 \nQ 34.1875 6.109375 38.703125 11.40625 \nQ 43.21875 16.703125 43.21875 25.484375 \nL 43.21875 27.484375 \nz\nM 52.203125 31.203125 \nL 52.203125 0 \nL 43.21875 0 \nL 43.21875 8.296875 \nQ 40.140625 3.328125 35.546875 0.953125 \nQ 30.953125 -1.421875 24.3125 -1.421875 \nQ 15.921875 -1.421875 10.953125 3.296875 \nQ 6 8.015625 6 15.921875 \nQ 6 25.140625 12.171875 29.828125 \nQ 18.359375 34.515625 30.609375 34.515625 \nL 43.21875 34.515625 \nL 43.21875 35.40625 \nQ 43.21875 41.609375 39.140625 45 \nQ 35.0625 48.390625 27.6875 48.390625 \nQ 23 48.390625 18.546875 47.265625 \nQ 14.109375 46.140625 10.015625 43.890625 \nL 10.015625 52.203125 \nQ 14.9375 54.109375 19.578125 55.046875 \nQ 24.21875 56 28.609375 56 \nQ 40.484375 56 46.34375 49.84375 \nQ 52.203125 43.703125 52.203125 31.203125 \nz\n\" id=\"DejaVuSans-97\"/>\n     <path d=\"M 54.890625 33.015625 \nL 54.890625 0 \nL 45.90625 0 \nL 45.90625 32.71875 \nQ 45.90625 40.484375 42.875 44.328125 \nQ 39.84375 48.1875 33.796875 48.1875 \nQ 26.515625 48.1875 22.3125 43.546875 \nQ 18.109375 38.921875 18.109375 30.90625 \nL 18.109375 0 \nL 9.078125 0 \nL 9.078125 54.6875 \nL 18.109375 54.6875 \nL 18.109375 46.1875 \nQ 21.34375 51.125 25.703125 53.5625 \nQ 30.078125 56 35.796875 56 \nQ 45.21875 56 50.046875 50.171875 \nQ 54.890625 44.34375 54.890625 33.015625 \nz\n\" id=\"DejaVuSans-110\"/>\n     <path d=\"M 9.078125 75.984375 \nL 18.109375 75.984375 \nL 18.109375 31.109375 \nL 44.921875 54.6875 \nL 56.390625 54.6875 \nL 27.390625 29.109375 \nL 57.625 0 \nL 45.90625 0 \nL 18.109375 26.703125 \nL 18.109375 0 \nL 9.078125 0 \nz\n\" id=\"DejaVuSans-107\"/>\n     <path d=\"M 9.421875 75.984375 \nL 18.40625 75.984375 \nL 18.40625 0 \nL 9.421875 0 \nz\n\" id=\"DejaVuSans-108\"/>\n     <path d=\"M 56.203125 29.59375 \nL 56.203125 25.203125 \nL 14.890625 25.203125 \nQ 15.484375 15.921875 20.484375 11.0625 \nQ 25.484375 6.203125 34.421875 6.203125 \nQ 39.59375 6.203125 44.453125 7.46875 \nQ 49.3125 8.734375 54.109375 11.28125 \nL 54.109375 2.78125 \nQ 49.265625 0.734375 44.1875 -0.34375 \nQ 39.109375 -1.421875 33.890625 -1.421875 \nQ 20.796875 -1.421875 13.15625 6.1875 \nQ 5.515625 13.8125 5.515625 26.8125 \nQ 5.515625 40.234375 12.765625 48.109375 \nQ 20.015625 56 32.328125 56 \nQ 43.359375 56 49.78125 48.890625 \nQ 56.203125 41.796875 56.203125 29.59375 \nz\nM 47.21875 32.234375 \nQ 47.125 39.59375 43.09375 43.984375 \nQ 39.0625 48.390625 32.421875 48.390625 \nQ 24.90625 48.390625 20.390625 44.140625 \nQ 15.875 39.890625 15.1875 32.171875 \nz\n\" id=\"DejaVuSans-101\"/>\n     <path id=\"DejaVuSans-32\"/>\n     <path d=\"M 48.6875 27.296875 \nQ 48.6875 37.203125 44.609375 42.84375 \nQ 40.53125 48.484375 33.40625 48.484375 \nQ 26.265625 48.484375 22.1875 42.84375 \nQ 18.109375 37.203125 18.109375 27.296875 \nQ 18.109375 17.390625 22.1875 11.75 \nQ 26.265625 6.109375 33.40625 6.109375 \nQ 40.53125 6.109375 44.609375 11.75 \nQ 48.6875 17.390625 48.6875 27.296875 \nz\nM 18.109375 46.390625 \nQ 20.953125 51.265625 25.265625 53.625 \nQ 29.59375 56 35.59375 56 \nQ 45.5625 56 51.78125 48.09375 \nQ 58.015625 40.1875 58.015625 27.296875 \nQ 58.015625 14.40625 51.78125 6.484375 \nQ 45.5625 -1.421875 35.59375 -1.421875 \nQ 29.59375 -1.421875 25.265625 0.953125 \nQ 20.953125 3.328125 18.109375 8.203125 \nL 18.109375 0 \nL 9.078125 0 \nL 9.078125 75.984375 \nL 18.109375 75.984375 \nz\n\" id=\"DejaVuSans-98\"/>\n     <path d=\"M 30.609375 48.390625 \nQ 23.390625 48.390625 19.1875 42.75 \nQ 14.984375 37.109375 14.984375 27.296875 \nQ 14.984375 17.484375 19.15625 11.84375 \nQ 23.34375 6.203125 30.609375 6.203125 \nQ 37.796875 6.203125 41.984375 11.859375 \nQ 46.1875 17.53125 46.1875 27.296875 \nQ 46.1875 37.015625 41.984375 42.703125 \nQ 37.796875 48.390625 30.609375 48.390625 \nz\nM 30.609375 56 \nQ 42.328125 56 49.015625 48.375 \nQ 55.71875 40.765625 55.71875 27.296875 \nQ 55.71875 13.875 49.015625 6.21875 \nQ 42.328125 -1.421875 30.609375 -1.421875 \nQ 18.84375 -1.421875 12.171875 6.21875 \nQ 5.515625 13.875 5.515625 27.296875 \nQ 5.515625 40.765625 12.171875 48.375 \nQ 18.84375 56 30.609375 56 \nz\n\" id=\"DejaVuSans-111\"/>\n     <path d=\"M 18.3125 70.21875 \nL 18.3125 54.6875 \nL 36.8125 54.6875 \nL 36.8125 47.703125 \nL 18.3125 47.703125 \nL 18.3125 18.015625 \nQ 18.3125 11.328125 20.140625 9.421875 \nQ 21.96875 7.515625 27.59375 7.515625 \nL 36.8125 7.515625 \nL 36.8125 0 \nL 27.59375 0 \nQ 17.1875 0 13.234375 3.875 \nQ 9.28125 7.765625 9.28125 18.015625 \nL 9.28125 47.703125 \nL 2.6875 47.703125 \nL 2.6875 54.6875 \nL 9.28125 54.6875 \nL 9.28125 70.21875 \nz\n\" id=\"DejaVuSans-116\"/>\n    </defs>\n    <g transform=\"translate(14.509894 16.318125)scale(0.12 -0.12)\">\n     <use xlink:href=\"#DejaVuSans-97\"/>\n     <use x=\"61.279297\" xlink:href=\"#DejaVuSans-110\"/>\n     <use x=\"124.658203\" xlink:href=\"#DejaVuSans-107\"/>\n     <use x=\"182.568359\" xlink:href=\"#DejaVuSans-108\"/>\n     <use x=\"210.351562\" xlink:href=\"#DejaVuSans-101\"/>\n     <use x=\"271.875\" xlink:href=\"#DejaVuSans-32\"/>\n     <use x=\"303.662109\" xlink:href=\"#DejaVuSans-98\"/>\n     <use x=\"367.138672\" xlink:href=\"#DejaVuSans-111\"/>\n     <use x=\"428.320312\" xlink:href=\"#DejaVuSans-111\"/>\n     <use x=\"489.501953\" xlink:href=\"#DejaVuSans-116\"/>\n    </g>\n   </g>\n  </g>\n  <g id=\"axes_2\">\n   <g id=\"patch_7\">\n    <path d=\"M 95.979245 93.384163 \nL 167.045283 93.384163 \nL 167.045283 22.318125 \nL 95.979245 22.318125 \nz\n\" style=\"fill:#ffffff;\"/>\n   </g>\n   <g clip-path=\"url(#pa5e135bd5a)\">\n    <image height=\"72\" id=\"imagef49d2db5d8\" transform=\"scale(1 -1)translate(0 -72)\" width=\"72\" x=\"95.979245\" xlink:href=\"data:image/png;base64,\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\" y=\"-21.384163\"/>\n   </g>\n   <g id=\"patch_8\">\n    <path d=\"M 95.979245 93.384163 \nL 95.979245 22.318125 \n\" style=\"fill:none;stroke:#000000;stroke-linecap:square;stroke-linejoin:miter;stroke-width:0.8;\"/>\n   </g>\n   <g id=\"patch_9\">\n    <path d=\"M 167.045283 93.384163 \nL 167.045283 22.318125 \n\" style=\"fill:none;stroke:#000000;stroke-linecap:square;stroke-linejoin:miter;stroke-width:0.8;\"/>\n   </g>\n   <g id=\"patch_10\">\n    <path d=\"M 95.979245 93.384163 \nL 167.045283 93.384163 \n\" style=\"fill:none;stroke:#000000;stroke-linecap:square;stroke-linejoin:miter;stroke-width:0.8;\"/>\n   </g>\n   <g id=\"patch_11\">\n    <path d=\"M 95.979245 22.318125 \nL 167.045283 22.318125 \n\" style=\"fill:none;stroke:#000000;stroke-linecap:square;stroke-linejoin:miter;stroke-width:0.8;\"/>\n   </g>\n   <g id=\"text_2\">\n    <!-- t-shirt -->\n    <defs>\n     <path d=\"M 4.890625 31.390625 \nL 31.203125 31.390625 \nL 31.203125 23.390625 \nL 4.890625 23.390625 \nz\n\" id=\"DejaVuSans-45\"/>\n     <path d=\"M 44.28125 53.078125 \nL 44.28125 44.578125 \nQ 40.484375 46.53125 36.375 47.5 \nQ 32.28125 48.484375 27.875 48.484375 \nQ 21.1875 48.484375 17.84375 46.4375 \nQ 14.5 44.390625 14.5 40.28125 \nQ 14.5 37.15625 16.890625 35.375 \nQ 19.28125 33.59375 26.515625 31.984375 \nL 29.59375 31.296875 \nQ 39.15625 29.25 43.1875 25.515625 \nQ 47.21875 21.78125 47.21875 15.09375 \nQ 47.21875 7.46875 41.1875 3.015625 \nQ 35.15625 -1.421875 24.609375 -1.421875 \nQ 20.21875 -1.421875 15.453125 -0.5625 \nQ 10.6875 0.296875 5.421875 2 \nL 5.421875 11.28125 \nQ 10.40625 8.6875 15.234375 7.390625 \nQ 20.0625 6.109375 24.8125 6.109375 \nQ 31.15625 6.109375 34.5625 8.28125 \nQ 37.984375 10.453125 37.984375 14.40625 \nQ 37.984375 18.0625 35.515625 20.015625 \nQ 33.0625 21.96875 24.703125 23.78125 \nL 21.578125 24.515625 \nQ 13.234375 26.265625 9.515625 29.90625 \nQ 5.8125 33.546875 5.8125 39.890625 \nQ 5.8125 47.609375 11.28125 51.796875 \nQ 16.75 56 26.8125 56 \nQ 31.78125 56 36.171875 55.265625 \nQ 40.578125 54.546875 44.28125 53.078125 \nz\n\" id=\"DejaVuSans-115\"/>\n     <path d=\"M 54.890625 33.015625 \nL 54.890625 0 \nL 45.90625 0 \nL 45.90625 32.71875 \nQ 45.90625 40.484375 42.875 44.328125 \nQ 39.84375 48.1875 33.796875 48.1875 \nQ 26.515625 48.1875 22.3125 43.546875 \nQ 18.109375 38.921875 18.109375 30.90625 \nL 18.109375 0 \nL 9.078125 0 \nL 9.078125 75.984375 \nL 18.109375 75.984375 \nL 18.109375 46.1875 \nQ 21.34375 51.125 25.703125 53.5625 \nQ 30.078125 56 35.796875 56 \nQ 45.21875 56 50.046875 50.171875 \nQ 54.890625 44.34375 54.890625 33.015625 \nz\n\" id=\"DejaVuSans-104\"/>\n     <path d=\"M 9.421875 54.6875 \nL 18.40625 54.6875 \nL 18.40625 0 \nL 9.421875 0 \nz\nM 9.421875 75.984375 \nL 18.40625 75.984375 \nL 18.40625 64.59375 \nL 9.421875 64.59375 \nz\n\" id=\"DejaVuSans-105\"/>\n     <path d=\"M 41.109375 46.296875 \nQ 39.59375 47.171875 37.8125 47.578125 \nQ 36.03125 48 33.890625 48 \nQ 26.265625 48 22.1875 43.046875 \nQ 18.109375 38.09375 18.109375 28.8125 \nL 18.109375 0 \nL 9.078125 0 \nL 9.078125 54.6875 \nL 18.109375 54.6875 \nL 18.109375 46.1875 \nQ 20.953125 51.171875 25.484375 53.578125 \nQ 30.03125 56 36.53125 56 \nQ 37.453125 56 38.578125 55.875 \nQ 39.703125 55.765625 41.0625 55.515625 \nz\n\" id=\"DejaVuSans-114\"/>\n    </defs>\n    <g transform=\"translate(113.581639 16.318125)scale(0.12 -0.12)\">\n     <use xlink:href=\"#DejaVuSans-116\"/>\n     <use x=\"39.208984\" xlink:href=\"#DejaVuSans-45\"/>\n     <use x=\"75.292969\" xlink:href=\"#DejaVuSans-115\"/>\n     <use x=\"127.392578\" xlink:href=\"#DejaVuSans-104\"/>\n     <use x=\"190.771484\" xlink:href=\"#DejaVuSans-105\"/>\n     <use x=\"218.554688\" xlink:href=\"#DejaVuSans-114\"/>\n     <use x=\"259.667969\" xlink:href=\"#DejaVuSans-116\"/>\n    </g>\n   </g>\n  </g>\n  <g id=\"axes_3\">\n   <g id=\"patch_12\">\n    <path d=\"M 181.258491 93.384163 \nL 252.324528 93.384163 \nL 252.324528 22.318125 \nL 181.258491 22.318125 \nz\n\" style=\"fill:#ffffff;\"/>\n   </g>\n   <g clip-path=\"url(#pef847e550b)\">\n    <image height=\"72\" id=\"image2b1c0e6440\" transform=\"scale(1 -1)translate(0 -72)\" width=\"72\" x=\"181.258491\" xlink:href=\"data:image/png;base64,\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\" y=\"-21.384163\"/>\n   </g>\n   <g id=\"patch_13\">\n    <path d=\"M 181.258491 93.384163 \nL 181.258491 22.318125 \n\" style=\"fill:none;stroke:#000000;stroke-linecap:square;stroke-linejoin:miter;stroke-width:0.8;\"/>\n   </g>\n   <g id=\"patch_14\">\n    <path d=\"M 252.324528 93.384163 \nL 252.324528 22.318125 \n\" style=\"fill:none;stroke:#000000;stroke-linecap:square;stroke-linejoin:miter;stroke-width:0.8;\"/>\n   </g>\n   <g id=\"patch_15\">\n    <path d=\"M 181.258491 93.384163 \nL 252.324528 93.384163 \n\" style=\"fill:none;stroke:#000000;stroke-linecap:square;stroke-linejoin:miter;stroke-width:0.8;\"/>\n   </g>\n   <g id=\"patch_16\">\n    <path d=\"M 181.258491 22.318125 \nL 252.324528 22.318125 \n\" style=\"fill:none;stroke:#000000;stroke-linecap:square;stroke-linejoin:miter;stroke-width:0.8;\"/>\n   </g>\n   <g id=\"text_3\">\n    <!-- t-shirt -->\n    <g transform=\"translate(198.860884 16.318125)scale(0.12 -0.12)\">\n     <use xlink:href=\"#DejaVuSans-116\"/>\n     <use x=\"39.208984\" xlink:href=\"#DejaVuSans-45\"/>\n     <use x=\"75.292969\" xlink:href=\"#DejaVuSans-115\"/>\n     <use x=\"127.392578\" xlink:href=\"#DejaVuSans-104\"/>\n     <use x=\"190.771484\" xlink:href=\"#DejaVuSans-105\"/>\n     <use x=\"218.554688\" xlink:href=\"#DejaVuSans-114\"/>\n     <use x=\"259.667969\" xlink:href=\"#DejaVuSans-116\"/>\n    </g>\n   </g>\n  </g>\n  <g id=\"axes_4\">\n   <g id=\"patch_17\">\n    <path d=\"M 266.537736 93.384163 \nL 337.603774 93.384163 \nL 337.603774 22.318125 \nL 266.537736 22.318125 \nz\n\" style=\"fill:#ffffff;\"/>\n   </g>\n   <g clip-path=\"url(#pd9e9961b98)\">\n    <image height=\"72\" id=\"image49eef0ef0e\" transform=\"scale(1 -1)translate(0 -72)\" width=\"72\" x=\"266.537736\" xlink:href=\"data:image/png;base64,\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\" y=\"-21.384163\"/>\n   </g>\n   <g id=\"patch_18\">\n    <path d=\"M 266.537736 93.384163 \nL 266.537736 22.318125 \n\" style=\"fill:none;stroke:#000000;stroke-linecap:square;stroke-linejoin:miter;stroke-width:0.8;\"/>\n   </g>\n   <g id=\"patch_19\">\n    <path d=\"M 337.603774 93.384163 \nL 337.603774 22.318125 \n\" style=\"fill:none;stroke:#000000;stroke-linecap:square;stroke-linejoin:miter;stroke-width:0.8;\"/>\n   </g>\n   <g id=\"patch_20\">\n    <path d=\"M 266.537736 93.384163 \nL 337.603774 93.384163 \n\" style=\"fill:none;stroke:#000000;stroke-linecap:square;stroke-linejoin:miter;stroke-width:0.8;\"/>\n   </g>\n   <g id=\"patch_21\">\n    <path d=\"M 266.537736 22.318125 \nL 337.603774 22.318125 \n\" style=\"fill:none;stroke:#000000;stroke-linecap:square;stroke-linejoin:miter;stroke-width:0.8;\"/>\n   </g>\n   <g id=\"text_4\">\n    <!-- dress -->\n    <defs>\n     <path d=\"M 45.40625 46.390625 \nL 45.40625 75.984375 \nL 54.390625 75.984375 \nL 54.390625 0 \nL 45.40625 0 \nL 45.40625 8.203125 \nQ 42.578125 3.328125 38.25 0.953125 \nQ 33.9375 -1.421875 27.875 -1.421875 \nQ 17.96875 -1.421875 11.734375 6.484375 \nQ 5.515625 14.40625 5.515625 27.296875 \nQ 5.515625 40.1875 11.734375 48.09375 \nQ 17.96875 56 27.875 56 \nQ 33.9375 56 38.25 53.625 \nQ 42.578125 51.265625 45.40625 46.390625 \nz\nM 14.796875 27.296875 \nQ 14.796875 17.390625 18.875 11.75 \nQ 22.953125 6.109375 30.078125 6.109375 \nQ 37.203125 6.109375 41.296875 11.75 \nQ 45.40625 17.390625 45.40625 27.296875 \nQ 45.40625 37.203125 41.296875 42.84375 \nQ 37.203125 48.484375 30.078125 48.484375 \nQ 22.953125 48.484375 18.875 42.84375 \nQ 14.796875 37.203125 14.796875 27.296875 \nz\n\" id=\"DejaVuSans-100\"/>\n    </defs>\n    <g transform=\"translate(285.987005 16.318125)scale(0.12 -0.12)\">\n     <use xlink:href=\"#DejaVuSans-100\"/>\n     <use x=\"63.476562\" xlink:href=\"#DejaVuSans-114\"/>\n     <use x=\"102.339844\" xlink:href=\"#DejaVuSans-101\"/>\n     <use x=\"163.863281\" xlink:href=\"#DejaVuSans-115\"/>\n     <use x=\"215.962891\" xlink:href=\"#DejaVuSans-115\"/>\n    </g>\n   </g>\n  </g>\n  <g id=\"axes_5\">\n   <g id=\"patch_22\">\n    <path d=\"M 351.816981 93.384163 \nL 422.883019 93.384163 \nL 422.883019 22.318125 \nL 351.816981 22.318125 \nz\n\" style=\"fill:#ffffff;\"/>\n   </g>\n   <g clip-path=\"url(#p3d1c8ae27d)\">\n    <image height=\"72\" id=\"image061f3f5221\" transform=\"scale(1 -1)translate(0 -72)\" width=\"72\" x=\"351.816981\" xlink:href=\"data:image/png;base64,\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\" y=\"-21.384163\"/>\n   </g>\n   <g id=\"patch_23\">\n    <path d=\"M 351.816981 93.384163 \nL 351.816981 22.318125 \n\" style=\"fill:none;stroke:#000000;stroke-linecap:square;stroke-linejoin:miter;stroke-width:0.8;\"/>\n   </g>\n   <g id=\"patch_24\">\n    <path d=\"M 422.883019 93.384163 \nL 422.883019 22.318125 \n\" style=\"fill:none;stroke:#000000;stroke-linecap:square;stroke-linejoin:miter;stroke-width:0.8;\"/>\n   </g>\n   <g id=\"patch_25\">\n    <path d=\"M 351.816981 93.384163 \nL 422.883019 93.384163 \n\" style=\"fill:none;stroke:#000000;stroke-linecap:square;stroke-linejoin:miter;stroke-width:0.8;\"/>\n   </g>\n   <g id=\"patch_26\">\n    <path d=\"M 351.816981 22.318125 \nL 422.883019 22.318125 \n\" style=\"fill:none;stroke:#000000;stroke-linecap:square;stroke-linejoin:miter;stroke-width:0.8;\"/>\n   </g>\n   <g id=\"text_5\">\n    <!-- t-shirt -->\n    <g transform=\"translate(369.419375 16.318125)scale(0.12 -0.12)\">\n     <use xlink:href=\"#DejaVuSans-116\"/>\n     <use x=\"39.208984\" xlink:href=\"#DejaVuSans-45\"/>\n     <use x=\"75.292969\" xlink:href=\"#DejaVuSans-115\"/>\n     <use x=\"127.392578\" xlink:href=\"#DejaVuSans-104\"/>\n     <use x=\"190.771484\" xlink:href=\"#DejaVuSans-105\"/>\n     <use x=\"218.554688\" xlink:href=\"#DejaVuSans-114\"/>\n     <use x=\"259.667969\" xlink:href=\"#DejaVuSans-116\"/>\n    </g>\n   </g>\n  </g>\n  <g id=\"axes_6\">\n   <g id=\"patch_27\">\n    <path d=\"M 437.096226 93.384163 \nL 508.162264 93.384163 \nL 508.162264 22.318125 \nL 437.096226 22.318125 \nz\n\" style=\"fill:#ffffff;\"/>\n   </g>\n   <g clip-path=\"url(#p5fb7e5802a)\">\n    <image height=\"72\" id=\"imageb8e37a0968\" transform=\"scale(1 -1)translate(0 -72)\" width=\"72\" x=\"437.096226\" xlink:href=\"data:image/png;base64,\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\" y=\"-21.384163\"/>\n   </g>\n   <g id=\"patch_28\">\n    <path d=\"M 437.096226 93.384163 \nL 437.096226 22.318125 \n\" style=\"fill:none;stroke:#000000;stroke-linecap:square;stroke-linejoin:miter;stroke-width:0.8;\"/>\n   </g>\n   <g id=\"patch_29\">\n    <path d=\"M 508.162264 93.384163 \nL 508.162264 22.318125 \n\" style=\"fill:none;stroke:#000000;stroke-linecap:square;stroke-linejoin:miter;stroke-width:0.8;\"/>\n   </g>\n   <g id=\"patch_30\">\n    <path d=\"M 437.096226 93.384163 \nL 508.162264 93.384163 \n\" style=\"fill:none;stroke:#000000;stroke-linecap:square;stroke-linejoin:miter;stroke-width:0.8;\"/>\n   </g>\n   <g id=\"patch_31\">\n    <path d=\"M 437.096226 22.318125 \nL 508.162264 22.318125 \n\" style=\"fill:none;stroke:#000000;stroke-linecap:square;stroke-linejoin:miter;stroke-width:0.8;\"/>\n   </g>\n   <g id=\"text_6\">\n    <!-- pullover -->\n    <defs>\n     <path d=\"M 18.109375 8.203125 \nL 18.109375 -20.796875 \nL 9.078125 -20.796875 \nL 9.078125 54.6875 \nL 18.109375 54.6875 \nL 18.109375 46.390625 \nQ 20.953125 51.265625 25.265625 53.625 \nQ 29.59375 56 35.59375 56 \nQ 45.5625 56 51.78125 48.09375 \nQ 58.015625 40.1875 58.015625 27.296875 \nQ 58.015625 14.40625 51.78125 6.484375 \nQ 45.5625 -1.421875 35.59375 -1.421875 \nQ 29.59375 -1.421875 25.265625 0.953125 \nQ 20.953125 3.328125 18.109375 8.203125 \nz\nM 48.6875 27.296875 \nQ 48.6875 37.203125 44.609375 42.84375 \nQ 40.53125 48.484375 33.40625 48.484375 \nQ 26.265625 48.484375 22.1875 42.84375 \nQ 18.109375 37.203125 18.109375 27.296875 \nQ 18.109375 17.390625 22.1875 11.75 \nQ 26.265625 6.109375 33.40625 6.109375 \nQ 40.53125 6.109375 44.609375 11.75 \nQ 48.6875 17.390625 48.6875 27.296875 \nz\n\" id=\"DejaVuSans-112\"/>\n     <path d=\"M 8.5 21.578125 \nL 8.5 54.6875 \nL 17.484375 54.6875 \nL 17.484375 21.921875 \nQ 17.484375 14.15625 20.5 10.265625 \nQ 23.53125 6.390625 29.59375 6.390625 \nQ 36.859375 6.390625 41.078125 11.03125 \nQ 45.3125 15.671875 45.3125 23.6875 \nL 45.3125 54.6875 \nL 54.296875 54.6875 \nL 54.296875 0 \nL 45.3125 0 \nL 45.3125 8.40625 \nQ 42.046875 3.421875 37.71875 1 \nQ 33.40625 -1.421875 27.6875 -1.421875 \nQ 18.265625 -1.421875 13.375 4.4375 \nQ 8.5 10.296875 8.5 21.578125 \nz\nM 31.109375 56 \nz\n\" id=\"DejaVuSans-117\"/>\n     <path d=\"M 2.984375 54.6875 \nL 12.5 54.6875 \nL 29.59375 8.796875 \nL 46.6875 54.6875 \nL 56.203125 54.6875 \nL 35.6875 0 \nL 23.484375 0 \nz\n\" id=\"DejaVuSans-118\"/>\n    </defs>\n    <g transform=\"translate(448.302995 16.318125)scale(0.12 -0.12)\">\n     <use xlink:href=\"#DejaVuSans-112\"/>\n     <use x=\"63.476562\" xlink:href=\"#DejaVuSans-117\"/>\n     <use x=\"126.855469\" xlink:href=\"#DejaVuSans-108\"/>\n     <use x=\"154.638672\" xlink:href=\"#DejaVuSans-108\"/>\n     <use x=\"182.421875\" xlink:href=\"#DejaVuSans-111\"/>\n     <use x=\"243.603516\" xlink:href=\"#DejaVuSans-118\"/>\n     <use x=\"302.783203\" xlink:href=\"#DejaVuSans-101\"/>\n     <use x=\"364.306641\" xlink:href=\"#DejaVuSans-114\"/>\n    </g>\n   </g>\n  </g>\n  <g id=\"axes_7\">\n   <g id=\"patch_32\">\n    <path d=\"M 522.375472 93.384163 \nL 593.441509 93.384163 \nL 593.441509 22.318125 \nL 522.375472 22.318125 \nz\n\" style=\"fill:#ffffff;\"/>\n   </g>\n   <g clip-path=\"url(#p30c26a557e)\">\n    <image height=\"72\" id=\"imageb938ee18b6\" transform=\"scale(1 -1)translate(0 -72)\" width=\"72\" x=\"522.375472\" xlink:href=\"data:image/png;base64,\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\" y=\"-21.384163\"/>\n   </g>\n   <g id=\"patch_33\">\n    <path d=\"M 522.375472 93.384163 \nL 522.375472 22.318125 \n\" style=\"fill:none;stroke:#000000;stroke-linecap:square;stroke-linejoin:miter;stroke-width:0.8;\"/>\n   </g>\n   <g id=\"patch_34\">\n    <path d=\"M 593.441509 93.384163 \nL 593.441509 22.318125 \n\" style=\"fill:none;stroke:#000000;stroke-linecap:square;stroke-linejoin:miter;stroke-width:0.8;\"/>\n   </g>\n   <g id=\"patch_35\">\n    <path d=\"M 522.375472 93.384163 \nL 593.441509 93.384163 \n\" style=\"fill:none;stroke:#000000;stroke-linecap:square;stroke-linejoin:miter;stroke-width:0.8;\"/>\n   </g>\n   <g id=\"patch_36\">\n    <path d=\"M 522.375472 22.318125 \nL 593.441509 22.318125 \n\" style=\"fill:none;stroke:#000000;stroke-linecap:square;stroke-linejoin:miter;stroke-width:0.8;\"/>\n   </g>\n   <g id=\"text_7\">\n    <!-- sneaker -->\n    <g transform=\"translate(534.196303 16.318125)scale(0.12 -0.12)\">\n     <use xlink:href=\"#DejaVuSans-115\"/>\n     <use x=\"52.099609\" xlink:href=\"#DejaVuSans-110\"/>\n     <use x=\"115.478516\" xlink:href=\"#DejaVuSans-101\"/>\n     <use x=\"177.001953\" xlink:href=\"#DejaVuSans-97\"/>\n     <use x=\"238.28125\" xlink:href=\"#DejaVuSans-107\"/>\n     <use x=\"292.566406\" xlink:href=\"#DejaVuSans-101\"/>\n     <use x=\"354.089844\" xlink:href=\"#DejaVuSans-114\"/>\n    </g>\n   </g>\n  </g>\n  <g id=\"axes_8\">\n   <g id=\"patch_37\">\n    <path d=\"M 607.654717 93.384163 \nL 678.720755 93.384163 \nL 678.720755 22.318125 \nL 607.654717 22.318125 \nz\n\" style=\"fill:#ffffff;\"/>\n   </g>\n   <g clip-path=\"url(#p8fa6932914)\">\n    <image height=\"72\" id=\"image917f43a018\" transform=\"scale(1 -1)translate(0 -72)\" width=\"72\" x=\"607.654717\" xlink:href=\"data:image/png;base64,\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\" y=\"-21.384163\"/>\n   </g>\n   <g id=\"patch_38\">\n    <path d=\"M 607.654717 93.384163 \nL 607.654717 22.318125 \n\" style=\"fill:none;stroke:#000000;stroke-linecap:square;stroke-linejoin:miter;stroke-width:0.8;\"/>\n   </g>\n   <g id=\"patch_39\">\n    <path d=\"M 678.720755 93.384163 \nL 678.720755 22.318125 \n\" style=\"fill:none;stroke:#000000;stroke-linecap:square;stroke-linejoin:miter;stroke-width:0.8;\"/>\n   </g>\n   <g id=\"patch_40\">\n    <path d=\"M 607.654717 93.384163 \nL 678.720755 93.384163 \n\" style=\"fill:none;stroke:#000000;stroke-linecap:square;stroke-linejoin:miter;stroke-width:0.8;\"/>\n   </g>\n   <g id=\"patch_41\">\n    <path d=\"M 607.654717 22.318125 \nL 678.720755 22.318125 \n\" style=\"fill:none;stroke:#000000;stroke-linecap:square;stroke-linejoin:miter;stroke-width:0.8;\"/>\n   </g>\n   <g id=\"text_8\">\n    <!-- pullover -->\n    <g transform=\"translate(618.861486 16.318125)scale(0.12 -0.12)\">\n     <use xlink:href=\"#DejaVuSans-112\"/>\n     <use x=\"63.476562\" xlink:href=\"#DejaVuSans-117\"/>\n     <use x=\"126.855469\" xlink:href=\"#DejaVuSans-108\"/>\n     <use x=\"154.638672\" xlink:href=\"#DejaVuSans-108\"/>\n     <use x=\"182.421875\" xlink:href=\"#DejaVuSans-111\"/>\n     <use x=\"243.603516\" xlink:href=\"#DejaVuSans-118\"/>\n     <use x=\"302.783203\" xlink:href=\"#DejaVuSans-101\"/>\n     <use x=\"364.306641\" xlink:href=\"#DejaVuSans-114\"/>\n    </g>\n   </g>\n  </g>\n  <g id=\"axes_9\">\n   <g id=\"patch_42\">\n    <path d=\"M 692.933962 93.384163 \nL 764 93.384163 \nL 764 22.318125 \nL 692.933962 22.318125 \nz\n\" style=\"fill:#ffffff;\"/>\n   </g>\n   <g clip-path=\"url(#pa58f63c049)\">\n    <image height=\"72\" id=\"image369d5822b9\" transform=\"scale(1 -1)translate(0 -72)\" width=\"72\" x=\"692.933962\" xlink:href=\"data:image/png;base64,\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\" y=\"-21.384163\"/>\n   </g>\n   <g id=\"patch_43\">\n    <path d=\"M 692.933962 93.384163 \nL 692.933962 22.318125 \n\" style=\"fill:none;stroke:#000000;stroke-linecap:square;stroke-linejoin:miter;stroke-width:0.8;\"/>\n   </g>\n   <g id=\"patch_44\">\n    <path d=\"M 764 93.384163 \nL 764 22.318125 \n\" style=\"fill:none;stroke:#000000;stroke-linecap:square;stroke-linejoin:miter;stroke-width:0.8;\"/>\n   </g>\n   <g id=\"patch_45\">\n    <path d=\"M 692.933962 93.384163 \nL 764 93.384163 \n\" style=\"fill:none;stroke:#000000;stroke-linecap:square;stroke-linejoin:miter;stroke-width:0.8;\"/>\n   </g>\n   <g id=\"patch_46\">\n    <path d=\"M 692.933962 22.318125 \nL 764 22.318125 \n\" style=\"fill:none;stroke:#000000;stroke-linecap:square;stroke-linejoin:miter;stroke-width:0.8;\"/>\n   </g>\n   <g id=\"text_9\">\n    <!-- sandal -->\n    <g transform=\"translate(708.709169 16.318125)scale(0.12 -0.12)\">\n     <use xlink:href=\"#DejaVuSans-115\"/>\n     <use x=\"52.099609\" xlink:href=\"#DejaVuSans-97\"/>\n     <use x=\"113.378906\" xlink:href=\"#DejaVuSans-110\"/>\n     <use x=\"176.757812\" xlink:href=\"#DejaVuSans-100\"/>\n     <use x=\"240.234375\" xlink:href=\"#DejaVuSans-97\"/>\n     <use x=\"301.513672\" xlink:href=\"#DejaVuSans-108\"/>\n    </g>\n   </g>\n  </g>\n  <g id=\"axes_10\">\n   <g id=\"patch_47\">\n    <path d=\"M 10.7 182.33689 \nL 81.766038 182.33689 \nL 81.766038 111.270852 \nL 10.7 111.270852 \nz\n\" style=\"fill:#ffffff;\"/>\n   </g>\n   <g clip-path=\"url(#p840a655626)\">\n    <image height=\"72\" id=\"imagefdc02baef6\" transform=\"scale(1 -1)translate(0 -72)\" width=\"72\" x=\"10.7\" xlink:href=\"data:image/png;base64,\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\" y=\"-110.33689\"/>\n   </g>\n   <g id=\"patch_48\">\n    <path d=\"M 10.7 182.33689 \nL 10.7 111.270852 \n\" style=\"fill:none;stroke:#000000;stroke-linecap:square;stroke-linejoin:miter;stroke-width:0.8;\"/>\n   </g>\n   <g id=\"patch_49\">\n    <path d=\"M 81.766038 182.33689 \nL 81.766038 111.270852 \n\" style=\"fill:none;stroke:#000000;stroke-linecap:square;stroke-linejoin:miter;stroke-width:0.8;\"/>\n   </g>\n   <g id=\"patch_50\">\n    <path d=\"M 10.7 182.33689 \nL 81.766038 182.33689 \n\" style=\"fill:none;stroke:#000000;stroke-linecap:square;stroke-linejoin:miter;stroke-width:0.8;\"/>\n   </g>\n   <g id=\"patch_51\">\n    <path d=\"M 10.7 111.270852 \nL 81.766038 111.270852 \n\" style=\"fill:none;stroke:#000000;stroke-linecap:square;stroke-linejoin:miter;stroke-width:0.8;\"/>\n   </g>\n   <g id=\"text_10\">\n    <!-- sandal -->\n    <g transform=\"translate(26.475206 105.270852)scale(0.12 -0.12)\">\n     <use xlink:href=\"#DejaVuSans-115\"/>\n     <use x=\"52.099609\" xlink:href=\"#DejaVuSans-97\"/>\n     <use x=\"113.378906\" xlink:href=\"#DejaVuSans-110\"/>\n     <use x=\"176.757812\" xlink:href=\"#DejaVuSans-100\"/>\n     <use x=\"240.234375\" xlink:href=\"#DejaVuSans-97\"/>\n     <use x=\"301.513672\" xlink:href=\"#DejaVuSans-108\"/>\n    </g>\n   </g>\n  </g>\n  <g id=\"axes_11\">\n   <g id=\"patch_52\">\n    <path d=\"M 95.979245 182.33689 \nL 167.045283 182.33689 \nL 167.045283 111.270852 \nL 95.979245 111.270852 \nz\n\" style=\"fill:#ffffff;\"/>\n   </g>\n   <g clip-path=\"url(#pd0164af209)\">\n    <image height=\"72\" id=\"imageee5898ff81\" transform=\"scale(1 -1)translate(0 -72)\" width=\"72\" x=\"95.979245\" xlink:href=\"data:image/png;base64,\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\" y=\"-110.33689\"/>\n   </g>\n   <g id=\"patch_53\">\n    <path d=\"M 95.979245 182.33689 \nL 95.979245 111.270852 \n\" style=\"fill:none;stroke:#000000;stroke-linecap:square;stroke-linejoin:miter;stroke-width:0.8;\"/>\n   </g>\n   <g id=\"patch_54\">\n    <path d=\"M 167.045283 182.33689 \nL 167.045283 111.270852 \n\" style=\"fill:none;stroke:#000000;stroke-linecap:square;stroke-linejoin:miter;stroke-width:0.8;\"/>\n   </g>\n   <g id=\"patch_55\">\n    <path d=\"M 95.979245 182.33689 \nL 167.045283 182.33689 \n\" style=\"fill:none;stroke:#000000;stroke-linecap:square;stroke-linejoin:miter;stroke-width:0.8;\"/>\n   </g>\n   <g id=\"patch_56\">\n    <path d=\"M 95.979245 111.270852 \nL 167.045283 111.270852 \n\" style=\"fill:none;stroke:#000000;stroke-linecap:square;stroke-linejoin:miter;stroke-width:0.8;\"/>\n   </g>\n   <g id=\"text_11\">\n    <!-- t-shirt -->\n    <g transform=\"translate(113.581639 105.270852)scale(0.12 -0.12)\">\n     <use xlink:href=\"#DejaVuSans-116\"/>\n     <use x=\"39.208984\" xlink:href=\"#DejaVuSans-45\"/>\n     <use x=\"75.292969\" xlink:href=\"#DejaVuSans-115\"/>\n     <use x=\"127.392578\" xlink:href=\"#DejaVuSans-104\"/>\n     <use x=\"190.771484\" xlink:href=\"#DejaVuSans-105\"/>\n     <use x=\"218.554688\" xlink:href=\"#DejaVuSans-114\"/>\n     <use x=\"259.667969\" xlink:href=\"#DejaVuSans-116\"/>\n    </g>\n   </g>\n  </g>\n  <g id=\"axes_12\">\n   <g id=\"patch_57\">\n    <path d=\"M 181.258491 182.33689 \nL 252.324528 182.33689 \nL 252.324528 111.270852 \nL 181.258491 111.270852 \nz\n\" style=\"fill:#ffffff;\"/>\n   </g>\n   <g clip-path=\"url(#pd525a1e23d)\">\n    <image height=\"72\" id=\"image2af23d8ea3\" transform=\"scale(1 -1)translate(0 -72)\" width=\"72\" x=\"181.258491\" xlink:href=\"data:image/png;base64,\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\" y=\"-110.33689\"/>\n   </g>\n   <g id=\"patch_58\">\n    <path d=\"M 181.258491 182.33689 \nL 181.258491 111.270852 \n\" style=\"fill:none;stroke:#000000;stroke-linecap:square;stroke-linejoin:miter;stroke-width:0.8;\"/>\n   </g>\n   <g id=\"patch_59\">\n    <path d=\"M 252.324528 182.33689 \nL 252.324528 111.270852 \n\" style=\"fill:none;stroke:#000000;stroke-linecap:square;stroke-linejoin:miter;stroke-width:0.8;\"/>\n   </g>\n   <g id=\"patch_60\">\n    <path d=\"M 181.258491 182.33689 \nL 252.324528 182.33689 \n\" style=\"fill:none;stroke:#000000;stroke-linecap:square;stroke-linejoin:miter;stroke-width:0.8;\"/>\n   </g>\n   <g id=\"patch_61\">\n    <path d=\"M 181.258491 111.270852 \nL 252.324528 111.270852 \n\" style=\"fill:none;stroke:#000000;stroke-linecap:square;stroke-linejoin:miter;stroke-width:0.8;\"/>\n   </g>\n   <g id=\"text_12\">\n    <!-- ankle boot -->\n    <g transform=\"translate(185.068384 105.270852)scale(0.12 -0.12)\">\n     <use xlink:href=\"#DejaVuSans-97\"/>\n     <use x=\"61.279297\" xlink:href=\"#DejaVuSans-110\"/>\n     <use x=\"124.658203\" xlink:href=\"#DejaVuSans-107\"/>\n     <use x=\"182.568359\" xlink:href=\"#DejaVuSans-108\"/>\n     <use x=\"210.351562\" xlink:href=\"#DejaVuSans-101\"/>\n     <use x=\"271.875\" xlink:href=\"#DejaVuSans-32\"/>\n     <use x=\"303.662109\" xlink:href=\"#DejaVuSans-98\"/>\n     <use x=\"367.138672\" xlink:href=\"#DejaVuSans-111\"/>\n     <use x=\"428.320312\" xlink:href=\"#DejaVuSans-111\"/>\n     <use x=\"489.501953\" xlink:href=\"#DejaVuSans-116\"/>\n    </g>\n   </g>\n  </g>\n  <g id=\"axes_13\">\n   <g id=\"patch_62\">\n    <path d=\"M 266.537736 182.33689 \nL 337.603774 182.33689 \nL 337.603774 111.270852 \nL 266.537736 111.270852 \nz\n\" style=\"fill:#ffffff;\"/>\n   </g>\n   <g clip-path=\"url(#pfbd5611861)\">\n    <image height=\"72\" id=\"image5e18d17b57\" transform=\"scale(1 -1)translate(0 -72)\" width=\"72\" x=\"266.537736\" xlink:href=\"data:image/png;base64,\niVBORw0KGgoAAAANSUhEUgAAAEgAAABICAYAAABV7bNHAAAABHNCSVQICAgIfAhkiAAAEt1JREFUeJztm9mTZMd13n8nM+9WVV29TM9MY2awESRFgpTosEK2HLRfHHrxk19s6X/zv6AnKaQXhxUSFaGFS4giKUrBBcBggMGs3V171b03M48f8tbSgwELIBUgHvpEdFR3Vd1cvvzOd06ezJY/kv+lXNsnmvltD+CLbtcA7bFrgPbYNUB77BqgPXYN0B67BmiPXQO0x64B2mPXAO2xa4D22DVAe+waoD3m9n5DpHs13YvsfGbACMRfsyCgcefXl7Sx8zn6GxQd1nNYtyHy8e98QvufDJAIptfDHB2Cs2hZoJlDM0usHGqEUFpCaRFVxCuioEbQNS8VREF8xHhFVFEREBCvmDZAVEwTMI1Pg2w9EjX9rgohoosFtB5tGmJdfzqwOhBMVSFFkRYypP6wFqzZAhMVQkhtR0VDgBh+BUAiIAbp9Yinh2juaA5zfN8ScqEZGGIG7YHQ9kEi2AaIoA6iTcCsATIN2Dr9jQEVMK3ilmCC4paKW0YkKG4VICgSu582YC8dLFdgLeJ9msA+kMQgRpCqRA4G6b0QIca04FmauoS4WRgDqe0G9EWATK+HHAwQY6DIwRjisEdzUhEzwfctvhBCLvieoHY90d1BdaB0nrEGSQ1E1/3dmVohFEqMghohZoJE8H3bAatIAAlKNsiRJmIaj1n5NElIK687P7sLnGeoFfygoB3maY5tTIskEJ10ACXmmzrgRkOk9cjzC8L5xQ5AIsird5h/9QRfCvWhIRSdq0gCQm030Qxikd7LplBeKGog5HJV8jtwEhjpGUhsMj4B5vupD5UOXUnvr9tRWYOabdr6GFFCWiSJO/05aPuKOvCDiA58+qA1EKVbRNm2qeDmOeXTHtlcOf1hBReXoLplUBwULG9YfAn1sRAqRaIg4eqkE0CpZZkIdtWBZ1PfuwNdMyYaCHaHQd0qhmz7rFpFLYRCN26YBCx9hqRnMLtMAYJgVgbilrExV/TAY/PIoL/i5mAOwKLNCNHgg6ENNg1FBVVYTktW5PiZ4Af5BhiHsYi1aGYJeaK+W4Kt04quBVdCmnx0EOtET7dQbKOJrjuMkRdXu3O7rR5pWvXQMcilftVAtKnf3WeN3/at3cjT893CuDROielHLYSpQS0sXMF9d5jaaQV2AqNomqdpoNLUpm3ArnyK0BpwkjnEWkJmCUUaXDZVbJtWOJTpPVsr4tMAQ55mkM3ArZSQr3XnKlCbiWoHsIJtlGypqIBbsnErtVdBWbdhPBTTiK0joTC0vdRHMYnYZaA9cCxuGmImKVIGriysaQTbKBLB+NgBKEkTIxSXLdnM0x5kLG46EDBLD0ZQFZw4B8ag3cqp7Exs9/fdwe9QXM0OyzogbKtb3RLZSNPG5dwLjSqblZWdFV73HS2I6zRRP85Q2V2U9YL4jrG+Y+Duc6qdsAKSgoTuDsmQoqAFJ70eYg0xNxtRDrmgRom54Mt1o4JFiQ5Ckb7XhtRa7ICQCPlMKS8DaqE+sIRcMQGMV9QIzYHQHHZA1rp1oY5haw0L+Za9zdBuwDM+PeMLi/GWmHXjtRDsOjKBW6Z+YT0fUuCxXIm0bd8h0XXzEiQooZeT9SuIipMi36DY4dAJrmx9XrdMUSubiKZOCJluo9fahWY+JZK5QY1gW8WtlGiV+sjie2mFUcGElEUbvx64dvmSbFwvFOnVNmCXgug6bUigR8eG7doFU+naWieu0YKvhJh3ka/rz1dciZrGCzEzkOWgEYezKcz7iFsmDmZzxTbQVkJ7kICzy/ReyLedqnSoR00aFdNAVicZasB3qYIvhbZaZ9CQjzo2tJ02tJ1bmu1qQ2JBWgxJHrgTBVMimdzFSHIRNdtdRMg7wV8/YrsI7MAGsKv0/Nprok3grckgLrHAaZ6lbYVX8kmiZfW0wc0amqOC5a00WbdKIPhSEDUbSoYqRYJsHLGN0vYN87M0Q9Mm0fR9oTlIoFTPlGIcO9Z2GhISg0Ih1EdCyCGbKfk0Rch1brSbciR363IzFJGr25xQbN3NhK6dPLHR1okExm9ZFwpoOm1UZ6AsujzImq2L7Yi0GknuJElfVNJq7m70YpYoqhbapRCd4KtOo0hiLAptH9pDhQj5WFJ/ktiWVEyIaKdlOyCsmRIkZey6daU1kzZ6IruJ5Y7JliUf0zvdNrmrSyqgziaAtMhQEZrDFC4RWB0XGF8Q8sQQANPYJLSyRhnmr0WKezMCMGktMRrieU75zBIzpb7tsQctN4+n/MHNB0x9yd/88OuEX7qN1iHdgLs8yzTgOtdrqyT8xTiF57afGAaQdxk5Atq9SpdsSkiMNwGaQScTEaqnKX1ZL946f9q4p9dtGjCsIIKLuQUjtD2hHa7zEdlksutVMa0gIWXWtulC782a//baO1S2ZWBrAP78/jdZzY6IhXLn9XPePn7CHw7f4U8O7vMseP7l+SuMRzeusFUiaTBLoXymuFVqP2YJhGyiuEVArWPlZOc5XZNks/TaJXz5LGJaxRcutdOk3KkYB9q+pT5M0Zd1mrKTkKqFUGUAODurQYTqvMB3QrpO23fpbjp0zVovMph9OcNHyzRaPlwcsQoZ08cHnLwPzYFh9lZBZgI/X53xf0KPh/UR5+8ec3x/K4pqIOZdVArbULzOkCVCyA3GG0IpmwVLG+AdWdjRJYBmkMTI99Ln0aUxxUyusme93zSpX4kQpkkGkgZ99ASA3nhG9V4FqsiyhnZ3mw663i1HBY3IoM/4y/dY/m7GRd3jFw9vEWcZN35guf3/PqS9e8Ivf68if9Xzt4/f4skvTslHhtf/3tP70ftQlYSTAbFwzO+WLE4NMYf2IDFHXXKXaCH2Iuoidmopzk2Klpngqy6idqlIPlXcIuIrw/yOIZTdYnesmN9NWmvrtAtYRyw6kW67qkg2NSn0R8HF5SoxJCqsVqBKmMzQtuGlJoJYm3INvwZPiLXFLE3aRszmmGXy10wCs1VB+cRSXijloxn+0WNMv4+NEVMVZMMM1xeCJp1Zu3bKtRQGLXnpabQkTrrKpuukwGy3KWvRV0kgh0IxTZdrATFLia74LRPXQg2kTTFrXRLEKE7bNMsYFfGp1qJhdwt/1eytm7RfucPiRs7yzYb/dPQez9sD6uC4WFQ8cUMWt75GM4SvvXafr1RP+Av/TYYPlOq5x4xmRECbFh2NYebo+UD5rIc6g+9nRCc0w6QTzaFhcTvyxukFk2HB+LSibS3LixLbrXR0qaYTCkMoE0puDm4u2Fo3e76QJ7e0jWLrlGiu0QmFYOsEnFvFFMFVcOvSosbwyazZtaMhF29XrE6Fu/ce84fVO5wXfQCeNQMeHR/y+K0DToua/3Hrp7yVPyEEYfhgRfZogo4nqb+2IYy6/rriFIDrKoG9e3do7p0wv1fS/OfA148ek0mgMJ5ZKPi7R1/i/HyAGEVsEsyVKVBrsDUU54qrU7Uym6f4HZ1s2LYp6sWUfsRCcCuzyfm0SzL3F+1fNGfxleB7ihHlPPYZhT51dEQ1lLbluFxSuZYn7RC4RzvLsYsaWdbEjrFXbLcaqAHFos4Sei6lGt5y0fQYuAbTJTr9vGExqLE20i8aVIUnjaHxOW6Z2LOukcesy7uybSK5K+zrUsp6j7mum18F6MVK/yfUfGMvZ3WqNKeJef8w+wqtWp7UB6xCRt81nJUTliHn7559icmqoPdujn30iPDsOfoygHZMnANrCScDpnczmiPBLx0/fX7GUbXibn9EJpE3h+e8dnDB7WLK7/Y+IJfAXxx9ix8fv8J8WoJWZHMhFBDKLnTn62R3Z/8Yd9DqAMtHhmxqEQX30iOQKyOWK2Dpes9SBNpoeFIP8WpY+BwfLYfZiuNsQVTDxbzHdFwxnIIul2hd7+/LWiTPCZWjHXTVhCgsVgWZjazKDGzLUbZkYGteK875D+WHZET+rX+Hh/1DQjC0RUloEtP9QUwCnEfExa1bAhoF7cqvGgUNQuszJKT3Xu5iVyh/lUnu8YhbP6hoDnJmp7f5ztEtQqnojQZXeO6cVBTG8+7sBqufHHFyHw7fq9EuWv4qs7dusvj911mdWMZvGdrfWVAULV89GnNcLsiNp7ItVpTCeDITeFDf4J3VLSa+5P/+yzcY/GtOvoDjpwG3TCHfl0K0ScDXOrSuAGy2Vuv3FPJp2gvCGqDPcCjnHzxk+PgpWIs5OUaHferbA578QUl9ojyMhrP+hA/Hh7zyj57qr3+Ktp74aQLA6TEf/VdHfH3FN+99xP8++wGlbPOxZ/6AB/UNAobStBiUB8sTfvjoLstpye2/cpz8ZeqPEFBVxNrESueQfg8yh+YZWmaoMWhmUGcIlaM5dEQL2SJil7ED6LOeWMZAXIWUD2UOUSUrHeVFDgjLouQnxSssnvU5GzXExWJvk5LlSObww5L2OHB2MuGNwTlnbkQmgVXMiBhG0ksirRGDps+CYzktkVFGMYmEyWxz6AdrwTUpd9MIWY7kGdJkqDUJMGvTkRAp0rlFwNS+A+jT2ovHt6rE2RxZ1Zj5glvTFVpmhEGBH1TYZYv7+UM+OaPatmvPbhFuHTL6ao9vfP0+f3z2fc7cmDM7IyCMgFXMsBKJKhsG9UzD+apP9fOC6qlSPVqgu8fV6/FqQDUS54BZIZ3WYQwikg4YraXMUulHY0ynsJ8JICCdz8cNSOo96n3KwC8v01eArPv6XnC6NnVQ0dyoqE+E3z9+wH/v3SdCyqwRcgKt2CuPpZyoZeUd5XOl/zhgJstP7lN1k+d9Fp/59ABpV1n/TS4RvMQkcyzePOLZtzKW9wI90/A8ZDwMh9xvbtKqZRZKWrUsQs7El2QSKYqWMzfi7eMn/PXvnTK/Z+nfvcXgd27gFoHi8SztKRdL4nyRzt5X9RX3+/hgXvASPiuDXgbObprwa4Anec752xl3/ugDbldTDu2Cd9qb/P30y3z32Rv4mBKWqEIvaxkWKwaupn9Q80Z2wf+88U/c/vaE87bPj8/v8OHzIXpRcOOfT+g9DxTnNdmjETQtnF8k/XzpQARxifv7Ly986tntyaH2PCvWInlGqOC1/iUn+ZyAYRpLRm2PeZ0TVHAmYrsTVScBZwKj0OMDf8QzP6SODh8thQ0UVcuy52gOMyRaoED8EFOnywkyn6OtR5sWNG4vQsjLr0r9ZgB9Fsa8QF/T62FunRKOBjSHkdtF2qP9bHFGHR0fzo/w0eBM5I2jC24UC07yOffySxYx508/+I88enoEk4zqocU20AzTWbyxMPmaT8fUXpC2j10JvUfHZFOl/zTQf2eUtj7PL4jTKcSwFfhf28V+XetCbbKkY1IWhJMBzXFJGESOszmzUPJ4PmTSlIzrkhAMmQ3c6434SvWU29mI19wFD/wJH310wuEPc6rzyNG/jpDGM/7mCeM3DfWxcvTWiFeHY0rXUtmWy7rHTx7cQS9zmvcd2WyAm2SY2QKm048B8/kCtGvrQYSQ7v60EbPMeFgfE1VwEum5hjpzNLmlyDx1dIy74rhFeb85xT3PGHwUKEYemS2R1lM9bYguJx8LE3ODHx0cYQ8bjocLGm+JtUVIBw2zuznuJKMa5LjRKdKkdmhb4nRGnM8/R4DWEXD3rdZjZiusteSjih9d3KWfNdwup5zkC0rryU3Amsi0LXkvnlLZlg/dMb+Y3uTwZzD8zi/Be+JyBVHJL8fkPy2QIuf20QFaOi7fPuDy6xXRgXHp7K2+EXl+BBINdlVimop8DMMPPG4WqN49J777eQL0MlOFkK7e2RU8n/VZlY5htsKZgBGlcmmb0USLV8M85IzaiieLg5Q1Pz+/0mRYb2eMxYwnmDyjf/IlFmc5IQffX1+U0O4Kj6aLWyHVXpu+SZvWbAvL5wfQC/6tTYNejmGx4uy7fSaPD1kOhe+9cZNwEDh5Zcy3X3mPOjp+NrrNeFkyvuzjHiUXuvv+9Ff0FdFVqquX755zuzlON9pys3N0ngr38zNDc5g2qOvDUXYqqr81Bqn3hEmKXPY7zzmxFvvKGaP/co/FacZlMeDVNy+YhZLvLV9ndNGn+mXB2fcbslGNff/J3qxZW+Cd+9h37oOYj03WDgdk3/4q4zcz3Fxxq4hpYrq32Nlvz8V2TTVtW5ZLiosWyJh/VPBnt7+Fj4bR0wPsxFKMIZs02OkqJX6fsu30+nE4dVWTjVvKc0u2jGQTny5P7bQtX6T/epYsxxweIEVB+9pN5q8mcY3d7bODDxuKHz9AFwu0rtM+8DfqULBHR0ivSuWRugGNxOVqU9z7YjCoM22bjfC6uuZwdJKuIN/oESpDfr4kTib7K5OfukMlXF5uNtovsy8UQLumyxVyMcY4R7FsIHPIeIbfU9P+97YvLEBxPod1sa07CvpUF8j/ne0LCxBwRWBfrIN9Xnb93z577BqgPXYN0B67BmiPXQO0x64B2mPXAO2xa4D22DVAe+waoD12DdAeuwZoj10DtMf+P5okNWCQl8O/AAAAAElFTkSuQmCC\" y=\"-110.33689\"/>\n   </g>\n   <g id=\"patch_63\">\n    <path d=\"M 266.537736 182.33689 \nL 266.537736 111.270852 \n\" style=\"fill:none;stroke:#000000;stroke-linecap:square;stroke-linejoin:miter;stroke-width:0.8;\"/>\n   </g>\n   <g id=\"patch_64\">\n    <path d=\"M 337.603774 182.33689 \nL 337.603774 111.270852 \n\" style=\"fill:none;stroke:#000000;stroke-linecap:square;stroke-linejoin:miter;stroke-width:0.8;\"/>\n   </g>\n   <g id=\"patch_65\">\n    <path d=\"M 266.537736 182.33689 \nL 337.603774 182.33689 \n\" style=\"fill:none;stroke:#000000;stroke-linecap:square;stroke-linejoin:miter;stroke-width:0.8;\"/>\n   </g>\n   <g id=\"patch_66\">\n    <path d=\"M 266.537736 111.270852 \nL 337.603774 111.270852 \n\" style=\"fill:none;stroke:#000000;stroke-linecap:square;stroke-linejoin:miter;stroke-width:0.8;\"/>\n   </g>\n   <g id=\"text_13\">\n    <!-- sandal -->\n    <g transform=\"translate(282.312942 105.270852)scale(0.12 -0.12)\">\n     <use xlink:href=\"#DejaVuSans-115\"/>\n     <use x=\"52.099609\" xlink:href=\"#DejaVuSans-97\"/>\n     <use x=\"113.378906\" xlink:href=\"#DejaVuSans-110\"/>\n     <use x=\"176.757812\" xlink:href=\"#DejaVuSans-100\"/>\n     <use x=\"240.234375\" xlink:href=\"#DejaVuSans-97\"/>\n     <use x=\"301.513672\" xlink:href=\"#DejaVuSans-108\"/>\n    </g>\n   </g>\n  </g>\n  <g id=\"axes_14\">\n   <g id=\"patch_67\">\n    <path d=\"M 351.816981 182.33689 \nL 422.883019 182.33689 \nL 422.883019 111.270852 \nL 351.816981 111.270852 \nz\n\" style=\"fill:#ffffff;\"/>\n   </g>\n   <g clip-path=\"url(#p6c12a65c78)\">\n    <image height=\"72\" id=\"image53fdae6468\" transform=\"scale(1 -1)translate(0 -72)\" width=\"72\" x=\"351.816981\" xlink:href=\"data:image/png;base64,\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\" y=\"-110.33689\"/>\n   </g>\n   <g id=\"patch_68\">\n    <path d=\"M 351.816981 182.33689 \nL 351.816981 111.270852 \n\" style=\"fill:none;stroke:#000000;stroke-linecap:square;stroke-linejoin:miter;stroke-width:0.8;\"/>\n   </g>\n   <g id=\"patch_69\">\n    <path d=\"M 422.883019 182.33689 \nL 422.883019 111.270852 \n\" style=\"fill:none;stroke:#000000;stroke-linecap:square;stroke-linejoin:miter;stroke-width:0.8;\"/>\n   </g>\n   <g id=\"patch_70\">\n    <path d=\"M 351.816981 182.33689 \nL 422.883019 182.33689 \n\" style=\"fill:none;stroke:#000000;stroke-linecap:square;stroke-linejoin:miter;stroke-width:0.8;\"/>\n   </g>\n   <g id=\"patch_71\">\n    <path d=\"M 351.816981 111.270852 \nL 422.883019 111.270852 \n\" style=\"fill:none;stroke:#000000;stroke-linecap:square;stroke-linejoin:miter;stroke-width:0.8;\"/>\n   </g>\n   <g id=\"text_14\">\n    <!-- sandal -->\n    <g transform=\"translate(367.592188 105.270852)scale(0.12 -0.12)\">\n     <use xlink:href=\"#DejaVuSans-115\"/>\n     <use x=\"52.099609\" xlink:href=\"#DejaVuSans-97\"/>\n     <use x=\"113.378906\" xlink:href=\"#DejaVuSans-110\"/>\n     <use x=\"176.757812\" xlink:href=\"#DejaVuSans-100\"/>\n     <use x=\"240.234375\" xlink:href=\"#DejaVuSans-97\"/>\n     <use x=\"301.513672\" xlink:href=\"#DejaVuSans-108\"/>\n    </g>\n   </g>\n  </g>\n  <g id=\"axes_15\">\n   <g id=\"patch_72\">\n    <path d=\"M 437.096226 182.33689 \nL 508.162264 182.33689 \nL 508.162264 111.270852 \nL 437.096226 111.270852 \nz\n\" style=\"fill:#ffffff;\"/>\n   </g>\n   <g clip-path=\"url(#p779cbf3692)\">\n    <image height=\"72\" id=\"image8926a921bc\" transform=\"scale(1 -1)translate(0 -72)\" width=\"72\" x=\"437.096226\" xlink:href=\"data:image/png;base64,\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\" y=\"-110.33689\"/>\n   </g>\n   <g id=\"patch_73\">\n    <path d=\"M 437.096226 182.33689 \nL 437.096226 111.270852 \n\" style=\"fill:none;stroke:#000000;stroke-linecap:square;stroke-linejoin:miter;stroke-width:0.8;\"/>\n   </g>\n   <g id=\"patch_74\">\n    <path d=\"M 508.162264 182.33689 \nL 508.162264 111.270852 \n\" style=\"fill:none;stroke:#000000;stroke-linecap:square;stroke-linejoin:miter;stroke-width:0.8;\"/>\n   </g>\n   <g id=\"patch_75\">\n    <path d=\"M 437.096226 182.33689 \nL 508.162264 182.33689 \n\" style=\"fill:none;stroke:#000000;stroke-linecap:square;stroke-linejoin:miter;stroke-width:0.8;\"/>\n   </g>\n   <g id=\"patch_76\">\n    <path d=\"M 437.096226 111.270852 \nL 508.162264 111.270852 \n\" style=\"fill:none;stroke:#000000;stroke-linecap:square;stroke-linejoin:miter;stroke-width:0.8;\"/>\n   </g>\n   <g id=\"text_15\">\n    <!-- sneaker -->\n    <g transform=\"translate(448.917058 105.270852)scale(0.12 -0.12)\">\n     <use xlink:href=\"#DejaVuSans-115\"/>\n     <use x=\"52.099609\" xlink:href=\"#DejaVuSans-110\"/>\n     <use x=\"115.478516\" xlink:href=\"#DejaVuSans-101\"/>\n     <use x=\"177.001953\" xlink:href=\"#DejaVuSans-97\"/>\n     <use x=\"238.28125\" xlink:href=\"#DejaVuSans-107\"/>\n     <use x=\"292.566406\" xlink:href=\"#DejaVuSans-101\"/>\n     <use x=\"354.089844\" xlink:href=\"#DejaVuSans-114\"/>\n    </g>\n   </g>\n  </g>\n  <g id=\"axes_16\">\n   <g id=\"patch_77\">\n    <path d=\"M 522.375472 182.33689 \nL 593.441509 182.33689 \nL 593.441509 111.270852 \nL 522.375472 111.270852 \nz\n\" style=\"fill:#ffffff;\"/>\n   </g>\n   <g clip-path=\"url(#pef15357b06)\">\n    <image height=\"72\" id=\"image2ea10ac4d8\" transform=\"scale(1 -1)translate(0 -72)\" width=\"72\" x=\"522.375472\" xlink:href=\"data:image/png;base64,\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\" y=\"-110.33689\"/>\n   </g>\n   <g id=\"patch_78\">\n    <path d=\"M 522.375472 182.33689 \nL 522.375472 111.270852 \n\" style=\"fill:none;stroke:#000000;stroke-linecap:square;stroke-linejoin:miter;stroke-width:0.8;\"/>\n   </g>\n   <g id=\"patch_79\">\n    <path d=\"M 593.441509 182.33689 \nL 593.441509 111.270852 \n\" style=\"fill:none;stroke:#000000;stroke-linecap:square;stroke-linejoin:miter;stroke-width:0.8;\"/>\n   </g>\n   <g id=\"patch_80\">\n    <path d=\"M 522.375472 182.33689 \nL 593.441509 182.33689 \n\" style=\"fill:none;stroke:#000000;stroke-linecap:square;stroke-linejoin:miter;stroke-width:0.8;\"/>\n   </g>\n   <g id=\"patch_81\">\n    <path d=\"M 522.375472 111.270852 \nL 593.441509 111.270852 \n\" style=\"fill:none;stroke:#000000;stroke-linecap:square;stroke-linejoin:miter;stroke-width:0.8;\"/>\n   </g>\n   <g id=\"text_16\">\n    <!-- ankle boot -->\n    <g transform=\"translate(526.185366 105.270852)scale(0.12 -0.12)\">\n     <use xlink:href=\"#DejaVuSans-97\"/>\n     <use x=\"61.279297\" xlink:href=\"#DejaVuSans-110\"/>\n     <use x=\"124.658203\" xlink:href=\"#DejaVuSans-107\"/>\n     <use x=\"182.568359\" xlink:href=\"#DejaVuSans-108\"/>\n     <use x=\"210.351562\" xlink:href=\"#DejaVuSans-101\"/>\n     <use x=\"271.875\" xlink:href=\"#DejaVuSans-32\"/>\n     <use x=\"303.662109\" xlink:href=\"#DejaVuSans-98\"/>\n     <use x=\"367.138672\" xlink:href=\"#DejaVuSans-111\"/>\n     <use x=\"428.320312\" xlink:href=\"#DejaVuSans-111\"/>\n     <use x=\"489.501953\" xlink:href=\"#DejaVuSans-116\"/>\n    </g>\n   </g>\n  </g>\n  <g id=\"axes_17\">\n   <g id=\"patch_82\">\n    <path d=\"M 607.654717 182.33689 \nL 678.720755 182.33689 \nL 678.720755 111.270852 \nL 607.654717 111.270852 \nz\n\" style=\"fill:#ffffff;\"/>\n   </g>\n   <g clip-path=\"url(#pad8a1b6d96)\">\n    <image height=\"72\" id=\"imageff86ce97a4\" transform=\"scale(1 -1)translate(0 -72)\" width=\"72\" x=\"607.654717\" xlink:href=\"data:image/png;base64,\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\" y=\"-110.33689\"/>\n   </g>\n   <g id=\"patch_83\">\n    <path d=\"M 607.654717 182.33689 \nL 607.654717 111.270852 \n\" style=\"fill:none;stroke:#000000;stroke-linecap:square;stroke-linejoin:miter;stroke-width:0.8;\"/>\n   </g>\n   <g id=\"patch_84\">\n    <path d=\"M 678.720755 182.33689 \nL 678.720755 111.270852 \n\" style=\"fill:none;stroke:#000000;stroke-linecap:square;stroke-linejoin:miter;stroke-width:0.8;\"/>\n   </g>\n   <g id=\"patch_85\">\n    <path d=\"M 607.654717 182.33689 \nL 678.720755 182.33689 \n\" style=\"fill:none;stroke:#000000;stroke-linecap:square;stroke-linejoin:miter;stroke-width:0.8;\"/>\n   </g>\n   <g id=\"patch_86\">\n    <path d=\"M 607.654717 111.270852 \nL 678.720755 111.270852 \n\" style=\"fill:none;stroke:#000000;stroke-linecap:square;stroke-linejoin:miter;stroke-width:0.8;\"/>\n   </g>\n   <g id=\"text_17\">\n    <!-- trouser -->\n    <g transform=\"translate(621.746173 105.270852)scale(0.12 -0.12)\">\n     <use xlink:href=\"#DejaVuSans-116\"/>\n     <use x=\"39.208984\" xlink:href=\"#DejaVuSans-114\"/>\n     <use x=\"78.072266\" xlink:href=\"#DejaVuSans-111\"/>\n     <use x=\"139.253906\" xlink:href=\"#DejaVuSans-117\"/>\n     <use x=\"202.632812\" xlink:href=\"#DejaVuSans-115\"/>\n     <use x=\"254.732422\" xlink:href=\"#DejaVuSans-101\"/>\n     <use x=\"316.255859\" xlink:href=\"#DejaVuSans-114\"/>\n    </g>\n   </g>\n  </g>\n  <g id=\"axes_18\">\n   <g id=\"patch_87\">\n    <path d=\"M 692.933962 182.33689 \nL 764 182.33689 \nL 764 111.270852 \nL 692.933962 111.270852 \nz\n\" style=\"fill:#ffffff;\"/>\n   </g>\n   <g clip-path=\"url(#p743a81f450)\">\n    <image height=\"72\" id=\"imageb2cda9cfed\" transform=\"scale(1 -1)translate(0 -72)\" width=\"72\" x=\"692.933962\" xlink:href=\"data:image/png;base64,\niVBORw0KGgoAAAANSUhEUgAAAEgAAABICAYAAABV7bNHAAAABHNCSVQICAgIfAhkiAAAE79JREFUeJzNnN+PJNd13z/33PrVPT0/dna5y6UoSiJDSZCjBPKDgcRC8mIDfnCAPPgPsP89I68BAiQPeRAcIEASKY5sGJTMFSlyOZzd+dUz3V1V957jh1vVXd0zs5yd7Y15gN6ara6uqvut8/N7zy33J+4vjC1K9u4T9MkhOspZPKoIYyFUjnYM5h2agXmwDGIBJqClpf0CiGFu46QC5kBakMYhAfKpI5uDi4Y0IAFGJ5HitCG7bOC3n6PT6fUbdA7s7kPO7o3ETRdyDrzHMsHEJSCk+3jXbQf7ZDV4E8BZt+3OZ+lvE+u2rtsOfm8ugSqgmUvX9g5xmyjfT+4HkPjuDwUzZDxG3n2MTipO/uUBJz9xaAFxpFiuuCpS7jSIKGYOM4eIUmUR54wii2SiiDNyHxFnqDnUHOKMzCnOGYuQc9UURHUsmpxZEGLr0ascFxyudbhQMv6q4v15izwLWBuwtkm3ew/QXh8g53A+AWQx/ePGI+b/4hGLw4yvfq785R//gv1sBoDHeJKf8cP8a8QZJ3HMhVZ4p+TEdIxTPIY4pSAiTmnNExEAKtfiMa6s4CyOUQRBAfgqHPD/rr7DPBYcFlccZlf89bOfMf/1PqPjU5jNVgANxnBXM7u/ia1dsDMpATLjSX7OgZ/RmEcRdqQmd2lA4nQJSA9OL2oCLqIm3ffpO48tjx9KOo+Su0iQiEeR/nxmYHqDG5C0/45yf4DE0SkAaMTXEd8IREdEWFjOSZgw04Kjdp9P5F3UhJOwwzzmZKKMpVkDSDC8S4PMXSR3cQmAd8pZHPOi3aU1j3ae/CJUPJ/v00RPtHdQc5w83+fR6QKdXkKMN9z83eWePui6LbtgSDCcOtSEaMI0VlzGEjXXDUo4a0csYkYhkZ2sWT1xwDtDOlMrJTD2zQo0jPM44kU9oTUhqEdxzELBRV3RqjBvcuo2w194ZNaidX1vYHrZjomp4aIirXUa5Jb+o5fkeCGXSDAhk0guERmYjrjkqHutKV0AWGmVRjKJoKBOkhPHcM7wzijzQOaVeWXg/zmj2KbEiDQRqRUXPLXm5C6irN+kOCVzSiGBUiKFBHJ33QTEGWPfMPbrGpC7yMi3NM5ol3E+HY8o47yh8JHj8T6WybXz3ke2cxYAM5yCe0VwEGedk+62XHeWMjjBbc5ZbtjX/7aQ8OqbeE25nwaprfkhM8PVyVG7UBBNUkRiMOCNyKEmtOaTj0GXxwVNv4vSbXHUmhNNqDUjqKftzq/mUFK+ZF3epOa4norfX+5vYjp4Sqq4GHFtxBkoyQ/10g9eN248gahr7mLTdwG05gefzkEPADFzBJUOpO0ZBWzLxMwgRFyruAix155bTCH2T3p4Ixtm0YM8HLB2ACgrzRmeR3EEEwYp1BvLVpy0xYjMa0QEaVchHcCjRJI5pG33cYbiEBI4vVPvU4LYmSB0GqQpsw4mxE5jgvk1kLTbj34bTGwoahBCSspueXI9SJuaAwmglDDK0sT0FeZy+36XtHeL/MT9ADJNKfvg/9a2uLrlhqg98BeyNAMZOO0+7+lNUy0B1WtQvAEQHfid3jyjClFTNu/MtoLT/TXIdBmZTA1rWsga3CtsX3FL/zOMctJl0N5pZ2JCUFlGshvP1UUxAOcMAVoV2uhx4fU4n1fJdkwMQBViF8VsPYL1zlqwtYH1+/twnf5+FSjuVgev3fchdj7oNoBeo1CFbQFkmjRIJEUxhIhLGtE53lLC0mSCeoKs32g0odVVGMevKv1aM1rzBPPpt52pQtKe3EXMHFdaULcZ0nKzLzT7/8gobl7YNGnRpgaxMqH+u80SJCJdWO980A21XC83hfdeg8wcMQpOkw/ahmzNxEwtJYvdfalJAqXTotb8srQIKsuMuZfYZ8ZdGF/7rk8TBvszpyDpXHXMOge9vfC+vM7WzqQRs+xmDerKCXVJe6LKht9xtPj1aDdMAG09t+prugwICHXIlrnRtmV7AEGiPazzQX2i2GmQOPvG/KQ3tbV9A7CG5cWm2HDfq67zmqb3+gCZYXr7RVyEaVsxloaJr1d0xuDhBktZ8DLkc33AwTyzWAAsHXQf/m+KdM5ZqsXUfUsSRbj+NCw56XZQJohTcpIm9FHpNi3YlFX2LR2Yskw214k2W/kncwnub5uTBsAJmsOTcsrj4gLf5T0AlbSg6wVsP+DoDCEO9rs1nzL0VaEzuUx0LY/qtUfNIf/sGvQKiSX8ePSch9klX7X7TLUid5HKtcmxSlxxPyaICRlx6aNiZ3JBPdEPK/lUqNYx67QvUEgCNVrn+FWw6FI2vyUN2r7bd5C7QN7xycPIs8kOxhsi1lB6U9wM+0MZOueUjrmtUR3wFjQIg5mWFDEy05KZFuQuUrgAAqVEso6cT+D0c1+9f9pMAWTJIkJH4HffhQH4zhkxeGzh8bWDuB2U7qdBZreqsFNYWM7CcmZasNCc1vxyjkuc4of+44YIdo15ZKVpPRj9cUpyyuIMVYdrBAl8S510Jz3h1ecw0YSF5kQE76ybh9ekAbpeoA7NKpi/du5rzGN3bNTt8kC9bB0gp9BqxkLyJY9cW8ZMyyVPXUjyT030BCfUPluG9NBFtqCJRQSWPqinRmA9aQzR0wSf/M92Ofu3o0FDk+g1KDUjrAa64oSu+4oh53yT9L8HOqL+rSgP8JacdJ8klhKWVflMi2X5UUik6aaOdYNX7uW2DBtSgdqq77ZCiB5VwYmhWd9j9G2aWR2Is5Q1Rxy5i4ylQXFLZw1p+nmtvrqFLIt2ff/SrDr2sI0dwJ15kSmWsTWAtp8HGcxjTq053imVtAiW6ildTQcNzeQmlnBThlomXd0Vuwy6F+fSiLY5NbZdgEyRFo7qPV60E0ppeZRNqaRlHnPmWiAYO1lN3mXBffHZTwqmm1ovR0L3UXPLHKpVoW6z5JzNJV7aR3wZ0dzAb2doW9cgF2EWcmrN8FjSIKepGte+gLUNEO6uPcN9UdenJkUMEd3qqLbugyQa07ZiGirEadddFtfMaJU1d0UmrpsEXB9Z6ABdN69VJq295gz4beeg9Xx7fZALcL6oOG8qAHZlnmZNTVYm5FY+qA/nq+mgdee94qDTb/sqvm8GNXP4rj8o80qeBywz7FsbxRRCFBpdP/UmhQo9j9PvW2cT78oZLa/bgWTWRbMtPfq3YGJw1eRcNiW15te+b02QLvfpp5zVHLX69ULVhNBZTj8HLzhko8bqTUwceEl13nluN5vYcN8da7Xtm5gaIaQELt5YiMot2iLLMgNW2fhmg8KNg3CdBomSi2L+FoBgNWV+RxPcfh7UXbu/fDTBo5Q+LFuB226ScCjXZku7Zs7NaLfeNNXv70uOjoW8TTn6+bv+7zvI1gEy10WWvqhEEGfs+JqdLPUcNpotuRxY+Z/1yUAlk8RApmNWWfXwuES1pjmxqIm7dq+cer6dqrlJ3sgHyc4OblSB97gsgyKn2XXkeST3MXXPc70X8VUM4atEzaW5tY3fu44jsq6yN2eEvYr8yeNOvVJDuc0XaWlCjKB365++N0CuLJn/+59w/K9zwo7RPA7IOHB48IIfPXjBYTHjUXZB4SKR1F84j8XSzwwj2XLw30CtKinzjn3JIolbKro1H9N5RVNnMIo8+/MKX3+EtA5pIbuCh39XUxxd4c+mhC+/uhNI9wcoyzj9OGfn58d8sHfKXz39BR9mJ/xD+5hfzT6gkpY9v1g2itedWd2mPTcBtNnb2NdfQ6pVJJkikILDLMePAt/52XP2ygUXdcX5vOL8fEy2KNlzUALu6BjbGkDOIeMxrirh4QNmHx3S7HmmH0V+MLng/fEZBzJjV5R3/AU/KL8GoDHPcdjjMlZrBNhQezYZwhVgQlBbpgPaTwxy/bdrU85duTEpah6WV1S+ZZynlUYXPygJo5LqSc7uwU/w8xb57Gvi8fGbAeS8xz19TDyccPyHE0b/8YifHj7nT8sLHmWXPMnP+DCb8ciP2JWaD7NnnKnwN/MP+X1zyGkYM4/5mmOGxCz2AGxKMEm9Pv2Niqamh7gqTjOvqMG8yZdli+RKWQY+2Dnl/fKUvGtWPz8c87cH7/FiPuGrs12+PhqTn4/44L/kyJsChPfYuKQ9KKkPHX/25Df8u91/YGE5jXke+ksqJ+TOM6Ygl0hLQ2uey1guwbkJjNs0CL5Z05wzMIexmv5xYt0as0glLWOpu09DPcl4XF2S+8inwdNKSaz8K0P5nQCSsuT8R/uc/tAz/35LKSGt+cIoXIpWC1MudcHMIldqHGvJSZhwESrmMV/6mH6B3G1sYT/tfxMo0hH+ao5xtzVztF23yMLnNMGT+chXiz1qzdjLFjzIZrTmOQtjLkPB0XQCX4wYnTryy/krx343DSpyLr7nif/qku8eTMldZBpH7Po5O92M6cIADUzNcRJHvNQdzuOIq1AutWdt4N1yywTKev5zG+PVlybesVyhOCTvU8Ga4UV5udjhoqk4LGe0VepMu2grFjHj6rJifOQoTw0/rXmVq74bQCFQvTTmn4/5MnhO3xlzmF3SWkZjHtGcE1eQO2WmOVdWsNBiY+A3mFbXld8PdLXVa9THGri3yHDOrA4ZrfPXks1MFAtCMTXKqUHTvnLodwJIL694/N8+59H/mvD1v3nAJ+8/5lF+2fUBORThWfvOqgBFmWlJrVlaZumUzN084GVZ4FYDSOe5/lyD+sH3HenmVhroRcl9pI2e83mFquOyLjgtRhQ+8mQ8ZTersbln/7cN5Ys5nJ6/OUAWAuHz38PnMPneHzFty8HaidRgeRImtOY7x9iwsGxNC/JBo8Fw/5CbHmoS3FCfOUXNX2Mkh7KsAaMQQrcgRoVR0S7vwwVHcd4gZ5do3dx4ntcC6DZZNXxnS8DQVKDWlk7tNwbT5zRDadWvaVI693qmLc4IKojZtbUara6WaGaiRHN43835+1Wmfdmm1Y9+JsjFHJteYs1bBAhYTgi25qk1oyZbYwuzwWLeoaz5GGHFV3dIhUHw7Yn61LSZllA1HSjRhHmbeKes44Nyc+Q+gZL7SNYtNb9sSuYhJ7tycHZBPDn9xsL1tat5F4wXlzv8dvYOJ2FnOdhNxjARXB1l0S2i6z83AXb9xuyWUN8Dvmov7iPatXslcUX9AzufV3w9nZAtSOtK7lDVv7YGVcdz6l894L8/3+XDj7/iPzz9v2salLu4vPlM4tqaDOjag7uVPpCi1ZDQH5rUUpsGD6DwEYjddJFDRfCd447LHsaOr+6u6Z0xqwsu/vGA4lQ4/DRi3+B77g2QXNWMnxvSZBw/3VkxgJ3zHbbTeTYWvaQj06abfU0a4Vc11sYi3+H5+ySzO7C75qqNpg7rwNgA9KBCeSKMnxvVy3Dn5eKvDZC7uGL/032qs4zn35/w4nsTcolMspoJdbecYMUW9lzQZuf8sMGh0YwmphCe+7QSutaMRZeBz0JBVCH3kcqv8pa1PIuOciUmbrrTxDILjLKW09mI7CXsf9pQHl2ibXg7AIXnR1Rn54z3djn94Yd89geHHBZXfL96ycQvOA07nISdV4br3qx6or6JnlkoqHxgP18w8g11kzELBW30XDQlTfBUeWC3kJX/2YiQvS/KnDIeNWnpedcX+cXFHpPPAsX/+Ht0+D6PbQOERvTqCoD8Ej6bPmAxzni3uGDS8T+9aS2ZRLdq6W3xgOJx5E5RZxRegLSku+yq75FvWfiMzCmNptwnl5WDzjrnf5NzFmdLNuAiZixixsV0zIOrgM5mrzXce4d5a1oe/58FL+unHL33LuHnnj968AyAia/xTtn3s2Ujeb9A7jTsLBvEJU+11YPsikOfSpeTuEOrGR+OjnnoLwG40pSYHrX7PJs/pFXPTlYz8i2eFWFWSUvuIr+bP+Rvfv995pclxe9K9n8DTy8i5SdfcDfD2gZAoaX8+y94erTP+R884LOfHvDx7piJr9nPEjDvZFN2pE5vYrCUUPavrcg7OqKUlh+XX/Jxfs6ZZvxy8T5THfHj8kt+WlwsPZcC/7tO3FKjGQfZLHXydxqXu8iO1FSu5UU7YXYyJj/OeOeXys5//iVW168NzhsBBGB1g7uaMzqecPzrQ/7Tyz/EeUMyJcsi7x5MOSjnPChnfKc6Wz7hXb+glJYDP6NyLQcyp3JppeGn9WOOmj3UhMp9uvZmhoXlfFCesNB8uYLo06tH/N3pE+ZNThs9MQrz84qd3+SUp0b1df1GLzh5gyWZRjy/wF1eUZye8/Fnh1iZd5Nijrhbcvqjp5weOn791Kg+Pmd/tOCPn/wjPxv/jgM/47vZGZWL7ItjVwo+Mc8vXnzEF6f7PHt4yNGDvdShT4pS7xWn/NvxJ0Qcf7v4Lp/VD/mfzz9A/usDxsfK4XFD/nKGa89xl3NoW/Rqhob76M6bAgRpCZRGYtvAxcXaV/5gn73RR8znBZoJlw/HtLue5/t7fFBOiAi7MqdygcYCU6151n6Po+mE+XnFF9k+e8Vi6Yx9l1y+l50C8CLsclTvcTmteO95ZPzlnOzzF4QvvnyjIW2K2/ZL3pYnLkv8e++iOyPCwxGzJyWhcsweO9pd0vvKHKvy24GfOSZfGPnMaMeOduLWjoklhFH6O5uDr2F0rDz41Qnu4go9v9jKi92G8la6XIHkFD/9XZoRASZOcN7z8GAfN66gabGrWZrEixHrO+NN0+rFG95RBKwy88GK63jTm6Zgff79niC9NYCW0t+URcw0vYAgRKxtsabBQjfTuXHzr7k4+a3JPwHVq940kOJ+VgAAAABJRU5ErkJggg==\" y=\"-110.33689\"/>\n   </g>\n   <g id=\"patch_88\">\n    <path d=\"M 692.933962 182.33689 \nL 692.933962 111.270852 \n\" style=\"fill:none;stroke:#000000;stroke-linecap:square;stroke-linejoin:miter;stroke-width:0.8;\"/>\n   </g>\n   <g id=\"patch_89\">\n    <path d=\"M 764 182.33689 \nL 764 111.270852 \n\" style=\"fill:none;stroke:#000000;stroke-linecap:square;stroke-linejoin:miter;stroke-width:0.8;\"/>\n   </g>\n   <g id=\"patch_90\">\n    <path d=\"M 692.933962 182.33689 \nL 764 182.33689 \n\" style=\"fill:none;stroke:#000000;stroke-linecap:square;stroke-linejoin:miter;stroke-width:0.8;\"/>\n   </g>\n   <g id=\"patch_91\">\n    <path d=\"M 692.933962 111.270852 \nL 764 111.270852 \n\" style=\"fill:none;stroke:#000000;stroke-linecap:square;stroke-linejoin:miter;stroke-width:0.8;\"/>\n   </g>\n   <g id=\"text_18\">\n    <!-- t-shirt -->\n    <g transform=\"translate(710.536356 105.270852)scale(0.12 -0.12)\">\n     <use xlink:href=\"#DejaVuSans-116\"/>\n     <use x=\"39.208984\" xlink:href=\"#DejaVuSans-45\"/>\n     <use x=\"75.292969\" xlink:href=\"#DejaVuSans-115\"/>\n     <use x=\"127.392578\" xlink:href=\"#DejaVuSans-104\"/>\n     <use x=\"190.771484\" xlink:href=\"#DejaVuSans-105\"/>\n     <use x=\"218.554688\" xlink:href=\"#DejaVuSans-114\"/>\n     <use x=\"259.667969\" xlink:href=\"#DejaVuSans-116\"/>\n    </g>\n   </g>\n  </g>\n </g>\n <defs>\n  <clipPath id=\"pfafe30c235\">\n   <rect height=\"71.066038\" width=\"71.066038\" x=\"10.7\" y=\"22.318125\"/>\n  </clipPath>\n  <clipPath id=\"pa5e135bd5a\">\n   <rect height=\"71.066038\" width=\"71.066038\" x=\"95.979245\" y=\"22.318125\"/>\n  </clipPath>\n  <clipPath id=\"pef847e550b\">\n   <rect height=\"71.066038\" width=\"71.066038\" x=\"181.258491\" y=\"22.318125\"/>\n  </clipPath>\n  <clipPath id=\"pd9e9961b98\">\n   <rect height=\"71.066038\" width=\"71.066038\" x=\"266.537736\" y=\"22.318125\"/>\n  </clipPath>\n  <clipPath id=\"p3d1c8ae27d\">\n   <rect height=\"71.066038\" width=\"71.066038\" x=\"351.816981\" y=\"22.318125\"/>\n  </clipPath>\n  <clipPath id=\"p5fb7e5802a\">\n   <rect height=\"71.066038\" width=\"71.066038\" x=\"437.096226\" y=\"22.318125\"/>\n  </clipPath>\n  <clipPath id=\"p30c26a557e\">\n   <rect height=\"71.066038\" width=\"71.066038\" x=\"522.375472\" y=\"22.318125\"/>\n  </clipPath>\n  <clipPath id=\"p8fa6932914\">\n   <rect height=\"71.066038\" width=\"71.066038\" x=\"607.654717\" y=\"22.318125\"/>\n  </clipPath>\n  <clipPath id=\"pa58f63c049\">\n   <rect height=\"71.066038\" width=\"71.066038\" x=\"692.933962\" y=\"22.318125\"/>\n  </clipPath>\n  <clipPath id=\"p840a655626\">\n   <rect height=\"71.066038\" width=\"71.066038\" x=\"10.7\" y=\"111.270852\"/>\n  </clipPath>\n  <clipPath id=\"pd0164af209\">\n   <rect height=\"71.066038\" width=\"71.066038\" x=\"95.979245\" y=\"111.270852\"/>\n  </clipPath>\n  <clipPath id=\"pd525a1e23d\">\n   <rect height=\"71.066038\" width=\"71.066038\" x=\"181.258491\" y=\"111.270852\"/>\n  </clipPath>\n  <clipPath id=\"pfbd5611861\">\n   <rect height=\"71.066038\" width=\"71.066038\" x=\"266.537736\" y=\"111.270852\"/>\n  </clipPath>\n  <clipPath id=\"p6c12a65c78\">\n   <rect height=\"71.066038\" width=\"71.066038\" x=\"351.816981\" y=\"111.270852\"/>\n  </clipPath>\n  <clipPath id=\"p779cbf3692\">\n   <rect height=\"71.066038\" width=\"71.066038\" x=\"437.096226\" y=\"111.270852\"/>\n  </clipPath>\n  <clipPath id=\"pef15357b06\">\n   <rect height=\"71.066038\" width=\"71.066038\" x=\"522.375472\" y=\"111.270852\"/>\n  </clipPath>\n  <clipPath id=\"pad8a1b6d96\">\n   <rect height=\"71.066038\" width=\"71.066038\" x=\"607.654717\" y=\"111.270852\"/>\n  </clipPath>\n  <clipPath id=\"p743a81f450\">\n   <rect height=\"71.066038\" width=\"71.066038\" x=\"692.933962\" y=\"111.270852\"/>\n  </clipPath>\n </defs>\n</svg>\n"
          },
          "metadata": {
            "needs_background": "light"
          }
        }
      ]
    },
    {
      "cell_type": "code",
      "source": [
        "batch_size = 256\n",
        "\n",
        "def get_dataloader_workers():  \n",
        "    \"\"\"Use 4 processes to read the data.\"\"\"\n",
        "    return 4\n",
        "\n",
        "train_iter = data.DataLoader(mnist_train, batch_size, shuffle=True,\n",
        "                             num_workers=get_dataloader_workers())"
      ],
      "metadata": {
        "colab": {
          "base_uri": "https://localhost:8080/"
        },
        "id": "BoeTso5h7JGD",
        "outputId": "64965701-f273-47fd-d8c9-be751d852ed3"
      },
      "execution_count": 39,
      "outputs": [
        {
          "output_type": "stream",
          "name": "stderr",
          "text": [
            "/usr/local/lib/python3.7/dist-packages/torch/utils/data/dataloader.py:481: UserWarning: This DataLoader will create 4 worker processes in total. Our suggested max number of worker in current system is 2, which is smaller than what this DataLoader is going to create. Please be aware that excessive worker creation might get DataLoader running slow or even freeze, lower the worker number to avoid potential slowness/freeze if necessary.\n",
            "  cpuset_checked))\n"
          ]
        }
      ]
    },
    {
      "cell_type": "code",
      "source": [
        "timer = d2l.Timer()\n",
        "for X, y in train_iter:\n",
        "    continue\n",
        "f'{timer.stop():.2f} sec'"
      ],
      "metadata": {
        "colab": {
          "base_uri": "https://localhost:8080/",
          "height": 91
        },
        "id": "L6ufVkIQ7LNG",
        "outputId": "fef31689-13c9-486a-ce4d-2cdf3488cfca"
      },
      "execution_count": 40,
      "outputs": [
        {
          "output_type": "stream",
          "name": "stderr",
          "text": [
            "/usr/local/lib/python3.7/dist-packages/torch/utils/data/dataloader.py:481: UserWarning: This DataLoader will create 4 worker processes in total. Our suggested max number of worker in current system is 2, which is smaller than what this DataLoader is going to create. Please be aware that excessive worker creation might get DataLoader running slow or even freeze, lower the worker number to avoid potential slowness/freeze if necessary.\n",
            "  cpuset_checked))\n"
          ]
        },
        {
          "output_type": "execute_result",
          "data": {
            "application/vnd.google.colaboratory.intrinsic+json": {
              "type": "string"
            },
            "text/plain": [
              "'5.58 sec'"
            ]
          },
          "metadata": {},
          "execution_count": 40
        }
      ]
    },
    {
      "cell_type": "code",
      "source": [
        "def load_data_fashion_mnist(batch_size, resize=None):\n",
        "    \"\"\"Download the Fashion-MNIST dataset and then load it into memory.\"\"\"\n",
        "    trans = [transforms.ToTensor()]\n",
        "    if resize:\n",
        "        trans.insert(0, transforms.Resize(resize))\n",
        "    trans = transforms.Compose(trans)\n",
        "    mnist_train = torchvision.datasets.FashionMNIST(\n",
        "        root=\"../data\", train=True, transform=trans, download=True)\n",
        "    mnist_test = torchvision.datasets.FashionMNIST(\n",
        "        root=\"../data\", train=False, transform=trans, download=True)\n",
        "    return (data.DataLoader(mnist_train, batch_size, shuffle=True,\n",
        "                            num_workers=get_dataloader_workers()),\n",
        "            data.DataLoader(mnist_test, batch_size, shuffle=False,\n",
        "                            num_workers=get_dataloader_workers()))"
      ],
      "metadata": {
        "id": "mGR3vIH57NdD"
      },
      "execution_count": 41,
      "outputs": []
    },
    {
      "cell_type": "code",
      "source": [
        "train_iter, test_iter = load_data_fashion_mnist(32, resize=64)\n",
        "for X, y in train_iter:\n",
        "    print(X.shape, X.dtype, y.shape, y.dtype)\n",
        "    break"
      ],
      "metadata": {
        "colab": {
          "base_uri": "https://localhost:8080/"
        },
        "id": "orPM4CHc7PZS",
        "outputId": "9128d8ec-0c06-4635-aa5e-d0b4ca2e4ab9"
      },
      "execution_count": 42,
      "outputs": [
        {
          "output_type": "stream",
          "name": "stderr",
          "text": [
            "/usr/local/lib/python3.7/dist-packages/torch/utils/data/dataloader.py:481: UserWarning: This DataLoader will create 4 worker processes in total. Our suggested max number of worker in current system is 2, which is smaller than what this DataLoader is going to create. Please be aware that excessive worker creation might get DataLoader running slow or even freeze, lower the worker number to avoid potential slowness/freeze if necessary.\n",
            "  cpuset_checked))\n"
          ]
        },
        {
          "output_type": "stream",
          "name": "stdout",
          "text": [
            "torch.Size([32, 1, 64, 64]) torch.float32 torch.Size([32]) torch.int64\n"
          ]
        }
      ]
    },
    {
      "cell_type": "code",
      "source": [
        "import torch\n",
        "from IPython import display\n",
        "from d2l import torch as d2l\n",
        "\n",
        "batch_size = 256\n",
        "train_iter, test_iter = d2l.load_data_fashion_mnist(batch_size)"
      ],
      "metadata": {
        "colab": {
          "base_uri": "https://localhost:8080/"
        },
        "id": "O0SPAqi87aCP",
        "outputId": "d8046f35-6181-4016-c401-b6cadb093b23"
      },
      "execution_count": 43,
      "outputs": [
        {
          "output_type": "stream",
          "name": "stderr",
          "text": [
            "/usr/local/lib/python3.7/dist-packages/torch/utils/data/dataloader.py:481: UserWarning: This DataLoader will create 4 worker processes in total. Our suggested max number of worker in current system is 2, which is smaller than what this DataLoader is going to create. Please be aware that excessive worker creation might get DataLoader running slow or even freeze, lower the worker number to avoid potential slowness/freeze if necessary.\n",
            "  cpuset_checked))\n"
          ]
        }
      ]
    },
    {
      "cell_type": "code",
      "source": [
        "num_inputs = 784\n",
        "num_outputs = 10\n",
        "\n",
        "W = torch.normal(0, 0.01, size=(num_inputs, num_outputs), requires_grad=True)\n",
        "b = torch.zeros(num_outputs, requires_grad=True)"
      ],
      "metadata": {
        "id": "BLksz7pZ7cIa"
      },
      "execution_count": 44,
      "outputs": []
    },
    {
      "cell_type": "code",
      "source": [
        "X = torch.tensor([[1.0, 2.0, 3.0], [4.0, 5.0, 6.0]])\n",
        "X.sum(0, keepdim=True), X.sum(1, keepdim=True)"
      ],
      "metadata": {
        "colab": {
          "base_uri": "https://localhost:8080/"
        },
        "id": "n-E2FCLt7eDR",
        "outputId": "533e38ff-ed50-41d6-a3b9-9ed2ee62f356"
      },
      "execution_count": 45,
      "outputs": [
        {
          "output_type": "execute_result",
          "data": {
            "text/plain": [
              "(tensor([[5., 7., 9.]]), tensor([[ 6.],\n",
              "         [15.]]))"
            ]
          },
          "metadata": {},
          "execution_count": 45
        }
      ]
    },
    {
      "cell_type": "code",
      "source": [
        "def softmax(X):\n",
        "    X_exp = torch.exp(X)\n",
        "    partition = X_exp.sum(1, keepdim=True)\n",
        "    return X_exp / partition  # The broadcasting mechanism is applied here"
      ],
      "metadata": {
        "id": "NHO4EFRY7gG4"
      },
      "execution_count": 46,
      "outputs": []
    },
    {
      "cell_type": "code",
      "source": [
        "X = torch.normal(0, 1, (2, 5))\n",
        "X_prob = softmax(X)\n",
        "X_prob, X_prob.sum(1)"
      ],
      "metadata": {
        "colab": {
          "base_uri": "https://localhost:8080/"
        },
        "id": "s-_rFgFv7h63",
        "outputId": "4a3aaf8d-f638-4ed4-da92-b6b31ea84962"
      },
      "execution_count": 47,
      "outputs": [
        {
          "output_type": "execute_result",
          "data": {
            "text/plain": [
              "(tensor([[0.1237, 0.8022, 0.0044, 0.0162, 0.0536],\n",
              "         [0.3344, 0.2467, 0.0889, 0.0971, 0.2328]]), tensor([1.0000, 1.0000]))"
            ]
          },
          "metadata": {},
          "execution_count": 47
        }
      ]
    },
    {
      "cell_type": "code",
      "source": [
        "def net(X):\n",
        "    return softmax(torch.matmul(X.reshape((-1, W.shape[0])), W) + b)"
      ],
      "metadata": {
        "id": "tloQo6jb7j80"
      },
      "execution_count": 48,
      "outputs": []
    },
    {
      "cell_type": "code",
      "source": [
        "y = torch.tensor([0, 2])\n",
        "y_hat = torch.tensor([[0.1, 0.3, 0.6], [0.3, 0.2, 0.5]])\n",
        "y_hat[[0, 1], y]"
      ],
      "metadata": {
        "colab": {
          "base_uri": "https://localhost:8080/"
        },
        "id": "myxCS7VO7l4_",
        "outputId": "98592007-b500-4fc5-fbc3-2f334fff1910"
      },
      "execution_count": 49,
      "outputs": [
        {
          "output_type": "execute_result",
          "data": {
            "text/plain": [
              "tensor([0.1000, 0.5000])"
            ]
          },
          "metadata": {},
          "execution_count": 49
        }
      ]
    },
    {
      "cell_type": "code",
      "source": [
        "def cross_entropy(y_hat, y):\n",
        "    return - torch.log(y_hat[range(len(y_hat)), y])\n",
        "\n",
        "cross_entropy(y_hat, y)"
      ],
      "metadata": {
        "colab": {
          "base_uri": "https://localhost:8080/"
        },
        "id": "6MIY6lxT7n3j",
        "outputId": "0db0f0d0-e533-4fd8-b125-e078a84e13d1"
      },
      "execution_count": 50,
      "outputs": [
        {
          "output_type": "execute_result",
          "data": {
            "text/plain": [
              "tensor([2.3026, 0.6931])"
            ]
          },
          "metadata": {},
          "execution_count": 50
        }
      ]
    },
    {
      "cell_type": "code",
      "source": [
        "def accuracy(y_hat, y):\n",
        "    \"\"\"Compute the number of correct predictions.\"\"\"\n",
        "    if len(y_hat.shape) > 1 and y_hat.shape[1] > 1:\n",
        "        y_hat = y_hat.argmax(axis=1)\n",
        "    cmp = y_hat.type(y.dtype) == y\n",
        "    return float(cmp.type(y.dtype).sum())"
      ],
      "metadata": {
        "id": "WwsLPGEp7p6o"
      },
      "execution_count": 51,
      "outputs": []
    },
    {
      "cell_type": "code",
      "source": [
        "accuracy(y_hat, y) / len(y)"
      ],
      "metadata": {
        "colab": {
          "base_uri": "https://localhost:8080/"
        },
        "id": "RH2Gtd2z7rzd",
        "outputId": "9aaef810-e725-428d-aac1-b9138e3329b9"
      },
      "execution_count": 52,
      "outputs": [
        {
          "output_type": "execute_result",
          "data": {
            "text/plain": [
              "0.5"
            ]
          },
          "metadata": {},
          "execution_count": 52
        }
      ]
    },
    {
      "cell_type": "code",
      "source": [
        "def evaluate_accuracy(net, data_iter):\n",
        "    \"\"\"Compute the accuracy for a model on a dataset.\"\"\"\n",
        "    if isinstance(net, torch.nn.Module):\n",
        "        net.eval()  # Set the model to evaluation mode\n",
        "    metric = Accumulator(2)  # No. of correct predictions, no. of predictions\n",
        "\n",
        "    with torch.no_grad():\n",
        "        for X, y in data_iter:\n",
        "            metric.add(accuracy(net(X), y), y.numel())\n",
        "    return metric[0] / metric[1]"
      ],
      "metadata": {
        "id": "vKodBsPr7tz5"
      },
      "execution_count": 53,
      "outputs": []
    },
    {
      "cell_type": "code",
      "source": [
        "class Accumulator:\n",
        "    \"\"\"For accumulating sums over `n` variables.\"\"\"\n",
        "    def __init__(self, n):\n",
        "        self.data = [0.0] * n\n",
        "\n",
        "    def add(self, *args):\n",
        "        self.data = [a + float(b) for a, b in zip(self.data, args)]\n",
        "\n",
        "    def reset(self):\n",
        "        self.data = [0.0] * len(self.data)\n",
        "\n",
        "    def __getitem__(self, idx):\n",
        "        return self.data[idx]"
      ],
      "metadata": {
        "id": "t3Up2DVX7t77"
      },
      "execution_count": 54,
      "outputs": []
    },
    {
      "cell_type": "code",
      "source": [
        "evaluate_accuracy(net, test_iter)"
      ],
      "metadata": {
        "colab": {
          "base_uri": "https://localhost:8080/"
        },
        "id": "327axKi57yei",
        "outputId": "5d76820f-755e-4277-f394-5747b97f4941"
      },
      "execution_count": 55,
      "outputs": [
        {
          "output_type": "stream",
          "name": "stderr",
          "text": [
            "/usr/local/lib/python3.7/dist-packages/torch/utils/data/dataloader.py:481: UserWarning: This DataLoader will create 4 worker processes in total. Our suggested max number of worker in current system is 2, which is smaller than what this DataLoader is going to create. Please be aware that excessive worker creation might get DataLoader running slow or even freeze, lower the worker number to avoid potential slowness/freeze if necessary.\n",
            "  cpuset_checked))\n"
          ]
        },
        {
          "output_type": "execute_result",
          "data": {
            "text/plain": [
              "0.0687"
            ]
          },
          "metadata": {},
          "execution_count": 55
        }
      ]
    },
    {
      "cell_type": "code",
      "source": [
        "def train_epoch_ch3(net, train_iter, loss, updater): \n",
        "    \"\"\"The training loop defined in Chapter 3.\"\"\"\n",
        "    # Set the model to training mode\n",
        "    if isinstance(net, torch.nn.Module):\n",
        "        net.train()\n",
        "    # Sum of training loss, sum of training accuracy, no. of examples\n",
        "    metric = Accumulator(3)\n",
        "    for X, y in train_iter:\n",
        "        # Compute gradients and update parameters\n",
        "        y_hat = net(X)\n",
        "        l = loss(y_hat, y)\n",
        "        if isinstance(updater, torch.optim.Optimizer):\n",
        "            # Using PyTorch in-built optimizer & loss criterion\n",
        "            updater.zero_grad()\n",
        "            l.sum().backward()\n",
        "            updater.step()\n",
        "        else:\n",
        "            # Using custom built optimizer & loss criterion\n",
        "            l.sum().backward()\n",
        "            updater(X.shape[0])\n",
        "        metric.add(float(l.sum()), accuracy(y_hat, y), y.numel())\n",
        "    # Return training loss and training accuracy\n",
        "    return metric[0] / metric[2], metric[1] / metric[2]"
      ],
      "metadata": {
        "id": "qhOLePDM70W5"
      },
      "execution_count": 56,
      "outputs": []
    },
    {
      "cell_type": "code",
      "source": [
        "class Animator: \n",
        "    \"\"\"For plotting data in animation.\"\"\"\n",
        "    def __init__(self, xlabel=None, ylabel=None, legend=None, xlim=None,\n",
        "                 ylim=None, xscale='linear', yscale='linear',\n",
        "                 fmts=('-', 'm--', 'g-.', 'r:'), nrows=1, ncols=1,\n",
        "                 figsize=(3.5, 2.5)):\n",
        "        # Incrementally plot multiple lines\n",
        "        if legend is None:\n",
        "            legend = []\n",
        "        d2l.use_svg_display()\n",
        "        self.fig, self.axes = d2l.plt.subplots(nrows, ncols, figsize=figsize)\n",
        "        if nrows * ncols == 1:\n",
        "            self.axes = [self.axes, ]\n",
        "        # Use a lambda function to capture arguments\n",
        "        self.config_axes = lambda: d2l.set_axes(\n",
        "            self.axes[0], xlabel, ylabel, xlim, ylim, xscale, yscale, legend)\n",
        "        self.X, self.Y, self.fmts = None, None, fmts\n",
        "\n",
        "    def add(self, x, y):\n",
        "        # Add multiple data points into the figure\n",
        "        if not hasattr(y, \"__len__\"):\n",
        "            y = [y]\n",
        "        n = len(y)\n",
        "        if not hasattr(x, \"__len__\"):\n",
        "            x = [x] * n\n",
        "        if not self.X:\n",
        "            self.X = [[] for _ in range(n)]\n",
        "        if not self.Y:\n",
        "            self.Y = [[] for _ in range(n)]\n",
        "        for i, (a, b) in enumerate(zip(x, y)):\n",
        "            if a is not None and b is not None:\n",
        "                self.X[i].append(a)\n",
        "                self.Y[i].append(b)\n",
        "        self.axes[0].cla()\n",
        "        for x, y, fmt in zip(self.X, self.Y, self.fmts):\n",
        "            self.axes[0].plot(x, y, fmt)\n",
        "        self.config_axes()\n",
        "        display.display(self.fig)\n",
        "        display.clear_output(wait=True)"
      ],
      "metadata": {
        "id": "lXqs_N5Q73ea"
      },
      "execution_count": 57,
      "outputs": []
    },
    {
      "cell_type": "code",
      "source": [
        "def train_ch3(net, train_iter, test_iter, loss, num_epochs, updater):\n",
        "    \"\"\"Train a model (defined in Chapter 3).\"\"\"\n",
        "    animator = Animator(xlabel='epoch', xlim=[1, num_epochs], ylim=[0.3, 0.9],\n",
        "                        legend=['train loss', 'train acc', 'test acc'])\n",
        "    for epoch in range(num_epochs):\n",
        "        train_metrics = train_epoch_ch3(net, train_iter, loss, updater)\n",
        "        test_acc = evaluate_accuracy(net, test_iter)\n",
        "        animator.add(epoch + 1, train_metrics + (test_acc,))\n",
        "    train_loss, train_acc = train_metrics\n",
        "    assert train_loss < 0.5, train_loss\n",
        "    assert train_acc <= 1 and train_acc > 0.7, train_acc\n",
        "    assert test_acc <= 1 and test_acc > 0.7, test_acc"
      ],
      "metadata": {
        "id": "PBVfLc9N76Ep"
      },
      "execution_count": 58,
      "outputs": []
    },
    {
      "cell_type": "code",
      "source": [
        "lr = 0.1\n",
        "\n",
        "def updater(batch_size):\n",
        "    return d2l.sgd([W, b], lr, batch_size)"
      ],
      "metadata": {
        "id": "3hFl4x37779p"
      },
      "execution_count": 59,
      "outputs": []
    },
    {
      "cell_type": "code",
      "source": [
        "num_epochs = 10\n",
        "train_ch3(net, train_iter, test_iter, cross_entropy, num_epochs, updater)"
      ],
      "metadata": {
        "colab": {
          "base_uri": "https://localhost:8080/",
          "height": 262
        },
        "id": "DniCzNsm7-Nd",
        "outputId": "b49ad8a6-547e-4b15-ec5c-ef20ac89a518"
      },
      "execution_count": 60,
      "outputs": [
        {
          "output_type": "display_data",
          "data": {
            "text/plain": [
              "<Figure size 252x180 with 1 Axes>"
            ],
            "image/svg+xml": "<?xml version=\"1.0\" encoding=\"utf-8\" standalone=\"no\"?>\n<!DOCTYPE svg PUBLIC \"-//W3C//DTD SVG 1.1//EN\"\n  \"http://www.w3.org/Graphics/SVG/1.1/DTD/svg11.dtd\">\n<!-- Created with matplotlib (https://matplotlib.org/) -->\n<svg height=\"180.65625pt\" version=\"1.1\" viewBox=\"0 0 238.965625 180.65625\" width=\"238.965625pt\" xmlns=\"http://www.w3.org/2000/svg\" xmlns:xlink=\"http://www.w3.org/1999/xlink\">\n <defs>\n  <style type=\"text/css\">\n*{stroke-linecap:butt;stroke-linejoin:round;}\n  </style>\n </defs>\n <g id=\"figure_1\">\n  <g id=\"patch_1\">\n   <path d=\"M 0 180.65625 \nL 238.965625 180.65625 \nL 238.965625 0 \nL 0 0 \nz\n\" style=\"fill:none;\"/>\n  </g>\n  <g id=\"axes_1\">\n   <g id=\"patch_2\">\n    <path d=\"M 30.103125 143.1 \nL 225.403125 143.1 \nL 225.403125 7.2 \nL 30.103125 7.2 \nz\n\" style=\"fill:#ffffff;\"/>\n   </g>\n   <g id=\"matplotlib.axis_1\">\n    <g id=\"xtick_1\">\n     <g id=\"line2d_1\">\n      <path clip-path=\"url(#p61b8553f57)\" d=\"M 51.803125 143.1 \nL 51.803125 7.2 \n\" style=\"fill:none;stroke:#b0b0b0;stroke-linecap:square;stroke-width:0.8;\"/>\n     </g>\n     <g id=\"line2d_2\">\n      <defs>\n       <path d=\"M 0 0 \nL 0 3.5 \n\" id=\"m565e857bc8\" style=\"stroke:#000000;stroke-width:0.8;\"/>\n      </defs>\n      <g>\n       <use style=\"stroke:#000000;stroke-width:0.8;\" x=\"51.803125\" xlink:href=\"#m565e857bc8\" y=\"143.1\"/>\n      </g>\n     </g>\n     <g id=\"text_1\">\n      <!-- 2 -->\n      <defs>\n       <path d=\"M 19.1875 8.296875 \nL 53.609375 8.296875 \nL 53.609375 0 \nL 7.328125 0 \nL 7.328125 8.296875 \nQ 12.9375 14.109375 22.625 23.890625 \nQ 32.328125 33.6875 34.8125 36.53125 \nQ 39.546875 41.84375 41.421875 45.53125 \nQ 43.3125 49.21875 43.3125 52.78125 \nQ 43.3125 58.59375 39.234375 62.25 \nQ 35.15625 65.921875 28.609375 65.921875 \nQ 23.96875 65.921875 18.8125 64.3125 \nQ 13.671875 62.703125 7.8125 59.421875 \nL 7.8125 69.390625 \nQ 13.765625 71.78125 18.9375 73 \nQ 24.125 74.21875 28.421875 74.21875 \nQ 39.75 74.21875 46.484375 68.546875 \nQ 53.21875 62.890625 53.21875 53.421875 \nQ 53.21875 48.921875 51.53125 44.890625 \nQ 49.859375 40.875 45.40625 35.40625 \nQ 44.1875 33.984375 37.640625 27.21875 \nQ 31.109375 20.453125 19.1875 8.296875 \nz\n\" id=\"DejaVuSans-50\"/>\n      </defs>\n      <g transform=\"translate(48.621875 157.698438)scale(0.1 -0.1)\">\n       <use xlink:href=\"#DejaVuSans-50\"/>\n      </g>\n     </g>\n    </g>\n    <g id=\"xtick_2\">\n     <g id=\"line2d_3\">\n      <path clip-path=\"url(#p61b8553f57)\" d=\"M 95.203125 143.1 \nL 95.203125 7.2 \n\" style=\"fill:none;stroke:#b0b0b0;stroke-linecap:square;stroke-width:0.8;\"/>\n     </g>\n     <g id=\"line2d_4\">\n      <g>\n       <use style=\"stroke:#000000;stroke-width:0.8;\" x=\"95.203125\" xlink:href=\"#m565e857bc8\" y=\"143.1\"/>\n      </g>\n     </g>\n     <g id=\"text_2\">\n      <!-- 4 -->\n      <defs>\n       <path d=\"M 37.796875 64.3125 \nL 12.890625 25.390625 \nL 37.796875 25.390625 \nz\nM 35.203125 72.90625 \nL 47.609375 72.90625 \nL 47.609375 25.390625 \nL 58.015625 25.390625 \nL 58.015625 17.1875 \nL 47.609375 17.1875 \nL 47.609375 0 \nL 37.796875 0 \nL 37.796875 17.1875 \nL 4.890625 17.1875 \nL 4.890625 26.703125 \nz\n\" id=\"DejaVuSans-52\"/>\n      </defs>\n      <g transform=\"translate(92.021875 157.698438)scale(0.1 -0.1)\">\n       <use xlink:href=\"#DejaVuSans-52\"/>\n      </g>\n     </g>\n    </g>\n    <g id=\"xtick_3\">\n     <g id=\"line2d_5\">\n      <path clip-path=\"url(#p61b8553f57)\" d=\"M 138.603125 143.1 \nL 138.603125 7.2 \n\" style=\"fill:none;stroke:#b0b0b0;stroke-linecap:square;stroke-width:0.8;\"/>\n     </g>\n     <g id=\"line2d_6\">\n      <g>\n       <use style=\"stroke:#000000;stroke-width:0.8;\" x=\"138.603125\" xlink:href=\"#m565e857bc8\" y=\"143.1\"/>\n      </g>\n     </g>\n     <g id=\"text_3\">\n      <!-- 6 -->\n      <defs>\n       <path d=\"M 33.015625 40.375 \nQ 26.375 40.375 22.484375 35.828125 \nQ 18.609375 31.296875 18.609375 23.390625 \nQ 18.609375 15.53125 22.484375 10.953125 \nQ 26.375 6.390625 33.015625 6.390625 \nQ 39.65625 6.390625 43.53125 10.953125 \nQ 47.40625 15.53125 47.40625 23.390625 \nQ 47.40625 31.296875 43.53125 35.828125 \nQ 39.65625 40.375 33.015625 40.375 \nz\nM 52.59375 71.296875 \nL 52.59375 62.3125 \nQ 48.875 64.0625 45.09375 64.984375 \nQ 41.3125 65.921875 37.59375 65.921875 \nQ 27.828125 65.921875 22.671875 59.328125 \nQ 17.53125 52.734375 16.796875 39.40625 \nQ 19.671875 43.65625 24.015625 45.921875 \nQ 28.375 48.1875 33.59375 48.1875 \nQ 44.578125 48.1875 50.953125 41.515625 \nQ 57.328125 34.859375 57.328125 23.390625 \nQ 57.328125 12.15625 50.6875 5.359375 \nQ 44.046875 -1.421875 33.015625 -1.421875 \nQ 20.359375 -1.421875 13.671875 8.265625 \nQ 6.984375 17.96875 6.984375 36.375 \nQ 6.984375 53.65625 15.1875 63.9375 \nQ 23.390625 74.21875 37.203125 74.21875 \nQ 40.921875 74.21875 44.703125 73.484375 \nQ 48.484375 72.75 52.59375 71.296875 \nz\n\" id=\"DejaVuSans-54\"/>\n      </defs>\n      <g transform=\"translate(135.421875 157.698438)scale(0.1 -0.1)\">\n       <use xlink:href=\"#DejaVuSans-54\"/>\n      </g>\n     </g>\n    </g>\n    <g id=\"xtick_4\">\n     <g id=\"line2d_7\">\n      <path clip-path=\"url(#p61b8553f57)\" d=\"M 182.003125 143.1 \nL 182.003125 7.2 \n\" style=\"fill:none;stroke:#b0b0b0;stroke-linecap:square;stroke-width:0.8;\"/>\n     </g>\n     <g id=\"line2d_8\">\n      <g>\n       <use style=\"stroke:#000000;stroke-width:0.8;\" x=\"182.003125\" xlink:href=\"#m565e857bc8\" y=\"143.1\"/>\n      </g>\n     </g>\n     <g id=\"text_4\">\n      <!-- 8 -->\n      <defs>\n       <path d=\"M 31.78125 34.625 \nQ 24.75 34.625 20.71875 30.859375 \nQ 16.703125 27.09375 16.703125 20.515625 \nQ 16.703125 13.921875 20.71875 10.15625 \nQ 24.75 6.390625 31.78125 6.390625 \nQ 38.8125 6.390625 42.859375 10.171875 \nQ 46.921875 13.96875 46.921875 20.515625 \nQ 46.921875 27.09375 42.890625 30.859375 \nQ 38.875 34.625 31.78125 34.625 \nz\nM 21.921875 38.8125 \nQ 15.578125 40.375 12.03125 44.71875 \nQ 8.5 49.078125 8.5 55.328125 \nQ 8.5 64.0625 14.71875 69.140625 \nQ 20.953125 74.21875 31.78125 74.21875 \nQ 42.671875 74.21875 48.875 69.140625 \nQ 55.078125 64.0625 55.078125 55.328125 \nQ 55.078125 49.078125 51.53125 44.71875 \nQ 48 40.375 41.703125 38.8125 \nQ 48.828125 37.15625 52.796875 32.3125 \nQ 56.78125 27.484375 56.78125 20.515625 \nQ 56.78125 9.90625 50.3125 4.234375 \nQ 43.84375 -1.421875 31.78125 -1.421875 \nQ 19.734375 -1.421875 13.25 4.234375 \nQ 6.78125 9.90625 6.78125 20.515625 \nQ 6.78125 27.484375 10.78125 32.3125 \nQ 14.796875 37.15625 21.921875 38.8125 \nz\nM 18.3125 54.390625 \nQ 18.3125 48.734375 21.84375 45.5625 \nQ 25.390625 42.390625 31.78125 42.390625 \nQ 38.140625 42.390625 41.71875 45.5625 \nQ 45.3125 48.734375 45.3125 54.390625 \nQ 45.3125 60.0625 41.71875 63.234375 \nQ 38.140625 66.40625 31.78125 66.40625 \nQ 25.390625 66.40625 21.84375 63.234375 \nQ 18.3125 60.0625 18.3125 54.390625 \nz\n\" id=\"DejaVuSans-56\"/>\n      </defs>\n      <g transform=\"translate(178.821875 157.698438)scale(0.1 -0.1)\">\n       <use xlink:href=\"#DejaVuSans-56\"/>\n      </g>\n     </g>\n    </g>\n    <g id=\"xtick_5\">\n     <g id=\"line2d_9\">\n      <path clip-path=\"url(#p61b8553f57)\" d=\"M 225.403125 143.1 \nL 225.403125 7.2 \n\" style=\"fill:none;stroke:#b0b0b0;stroke-linecap:square;stroke-width:0.8;\"/>\n     </g>\n     <g id=\"line2d_10\">\n      <g>\n       <use style=\"stroke:#000000;stroke-width:0.8;\" x=\"225.403125\" xlink:href=\"#m565e857bc8\" y=\"143.1\"/>\n      </g>\n     </g>\n     <g id=\"text_5\">\n      <!-- 10 -->\n      <defs>\n       <path d=\"M 12.40625 8.296875 \nL 28.515625 8.296875 \nL 28.515625 63.921875 \nL 10.984375 60.40625 \nL 10.984375 69.390625 \nL 28.421875 72.90625 \nL 38.28125 72.90625 \nL 38.28125 8.296875 \nL 54.390625 8.296875 \nL 54.390625 0 \nL 12.40625 0 \nz\n\" id=\"DejaVuSans-49\"/>\n       <path d=\"M 31.78125 66.40625 \nQ 24.171875 66.40625 20.328125 58.90625 \nQ 16.5 51.421875 16.5 36.375 \nQ 16.5 21.390625 20.328125 13.890625 \nQ 24.171875 6.390625 31.78125 6.390625 \nQ 39.453125 6.390625 43.28125 13.890625 \nQ 47.125 21.390625 47.125 36.375 \nQ 47.125 51.421875 43.28125 58.90625 \nQ 39.453125 66.40625 31.78125 66.40625 \nz\nM 31.78125 74.21875 \nQ 44.046875 74.21875 50.515625 64.515625 \nQ 56.984375 54.828125 56.984375 36.375 \nQ 56.984375 17.96875 50.515625 8.265625 \nQ 44.046875 -1.421875 31.78125 -1.421875 \nQ 19.53125 -1.421875 13.0625 8.265625 \nQ 6.59375 17.96875 6.59375 36.375 \nQ 6.59375 54.828125 13.0625 64.515625 \nQ 19.53125 74.21875 31.78125 74.21875 \nz\n\" id=\"DejaVuSans-48\"/>\n      </defs>\n      <g transform=\"translate(219.040625 157.698438)scale(0.1 -0.1)\">\n       <use xlink:href=\"#DejaVuSans-49\"/>\n       <use x=\"63.623047\" xlink:href=\"#DejaVuSans-48\"/>\n      </g>\n     </g>\n    </g>\n    <g id=\"text_6\">\n     <!-- epoch -->\n     <defs>\n      <path d=\"M 56.203125 29.59375 \nL 56.203125 25.203125 \nL 14.890625 25.203125 \nQ 15.484375 15.921875 20.484375 11.0625 \nQ 25.484375 6.203125 34.421875 6.203125 \nQ 39.59375 6.203125 44.453125 7.46875 \nQ 49.3125 8.734375 54.109375 11.28125 \nL 54.109375 2.78125 \nQ 49.265625 0.734375 44.1875 -0.34375 \nQ 39.109375 -1.421875 33.890625 -1.421875 \nQ 20.796875 -1.421875 13.15625 6.1875 \nQ 5.515625 13.8125 5.515625 26.8125 \nQ 5.515625 40.234375 12.765625 48.109375 \nQ 20.015625 56 32.328125 56 \nQ 43.359375 56 49.78125 48.890625 \nQ 56.203125 41.796875 56.203125 29.59375 \nz\nM 47.21875 32.234375 \nQ 47.125 39.59375 43.09375 43.984375 \nQ 39.0625 48.390625 32.421875 48.390625 \nQ 24.90625 48.390625 20.390625 44.140625 \nQ 15.875 39.890625 15.1875 32.171875 \nz\n\" id=\"DejaVuSans-101\"/>\n      <path d=\"M 18.109375 8.203125 \nL 18.109375 -20.796875 \nL 9.078125 -20.796875 \nL 9.078125 54.6875 \nL 18.109375 54.6875 \nL 18.109375 46.390625 \nQ 20.953125 51.265625 25.265625 53.625 \nQ 29.59375 56 35.59375 56 \nQ 45.5625 56 51.78125 48.09375 \nQ 58.015625 40.1875 58.015625 27.296875 \nQ 58.015625 14.40625 51.78125 6.484375 \nQ 45.5625 -1.421875 35.59375 -1.421875 \nQ 29.59375 -1.421875 25.265625 0.953125 \nQ 20.953125 3.328125 18.109375 8.203125 \nz\nM 48.6875 27.296875 \nQ 48.6875 37.203125 44.609375 42.84375 \nQ 40.53125 48.484375 33.40625 48.484375 \nQ 26.265625 48.484375 22.1875 42.84375 \nQ 18.109375 37.203125 18.109375 27.296875 \nQ 18.109375 17.390625 22.1875 11.75 \nQ 26.265625 6.109375 33.40625 6.109375 \nQ 40.53125 6.109375 44.609375 11.75 \nQ 48.6875 17.390625 48.6875 27.296875 \nz\n\" id=\"DejaVuSans-112\"/>\n      <path d=\"M 30.609375 48.390625 \nQ 23.390625 48.390625 19.1875 42.75 \nQ 14.984375 37.109375 14.984375 27.296875 \nQ 14.984375 17.484375 19.15625 11.84375 \nQ 23.34375 6.203125 30.609375 6.203125 \nQ 37.796875 6.203125 41.984375 11.859375 \nQ 46.1875 17.53125 46.1875 27.296875 \nQ 46.1875 37.015625 41.984375 42.703125 \nQ 37.796875 48.390625 30.609375 48.390625 \nz\nM 30.609375 56 \nQ 42.328125 56 49.015625 48.375 \nQ 55.71875 40.765625 55.71875 27.296875 \nQ 55.71875 13.875 49.015625 6.21875 \nQ 42.328125 -1.421875 30.609375 -1.421875 \nQ 18.84375 -1.421875 12.171875 6.21875 \nQ 5.515625 13.875 5.515625 27.296875 \nQ 5.515625 40.765625 12.171875 48.375 \nQ 18.84375 56 30.609375 56 \nz\n\" id=\"DejaVuSans-111\"/>\n      <path d=\"M 48.78125 52.59375 \nL 48.78125 44.1875 \nQ 44.96875 46.296875 41.140625 47.34375 \nQ 37.3125 48.390625 33.40625 48.390625 \nQ 24.65625 48.390625 19.8125 42.84375 \nQ 14.984375 37.3125 14.984375 27.296875 \nQ 14.984375 17.28125 19.8125 11.734375 \nQ 24.65625 6.203125 33.40625 6.203125 \nQ 37.3125 6.203125 41.140625 7.25 \nQ 44.96875 8.296875 48.78125 10.40625 \nL 48.78125 2.09375 \nQ 45.015625 0.34375 40.984375 -0.53125 \nQ 36.96875 -1.421875 32.421875 -1.421875 \nQ 20.0625 -1.421875 12.78125 6.34375 \nQ 5.515625 14.109375 5.515625 27.296875 \nQ 5.515625 40.671875 12.859375 48.328125 \nQ 20.21875 56 33.015625 56 \nQ 37.15625 56 41.109375 55.140625 \nQ 45.0625 54.296875 48.78125 52.59375 \nz\n\" id=\"DejaVuSans-99\"/>\n      <path d=\"M 54.890625 33.015625 \nL 54.890625 0 \nL 45.90625 0 \nL 45.90625 32.71875 \nQ 45.90625 40.484375 42.875 44.328125 \nQ 39.84375 48.1875 33.796875 48.1875 \nQ 26.515625 48.1875 22.3125 43.546875 \nQ 18.109375 38.921875 18.109375 30.90625 \nL 18.109375 0 \nL 9.078125 0 \nL 9.078125 75.984375 \nL 18.109375 75.984375 \nL 18.109375 46.1875 \nQ 21.34375 51.125 25.703125 53.5625 \nQ 30.078125 56 35.796875 56 \nQ 45.21875 56 50.046875 50.171875 \nQ 54.890625 44.34375 54.890625 33.015625 \nz\n\" id=\"DejaVuSans-104\"/>\n     </defs>\n     <g transform=\"translate(112.525 171.376563)scale(0.1 -0.1)\">\n      <use xlink:href=\"#DejaVuSans-101\"/>\n      <use x=\"61.523438\" xlink:href=\"#DejaVuSans-112\"/>\n      <use x=\"125\" xlink:href=\"#DejaVuSans-111\"/>\n      <use x=\"186.181641\" xlink:href=\"#DejaVuSans-99\"/>\n      <use x=\"241.162109\" xlink:href=\"#DejaVuSans-104\"/>\n     </g>\n    </g>\n   </g>\n   <g id=\"matplotlib.axis_2\">\n    <g id=\"ytick_1\">\n     <g id=\"line2d_11\">\n      <path clip-path=\"url(#p61b8553f57)\" d=\"M 30.103125 120.45 \nL 225.403125 120.45 \n\" style=\"fill:none;stroke:#b0b0b0;stroke-linecap:square;stroke-width:0.8;\"/>\n     </g>\n     <g id=\"line2d_12\">\n      <defs>\n       <path d=\"M 0 0 \nL -3.5 0 \n\" id=\"m6fbb655dda\" style=\"stroke:#000000;stroke-width:0.8;\"/>\n      </defs>\n      <g>\n       <use style=\"stroke:#000000;stroke-width:0.8;\" x=\"30.103125\" xlink:href=\"#m6fbb655dda\" y=\"120.45\"/>\n      </g>\n     </g>\n     <g id=\"text_7\">\n      <!-- 0.4 -->\n      <defs>\n       <path d=\"M 10.6875 12.40625 \nL 21 12.40625 \nL 21 0 \nL 10.6875 0 \nz\n\" id=\"DejaVuSans-46\"/>\n      </defs>\n      <g transform=\"translate(7.2 124.249219)scale(0.1 -0.1)\">\n       <use xlink:href=\"#DejaVuSans-48\"/>\n       <use x=\"63.623047\" xlink:href=\"#DejaVuSans-46\"/>\n       <use x=\"95.410156\" xlink:href=\"#DejaVuSans-52\"/>\n      </g>\n     </g>\n    </g>\n    <g id=\"ytick_2\">\n     <g id=\"line2d_13\">\n      <path clip-path=\"url(#p61b8553f57)\" d=\"M 30.103125 75.15 \nL 225.403125 75.15 \n\" style=\"fill:none;stroke:#b0b0b0;stroke-linecap:square;stroke-width:0.8;\"/>\n     </g>\n     <g id=\"line2d_14\">\n      <g>\n       <use style=\"stroke:#000000;stroke-width:0.8;\" x=\"30.103125\" xlink:href=\"#m6fbb655dda\" y=\"75.15\"/>\n      </g>\n     </g>\n     <g id=\"text_8\">\n      <!-- 0.6 -->\n      <g transform=\"translate(7.2 78.949219)scale(0.1 -0.1)\">\n       <use xlink:href=\"#DejaVuSans-48\"/>\n       <use x=\"63.623047\" xlink:href=\"#DejaVuSans-46\"/>\n       <use x=\"95.410156\" xlink:href=\"#DejaVuSans-54\"/>\n      </g>\n     </g>\n    </g>\n    <g id=\"ytick_3\">\n     <g id=\"line2d_15\">\n      <path clip-path=\"url(#p61b8553f57)\" d=\"M 30.103125 29.85 \nL 225.403125 29.85 \n\" style=\"fill:none;stroke:#b0b0b0;stroke-linecap:square;stroke-width:0.8;\"/>\n     </g>\n     <g id=\"line2d_16\">\n      <g>\n       <use style=\"stroke:#000000;stroke-width:0.8;\" x=\"30.103125\" xlink:href=\"#m6fbb655dda\" y=\"29.85\"/>\n      </g>\n     </g>\n     <g id=\"text_9\">\n      <!-- 0.8 -->\n      <g transform=\"translate(7.2 33.649219)scale(0.1 -0.1)\">\n       <use xlink:href=\"#DejaVuSans-48\"/>\n       <use x=\"63.623047\" xlink:href=\"#DejaVuSans-46\"/>\n       <use x=\"95.410156\" xlink:href=\"#DejaVuSans-56\"/>\n      </g>\n     </g>\n    </g>\n   </g>\n   <g id=\"line2d_17\">\n    <path clip-path=\"url(#p61b8553f57)\" d=\"M 30.103125 33.459149 \nL 51.803125 81.728263 \nL 73.503125 91.979349 \nL 95.203125 97.535718 \nL 116.903125 101.105864 \nL 138.603125 103.985244 \nL 160.303125 105.779277 \nL 182.003125 107.38171 \nL 203.703125 108.501445 \nL 225.403125 109.776499 \n\" style=\"fill:none;stroke:#1f77b4;stroke-linecap:square;stroke-width:1.5;\"/>\n   </g>\n   <g id=\"line2d_18\">\n    <path clip-path=\"url(#p61b8553f57)\" d=\"M 30.103125 40.846575 \nL 51.803125 27.04895 \nL 73.503125 24.3083 \nL 95.203125 22.6926 \nL 116.903125 21.44685 \nL 138.603125 20.6692 \nL 160.303125 20.167125 \nL 182.003125 19.7179 \nL 203.703125 19.276225 \nL 225.403125 18.928925 \n\" style=\"fill:none;stroke:#bf00bf;stroke-dasharray:5.55,2.4;stroke-dashoffset:0;stroke-width:1.5;\"/>\n   </g>\n   <g id=\"line2d_19\">\n    <path clip-path=\"url(#p61b8553f57)\" d=\"M 30.103125 33.67785 \nL 51.803125 30.23505 \nL 73.503125 27.5397 \nL 95.203125 24.98025 \nL 116.903125 25.75035 \nL 138.603125 25.0029 \nL 160.303125 23.57595 \nL 182.003125 22.602 \nL 203.703125 22.12635 \nL 225.403125 23.07765 \n\" style=\"fill:none;stroke:#008000;stroke-dasharray:9.6,2.4,1.5,2.4;stroke-dashoffset:0;stroke-width:1.5;\"/>\n   </g>\n   <g id=\"patch_3\">\n    <path d=\"M 30.103125 143.1 \nL 30.103125 7.2 \n\" style=\"fill:none;stroke:#000000;stroke-linecap:square;stroke-linejoin:miter;stroke-width:0.8;\"/>\n   </g>\n   <g id=\"patch_4\">\n    <path d=\"M 225.403125 143.1 \nL 225.403125 7.2 \n\" style=\"fill:none;stroke:#000000;stroke-linecap:square;stroke-linejoin:miter;stroke-width:0.8;\"/>\n   </g>\n   <g id=\"patch_5\">\n    <path d=\"M 30.103125 143.1 \nL 225.403125 143.1 \n\" style=\"fill:none;stroke:#000000;stroke-linecap:square;stroke-linejoin:miter;stroke-width:0.8;\"/>\n   </g>\n   <g id=\"patch_6\">\n    <path d=\"M 30.103125 7.2 \nL 225.403125 7.2 \n\" style=\"fill:none;stroke:#000000;stroke-linecap:square;stroke-linejoin:miter;stroke-width:0.8;\"/>\n   </g>\n   <g id=\"legend_1\">\n    <g id=\"patch_7\">\n     <path d=\"M 140.634375 98.667187 \nL 218.403125 98.667187 \nQ 220.403125 98.667187 220.403125 96.667187 \nL 220.403125 53.632812 \nQ 220.403125 51.632812 218.403125 51.632812 \nL 140.634375 51.632812 \nQ 138.634375 51.632812 138.634375 53.632812 \nL 138.634375 96.667187 \nQ 138.634375 98.667187 140.634375 98.667187 \nz\n\" style=\"fill:#ffffff;opacity:0.8;stroke:#cccccc;stroke-linejoin:miter;\"/>\n    </g>\n    <g id=\"line2d_20\">\n     <path d=\"M 142.634375 59.73125 \nL 162.634375 59.73125 \n\" style=\"fill:none;stroke:#1f77b4;stroke-linecap:square;stroke-width:1.5;\"/>\n    </g>\n    <g id=\"line2d_21\"/>\n    <g id=\"text_10\">\n     <!-- train loss -->\n     <defs>\n      <path d=\"M 18.3125 70.21875 \nL 18.3125 54.6875 \nL 36.8125 54.6875 \nL 36.8125 47.703125 \nL 18.3125 47.703125 \nL 18.3125 18.015625 \nQ 18.3125 11.328125 20.140625 9.421875 \nQ 21.96875 7.515625 27.59375 7.515625 \nL 36.8125 7.515625 \nL 36.8125 0 \nL 27.59375 0 \nQ 17.1875 0 13.234375 3.875 \nQ 9.28125 7.765625 9.28125 18.015625 \nL 9.28125 47.703125 \nL 2.6875 47.703125 \nL 2.6875 54.6875 \nL 9.28125 54.6875 \nL 9.28125 70.21875 \nz\n\" id=\"DejaVuSans-116\"/>\n      <path d=\"M 41.109375 46.296875 \nQ 39.59375 47.171875 37.8125 47.578125 \nQ 36.03125 48 33.890625 48 \nQ 26.265625 48 22.1875 43.046875 \nQ 18.109375 38.09375 18.109375 28.8125 \nL 18.109375 0 \nL 9.078125 0 \nL 9.078125 54.6875 \nL 18.109375 54.6875 \nL 18.109375 46.1875 \nQ 20.953125 51.171875 25.484375 53.578125 \nQ 30.03125 56 36.53125 56 \nQ 37.453125 56 38.578125 55.875 \nQ 39.703125 55.765625 41.0625 55.515625 \nz\n\" id=\"DejaVuSans-114\"/>\n      <path d=\"M 34.28125 27.484375 \nQ 23.390625 27.484375 19.1875 25 \nQ 14.984375 22.515625 14.984375 16.5 \nQ 14.984375 11.71875 18.140625 8.90625 \nQ 21.296875 6.109375 26.703125 6.109375 \nQ 34.1875 6.109375 38.703125 11.40625 \nQ 43.21875 16.703125 43.21875 25.484375 \nL 43.21875 27.484375 \nz\nM 52.203125 31.203125 \nL 52.203125 0 \nL 43.21875 0 \nL 43.21875 8.296875 \nQ 40.140625 3.328125 35.546875 0.953125 \nQ 30.953125 -1.421875 24.3125 -1.421875 \nQ 15.921875 -1.421875 10.953125 3.296875 \nQ 6 8.015625 6 15.921875 \nQ 6 25.140625 12.171875 29.828125 \nQ 18.359375 34.515625 30.609375 34.515625 \nL 43.21875 34.515625 \nL 43.21875 35.40625 \nQ 43.21875 41.609375 39.140625 45 \nQ 35.0625 48.390625 27.6875 48.390625 \nQ 23 48.390625 18.546875 47.265625 \nQ 14.109375 46.140625 10.015625 43.890625 \nL 10.015625 52.203125 \nQ 14.9375 54.109375 19.578125 55.046875 \nQ 24.21875 56 28.609375 56 \nQ 40.484375 56 46.34375 49.84375 \nQ 52.203125 43.703125 52.203125 31.203125 \nz\n\" id=\"DejaVuSans-97\"/>\n      <path d=\"M 9.421875 54.6875 \nL 18.40625 54.6875 \nL 18.40625 0 \nL 9.421875 0 \nz\nM 9.421875 75.984375 \nL 18.40625 75.984375 \nL 18.40625 64.59375 \nL 9.421875 64.59375 \nz\n\" id=\"DejaVuSans-105\"/>\n      <path d=\"M 54.890625 33.015625 \nL 54.890625 0 \nL 45.90625 0 \nL 45.90625 32.71875 \nQ 45.90625 40.484375 42.875 44.328125 \nQ 39.84375 48.1875 33.796875 48.1875 \nQ 26.515625 48.1875 22.3125 43.546875 \nQ 18.109375 38.921875 18.109375 30.90625 \nL 18.109375 0 \nL 9.078125 0 \nL 9.078125 54.6875 \nL 18.109375 54.6875 \nL 18.109375 46.1875 \nQ 21.34375 51.125 25.703125 53.5625 \nQ 30.078125 56 35.796875 56 \nQ 45.21875 56 50.046875 50.171875 \nQ 54.890625 44.34375 54.890625 33.015625 \nz\n\" id=\"DejaVuSans-110\"/>\n      <path id=\"DejaVuSans-32\"/>\n      <path d=\"M 9.421875 75.984375 \nL 18.40625 75.984375 \nL 18.40625 0 \nL 9.421875 0 \nz\n\" id=\"DejaVuSans-108\"/>\n      <path d=\"M 44.28125 53.078125 \nL 44.28125 44.578125 \nQ 40.484375 46.53125 36.375 47.5 \nQ 32.28125 48.484375 27.875 48.484375 \nQ 21.1875 48.484375 17.84375 46.4375 \nQ 14.5 44.390625 14.5 40.28125 \nQ 14.5 37.15625 16.890625 35.375 \nQ 19.28125 33.59375 26.515625 31.984375 \nL 29.59375 31.296875 \nQ 39.15625 29.25 43.1875 25.515625 \nQ 47.21875 21.78125 47.21875 15.09375 \nQ 47.21875 7.46875 41.1875 3.015625 \nQ 35.15625 -1.421875 24.609375 -1.421875 \nQ 20.21875 -1.421875 15.453125 -0.5625 \nQ 10.6875 0.296875 5.421875 2 \nL 5.421875 11.28125 \nQ 10.40625 8.6875 15.234375 7.390625 \nQ 20.0625 6.109375 24.8125 6.109375 \nQ 31.15625 6.109375 34.5625 8.28125 \nQ 37.984375 10.453125 37.984375 14.40625 \nQ 37.984375 18.0625 35.515625 20.015625 \nQ 33.0625 21.96875 24.703125 23.78125 \nL 21.578125 24.515625 \nQ 13.234375 26.265625 9.515625 29.90625 \nQ 5.8125 33.546875 5.8125 39.890625 \nQ 5.8125 47.609375 11.28125 51.796875 \nQ 16.75 56 26.8125 56 \nQ 31.78125 56 36.171875 55.265625 \nQ 40.578125 54.546875 44.28125 53.078125 \nz\n\" id=\"DejaVuSans-115\"/>\n     </defs>\n     <g transform=\"translate(170.634375 63.23125)scale(0.1 -0.1)\">\n      <use xlink:href=\"#DejaVuSans-116\"/>\n      <use x=\"39.208984\" xlink:href=\"#DejaVuSans-114\"/>\n      <use x=\"80.322266\" xlink:href=\"#DejaVuSans-97\"/>\n      <use x=\"141.601562\" xlink:href=\"#DejaVuSans-105\"/>\n      <use x=\"169.384766\" xlink:href=\"#DejaVuSans-110\"/>\n      <use x=\"232.763672\" xlink:href=\"#DejaVuSans-32\"/>\n      <use x=\"264.550781\" xlink:href=\"#DejaVuSans-108\"/>\n      <use x=\"292.333984\" xlink:href=\"#DejaVuSans-111\"/>\n      <use x=\"353.515625\" xlink:href=\"#DejaVuSans-115\"/>\n      <use x=\"405.615234\" xlink:href=\"#DejaVuSans-115\"/>\n     </g>\n    </g>\n    <g id=\"line2d_22\">\n     <path d=\"M 142.634375 74.409375 \nL 162.634375 74.409375 \n\" style=\"fill:none;stroke:#bf00bf;stroke-dasharray:5.55,2.4;stroke-dashoffset:0;stroke-width:1.5;\"/>\n    </g>\n    <g id=\"line2d_23\"/>\n    <g id=\"text_11\">\n     <!-- train acc -->\n     <g transform=\"translate(170.634375 77.909375)scale(0.1 -0.1)\">\n      <use xlink:href=\"#DejaVuSans-116\"/>\n      <use x=\"39.208984\" xlink:href=\"#DejaVuSans-114\"/>\n      <use x=\"80.322266\" xlink:href=\"#DejaVuSans-97\"/>\n      <use x=\"141.601562\" xlink:href=\"#DejaVuSans-105\"/>\n      <use x=\"169.384766\" xlink:href=\"#DejaVuSans-110\"/>\n      <use x=\"232.763672\" xlink:href=\"#DejaVuSans-32\"/>\n      <use x=\"264.550781\" xlink:href=\"#DejaVuSans-97\"/>\n      <use x=\"325.830078\" xlink:href=\"#DejaVuSans-99\"/>\n      <use x=\"380.810547\" xlink:href=\"#DejaVuSans-99\"/>\n     </g>\n    </g>\n    <g id=\"line2d_24\">\n     <path d=\"M 142.634375 89.0875 \nL 162.634375 89.0875 \n\" style=\"fill:none;stroke:#008000;stroke-dasharray:9.6,2.4,1.5,2.4;stroke-dashoffset:0;stroke-width:1.5;\"/>\n    </g>\n    <g id=\"line2d_25\"/>\n    <g id=\"text_12\">\n     <!-- test acc -->\n     <g transform=\"translate(170.634375 92.5875)scale(0.1 -0.1)\">\n      <use xlink:href=\"#DejaVuSans-116\"/>\n      <use x=\"39.208984\" xlink:href=\"#DejaVuSans-101\"/>\n      <use x=\"100.732422\" xlink:href=\"#DejaVuSans-115\"/>\n      <use x=\"152.832031\" xlink:href=\"#DejaVuSans-116\"/>\n      <use x=\"192.041016\" xlink:href=\"#DejaVuSans-32\"/>\n      <use x=\"223.828125\" xlink:href=\"#DejaVuSans-97\"/>\n      <use x=\"285.107422\" xlink:href=\"#DejaVuSans-99\"/>\n      <use x=\"340.087891\" xlink:href=\"#DejaVuSans-99\"/>\n     </g>\n    </g>\n   </g>\n  </g>\n </g>\n <defs>\n  <clipPath id=\"p61b8553f57\">\n   <rect height=\"135.9\" width=\"195.3\" x=\"30.103125\" y=\"7.2\"/>\n  </clipPath>\n </defs>\n</svg>\n"
          },
          "metadata": {
            "needs_background": "light"
          }
        }
      ]
    },
    {
      "cell_type": "code",
      "source": [
        "def predict_ch3(net, test_iter, n=6):\n",
        "    \"\"\"Predict labels (defined in Chapter 3).\"\"\"\n",
        "    for X, y in test_iter:\n",
        "        break\n",
        "    trues = d2l.get_fashion_mnist_labels(y)\n",
        "    preds = d2l.get_fashion_mnist_labels(net(X).argmax(axis=1))\n",
        "    titles = [true +'\\n' + pred for true, pred in zip(trues, preds)]\n",
        "    d2l.show_images(\n",
        "        X[0:n].reshape((n, 28, 28)), 1, n, titles=titles[0:n])\n",
        "\n",
        "predict_ch3(net, test_iter)"
      ],
      "metadata": {
        "colab": {
          "base_uri": "https://localhost:8080/",
          "height": 233
        },
        "id": "ugm1efh68AHJ",
        "outputId": "4d27e1d0-84b0-4df9-ca72-da4c496c2d0e"
      },
      "execution_count": 61,
      "outputs": [
        {
          "output_type": "stream",
          "name": "stderr",
          "text": [
            "/usr/local/lib/python3.7/dist-packages/torch/utils/data/dataloader.py:481: UserWarning: This DataLoader will create 4 worker processes in total. Our suggested max number of worker in current system is 2, which is smaller than what this DataLoader is going to create. Please be aware that excessive worker creation might get DataLoader running slow or even freeze, lower the worker number to avoid potential slowness/freeze if necessary.\n",
            "  cpuset_checked))\n"
          ]
        },
        {
          "output_type": "display_data",
          "data": {
            "text/plain": [
              "<Figure size 648x108 with 6 Axes>"
            ],
            "image/svg+xml": "<?xml version=\"1.0\" encoding=\"utf-8\" standalone=\"no\"?>\n<!DOCTYPE svg PUBLIC \"-//W3C//DTD SVG 1.1//EN\"\n  \"http://www.w3.org/Graphics/SVG/1.1/DTD/svg11.dtd\">\n<!-- Created with matplotlib (https://matplotlib.org/) -->\n<svg height=\"118.198357pt\" version=\"1.1\" viewBox=\"0 0 520.1 118.198357\" width=\"520.1pt\" xmlns=\"http://www.w3.org/2000/svg\" xmlns:xlink=\"http://www.w3.org/1999/xlink\">\n <defs>\n  <style type=\"text/css\">\n*{stroke-linecap:butt;stroke-linejoin:round;}\n  </style>\n </defs>\n <g id=\"figure_1\">\n  <g id=\"patch_1\">\n   <path d=\"M 0 118.198357 \nL 520.1 118.198357 \nL 520.1 0 \nL 0 0 \nz\n\" style=\"fill:none;\"/>\n  </g>\n  <g id=\"axes_1\">\n   <g id=\"patch_2\">\n    <path d=\"M 10.7 107.498357 \nL 82.442857 107.498357 \nL 82.442857 35.7555 \nL 10.7 35.7555 \nz\n\" style=\"fill:#ffffff;\"/>\n   </g>\n   <g clip-path=\"url(#p0166ec2a57)\">\n    <image height=\"72\" id=\"image28d8c7540c\" transform=\"scale(1 -1)translate(0 -72)\" width=\"72\" x=\"10.7\" xlink:href=\"data:image/png;base64,\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\" y=\"-35.498357\"/>\n   </g>\n   <g id=\"patch_3\">\n    <path d=\"M 10.7 107.498357 \nL 10.7 35.7555 \n\" style=\"fill:none;stroke:#000000;stroke-linecap:square;stroke-linejoin:miter;stroke-width:0.8;\"/>\n   </g>\n   <g id=\"patch_4\">\n    <path d=\"M 82.442857 107.498357 \nL 82.442857 35.7555 \n\" style=\"fill:none;stroke:#000000;stroke-linecap:square;stroke-linejoin:miter;stroke-width:0.8;\"/>\n   </g>\n   <g id=\"patch_5\">\n    <path d=\"M 10.7 107.498357 \nL 82.442857 107.498357 \n\" style=\"fill:none;stroke:#000000;stroke-linecap:square;stroke-linejoin:miter;stroke-width:0.8;\"/>\n   </g>\n   <g id=\"patch_6\">\n    <path d=\"M 10.7 35.7555 \nL 82.442857 35.7555 \n\" style=\"fill:none;stroke:#000000;stroke-linecap:square;stroke-linejoin:miter;stroke-width:0.8;\"/>\n   </g>\n   <g id=\"text_1\">\n    <!-- ankle boot -->\n    <defs>\n     <path d=\"M 34.28125 27.484375 \nQ 23.390625 27.484375 19.1875 25 \nQ 14.984375 22.515625 14.984375 16.5 \nQ 14.984375 11.71875 18.140625 8.90625 \nQ 21.296875 6.109375 26.703125 6.109375 \nQ 34.1875 6.109375 38.703125 11.40625 \nQ 43.21875 16.703125 43.21875 25.484375 \nL 43.21875 27.484375 \nz\nM 52.203125 31.203125 \nL 52.203125 0 \nL 43.21875 0 \nL 43.21875 8.296875 \nQ 40.140625 3.328125 35.546875 0.953125 \nQ 30.953125 -1.421875 24.3125 -1.421875 \nQ 15.921875 -1.421875 10.953125 3.296875 \nQ 6 8.015625 6 15.921875 \nQ 6 25.140625 12.171875 29.828125 \nQ 18.359375 34.515625 30.609375 34.515625 \nL 43.21875 34.515625 \nL 43.21875 35.40625 \nQ 43.21875 41.609375 39.140625 45 \nQ 35.0625 48.390625 27.6875 48.390625 \nQ 23 48.390625 18.546875 47.265625 \nQ 14.109375 46.140625 10.015625 43.890625 \nL 10.015625 52.203125 \nQ 14.9375 54.109375 19.578125 55.046875 \nQ 24.21875 56 28.609375 56 \nQ 40.484375 56 46.34375 49.84375 \nQ 52.203125 43.703125 52.203125 31.203125 \nz\n\" id=\"DejaVuSans-97\"/>\n     <path d=\"M 54.890625 33.015625 \nL 54.890625 0 \nL 45.90625 0 \nL 45.90625 32.71875 \nQ 45.90625 40.484375 42.875 44.328125 \nQ 39.84375 48.1875 33.796875 48.1875 \nQ 26.515625 48.1875 22.3125 43.546875 \nQ 18.109375 38.921875 18.109375 30.90625 \nL 18.109375 0 \nL 9.078125 0 \nL 9.078125 54.6875 \nL 18.109375 54.6875 \nL 18.109375 46.1875 \nQ 21.34375 51.125 25.703125 53.5625 \nQ 30.078125 56 35.796875 56 \nQ 45.21875 56 50.046875 50.171875 \nQ 54.890625 44.34375 54.890625 33.015625 \nz\n\" id=\"DejaVuSans-110\"/>\n     <path d=\"M 9.078125 75.984375 \nL 18.109375 75.984375 \nL 18.109375 31.109375 \nL 44.921875 54.6875 \nL 56.390625 54.6875 \nL 27.390625 29.109375 \nL 57.625 0 \nL 45.90625 0 \nL 18.109375 26.703125 \nL 18.109375 0 \nL 9.078125 0 \nz\n\" id=\"DejaVuSans-107\"/>\n     <path d=\"M 9.421875 75.984375 \nL 18.40625 75.984375 \nL 18.40625 0 \nL 9.421875 0 \nz\n\" id=\"DejaVuSans-108\"/>\n     <path d=\"M 56.203125 29.59375 \nL 56.203125 25.203125 \nL 14.890625 25.203125 \nQ 15.484375 15.921875 20.484375 11.0625 \nQ 25.484375 6.203125 34.421875 6.203125 \nQ 39.59375 6.203125 44.453125 7.46875 \nQ 49.3125 8.734375 54.109375 11.28125 \nL 54.109375 2.78125 \nQ 49.265625 0.734375 44.1875 -0.34375 \nQ 39.109375 -1.421875 33.890625 -1.421875 \nQ 20.796875 -1.421875 13.15625 6.1875 \nQ 5.515625 13.8125 5.515625 26.8125 \nQ 5.515625 40.234375 12.765625 48.109375 \nQ 20.015625 56 32.328125 56 \nQ 43.359375 56 49.78125 48.890625 \nQ 56.203125 41.796875 56.203125 29.59375 \nz\nM 47.21875 32.234375 \nQ 47.125 39.59375 43.09375 43.984375 \nQ 39.0625 48.390625 32.421875 48.390625 \nQ 24.90625 48.390625 20.390625 44.140625 \nQ 15.875 39.890625 15.1875 32.171875 \nz\n\" id=\"DejaVuSans-101\"/>\n     <path id=\"DejaVuSans-32\"/>\n     <path d=\"M 48.6875 27.296875 \nQ 48.6875 37.203125 44.609375 42.84375 \nQ 40.53125 48.484375 33.40625 48.484375 \nQ 26.265625 48.484375 22.1875 42.84375 \nQ 18.109375 37.203125 18.109375 27.296875 \nQ 18.109375 17.390625 22.1875 11.75 \nQ 26.265625 6.109375 33.40625 6.109375 \nQ 40.53125 6.109375 44.609375 11.75 \nQ 48.6875 17.390625 48.6875 27.296875 \nz\nM 18.109375 46.390625 \nQ 20.953125 51.265625 25.265625 53.625 \nQ 29.59375 56 35.59375 56 \nQ 45.5625 56 51.78125 48.09375 \nQ 58.015625 40.1875 58.015625 27.296875 \nQ 58.015625 14.40625 51.78125 6.484375 \nQ 45.5625 -1.421875 35.59375 -1.421875 \nQ 29.59375 -1.421875 25.265625 0.953125 \nQ 20.953125 3.328125 18.109375 8.203125 \nL 18.109375 0 \nL 9.078125 0 \nL 9.078125 75.984375 \nL 18.109375 75.984375 \nz\n\" id=\"DejaVuSans-98\"/>\n     <path d=\"M 30.609375 48.390625 \nQ 23.390625 48.390625 19.1875 42.75 \nQ 14.984375 37.109375 14.984375 27.296875 \nQ 14.984375 17.484375 19.15625 11.84375 \nQ 23.34375 6.203125 30.609375 6.203125 \nQ 37.796875 6.203125 41.984375 11.859375 \nQ 46.1875 17.53125 46.1875 27.296875 \nQ 46.1875 37.015625 41.984375 42.703125 \nQ 37.796875 48.390625 30.609375 48.390625 \nz\nM 30.609375 56 \nQ 42.328125 56 49.015625 48.375 \nQ 55.71875 40.765625 55.71875 27.296875 \nQ 55.71875 13.875 49.015625 6.21875 \nQ 42.328125 -1.421875 30.609375 -1.421875 \nQ 18.84375 -1.421875 12.171875 6.21875 \nQ 5.515625 13.875 5.515625 27.296875 \nQ 5.515625 40.765625 12.171875 48.375 \nQ 18.84375 56 30.609375 56 \nz\n\" id=\"DejaVuSans-111\"/>\n     <path d=\"M 18.3125 70.21875 \nL 18.3125 54.6875 \nL 36.8125 54.6875 \nL 36.8125 47.703125 \nL 18.3125 47.703125 \nL 18.3125 18.015625 \nQ 18.3125 11.328125 20.140625 9.421875 \nQ 21.96875 7.515625 27.59375 7.515625 \nL 36.8125 7.515625 \nL 36.8125 0 \nL 27.59375 0 \nQ 17.1875 0 13.234375 3.875 \nQ 9.28125 7.765625 9.28125 18.015625 \nL 9.28125 47.703125 \nL 2.6875 47.703125 \nL 2.6875 54.6875 \nL 9.28125 54.6875 \nL 9.28125 70.21875 \nz\n\" id=\"DejaVuSans-116\"/>\n    </defs>\n    <g transform=\"translate(14.848304 16.318125)scale(0.12 -0.12)\">\n     <use xlink:href=\"#DejaVuSans-97\"/>\n     <use x=\"61.279297\" xlink:href=\"#DejaVuSans-110\"/>\n     <use x=\"124.658203\" xlink:href=\"#DejaVuSans-107\"/>\n     <use x=\"182.568359\" xlink:href=\"#DejaVuSans-108\"/>\n     <use x=\"210.351562\" xlink:href=\"#DejaVuSans-101\"/>\n     <use x=\"271.875\" xlink:href=\"#DejaVuSans-32\"/>\n     <use x=\"303.662109\" xlink:href=\"#DejaVuSans-98\"/>\n     <use x=\"367.138672\" xlink:href=\"#DejaVuSans-111\"/>\n     <use x=\"428.320312\" xlink:href=\"#DejaVuSans-111\"/>\n     <use x=\"489.501953\" xlink:href=\"#DejaVuSans-116\"/>\n    </g>\n    <!-- ankle boot -->\n    <g transform=\"translate(14.848304 29.7555)scale(0.12 -0.12)\">\n     <use xlink:href=\"#DejaVuSans-97\"/>\n     <use x=\"61.279297\" xlink:href=\"#DejaVuSans-110\"/>\n     <use x=\"124.658203\" xlink:href=\"#DejaVuSans-107\"/>\n     <use x=\"182.568359\" xlink:href=\"#DejaVuSans-108\"/>\n     <use x=\"210.351562\" xlink:href=\"#DejaVuSans-101\"/>\n     <use x=\"271.875\" xlink:href=\"#DejaVuSans-32\"/>\n     <use x=\"303.662109\" xlink:href=\"#DejaVuSans-98\"/>\n     <use x=\"367.138672\" xlink:href=\"#DejaVuSans-111\"/>\n     <use x=\"428.320312\" xlink:href=\"#DejaVuSans-111\"/>\n     <use x=\"489.501953\" xlink:href=\"#DejaVuSans-116\"/>\n    </g>\n   </g>\n  </g>\n  <g id=\"axes_2\">\n   <g id=\"patch_7\">\n    <path d=\"M 96.791429 107.498357 \nL 168.534286 107.498357 \nL 168.534286 35.7555 \nL 96.791429 35.7555 \nz\n\" style=\"fill:#ffffff;\"/>\n   </g>\n   <g clip-path=\"url(#pa0d4770640)\">\n    <image height=\"72\" id=\"imageb1a6c3cd2f\" transform=\"scale(1 -1)translate(0 -72)\" width=\"72\" x=\"96.791429\" xlink:href=\"data:image/png;base64,\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\" y=\"-35.498357\"/>\n   </g>\n   <g id=\"patch_8\">\n    <path d=\"M 96.791429 107.498357 \nL 96.791429 35.7555 \n\" style=\"fill:none;stroke:#000000;stroke-linecap:square;stroke-linejoin:miter;stroke-width:0.8;\"/>\n   </g>\n   <g id=\"patch_9\">\n    <path d=\"M 168.534286 107.498357 \nL 168.534286 35.7555 \n\" style=\"fill:none;stroke:#000000;stroke-linecap:square;stroke-linejoin:miter;stroke-width:0.8;\"/>\n   </g>\n   <g id=\"patch_10\">\n    <path d=\"M 96.791429 107.498357 \nL 168.534286 107.498357 \n\" style=\"fill:none;stroke:#000000;stroke-linecap:square;stroke-linejoin:miter;stroke-width:0.8;\"/>\n   </g>\n   <g id=\"patch_11\">\n    <path d=\"M 96.791429 35.7555 \nL 168.534286 35.7555 \n\" style=\"fill:none;stroke:#000000;stroke-linecap:square;stroke-linejoin:miter;stroke-width:0.8;\"/>\n   </g>\n   <g id=\"text_2\">\n    <!-- pullover -->\n    <defs>\n     <path d=\"M 18.109375 8.203125 \nL 18.109375 -20.796875 \nL 9.078125 -20.796875 \nL 9.078125 54.6875 \nL 18.109375 54.6875 \nL 18.109375 46.390625 \nQ 20.953125 51.265625 25.265625 53.625 \nQ 29.59375 56 35.59375 56 \nQ 45.5625 56 51.78125 48.09375 \nQ 58.015625 40.1875 58.015625 27.296875 \nQ 58.015625 14.40625 51.78125 6.484375 \nQ 45.5625 -1.421875 35.59375 -1.421875 \nQ 29.59375 -1.421875 25.265625 0.953125 \nQ 20.953125 3.328125 18.109375 8.203125 \nz\nM 48.6875 27.296875 \nQ 48.6875 37.203125 44.609375 42.84375 \nQ 40.53125 48.484375 33.40625 48.484375 \nQ 26.265625 48.484375 22.1875 42.84375 \nQ 18.109375 37.203125 18.109375 27.296875 \nQ 18.109375 17.390625 22.1875 11.75 \nQ 26.265625 6.109375 33.40625 6.109375 \nQ 40.53125 6.109375 44.609375 11.75 \nQ 48.6875 17.390625 48.6875 27.296875 \nz\n\" id=\"DejaVuSans-112\"/>\n     <path d=\"M 8.5 21.578125 \nL 8.5 54.6875 \nL 17.484375 54.6875 \nL 17.484375 21.921875 \nQ 17.484375 14.15625 20.5 10.265625 \nQ 23.53125 6.390625 29.59375 6.390625 \nQ 36.859375 6.390625 41.078125 11.03125 \nQ 45.3125 15.671875 45.3125 23.6875 \nL 45.3125 54.6875 \nL 54.296875 54.6875 \nL 54.296875 0 \nL 45.3125 0 \nL 45.3125 8.40625 \nQ 42.046875 3.421875 37.71875 1 \nQ 33.40625 -1.421875 27.6875 -1.421875 \nQ 18.265625 -1.421875 13.375 4.4375 \nQ 8.5 10.296875 8.5 21.578125 \nz\nM 31.109375 56 \nz\n\" id=\"DejaVuSans-117\"/>\n     <path d=\"M 2.984375 54.6875 \nL 12.5 54.6875 \nL 29.59375 8.796875 \nL 46.6875 54.6875 \nL 56.203125 54.6875 \nL 35.6875 0 \nL 23.484375 0 \nz\n\" id=\"DejaVuSans-118\"/>\n     <path d=\"M 41.109375 46.296875 \nQ 39.59375 47.171875 37.8125 47.578125 \nQ 36.03125 48 33.890625 48 \nQ 26.265625 48 22.1875 43.046875 \nQ 18.109375 38.09375 18.109375 28.8125 \nL 18.109375 0 \nL 9.078125 0 \nL 9.078125 54.6875 \nL 18.109375 54.6875 \nL 18.109375 46.1875 \nQ 20.953125 51.171875 25.484375 53.578125 \nQ 30.03125 56 36.53125 56 \nQ 37.453125 56 38.578125 55.875 \nQ 39.703125 55.765625 41.0625 55.515625 \nz\n\" id=\"DejaVuSans-114\"/>\n    </defs>\n    <g transform=\"translate(108.336607 16.318125)scale(0.12 -0.12)\">\n     <use xlink:href=\"#DejaVuSans-112\"/>\n     <use x=\"63.476562\" xlink:href=\"#DejaVuSans-117\"/>\n     <use x=\"126.855469\" xlink:href=\"#DejaVuSans-108\"/>\n     <use x=\"154.638672\" xlink:href=\"#DejaVuSans-108\"/>\n     <use x=\"182.421875\" xlink:href=\"#DejaVuSans-111\"/>\n     <use x=\"243.603516\" xlink:href=\"#DejaVuSans-118\"/>\n     <use x=\"302.783203\" xlink:href=\"#DejaVuSans-101\"/>\n     <use x=\"364.306641\" xlink:href=\"#DejaVuSans-114\"/>\n    </g>\n    <!-- pullover -->\n    <g transform=\"translate(108.336607 29.7555)scale(0.12 -0.12)\">\n     <use xlink:href=\"#DejaVuSans-112\"/>\n     <use x=\"63.476562\" xlink:href=\"#DejaVuSans-117\"/>\n     <use x=\"126.855469\" xlink:href=\"#DejaVuSans-108\"/>\n     <use x=\"154.638672\" xlink:href=\"#DejaVuSans-108\"/>\n     <use x=\"182.421875\" xlink:href=\"#DejaVuSans-111\"/>\n     <use x=\"243.603516\" xlink:href=\"#DejaVuSans-118\"/>\n     <use x=\"302.783203\" xlink:href=\"#DejaVuSans-101\"/>\n     <use x=\"364.306641\" xlink:href=\"#DejaVuSans-114\"/>\n    </g>\n   </g>\n  </g>\n  <g id=\"axes_3\">\n   <g id=\"patch_12\">\n    <path d=\"M 182.882857 107.498357 \nL 254.625714 107.498357 \nL 254.625714 35.7555 \nL 182.882857 35.7555 \nz\n\" style=\"fill:#ffffff;\"/>\n   </g>\n   <g clip-path=\"url(#p3cc35b1b89)\">\n    <image height=\"72\" id=\"image2159adbf10\" transform=\"scale(1 -1)translate(0 -72)\" width=\"72\" x=\"182.882857\" xlink:href=\"data:image/png;base64,\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\" y=\"-35.498357\"/>\n   </g>\n   <g id=\"patch_13\">\n    <path d=\"M 182.882857 107.498357 \nL 182.882857 35.7555 \n\" style=\"fill:none;stroke:#000000;stroke-linecap:square;stroke-linejoin:miter;stroke-width:0.8;\"/>\n   </g>\n   <g id=\"patch_14\">\n    <path d=\"M 254.625714 107.498357 \nL 254.625714 35.7555 \n\" style=\"fill:none;stroke:#000000;stroke-linecap:square;stroke-linejoin:miter;stroke-width:0.8;\"/>\n   </g>\n   <g id=\"patch_15\">\n    <path d=\"M 182.882857 107.498357 \nL 254.625714 107.498357 \n\" style=\"fill:none;stroke:#000000;stroke-linecap:square;stroke-linejoin:miter;stroke-width:0.8;\"/>\n   </g>\n   <g id=\"patch_16\">\n    <path d=\"M 182.882857 35.7555 \nL 254.625714 35.7555 \n\" style=\"fill:none;stroke:#000000;stroke-linecap:square;stroke-linejoin:miter;stroke-width:0.8;\"/>\n   </g>\n   <g id=\"text_3\">\n    <!-- trouser -->\n    <defs>\n     <path d=\"M 44.28125 53.078125 \nL 44.28125 44.578125 \nQ 40.484375 46.53125 36.375 47.5 \nQ 32.28125 48.484375 27.875 48.484375 \nQ 21.1875 48.484375 17.84375 46.4375 \nQ 14.5 44.390625 14.5 40.28125 \nQ 14.5 37.15625 16.890625 35.375 \nQ 19.28125 33.59375 26.515625 31.984375 \nL 29.59375 31.296875 \nQ 39.15625 29.25 43.1875 25.515625 \nQ 47.21875 21.78125 47.21875 15.09375 \nQ 47.21875 7.46875 41.1875 3.015625 \nQ 35.15625 -1.421875 24.609375 -1.421875 \nQ 20.21875 -1.421875 15.453125 -0.5625 \nQ 10.6875 0.296875 5.421875 2 \nL 5.421875 11.28125 \nQ 10.40625 8.6875 15.234375 7.390625 \nQ 20.0625 6.109375 24.8125 6.109375 \nQ 31.15625 6.109375 34.5625 8.28125 \nQ 37.984375 10.453125 37.984375 14.40625 \nQ 37.984375 18.0625 35.515625 20.015625 \nQ 33.0625 21.96875 24.703125 23.78125 \nL 21.578125 24.515625 \nQ 13.234375 26.265625 9.515625 29.90625 \nQ 5.8125 33.546875 5.8125 39.890625 \nQ 5.8125 47.609375 11.28125 51.796875 \nQ 16.75 56 26.8125 56 \nQ 31.78125 56 36.171875 55.265625 \nQ 40.578125 54.546875 44.28125 53.078125 \nz\n\" id=\"DejaVuSans-115\"/>\n    </defs>\n    <g transform=\"translate(197.312723 16.318125)scale(0.12 -0.12)\">\n     <use xlink:href=\"#DejaVuSans-116\"/>\n     <use x=\"39.208984\" xlink:href=\"#DejaVuSans-114\"/>\n     <use x=\"78.072266\" xlink:href=\"#DejaVuSans-111\"/>\n     <use x=\"139.253906\" xlink:href=\"#DejaVuSans-117\"/>\n     <use x=\"202.632812\" xlink:href=\"#DejaVuSans-115\"/>\n     <use x=\"254.732422\" xlink:href=\"#DejaVuSans-101\"/>\n     <use x=\"316.255859\" xlink:href=\"#DejaVuSans-114\"/>\n    </g>\n    <!-- trouser -->\n    <g transform=\"translate(197.312723 29.7555)scale(0.12 -0.12)\">\n     <use xlink:href=\"#DejaVuSans-116\"/>\n     <use x=\"39.208984\" xlink:href=\"#DejaVuSans-114\"/>\n     <use x=\"78.072266\" xlink:href=\"#DejaVuSans-111\"/>\n     <use x=\"139.253906\" xlink:href=\"#DejaVuSans-117\"/>\n     <use x=\"202.632812\" xlink:href=\"#DejaVuSans-115\"/>\n     <use x=\"254.732422\" xlink:href=\"#DejaVuSans-101\"/>\n     <use x=\"316.255859\" xlink:href=\"#DejaVuSans-114\"/>\n    </g>\n   </g>\n  </g>\n  <g id=\"axes_4\">\n   <g id=\"patch_17\">\n    <path d=\"M 268.974286 107.498357 \nL 340.717143 107.498357 \nL 340.717143 35.7555 \nL 268.974286 35.7555 \nz\n\" style=\"fill:#ffffff;\"/>\n   </g>\n   <g clip-path=\"url(#p98db0966e9)\">\n    <image height=\"72\" id=\"imagef29800e64e\" transform=\"scale(1 -1)translate(0 -72)\" width=\"72\" x=\"268.974286\" xlink:href=\"data:image/png;base64,\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\" y=\"-35.498357\"/>\n   </g>\n   <g id=\"patch_18\">\n    <path d=\"M 268.974286 107.498357 \nL 268.974286 35.7555 \n\" style=\"fill:none;stroke:#000000;stroke-linecap:square;stroke-linejoin:miter;stroke-width:0.8;\"/>\n   </g>\n   <g id=\"patch_19\">\n    <path d=\"M 340.717143 107.498357 \nL 340.717143 35.7555 \n\" style=\"fill:none;stroke:#000000;stroke-linecap:square;stroke-linejoin:miter;stroke-width:0.8;\"/>\n   </g>\n   <g id=\"patch_20\">\n    <path d=\"M 268.974286 107.498357 \nL 340.717143 107.498357 \n\" style=\"fill:none;stroke:#000000;stroke-linecap:square;stroke-linejoin:miter;stroke-width:0.8;\"/>\n   </g>\n   <g id=\"patch_21\">\n    <path d=\"M 268.974286 35.7555 \nL 340.717143 35.7555 \n\" style=\"fill:none;stroke:#000000;stroke-linecap:square;stroke-linejoin:miter;stroke-width:0.8;\"/>\n   </g>\n   <g id=\"text_4\">\n    <!-- trouser -->\n    <g transform=\"translate(283.404152 16.318125)scale(0.12 -0.12)\">\n     <use xlink:href=\"#DejaVuSans-116\"/>\n     <use x=\"39.208984\" xlink:href=\"#DejaVuSans-114\"/>\n     <use x=\"78.072266\" xlink:href=\"#DejaVuSans-111\"/>\n     <use x=\"139.253906\" xlink:href=\"#DejaVuSans-117\"/>\n     <use x=\"202.632812\" xlink:href=\"#DejaVuSans-115\"/>\n     <use x=\"254.732422\" xlink:href=\"#DejaVuSans-101\"/>\n     <use x=\"316.255859\" xlink:href=\"#DejaVuSans-114\"/>\n    </g>\n    <!-- trouser -->\n    <g transform=\"translate(283.404152 29.7555)scale(0.12 -0.12)\">\n     <use xlink:href=\"#DejaVuSans-116\"/>\n     <use x=\"39.208984\" xlink:href=\"#DejaVuSans-114\"/>\n     <use x=\"78.072266\" xlink:href=\"#DejaVuSans-111\"/>\n     <use x=\"139.253906\" xlink:href=\"#DejaVuSans-117\"/>\n     <use x=\"202.632812\" xlink:href=\"#DejaVuSans-115\"/>\n     <use x=\"254.732422\" xlink:href=\"#DejaVuSans-101\"/>\n     <use x=\"316.255859\" xlink:href=\"#DejaVuSans-114\"/>\n    </g>\n   </g>\n  </g>\n  <g id=\"axes_5\">\n   <g id=\"patch_22\">\n    <path d=\"M 355.065714 107.498357 \nL 426.808571 107.498357 \nL 426.808571 35.7555 \nL 355.065714 35.7555 \nz\n\" style=\"fill:#ffffff;\"/>\n   </g>\n   <g clip-path=\"url(#p48bed58ede)\">\n    <image height=\"72\" id=\"image3fc9d054da\" transform=\"scale(1 -1)translate(0 -72)\" width=\"72\" x=\"355.065714\" xlink:href=\"data:image/png;base64,\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\" y=\"-35.498357\"/>\n   </g>\n   <g id=\"patch_23\">\n    <path d=\"M 355.065714 107.498357 \nL 355.065714 35.7555 \n\" style=\"fill:none;stroke:#000000;stroke-linecap:square;stroke-linejoin:miter;stroke-width:0.8;\"/>\n   </g>\n   <g id=\"patch_24\">\n    <path d=\"M 426.808571 107.498357 \nL 426.808571 35.7555 \n\" style=\"fill:none;stroke:#000000;stroke-linecap:square;stroke-linejoin:miter;stroke-width:0.8;\"/>\n   </g>\n   <g id=\"patch_25\">\n    <path d=\"M 355.065714 107.498357 \nL 426.808571 107.498357 \n\" style=\"fill:none;stroke:#000000;stroke-linecap:square;stroke-linejoin:miter;stroke-width:0.8;\"/>\n   </g>\n   <g id=\"patch_26\">\n    <path d=\"M 355.065714 35.7555 \nL 426.808571 35.7555 \n\" style=\"fill:none;stroke:#000000;stroke-linecap:square;stroke-linejoin:miter;stroke-width:0.8;\"/>\n   </g>\n   <g id=\"text_5\">\n    <!-- shirt -->\n    <defs>\n     <path d=\"M 54.890625 33.015625 \nL 54.890625 0 \nL 45.90625 0 \nL 45.90625 32.71875 \nQ 45.90625 40.484375 42.875 44.328125 \nQ 39.84375 48.1875 33.796875 48.1875 \nQ 26.515625 48.1875 22.3125 43.546875 \nQ 18.109375 38.921875 18.109375 30.90625 \nL 18.109375 0 \nL 9.078125 0 \nL 9.078125 75.984375 \nL 18.109375 75.984375 \nL 18.109375 46.1875 \nQ 21.34375 51.125 25.703125 53.5625 \nQ 30.078125 56 35.796875 56 \nQ 45.21875 56 50.046875 50.171875 \nQ 54.890625 44.34375 54.890625 33.015625 \nz\n\" id=\"DejaVuSans-104\"/>\n     <path d=\"M 9.421875 54.6875 \nL 18.40625 54.6875 \nL 18.40625 0 \nL 9.421875 0 \nz\nM 9.421875 75.984375 \nL 18.40625 75.984375 \nL 18.40625 64.59375 \nL 9.421875 64.59375 \nz\n\" id=\"DejaVuSans-105\"/>\n    </defs>\n    <g transform=\"translate(377.523393 16.318125)scale(0.12 -0.12)\">\n     <use xlink:href=\"#DejaVuSans-115\"/>\n     <use x=\"52.099609\" xlink:href=\"#DejaVuSans-104\"/>\n     <use x=\"115.478516\" xlink:href=\"#DejaVuSans-105\"/>\n     <use x=\"143.261719\" xlink:href=\"#DejaVuSans-114\"/>\n     <use x=\"184.375\" xlink:href=\"#DejaVuSans-116\"/>\n    </g>\n    <!-- shirt -->\n    <g transform=\"translate(377.523393 29.7555)scale(0.12 -0.12)\">\n     <use xlink:href=\"#DejaVuSans-115\"/>\n     <use x=\"52.099609\" xlink:href=\"#DejaVuSans-104\"/>\n     <use x=\"115.478516\" xlink:href=\"#DejaVuSans-105\"/>\n     <use x=\"143.261719\" xlink:href=\"#DejaVuSans-114\"/>\n     <use x=\"184.375\" xlink:href=\"#DejaVuSans-116\"/>\n    </g>\n   </g>\n  </g>\n  <g id=\"axes_6\">\n   <g id=\"patch_27\">\n    <path d=\"M 441.157143 107.498357 \nL 512.9 107.498357 \nL 512.9 35.7555 \nL 441.157143 35.7555 \nz\n\" style=\"fill:#ffffff;\"/>\n   </g>\n   <g clip-path=\"url(#p7e91d18acb)\">\n    <image height=\"72\" id=\"imagedaa1f422b3\" transform=\"scale(1 -1)translate(0 -72)\" width=\"72\" x=\"441.157143\" xlink:href=\"data:image/png;base64,\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\" y=\"-35.498357\"/>\n   </g>\n   <g id=\"patch_28\">\n    <path d=\"M 441.157143 107.498357 \nL 441.157143 35.7555 \n\" style=\"fill:none;stroke:#000000;stroke-linecap:square;stroke-linejoin:miter;stroke-width:0.8;\"/>\n   </g>\n   <g id=\"patch_29\">\n    <path d=\"M 512.9 107.498357 \nL 512.9 35.7555 \n\" style=\"fill:none;stroke:#000000;stroke-linecap:square;stroke-linejoin:miter;stroke-width:0.8;\"/>\n   </g>\n   <g id=\"patch_30\">\n    <path d=\"M 441.157143 107.498357 \nL 512.9 107.498357 \n\" style=\"fill:none;stroke:#000000;stroke-linecap:square;stroke-linejoin:miter;stroke-width:0.8;\"/>\n   </g>\n   <g id=\"patch_31\">\n    <path d=\"M 441.157143 35.7555 \nL 512.9 35.7555 \n\" style=\"fill:none;stroke:#000000;stroke-linecap:square;stroke-linejoin:miter;stroke-width:0.8;\"/>\n   </g>\n   <g id=\"text_6\">\n    <!-- trouser -->\n    <g transform=\"translate(455.587009 16.318125)scale(0.12 -0.12)\">\n     <use xlink:href=\"#DejaVuSans-116\"/>\n     <use x=\"39.208984\" xlink:href=\"#DejaVuSans-114\"/>\n     <use x=\"78.072266\" xlink:href=\"#DejaVuSans-111\"/>\n     <use x=\"139.253906\" xlink:href=\"#DejaVuSans-117\"/>\n     <use x=\"202.632812\" xlink:href=\"#DejaVuSans-115\"/>\n     <use x=\"254.732422\" xlink:href=\"#DejaVuSans-101\"/>\n     <use x=\"316.255859\" xlink:href=\"#DejaVuSans-114\"/>\n    </g>\n    <!-- trouser -->\n    <g transform=\"translate(455.587009 29.7555)scale(0.12 -0.12)\">\n     <use xlink:href=\"#DejaVuSans-116\"/>\n     <use x=\"39.208984\" xlink:href=\"#DejaVuSans-114\"/>\n     <use x=\"78.072266\" xlink:href=\"#DejaVuSans-111\"/>\n     <use x=\"139.253906\" xlink:href=\"#DejaVuSans-117\"/>\n     <use x=\"202.632812\" xlink:href=\"#DejaVuSans-115\"/>\n     <use x=\"254.732422\" xlink:href=\"#DejaVuSans-101\"/>\n     <use x=\"316.255859\" xlink:href=\"#DejaVuSans-114\"/>\n    </g>\n   </g>\n  </g>\n </g>\n <defs>\n  <clipPath id=\"p0166ec2a57\">\n   <rect height=\"71.742857\" width=\"71.742857\" x=\"10.7\" y=\"35.7555\"/>\n  </clipPath>\n  <clipPath id=\"pa0d4770640\">\n   <rect height=\"71.742857\" width=\"71.742857\" x=\"96.791429\" y=\"35.7555\"/>\n  </clipPath>\n  <clipPath id=\"p3cc35b1b89\">\n   <rect height=\"71.742857\" width=\"71.742857\" x=\"182.882857\" y=\"35.7555\"/>\n  </clipPath>\n  <clipPath id=\"p98db0966e9\">\n   <rect height=\"71.742857\" width=\"71.742857\" x=\"268.974286\" y=\"35.7555\"/>\n  </clipPath>\n  <clipPath id=\"p48bed58ede\">\n   <rect height=\"71.742857\" width=\"71.742857\" x=\"355.065714\" y=\"35.7555\"/>\n  </clipPath>\n  <clipPath id=\"p7e91d18acb\">\n   <rect height=\"71.742857\" width=\"71.742857\" x=\"441.157143\" y=\"35.7555\"/>\n  </clipPath>\n </defs>\n</svg>\n"
          },
          "metadata": {
            "needs_background": "light"
          }
        }
      ]
    },
    {
      "cell_type": "code",
      "source": [
        "import torch\n",
        "from torch import nn\n",
        "from d2l import torch as d2l\n",
        "\n",
        "batch_size = 256\n",
        "train_iter, test_iter = d2l.load_data_fashion_mnist(batch_size)"
      ],
      "metadata": {
        "colab": {
          "base_uri": "https://localhost:8080/"
        },
        "id": "QobzcYIu8nmD",
        "outputId": "b0f57c05-de01-49d3-eaae-ee4ffd9a5890"
      },
      "execution_count": 62,
      "outputs": [
        {
          "output_type": "stream",
          "name": "stderr",
          "text": [
            "/usr/local/lib/python3.7/dist-packages/torch/utils/data/dataloader.py:481: UserWarning: This DataLoader will create 4 worker processes in total. Our suggested max number of worker in current system is 2, which is smaller than what this DataLoader is going to create. Please be aware that excessive worker creation might get DataLoader running slow or even freeze, lower the worker number to avoid potential slowness/freeze if necessary.\n",
            "  cpuset_checked))\n"
          ]
        }
      ]
    },
    {
      "cell_type": "code",
      "source": [
        "# PyTorch does not implicitly reshape the inputs. Thus we define the flatten\n",
        "# layer to reshape the inputs before the linear layer in our network\n",
        "net = nn.Sequential(nn.Flatten(), nn.Linear(784, 10))\n",
        "\n",
        "def init_weights(m):\n",
        "    if type(m) == nn.Linear:\n",
        "        nn.init.normal_(m.weight, std=0.01)\n",
        "\n",
        "net.apply(init_weights);"
      ],
      "metadata": {
        "id": "lXqCUScd8p-K"
      },
      "execution_count": 63,
      "outputs": []
    },
    {
      "cell_type": "code",
      "source": [
        "loss = nn.CrossEntropyLoss()"
      ],
      "metadata": {
        "id": "5N1f5SZX8r5q"
      },
      "execution_count": 64,
      "outputs": []
    },
    {
      "cell_type": "code",
      "source": [
        "trainer = torch.optim.SGD(net.parameters(), lr=0.1)"
      ],
      "metadata": {
        "id": "vfTbs0vG8uD4"
      },
      "execution_count": 65,
      "outputs": []
    },
    {
      "cell_type": "code",
      "source": [
        "num_epochs = 10\n",
        "d2l.train_ch3(net, train_iter, test_iter, loss, num_epochs, trainer)"
      ],
      "metadata": {
        "colab": {
          "base_uri": "https://localhost:8080/",
          "height": 262
        },
        "id": "jR-2LbF18wQ1",
        "outputId": "b20c8200-e62b-4886-ec74-0d27753bc77b"
      },
      "execution_count": 66,
      "outputs": [
        {
          "output_type": "display_data",
          "data": {
            "text/plain": [
              "<Figure size 252x180 with 1 Axes>"
            ],
            "image/svg+xml": "<?xml version=\"1.0\" encoding=\"utf-8\" standalone=\"no\"?>\n<!DOCTYPE svg PUBLIC \"-//W3C//DTD SVG 1.1//EN\"\n  \"http://www.w3.org/Graphics/SVG/1.1/DTD/svg11.dtd\">\n<!-- Created with matplotlib (https://matplotlib.org/) -->\n<svg height=\"180.65625pt\" version=\"1.1\" viewBox=\"0 0 238.965625 180.65625\" width=\"238.965625pt\" xmlns=\"http://www.w3.org/2000/svg\" xmlns:xlink=\"http://www.w3.org/1999/xlink\">\n <defs>\n  <style type=\"text/css\">\n*{stroke-linecap:butt;stroke-linejoin:round;}\n  </style>\n </defs>\n <g id=\"figure_1\">\n  <g id=\"patch_1\">\n   <path d=\"M 0 180.65625 \nL 238.965625 180.65625 \nL 238.965625 0 \nL 0 0 \nz\n\" style=\"fill:none;\"/>\n  </g>\n  <g id=\"axes_1\">\n   <g id=\"patch_2\">\n    <path d=\"M 30.103125 143.1 \nL 225.403125 143.1 \nL 225.403125 7.2 \nL 30.103125 7.2 \nz\n\" style=\"fill:#ffffff;\"/>\n   </g>\n   <g id=\"matplotlib.axis_1\">\n    <g id=\"xtick_1\">\n     <g id=\"line2d_1\">\n      <path clip-path=\"url(#pff4a9ad34e)\" d=\"M 51.803125 143.1 \nL 51.803125 7.2 \n\" style=\"fill:none;stroke:#b0b0b0;stroke-linecap:square;stroke-width:0.8;\"/>\n     </g>\n     <g id=\"line2d_2\">\n      <defs>\n       <path d=\"M 0 0 \nL 0 3.5 \n\" id=\"m3010c32f0f\" style=\"stroke:#000000;stroke-width:0.8;\"/>\n      </defs>\n      <g>\n       <use style=\"stroke:#000000;stroke-width:0.8;\" x=\"51.803125\" xlink:href=\"#m3010c32f0f\" y=\"143.1\"/>\n      </g>\n     </g>\n     <g id=\"text_1\">\n      <!-- 2 -->\n      <defs>\n       <path d=\"M 19.1875 8.296875 \nL 53.609375 8.296875 \nL 53.609375 0 \nL 7.328125 0 \nL 7.328125 8.296875 \nQ 12.9375 14.109375 22.625 23.890625 \nQ 32.328125 33.6875 34.8125 36.53125 \nQ 39.546875 41.84375 41.421875 45.53125 \nQ 43.3125 49.21875 43.3125 52.78125 \nQ 43.3125 58.59375 39.234375 62.25 \nQ 35.15625 65.921875 28.609375 65.921875 \nQ 23.96875 65.921875 18.8125 64.3125 \nQ 13.671875 62.703125 7.8125 59.421875 \nL 7.8125 69.390625 \nQ 13.765625 71.78125 18.9375 73 \nQ 24.125 74.21875 28.421875 74.21875 \nQ 39.75 74.21875 46.484375 68.546875 \nQ 53.21875 62.890625 53.21875 53.421875 \nQ 53.21875 48.921875 51.53125 44.890625 \nQ 49.859375 40.875 45.40625 35.40625 \nQ 44.1875 33.984375 37.640625 27.21875 \nQ 31.109375 20.453125 19.1875 8.296875 \nz\n\" id=\"DejaVuSans-50\"/>\n      </defs>\n      <g transform=\"translate(48.621875 157.698438)scale(0.1 -0.1)\">\n       <use xlink:href=\"#DejaVuSans-50\"/>\n      </g>\n     </g>\n    </g>\n    <g id=\"xtick_2\">\n     <g id=\"line2d_3\">\n      <path clip-path=\"url(#pff4a9ad34e)\" d=\"M 95.203125 143.1 \nL 95.203125 7.2 \n\" style=\"fill:none;stroke:#b0b0b0;stroke-linecap:square;stroke-width:0.8;\"/>\n     </g>\n     <g id=\"line2d_4\">\n      <g>\n       <use style=\"stroke:#000000;stroke-width:0.8;\" x=\"95.203125\" xlink:href=\"#m3010c32f0f\" y=\"143.1\"/>\n      </g>\n     </g>\n     <g id=\"text_2\">\n      <!-- 4 -->\n      <defs>\n       <path d=\"M 37.796875 64.3125 \nL 12.890625 25.390625 \nL 37.796875 25.390625 \nz\nM 35.203125 72.90625 \nL 47.609375 72.90625 \nL 47.609375 25.390625 \nL 58.015625 25.390625 \nL 58.015625 17.1875 \nL 47.609375 17.1875 \nL 47.609375 0 \nL 37.796875 0 \nL 37.796875 17.1875 \nL 4.890625 17.1875 \nL 4.890625 26.703125 \nz\n\" id=\"DejaVuSans-52\"/>\n      </defs>\n      <g transform=\"translate(92.021875 157.698438)scale(0.1 -0.1)\">\n       <use xlink:href=\"#DejaVuSans-52\"/>\n      </g>\n     </g>\n    </g>\n    <g id=\"xtick_3\">\n     <g id=\"line2d_5\">\n      <path clip-path=\"url(#pff4a9ad34e)\" d=\"M 138.603125 143.1 \nL 138.603125 7.2 \n\" style=\"fill:none;stroke:#b0b0b0;stroke-linecap:square;stroke-width:0.8;\"/>\n     </g>\n     <g id=\"line2d_6\">\n      <g>\n       <use style=\"stroke:#000000;stroke-width:0.8;\" x=\"138.603125\" xlink:href=\"#m3010c32f0f\" y=\"143.1\"/>\n      </g>\n     </g>\n     <g id=\"text_3\">\n      <!-- 6 -->\n      <defs>\n       <path d=\"M 33.015625 40.375 \nQ 26.375 40.375 22.484375 35.828125 \nQ 18.609375 31.296875 18.609375 23.390625 \nQ 18.609375 15.53125 22.484375 10.953125 \nQ 26.375 6.390625 33.015625 6.390625 \nQ 39.65625 6.390625 43.53125 10.953125 \nQ 47.40625 15.53125 47.40625 23.390625 \nQ 47.40625 31.296875 43.53125 35.828125 \nQ 39.65625 40.375 33.015625 40.375 \nz\nM 52.59375 71.296875 \nL 52.59375 62.3125 \nQ 48.875 64.0625 45.09375 64.984375 \nQ 41.3125 65.921875 37.59375 65.921875 \nQ 27.828125 65.921875 22.671875 59.328125 \nQ 17.53125 52.734375 16.796875 39.40625 \nQ 19.671875 43.65625 24.015625 45.921875 \nQ 28.375 48.1875 33.59375 48.1875 \nQ 44.578125 48.1875 50.953125 41.515625 \nQ 57.328125 34.859375 57.328125 23.390625 \nQ 57.328125 12.15625 50.6875 5.359375 \nQ 44.046875 -1.421875 33.015625 -1.421875 \nQ 20.359375 -1.421875 13.671875 8.265625 \nQ 6.984375 17.96875 6.984375 36.375 \nQ 6.984375 53.65625 15.1875 63.9375 \nQ 23.390625 74.21875 37.203125 74.21875 \nQ 40.921875 74.21875 44.703125 73.484375 \nQ 48.484375 72.75 52.59375 71.296875 \nz\n\" id=\"DejaVuSans-54\"/>\n      </defs>\n      <g transform=\"translate(135.421875 157.698438)scale(0.1 -0.1)\">\n       <use xlink:href=\"#DejaVuSans-54\"/>\n      </g>\n     </g>\n    </g>\n    <g id=\"xtick_4\">\n     <g id=\"line2d_7\">\n      <path clip-path=\"url(#pff4a9ad34e)\" d=\"M 182.003125 143.1 \nL 182.003125 7.2 \n\" style=\"fill:none;stroke:#b0b0b0;stroke-linecap:square;stroke-width:0.8;\"/>\n     </g>\n     <g id=\"line2d_8\">\n      <g>\n       <use style=\"stroke:#000000;stroke-width:0.8;\" x=\"182.003125\" xlink:href=\"#m3010c32f0f\" y=\"143.1\"/>\n      </g>\n     </g>\n     <g id=\"text_4\">\n      <!-- 8 -->\n      <defs>\n       <path d=\"M 31.78125 34.625 \nQ 24.75 34.625 20.71875 30.859375 \nQ 16.703125 27.09375 16.703125 20.515625 \nQ 16.703125 13.921875 20.71875 10.15625 \nQ 24.75 6.390625 31.78125 6.390625 \nQ 38.8125 6.390625 42.859375 10.171875 \nQ 46.921875 13.96875 46.921875 20.515625 \nQ 46.921875 27.09375 42.890625 30.859375 \nQ 38.875 34.625 31.78125 34.625 \nz\nM 21.921875 38.8125 \nQ 15.578125 40.375 12.03125 44.71875 \nQ 8.5 49.078125 8.5 55.328125 \nQ 8.5 64.0625 14.71875 69.140625 \nQ 20.953125 74.21875 31.78125 74.21875 \nQ 42.671875 74.21875 48.875 69.140625 \nQ 55.078125 64.0625 55.078125 55.328125 \nQ 55.078125 49.078125 51.53125 44.71875 \nQ 48 40.375 41.703125 38.8125 \nQ 48.828125 37.15625 52.796875 32.3125 \nQ 56.78125 27.484375 56.78125 20.515625 \nQ 56.78125 9.90625 50.3125 4.234375 \nQ 43.84375 -1.421875 31.78125 -1.421875 \nQ 19.734375 -1.421875 13.25 4.234375 \nQ 6.78125 9.90625 6.78125 20.515625 \nQ 6.78125 27.484375 10.78125 32.3125 \nQ 14.796875 37.15625 21.921875 38.8125 \nz\nM 18.3125 54.390625 \nQ 18.3125 48.734375 21.84375 45.5625 \nQ 25.390625 42.390625 31.78125 42.390625 \nQ 38.140625 42.390625 41.71875 45.5625 \nQ 45.3125 48.734375 45.3125 54.390625 \nQ 45.3125 60.0625 41.71875 63.234375 \nQ 38.140625 66.40625 31.78125 66.40625 \nQ 25.390625 66.40625 21.84375 63.234375 \nQ 18.3125 60.0625 18.3125 54.390625 \nz\n\" id=\"DejaVuSans-56\"/>\n      </defs>\n      <g transform=\"translate(178.821875 157.698438)scale(0.1 -0.1)\">\n       <use xlink:href=\"#DejaVuSans-56\"/>\n      </g>\n     </g>\n    </g>\n    <g id=\"xtick_5\">\n     <g id=\"line2d_9\">\n      <path clip-path=\"url(#pff4a9ad34e)\" d=\"M 225.403125 143.1 \nL 225.403125 7.2 \n\" style=\"fill:none;stroke:#b0b0b0;stroke-linecap:square;stroke-width:0.8;\"/>\n     </g>\n     <g id=\"line2d_10\">\n      <g>\n       <use style=\"stroke:#000000;stroke-width:0.8;\" x=\"225.403125\" xlink:href=\"#m3010c32f0f\" y=\"143.1\"/>\n      </g>\n     </g>\n     <g id=\"text_5\">\n      <!-- 10 -->\n      <defs>\n       <path d=\"M 12.40625 8.296875 \nL 28.515625 8.296875 \nL 28.515625 63.921875 \nL 10.984375 60.40625 \nL 10.984375 69.390625 \nL 28.421875 72.90625 \nL 38.28125 72.90625 \nL 38.28125 8.296875 \nL 54.390625 8.296875 \nL 54.390625 0 \nL 12.40625 0 \nz\n\" id=\"DejaVuSans-49\"/>\n       <path d=\"M 31.78125 66.40625 \nQ 24.171875 66.40625 20.328125 58.90625 \nQ 16.5 51.421875 16.5 36.375 \nQ 16.5 21.390625 20.328125 13.890625 \nQ 24.171875 6.390625 31.78125 6.390625 \nQ 39.453125 6.390625 43.28125 13.890625 \nQ 47.125 21.390625 47.125 36.375 \nQ 47.125 51.421875 43.28125 58.90625 \nQ 39.453125 66.40625 31.78125 66.40625 \nz\nM 31.78125 74.21875 \nQ 44.046875 74.21875 50.515625 64.515625 \nQ 56.984375 54.828125 56.984375 36.375 \nQ 56.984375 17.96875 50.515625 8.265625 \nQ 44.046875 -1.421875 31.78125 -1.421875 \nQ 19.53125 -1.421875 13.0625 8.265625 \nQ 6.59375 17.96875 6.59375 36.375 \nQ 6.59375 54.828125 13.0625 64.515625 \nQ 19.53125 74.21875 31.78125 74.21875 \nz\n\" id=\"DejaVuSans-48\"/>\n      </defs>\n      <g transform=\"translate(219.040625 157.698438)scale(0.1 -0.1)\">\n       <use xlink:href=\"#DejaVuSans-49\"/>\n       <use x=\"63.623047\" xlink:href=\"#DejaVuSans-48\"/>\n      </g>\n     </g>\n    </g>\n    <g id=\"text_6\">\n     <!-- epoch -->\n     <defs>\n      <path d=\"M 56.203125 29.59375 \nL 56.203125 25.203125 \nL 14.890625 25.203125 \nQ 15.484375 15.921875 20.484375 11.0625 \nQ 25.484375 6.203125 34.421875 6.203125 \nQ 39.59375 6.203125 44.453125 7.46875 \nQ 49.3125 8.734375 54.109375 11.28125 \nL 54.109375 2.78125 \nQ 49.265625 0.734375 44.1875 -0.34375 \nQ 39.109375 -1.421875 33.890625 -1.421875 \nQ 20.796875 -1.421875 13.15625 6.1875 \nQ 5.515625 13.8125 5.515625 26.8125 \nQ 5.515625 40.234375 12.765625 48.109375 \nQ 20.015625 56 32.328125 56 \nQ 43.359375 56 49.78125 48.890625 \nQ 56.203125 41.796875 56.203125 29.59375 \nz\nM 47.21875 32.234375 \nQ 47.125 39.59375 43.09375 43.984375 \nQ 39.0625 48.390625 32.421875 48.390625 \nQ 24.90625 48.390625 20.390625 44.140625 \nQ 15.875 39.890625 15.1875 32.171875 \nz\n\" id=\"DejaVuSans-101\"/>\n      <path d=\"M 18.109375 8.203125 \nL 18.109375 -20.796875 \nL 9.078125 -20.796875 \nL 9.078125 54.6875 \nL 18.109375 54.6875 \nL 18.109375 46.390625 \nQ 20.953125 51.265625 25.265625 53.625 \nQ 29.59375 56 35.59375 56 \nQ 45.5625 56 51.78125 48.09375 \nQ 58.015625 40.1875 58.015625 27.296875 \nQ 58.015625 14.40625 51.78125 6.484375 \nQ 45.5625 -1.421875 35.59375 -1.421875 \nQ 29.59375 -1.421875 25.265625 0.953125 \nQ 20.953125 3.328125 18.109375 8.203125 \nz\nM 48.6875 27.296875 \nQ 48.6875 37.203125 44.609375 42.84375 \nQ 40.53125 48.484375 33.40625 48.484375 \nQ 26.265625 48.484375 22.1875 42.84375 \nQ 18.109375 37.203125 18.109375 27.296875 \nQ 18.109375 17.390625 22.1875 11.75 \nQ 26.265625 6.109375 33.40625 6.109375 \nQ 40.53125 6.109375 44.609375 11.75 \nQ 48.6875 17.390625 48.6875 27.296875 \nz\n\" id=\"DejaVuSans-112\"/>\n      <path d=\"M 30.609375 48.390625 \nQ 23.390625 48.390625 19.1875 42.75 \nQ 14.984375 37.109375 14.984375 27.296875 \nQ 14.984375 17.484375 19.15625 11.84375 \nQ 23.34375 6.203125 30.609375 6.203125 \nQ 37.796875 6.203125 41.984375 11.859375 \nQ 46.1875 17.53125 46.1875 27.296875 \nQ 46.1875 37.015625 41.984375 42.703125 \nQ 37.796875 48.390625 30.609375 48.390625 \nz\nM 30.609375 56 \nQ 42.328125 56 49.015625 48.375 \nQ 55.71875 40.765625 55.71875 27.296875 \nQ 55.71875 13.875 49.015625 6.21875 \nQ 42.328125 -1.421875 30.609375 -1.421875 \nQ 18.84375 -1.421875 12.171875 6.21875 \nQ 5.515625 13.875 5.515625 27.296875 \nQ 5.515625 40.765625 12.171875 48.375 \nQ 18.84375 56 30.609375 56 \nz\n\" id=\"DejaVuSans-111\"/>\n      <path d=\"M 48.78125 52.59375 \nL 48.78125 44.1875 \nQ 44.96875 46.296875 41.140625 47.34375 \nQ 37.3125 48.390625 33.40625 48.390625 \nQ 24.65625 48.390625 19.8125 42.84375 \nQ 14.984375 37.3125 14.984375 27.296875 \nQ 14.984375 17.28125 19.8125 11.734375 \nQ 24.65625 6.203125 33.40625 6.203125 \nQ 37.3125 6.203125 41.140625 7.25 \nQ 44.96875 8.296875 48.78125 10.40625 \nL 48.78125 2.09375 \nQ 45.015625 0.34375 40.984375 -0.53125 \nQ 36.96875 -1.421875 32.421875 -1.421875 \nQ 20.0625 -1.421875 12.78125 6.34375 \nQ 5.515625 14.109375 5.515625 27.296875 \nQ 5.515625 40.671875 12.859375 48.328125 \nQ 20.21875 56 33.015625 56 \nQ 37.15625 56 41.109375 55.140625 \nQ 45.0625 54.296875 48.78125 52.59375 \nz\n\" id=\"DejaVuSans-99\"/>\n      <path d=\"M 54.890625 33.015625 \nL 54.890625 0 \nL 45.90625 0 \nL 45.90625 32.71875 \nQ 45.90625 40.484375 42.875 44.328125 \nQ 39.84375 48.1875 33.796875 48.1875 \nQ 26.515625 48.1875 22.3125 43.546875 \nQ 18.109375 38.921875 18.109375 30.90625 \nL 18.109375 0 \nL 9.078125 0 \nL 9.078125 75.984375 \nL 18.109375 75.984375 \nL 18.109375 46.1875 \nQ 21.34375 51.125 25.703125 53.5625 \nQ 30.078125 56 35.796875 56 \nQ 45.21875 56 50.046875 50.171875 \nQ 54.890625 44.34375 54.890625 33.015625 \nz\n\" id=\"DejaVuSans-104\"/>\n     </defs>\n     <g transform=\"translate(112.525 171.376563)scale(0.1 -0.1)\">\n      <use xlink:href=\"#DejaVuSans-101\"/>\n      <use x=\"61.523438\" xlink:href=\"#DejaVuSans-112\"/>\n      <use x=\"125\" xlink:href=\"#DejaVuSans-111\"/>\n      <use x=\"186.181641\" xlink:href=\"#DejaVuSans-99\"/>\n      <use x=\"241.162109\" xlink:href=\"#DejaVuSans-104\"/>\n     </g>\n    </g>\n   </g>\n   <g id=\"matplotlib.axis_2\">\n    <g id=\"ytick_1\">\n     <g id=\"line2d_11\">\n      <path clip-path=\"url(#pff4a9ad34e)\" d=\"M 30.103125 120.45 \nL 225.403125 120.45 \n\" style=\"fill:none;stroke:#b0b0b0;stroke-linecap:square;stroke-width:0.8;\"/>\n     </g>\n     <g id=\"line2d_12\">\n      <defs>\n       <path d=\"M 0 0 \nL -3.5 0 \n\" id=\"m37bf3087ec\" style=\"stroke:#000000;stroke-width:0.8;\"/>\n      </defs>\n      <g>\n       <use style=\"stroke:#000000;stroke-width:0.8;\" x=\"30.103125\" xlink:href=\"#m37bf3087ec\" y=\"120.45\"/>\n      </g>\n     </g>\n     <g id=\"text_7\">\n      <!-- 0.4 -->\n      <defs>\n       <path d=\"M 10.6875 12.40625 \nL 21 12.40625 \nL 21 0 \nL 10.6875 0 \nz\n\" id=\"DejaVuSans-46\"/>\n      </defs>\n      <g transform=\"translate(7.2 124.249219)scale(0.1 -0.1)\">\n       <use xlink:href=\"#DejaVuSans-48\"/>\n       <use x=\"63.623047\" xlink:href=\"#DejaVuSans-46\"/>\n       <use x=\"95.410156\" xlink:href=\"#DejaVuSans-52\"/>\n      </g>\n     </g>\n    </g>\n    <g id=\"ytick_2\">\n     <g id=\"line2d_13\">\n      <path clip-path=\"url(#pff4a9ad34e)\" d=\"M 30.103125 75.15 \nL 225.403125 75.15 \n\" style=\"fill:none;stroke:#b0b0b0;stroke-linecap:square;stroke-width:0.8;\"/>\n     </g>\n     <g id=\"line2d_14\">\n      <g>\n       <use style=\"stroke:#000000;stroke-width:0.8;\" x=\"30.103125\" xlink:href=\"#m37bf3087ec\" y=\"75.15\"/>\n      </g>\n     </g>\n     <g id=\"text_8\">\n      <!-- 0.6 -->\n      <g transform=\"translate(7.2 78.949219)scale(0.1 -0.1)\">\n       <use xlink:href=\"#DejaVuSans-48\"/>\n       <use x=\"63.623047\" xlink:href=\"#DejaVuSans-46\"/>\n       <use x=\"95.410156\" xlink:href=\"#DejaVuSans-54\"/>\n      </g>\n     </g>\n    </g>\n    <g id=\"ytick_3\">\n     <g id=\"line2d_15\">\n      <path clip-path=\"url(#pff4a9ad34e)\" d=\"M 30.103125 29.85 \nL 225.403125 29.85 \n\" style=\"fill:none;stroke:#b0b0b0;stroke-linecap:square;stroke-width:0.8;\"/>\n     </g>\n     <g id=\"line2d_16\">\n      <g>\n       <use style=\"stroke:#000000;stroke-width:0.8;\" x=\"30.103125\" xlink:href=\"#m37bf3087ec\" y=\"29.85\"/>\n      </g>\n     </g>\n     <g id=\"text_9\">\n      <!-- 0.8 -->\n      <g transform=\"translate(7.2 33.649219)scale(0.1 -0.1)\">\n       <use xlink:href=\"#DejaVuSans-48\"/>\n       <use x=\"63.623047\" xlink:href=\"#DejaVuSans-46\"/>\n       <use x=\"95.410156\" xlink:href=\"#DejaVuSans-56\"/>\n      </g>\n     </g>\n    </g>\n   </g>\n   <g id=\"line2d_17\">\n    <path clip-path=\"url(#pff4a9ad34e)\" d=\"M 30.103125 32.98513 \nL 51.803125 81.505245 \nL 73.503125 91.847362 \nL 95.203125 97.445121 \nL 116.903125 101.078645 \nL 138.603125 103.733804 \nL 160.303125 105.773109 \nL 182.003125 107.330213 \nL 203.703125 108.715967 \nL 225.403125 109.710617 \n\" style=\"fill:none;stroke:#1f77b4;stroke-linecap:square;stroke-width:1.5;\"/>\n   </g>\n   <g id=\"line2d_18\">\n    <path clip-path=\"url(#pff4a9ad34e)\" d=\"M 30.103125 41.254275 \nL 51.803125 27.18485 \nL 73.503125 23.96855 \nL 95.203125 22.741675 \nL 116.903125 21.40155 \nL 138.603125 20.58615 \nL 160.303125 19.95195 \nL 182.003125 19.714125 \nL 203.703125 19.1592 \nL 225.403125 19.049725 \n\" style=\"fill:none;stroke:#bf00bf;stroke-dasharray:5.55,2.4;stroke-dashoffset:0;stroke-width:1.5;\"/>\n   </g>\n   <g id=\"line2d_19\">\n    <path clip-path=\"url(#pff4a9ad34e)\" d=\"M 30.103125 31.4355 \nL 51.803125 28.944 \nL 73.503125 25.93155 \nL 95.203125 24.9123 \nL 116.903125 25.0935 \nL 138.603125 23.0097 \nL 160.303125 22.94175 \nL 182.003125 22.4208 \nL 203.703125 24.2781 \nL 225.403125 23.16825 \n\" style=\"fill:none;stroke:#008000;stroke-dasharray:9.6,2.4,1.5,2.4;stroke-dashoffset:0;stroke-width:1.5;\"/>\n   </g>\n   <g id=\"patch_3\">\n    <path d=\"M 30.103125 143.1 \nL 30.103125 7.2 \n\" style=\"fill:none;stroke:#000000;stroke-linecap:square;stroke-linejoin:miter;stroke-width:0.8;\"/>\n   </g>\n   <g id=\"patch_4\">\n    <path d=\"M 225.403125 143.1 \nL 225.403125 7.2 \n\" style=\"fill:none;stroke:#000000;stroke-linecap:square;stroke-linejoin:miter;stroke-width:0.8;\"/>\n   </g>\n   <g id=\"patch_5\">\n    <path d=\"M 30.103125 143.1 \nL 225.403125 143.1 \n\" style=\"fill:none;stroke:#000000;stroke-linecap:square;stroke-linejoin:miter;stroke-width:0.8;\"/>\n   </g>\n   <g id=\"patch_6\">\n    <path d=\"M 30.103125 7.2 \nL 225.403125 7.2 \n\" style=\"fill:none;stroke:#000000;stroke-linecap:square;stroke-linejoin:miter;stroke-width:0.8;\"/>\n   </g>\n   <g id=\"legend_1\">\n    <g id=\"patch_7\">\n     <path d=\"M 140.634375 98.667187 \nL 218.403125 98.667187 \nQ 220.403125 98.667187 220.403125 96.667187 \nL 220.403125 53.632812 \nQ 220.403125 51.632812 218.403125 51.632812 \nL 140.634375 51.632812 \nQ 138.634375 51.632812 138.634375 53.632812 \nL 138.634375 96.667187 \nQ 138.634375 98.667187 140.634375 98.667187 \nz\n\" style=\"fill:#ffffff;opacity:0.8;stroke:#cccccc;stroke-linejoin:miter;\"/>\n    </g>\n    <g id=\"line2d_20\">\n     <path d=\"M 142.634375 59.73125 \nL 162.634375 59.73125 \n\" style=\"fill:none;stroke:#1f77b4;stroke-linecap:square;stroke-width:1.5;\"/>\n    </g>\n    <g id=\"line2d_21\"/>\n    <g id=\"text_10\">\n     <!-- train loss -->\n     <defs>\n      <path d=\"M 18.3125 70.21875 \nL 18.3125 54.6875 \nL 36.8125 54.6875 \nL 36.8125 47.703125 \nL 18.3125 47.703125 \nL 18.3125 18.015625 \nQ 18.3125 11.328125 20.140625 9.421875 \nQ 21.96875 7.515625 27.59375 7.515625 \nL 36.8125 7.515625 \nL 36.8125 0 \nL 27.59375 0 \nQ 17.1875 0 13.234375 3.875 \nQ 9.28125 7.765625 9.28125 18.015625 \nL 9.28125 47.703125 \nL 2.6875 47.703125 \nL 2.6875 54.6875 \nL 9.28125 54.6875 \nL 9.28125 70.21875 \nz\n\" id=\"DejaVuSans-116\"/>\n      <path d=\"M 41.109375 46.296875 \nQ 39.59375 47.171875 37.8125 47.578125 \nQ 36.03125 48 33.890625 48 \nQ 26.265625 48 22.1875 43.046875 \nQ 18.109375 38.09375 18.109375 28.8125 \nL 18.109375 0 \nL 9.078125 0 \nL 9.078125 54.6875 \nL 18.109375 54.6875 \nL 18.109375 46.1875 \nQ 20.953125 51.171875 25.484375 53.578125 \nQ 30.03125 56 36.53125 56 \nQ 37.453125 56 38.578125 55.875 \nQ 39.703125 55.765625 41.0625 55.515625 \nz\n\" id=\"DejaVuSans-114\"/>\n      <path d=\"M 34.28125 27.484375 \nQ 23.390625 27.484375 19.1875 25 \nQ 14.984375 22.515625 14.984375 16.5 \nQ 14.984375 11.71875 18.140625 8.90625 \nQ 21.296875 6.109375 26.703125 6.109375 \nQ 34.1875 6.109375 38.703125 11.40625 \nQ 43.21875 16.703125 43.21875 25.484375 \nL 43.21875 27.484375 \nz\nM 52.203125 31.203125 \nL 52.203125 0 \nL 43.21875 0 \nL 43.21875 8.296875 \nQ 40.140625 3.328125 35.546875 0.953125 \nQ 30.953125 -1.421875 24.3125 -1.421875 \nQ 15.921875 -1.421875 10.953125 3.296875 \nQ 6 8.015625 6 15.921875 \nQ 6 25.140625 12.171875 29.828125 \nQ 18.359375 34.515625 30.609375 34.515625 \nL 43.21875 34.515625 \nL 43.21875 35.40625 \nQ 43.21875 41.609375 39.140625 45 \nQ 35.0625 48.390625 27.6875 48.390625 \nQ 23 48.390625 18.546875 47.265625 \nQ 14.109375 46.140625 10.015625 43.890625 \nL 10.015625 52.203125 \nQ 14.9375 54.109375 19.578125 55.046875 \nQ 24.21875 56 28.609375 56 \nQ 40.484375 56 46.34375 49.84375 \nQ 52.203125 43.703125 52.203125 31.203125 \nz\n\" id=\"DejaVuSans-97\"/>\n      <path d=\"M 9.421875 54.6875 \nL 18.40625 54.6875 \nL 18.40625 0 \nL 9.421875 0 \nz\nM 9.421875 75.984375 \nL 18.40625 75.984375 \nL 18.40625 64.59375 \nL 9.421875 64.59375 \nz\n\" id=\"DejaVuSans-105\"/>\n      <path d=\"M 54.890625 33.015625 \nL 54.890625 0 \nL 45.90625 0 \nL 45.90625 32.71875 \nQ 45.90625 40.484375 42.875 44.328125 \nQ 39.84375 48.1875 33.796875 48.1875 \nQ 26.515625 48.1875 22.3125 43.546875 \nQ 18.109375 38.921875 18.109375 30.90625 \nL 18.109375 0 \nL 9.078125 0 \nL 9.078125 54.6875 \nL 18.109375 54.6875 \nL 18.109375 46.1875 \nQ 21.34375 51.125 25.703125 53.5625 \nQ 30.078125 56 35.796875 56 \nQ 45.21875 56 50.046875 50.171875 \nQ 54.890625 44.34375 54.890625 33.015625 \nz\n\" id=\"DejaVuSans-110\"/>\n      <path id=\"DejaVuSans-32\"/>\n      <path d=\"M 9.421875 75.984375 \nL 18.40625 75.984375 \nL 18.40625 0 \nL 9.421875 0 \nz\n\" id=\"DejaVuSans-108\"/>\n      <path d=\"M 44.28125 53.078125 \nL 44.28125 44.578125 \nQ 40.484375 46.53125 36.375 47.5 \nQ 32.28125 48.484375 27.875 48.484375 \nQ 21.1875 48.484375 17.84375 46.4375 \nQ 14.5 44.390625 14.5 40.28125 \nQ 14.5 37.15625 16.890625 35.375 \nQ 19.28125 33.59375 26.515625 31.984375 \nL 29.59375 31.296875 \nQ 39.15625 29.25 43.1875 25.515625 \nQ 47.21875 21.78125 47.21875 15.09375 \nQ 47.21875 7.46875 41.1875 3.015625 \nQ 35.15625 -1.421875 24.609375 -1.421875 \nQ 20.21875 -1.421875 15.453125 -0.5625 \nQ 10.6875 0.296875 5.421875 2 \nL 5.421875 11.28125 \nQ 10.40625 8.6875 15.234375 7.390625 \nQ 20.0625 6.109375 24.8125 6.109375 \nQ 31.15625 6.109375 34.5625 8.28125 \nQ 37.984375 10.453125 37.984375 14.40625 \nQ 37.984375 18.0625 35.515625 20.015625 \nQ 33.0625 21.96875 24.703125 23.78125 \nL 21.578125 24.515625 \nQ 13.234375 26.265625 9.515625 29.90625 \nQ 5.8125 33.546875 5.8125 39.890625 \nQ 5.8125 47.609375 11.28125 51.796875 \nQ 16.75 56 26.8125 56 \nQ 31.78125 56 36.171875 55.265625 \nQ 40.578125 54.546875 44.28125 53.078125 \nz\n\" id=\"DejaVuSans-115\"/>\n     </defs>\n     <g transform=\"translate(170.634375 63.23125)scale(0.1 -0.1)\">\n      <use xlink:href=\"#DejaVuSans-116\"/>\n      <use x=\"39.208984\" xlink:href=\"#DejaVuSans-114\"/>\n      <use x=\"80.322266\" xlink:href=\"#DejaVuSans-97\"/>\n      <use x=\"141.601562\" xlink:href=\"#DejaVuSans-105\"/>\n      <use x=\"169.384766\" xlink:href=\"#DejaVuSans-110\"/>\n      <use x=\"232.763672\" xlink:href=\"#DejaVuSans-32\"/>\n      <use x=\"264.550781\" xlink:href=\"#DejaVuSans-108\"/>\n      <use x=\"292.333984\" xlink:href=\"#DejaVuSans-111\"/>\n      <use x=\"353.515625\" xlink:href=\"#DejaVuSans-115\"/>\n      <use x=\"405.615234\" xlink:href=\"#DejaVuSans-115\"/>\n     </g>\n    </g>\n    <g id=\"line2d_22\">\n     <path d=\"M 142.634375 74.409375 \nL 162.634375 74.409375 \n\" style=\"fill:none;stroke:#bf00bf;stroke-dasharray:5.55,2.4;stroke-dashoffset:0;stroke-width:1.5;\"/>\n    </g>\n    <g id=\"line2d_23\"/>\n    <g id=\"text_11\">\n     <!-- train acc -->\n     <g transform=\"translate(170.634375 77.909375)scale(0.1 -0.1)\">\n      <use xlink:href=\"#DejaVuSans-116\"/>\n      <use x=\"39.208984\" xlink:href=\"#DejaVuSans-114\"/>\n      <use x=\"80.322266\" xlink:href=\"#DejaVuSans-97\"/>\n      <use x=\"141.601562\" xlink:href=\"#DejaVuSans-105\"/>\n      <use x=\"169.384766\" xlink:href=\"#DejaVuSans-110\"/>\n      <use x=\"232.763672\" xlink:href=\"#DejaVuSans-32\"/>\n      <use x=\"264.550781\" xlink:href=\"#DejaVuSans-97\"/>\n      <use x=\"325.830078\" xlink:href=\"#DejaVuSans-99\"/>\n      <use x=\"380.810547\" xlink:href=\"#DejaVuSans-99\"/>\n     </g>\n    </g>\n    <g id=\"line2d_24\">\n     <path d=\"M 142.634375 89.0875 \nL 162.634375 89.0875 \n\" style=\"fill:none;stroke:#008000;stroke-dasharray:9.6,2.4,1.5,2.4;stroke-dashoffset:0;stroke-width:1.5;\"/>\n    </g>\n    <g id=\"line2d_25\"/>\n    <g id=\"text_12\">\n     <!-- test acc -->\n     <g transform=\"translate(170.634375 92.5875)scale(0.1 -0.1)\">\n      <use xlink:href=\"#DejaVuSans-116\"/>\n      <use x=\"39.208984\" xlink:href=\"#DejaVuSans-101\"/>\n      <use x=\"100.732422\" xlink:href=\"#DejaVuSans-115\"/>\n      <use x=\"152.832031\" xlink:href=\"#DejaVuSans-116\"/>\n      <use x=\"192.041016\" xlink:href=\"#DejaVuSans-32\"/>\n      <use x=\"223.828125\" xlink:href=\"#DejaVuSans-97\"/>\n      <use x=\"285.107422\" xlink:href=\"#DejaVuSans-99\"/>\n      <use x=\"340.087891\" xlink:href=\"#DejaVuSans-99\"/>\n     </g>\n    </g>\n   </g>\n  </g>\n </g>\n <defs>\n  <clipPath id=\"pff4a9ad34e\">\n   <rect height=\"135.9\" width=\"195.3\" x=\"30.103125\" y=\"7.2\"/>\n  </clipPath>\n </defs>\n</svg>\n"
          },
          "metadata": {
            "needs_background": "light"
          }
        }
      ]
    }
  ]
}